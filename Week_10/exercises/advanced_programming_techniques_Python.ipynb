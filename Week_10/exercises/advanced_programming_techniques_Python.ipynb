{
 "cells": [
  {
   "cell_type": "markdown",
   "id": "186e23db",
   "metadata": {},
   "source": [
    "# Advanced programming techniques in Python"
   ]
  },
  {
   "attachments": {},
   "cell_type": "markdown",
   "id": "22304964",
   "metadata": {},
   "source": [
    "## Libraries and settings"
   ]
  },
  {
   "cell_type": "code",
   "execution_count": null,
   "id": "b182bdc1",
   "metadata": {},
   "outputs": [],
   "source": [
    "# Libraries\n",
    "import os\n",
    "import re\n",
    "import numpy as np\n",
    "import pandas as pd\n",
    "from requests import get\n",
    "from functools import reduce\n",
    "from bs4 import BeautifulSoup\n",
    "\n",
    "# Ignore warnings\n",
    "import warnings\n",
    "warnings.filterwarnings('ignore')\n",
    "\n",
    "# Show current working directory\n",
    "print(os.getcwd())"
   ]
  },
  {
   "attachments": {},
   "cell_type": "markdown",
   "id": "878576a1",
   "metadata": {},
   "source": [
    "## Lambda"
   ]
  },
  {
   "cell_type": "code",
   "execution_count": null,
   "id": "c4a5113c",
   "metadata": {},
   "outputs": [],
   "source": [
    "# Regular function\n",
    "def add_xy(x, y):\n",
    "    return x + y\n",
    "\n",
    "print(add_xy(42, 42))\n",
    "\n",
    "# Lambda function\n",
    "add_xy = lambda x, y: x + y\n",
    "print(add_xy(41, 1))"
   ]
  },
  {
   "cell_type": "code",
   "execution_count": null,
   "id": "aa18678b",
   "metadata": {},
   "outputs": [],
   "source": [
    "# Regular function\n",
    "def add_xy(x, y):\n",
    "    return x + y\n",
    "\n",
    "print(add_xy(42, 42))\n",
    "\n",
    "# Lambda function\n",
    "add_xy = lambda x, y : x + y\n",
    "print(add_xy(20, 30))\n",
    "\n",
    "# Lambda function\n",
    "var = lambda a, b, c : a + b + c\n",
    "print(var(20,20,2))"
   ]
  },
  {
   "cell_type": "code",
   "execution_count": null,
   "id": "ccf43b98",
   "metadata": {},
   "outputs": [],
   "source": [
    "# Creating a pandas dataframe\n",
    "df = pd.DataFrame(data=[[1.5, 2.5, 10.0], [2.0, 4.5, 5.0], [2.5, 5.2, 8.0],\n",
    "                        [4.5, 5.8, 4.8], [4.0, 6.3, 70], [4.1, 6.4, 9.0],\n",
    "                        [5.1, 2.3, 11.1]],\n",
    "                  columns=['Field_1', 'Field_2', 'Field_3'],\n",
    "                  index=['a', 'b', 'c', 'd', 'e', 'f', 'g'])\n",
    " \n",
    " \n",
    "# Apply function numpy.square() to square rows with index name 'b' and 'f'\n",
    "df = df.apply(lambda x: np.square(x) if x.name in ['b', 'f'] else x, axis=1)\n",
    " \n",
    "# Applying lambda function to find product of 3 columns\n",
    "df = df.assign(Product=lambda x: (x['Field_1'] * x['Field_2'] * x['Field_3']))\n",
    "df"
   ]
  },
  {
   "cell_type": "markdown",
   "id": "7c825053",
   "metadata": {},
   "source": [
    "## Map"
   ]
  },
  {
   "cell_type": "code",
   "execution_count": null,
   "id": "d0e60b62",
   "metadata": {},
   "outputs": [],
   "source": [
    "# List\n",
    "numbers = [1, 2, 3, 4, 5]\n",
    "squared = []\n",
    "\n",
    "# Regular Function\n",
    "def square(number):\n",
    "    return number ** 2\n",
    "\n",
    "# Regular for loop\n",
    "for num in numbers:\n",
    "    squared.append(num**2)\n",
    "\n",
    "print(squared)\n",
    "\n",
    "# Using the map() function\n",
    "squared = map(square, numbers)\n",
    "print(list(squared))"
   ]
  },
  {
   "cell_type": "code",
   "execution_count": null,
   "id": "6b19f09e",
   "metadata": {},
   "outputs": [],
   "source": [
    "numbers = [-2, -1, 0, 1, 2]\n",
    "\n",
    "# Using map() to calculate absolute values\n",
    "abs_values = list(map(abs, numbers))\n",
    "print(abs_values)\n",
    "\n",
    "# Using map() to change data types\n",
    "print(list(map(float, numbers)))\n",
    "\n",
    "# Using map() to get the length of strings\n",
    "words = [\"Welcome\", \"to\", \"Real\", \"Python\"]\n",
    "print(list(map(len, words)))"
   ]
  },
  {
   "cell_type": "code",
   "execution_count": null,
   "id": "b5cbf775",
   "metadata": {},
   "outputs": [],
   "source": [
    "# Combining map() and lambda\n",
    "numbers = [1, 2, 3, 4, 5]\n",
    "squared = map(lambda num: num**2, numbers)\n",
    "\n",
    "print(list(squared))"
   ]
  },
  {
   "cell_type": "markdown",
   "id": "16e0cb00",
   "metadata": {},
   "source": [
    "## Filter"
   ]
  },
  {
   "cell_type": "code",
   "execution_count": null,
   "id": "de078093",
   "metadata": {},
   "outputs": [],
   "source": [
    "numbers = [-2, -1, 0, 1, 2]\n",
    "\n",
    "# Filtering using a regular function\n",
    "def extract_pos(numbers):\n",
    "    pos_numbers = []\n",
    "    for number in numbers:\n",
    "        # Filtering condition\n",
    "        if number > 0:\n",
    "            pos_numbers.append(number)\n",
    "    return pos_numbers\n",
    "\n",
    "print(extract_pos(numbers))\n",
    "\n",
    "# The same as above but with filter() and lambda\n",
    "pos_numbers = filter(lambda n: n > 0, numbers)\n",
    "print(list(pos_numbers))"
   ]
  },
  {
   "cell_type": "markdown",
   "id": "361f1a6b",
   "metadata": {},
   "source": [
    "## Reduce"
   ]
  },
  {
   "cell_type": "code",
   "execution_count": null,
   "id": "b7014430",
   "metadata": {},
   "outputs": [],
   "source": [
    "# Create a list\n",
    "numbers = list(range(1,21,1))\n",
    "print(numbers, \"\\n\")\n",
    "\n",
    "# Define a function\n",
    "def my_add(a, b):\n",
    "    result = a + b\n",
    "    print(f\"{a} + {b} = {result}\")\n",
    "    return result\n",
    "\n",
    "# Using reduce() to apply the function\n",
    "reduce(my_add, numbers)"
   ]
  },
  {
   "cell_type": "code",
   "execution_count": null,
   "id": "019198cf",
   "metadata": {},
   "outputs": [],
   "source": [
    "# Function to calculate the sum of even numbers only\n",
    "def sum_even(it):\n",
    "    return reduce(lambda x, y: \n",
    "                  x + y if not y % 2 else x, it, 0)\n",
    "\n",
    "# Call the function\n",
    "print(sum_even([1, 2, 3, 4, 5]))\n",
    "print(sum_even(list(range(100))))\n",
    "print(sum_even(list(range(1, 100, 2))))\n",
    "print(sum_even(list(range(1, 100, 3))))"
   ]
  },
  {
   "cell_type": "code",
   "execution_count": null,
   "id": "596ed58d",
   "metadata": {},
   "outputs": [],
   "source": [
    "from functools import reduce\n",
    "\n",
    "numbers = [1, 2, 3, 4, 5]\n",
    "\n",
    "# Without initializer\n",
    "result = reduce(lambda x, y: x + y, numbers)\n",
    "print(result) # Output: 15\n",
    "\n",
    "# With initializer\n",
    "result = reduce(lambda x, y: x + y, numbers, 10)\n",
    "print(result) # Output: 25"
   ]
  },
  {
   "attachments": {},
   "cell_type": "markdown",
   "id": "f1855eeb",
   "metadata": {},
   "source": [
    "## List comprehension"
   ]
  },
  {
   "cell_type": "code",
   "execution_count": null,
   "id": "866453cd",
   "metadata": {},
   "outputs": [],
   "source": [
    "original_list = [1, 2, 3, 4, 5, 6, 7, 8, 9, 10]\n",
    "\n",
    "# Using list comprehension to create a new list of squared even numbers\n",
    "even_numbers = [num**2 for num in original_list if num % 2 == 0]\n",
    "\n",
    "print(even_numbers)\n"
   ]
  },
  {
   "cell_type": "code",
   "execution_count": null,
   "id": "0e34ad4e",
   "metadata": {},
   "outputs": [],
   "source": [
    "original_list = [1, 2, 3, 4, 5, 6, 7, 8, 9, 10]\n",
    "\n",
    "# Using list comprehension with lambda function to create a new list of squared even numbers\n",
    "squares_of_even_numbers = [(lambda x: x**2)(num) for num in original_list if num % 2 == 0]\n",
    "\n",
    "print(squares_of_even_numbers)"
   ]
  },
  {
   "attachments": {},
   "cell_type": "markdown",
   "id": "f6cd5dc6",
   "metadata": {},
   "source": [
    "## Dictionary comprehension"
   ]
  },
  {
   "cell_type": "code",
   "execution_count": null,
   "id": "71ec8e9a",
   "metadata": {},
   "outputs": [],
   "source": [
    "people = {'Alice': 25, 'Bob': 35, 'Charlie': 40, 'David': 30}\n",
    "\n",
    "# Using dictionary comprehension to create a new dictionary of names and name lengths\n",
    "names_and_lengths = {name: len(name) for name, age in people.items()}\n",
    "\n",
    "print(names_and_lengths)\n",
    "\n",
    "# ... same as above but with if condition\n",
    "names_and_lengths = {name: len(name) for name, age in people.items() if age > 30}\n",
    "\n",
    "print(names_and_lengths)"
   ]
  },
  {
   "cell_type": "code",
   "execution_count": null,
   "id": "7692cf7c",
   "metadata": {},
   "outputs": [],
   "source": [
    "people = {'Alice': 25, 'Bob': 35, 'Charlie': 40, 'David': 30}\n",
    "\n",
    "# Using dictionary comprehension with lambda function to create a new dictionary of names and name lengths\n",
    "names_and_lengths = {name: (lambda x: len(x))(name) for name, age in people.items()}\n",
    "\n",
    "print(names_and_lengths)\n",
    "\n",
    "# ... same as obove but with if condition\n",
    "names_and_lengths = {name: (lambda x: len(x))(name) for name, age in people.items() if age > 30}\n",
    "\n",
    "print(names_and_lengths)\n"
   ]
  },
  {
   "cell_type": "markdown",
   "id": "fe606dfc",
   "metadata": {},
   "source": [
    "## Exception handling"
   ]
  },
  {
   "cell_type": "code",
   "execution_count": null,
   "id": "f727d6d6",
   "metadata": {},
   "outputs": [],
   "source": [
    "# Because x is not defined print(x) rises an error\n",
    "# print(x)\n",
    "\n",
    "# Try and except block to handle the exception\n",
    "try:\n",
    "    print(x)\n",
    "except:\n",
    "    print(\"An exception occurred!\")\n",
    "\n",
    "# Try and except block with pass (no output)\n",
    "try:\n",
    "    print(x)\n",
    "except:\n",
    "    pass"
   ]
  },
  {
   "cell_type": "code",
   "execution_count": null,
   "id": "4fe38347",
   "metadata": {},
   "outputs": [],
   "source": [
    "# Import module sys to get the type of exception\n",
    "import sys\n",
    "\n",
    "randomList = ['a', 0, 2]\n",
    "for entry in randomList:\n",
    "    try:\n",
    "        print(\"The entry is\", entry)\n",
    "        r = 1/int(entry)\n",
    "        break\n",
    "    except:\n",
    "        print(\"Oops!\", sys.exc_info()[0], \"occurred.\")\n",
    "        print(\"Next entry.\")\n",
    "        print()\n",
    "\n",
    "print(\"The reciprocal of\", entry, \"is\", r)"
   ]
  },
  {
   "cell_type": "code",
   "execution_count": null,
   "id": "c8cf0781",
   "metadata": {},
   "outputs": [],
   "source": [
    "# Using try and finally\n",
    "try:\n",
    "    f = open(\"test.txt\", encoding = 'utf-8')\n",
    "    \n",
    "    # Print text from file\n",
    "    print(f.read())\n",
    "    \n",
    "finally:\n",
    "    \n",
    "    f.close()"
   ]
  },
  {
   "cell_type": "markdown",
   "id": "b311a09c",
   "metadata": {},
   "source": [
    "## Regular expressions"
   ]
  },
  {
   "cell_type": "markdown",
   "id": "a1b029cd",
   "metadata": {},
   "source": [
    "Bevor using a regex in a Python programm, it should be tested using additional tools, e.g.: https://regex101.com"
   ]
  },
  {
   "cell_type": "code",
   "execution_count": null,
   "id": "e92f05d9",
   "metadata": {},
   "outputs": [],
   "source": [
    "# String\n",
    "string = 'Hello 12! Hi 89! Howdy 34!'\n",
    "\n",
    "# Using findall() from the 're' library to extract all numbers\n",
    "result = re.findall('\\d+', string)\n",
    "print(result)\n",
    "\n",
    "# Use map to convert strings to numerical values\n",
    "result_final = list(map(int, result))\n",
    "print(result_final)"
   ]
  },
  {
   "cell_type": "code",
   "execution_count": null,
   "id": "d708ea27",
   "metadata": {},
   "outputs": [],
   "source": [
    "# Example string with email addresses\n",
    "str = '''a string with peter.meier@gmx.com \n",
    "         some emails mary.mueller@gmail.com \n",
    "         inside and some more emails\n",
    "         urs.ursin@zhaw.ch and one additional  \n",
    "         email anne.peter@eth-zurich.ch'''\n",
    "\n",
    "# re.findall() returns email strings\n",
    "emails = re.findall(r'[\\w\\.-]+@[\\w\\.-]+', str)\n",
    "for email in emails:\n",
    "    print(email)"
   ]
  },
  {
   "attachments": {},
   "cell_type": "markdown",
   "id": "26c7217c",
   "metadata": {},
   "source": [
    "#### Praxis example: Get all email addresses from a web page"
   ]
  },
  {
   "cell_type": "code",
   "execution_count": null,
   "id": "0da2f90e",
   "metadata": {},
   "outputs": [],
   "source": [
    "# Practical example based on content from the AGVS website\n",
    "response = get('https://www.agvs-upsa.ch/de/verband/mitgliederverzeichnis/liste')\n",
    "soup = BeautifulSoup(response.content, \"html.parser\")\n",
    "for child in soup.body.children:\n",
    "    if child.name == 'script':\n",
    "        child.decompose() \n",
    "txt = soup.body.get_text()\n",
    "\n",
    "# re.findall() returns email strings\n",
    "def email_extract(txt):\n",
    "    emails = re.findall(r'[\\w\\.-]+@[\\w\\.-]+', txt)\n",
    "    return(emails)\n",
    "\n",
    "# Call the function\n",
    "my_emails = email_extract(txt)\n",
    "my_emails"
   ]
  },
  {
   "attachments": {},
   "cell_type": "markdown",
   "id": "2ca257af",
   "metadata": {},
   "source": [
    "### Jupyter notebook --footer info-- (please always provide this at the end of each notebook)"
   ]
  },
  {
   "cell_type": "code",
   "execution_count": null,
   "id": "b9134ae6",
   "metadata": {},
   "outputs": [],
   "source": [
    "import os\n",
    "import platform\n",
    "import socket\n",
    "from platform import python_version\n",
    "from datetime import datetime\n",
    "\n",
    "print('-----------------------------------')\n",
    "print(os.name.upper())\n",
    "print(platform.system(), '|', platform.release())\n",
    "print('Datetime:', datetime.now().strftime(\"%Y-%m-%d %H:%M:%S\"))\n",
    "print('Python Version:', python_version())\n",
    "print('-----------------------------------')"
   ]
  }
 ],
 "metadata": {
  "kernelspec": {
   "display_name": "spenv",
   "language": "python",
   "name": "python3"
  },
  "language_info": {
   "codemirror_mode": {
    "name": "ipython",
    "version": 3
   },
   "file_extension": ".py",
   "mimetype": "text/x-python",
   "name": "python",
   "nbconvert_exporter": "python",
   "pygments_lexer": "ipython3",
   "version": "3.10.13"
  }
 },
 "nbformat": 4,
 "nbformat_minor": 5
}
