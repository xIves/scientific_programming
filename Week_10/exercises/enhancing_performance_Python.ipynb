{
 "cells": [
  {
   "attachments": {},
   "cell_type": "markdown",
   "metadata": {},
   "source": [
    "# Enhancing performance with Python"
   ]
  },
  {
   "attachments": {},
   "cell_type": "markdown",
   "metadata": {},
   "source": [
    "## Libraries and settings"
   ]
  },
  {
   "cell_type": "code",
   "execution_count": null,
   "metadata": {},
   "outputs": [],
   "source": [
    "# Libraries\n",
    "import os\n",
    "import csv\n",
    "import random\n",
    "import numpy as np\n",
    "import pandas as pd\n",
    "\n",
    "# Ignore warnings\n",
    "import warnings\n",
    "warnings.filterwarnings('ignore')\n",
    "\n",
    "# Show current working directory\n",
    "print(os.getcwd())"
   ]
  },
  {
   "attachments": {},
   "cell_type": "markdown",
   "metadata": {},
   "source": [
    "## Create data set with simulated apartment data"
   ]
  },
  {
   "cell_type": "code",
   "execution_count": null,
   "metadata": {},
   "outputs": [],
   "source": [
    "def apmt_sim(n_records):\n",
    "    \"\"\"Simulates an apartment data set\"\"\"\n",
    "\n",
    "    rooms = np.random.randint(1, 8, size=n_records).astype(int)\n",
    "    area = (rooms * np.random.randint(25, 45, size=n_records)).astype(int)\n",
    "    price = (area * np.random.randint(25, 35, size=n_records)).astype(int)\n",
    "\n",
    "    df = pd.DataFrame(\n",
    "        {\n",
    "            \"id\": list(range(1, n_records+1, 1)),\n",
    "            \"price\": price,\n",
    "            \"area\": area,\n",
    "            \"rooms\": rooms\n",
    "        }\n",
    "    )\n",
    "\n",
    "    return df\n",
    "\n",
    "# Create data frame with 100'000 records\n",
    "df = apmt_sim(n_records=10**5)\n",
    "\n",
    "# Save data to file\n",
    "df.to_csv('apartment_data_simulated.csv', sep=';', encoding='utf-8')\n",
    "\n",
    "# Statistics to check values \n",
    "print(df.iloc[:,:].describe().round(2))\n",
    "\n",
    "# Show data frame\n",
    "df"
   ]
  },
  {
   "attachments": {},
   "cell_type": "markdown",
   "metadata": {},
   "source": [
    "## Function to calculate the price per m2"
   ]
  },
  {
   "cell_type": "code",
   "execution_count": null,
   "metadata": {},
   "outputs": [],
   "source": [
    "# Function\n",
    "def ppm2(price, area):\n",
    "    \"\"\"Calculates the price per m2\"\"\"\n",
    "    \n",
    "    return price / area"
   ]
  },
  {
   "attachments": {},
   "cell_type": "markdown",
   "metadata": {},
   "source": [
    "## Compare the performance\n",
    "Note that, in the code below, the magic command <b style=\"color:blue\">%%timeit</b> measures the mean execution time of a cell (-r 1 means 1 run)"
   ]
  },
  {
   "attachments": {},
   "cell_type": "markdown",
   "metadata": {},
   "source": [
    "### Using a for loop"
   ]
  },
  {
   "cell_type": "code",
   "execution_count": null,
   "metadata": {},
   "outputs": [],
   "source": [
    "%%timeit -r 1\n",
    "\n",
    "# Foor loop with df.iterrows()\n",
    "price_m2 = []\n",
    "for index, row in df.iterrows():\n",
    "    price_m2.append(ppm2(row['price'], row['area']))\n",
    "\n",
    "# Write new variable to df\n",
    "df['price_per_m2'] = price_m2"
   ]
  },
  {
   "attachments": {},
   "cell_type": "markdown",
   "metadata": {},
   "source": [
    "### Using column division"
   ]
  },
  {
   "cell_type": "code",
   "execution_count": null,
   "metadata": {},
   "outputs": [],
   "source": [
    "%%timeit -r 1\n",
    "\n",
    "df['price_per_m2'] = df['price'] / df['area']"
   ]
  },
  {
   "attachments": {},
   "cell_type": "markdown",
   "metadata": {},
   "source": [
    "### Using .apply() and lambda"
   ]
  },
  {
   "cell_type": "code",
   "execution_count": null,
   "metadata": {},
   "outputs": [],
   "source": [
    "%%timeit -r 1\n",
    "\n",
    "df['price_per_m2'] = df.apply(lambda row: ppm2(row['price'], row['area']), axis=1)"
   ]
  },
  {
   "attachments": {},
   "cell_type": "markdown",
   "metadata": {},
   "source": [
    "### Using .map() and lambda"
   ]
  },
  {
   "cell_type": "code",
   "execution_count": null,
   "metadata": {},
   "outputs": [],
   "source": [
    "%%timeit -r 1\n",
    "\n",
    "df['price_per_m2'] = list(map(ppm2, df['price'], df['area']))"
   ]
  },
  {
   "attachments": {},
   "cell_type": "markdown",
   "metadata": {},
   "source": [
    "## Enhancing performance when reading and writing data from/to a file"
   ]
  },
  {
   "attachments": {},
   "cell_type": "markdown",
   "metadata": {},
   "source": [
    "### Reading data frame from a file using pd.read_csv()"
   ]
  },
  {
   "cell_type": "code",
   "execution_count": null,
   "metadata": {},
   "outputs": [],
   "source": [
    "%%timeit -r 1\n",
    "\n",
    "df_in = pd.read_csv('apartment_data_simulated.csv', sep=';', encoding='utf-8')"
   ]
  },
  {
   "attachments": {},
   "cell_type": "markdown",
   "metadata": {},
   "source": [
    "### Reading data frame from a file using open() and csv.reader()"
   ]
  },
  {
   "cell_type": "code",
   "execution_count": null,
   "metadata": {},
   "outputs": [],
   "source": [
    "%%timeit -r 1\n",
    "\n",
    "# Open the file for reading\n",
    "with open(\"apartment_data_simulated.csv\", 'r') as file:\n",
    "    csv_reader = csv.reader(file, delimiter=\";\")\n",
    "\n",
    "    # This requires that your process rows as you produce them, e.g.:\n",
    "    #line_count = 0\n",
    "    #for row in csv_reader:\n",
    "    #    if line_count == 0:\n",
    "    #        print(f'Column names are {\", \".join(row)}')\n",
    "    #        line_count += 1\n",
    "    #    line_count += 1\n",
    "    #print(f'Number of lines processed: {line_count}.')\n"
   ]
  },
  {
   "attachments": {},
   "cell_type": "markdown",
   "metadata": {},
   "source": [
    "### Writing the data frame to a .csv file using pd.to_csv()"
   ]
  },
  {
   "cell_type": "code",
   "execution_count": null,
   "metadata": {},
   "outputs": [],
   "source": [
    "%%timeit -r 1\n",
    "\n",
    "df.to_csv('apartment_data_exported.csv', sep=';', encoding='utf-8')"
   ]
  },
  {
   "attachments": {},
   "cell_type": "markdown",
   "metadata": {},
   "source": [
    "### Writing data to a .csv file using open() and csv.writer()"
   ]
  },
  {
   "cell_type": "code",
   "execution_count": null,
   "metadata": {},
   "outputs": [],
   "source": [
    "# Convert data frame to list\n",
    "lst = df.values.tolist()\n",
    "lst[:5]"
   ]
  },
  {
   "cell_type": "code",
   "execution_count": null,
   "metadata": {},
   "outputs": [],
   "source": [
    "%%timeit -r 1\n",
    "\n",
    "# Column names\n",
    "column_names = ['id', 'price', 'area', 'rooms', 'price_per_m2']\n",
    "\n",
    "# Open a file for writing\n",
    "with open('apartment_data_exported.csv', 'w', newline='') as file:\n",
    "\n",
    "    # Create a CSV writer object with a semicolon delimiter\n",
    "    writer = csv.writer(file, delimiter=';')\n",
    "\n",
    "    # Write the column names as the first row in the CSV file\n",
    "    writer.writerow(column_names)\n",
    "\n",
    "    # Write each sub-list as a row to the CSV file\n",
    "    for row in lst:\n",
    "        writer.writerow(row)"
   ]
  },
  {
   "attachments": {},
   "cell_type": "markdown",
   "metadata": {},
   "source": [
    "### Jupyter notebook --footer info-- (please always provide this at the end of each notebook)"
   ]
  },
  {
   "cell_type": "code",
   "execution_count": null,
   "metadata": {},
   "outputs": [],
   "source": [
    "import os\n",
    "import platform\n",
    "import socket\n",
    "from platform import python_version\n",
    "from datetime import datetime\n",
    "\n",
    "print('-----------------------------------')\n",
    "print(os.name.upper())\n",
    "print(platform.system(), '|', platform.release())\n",
    "print('Datetime:', datetime.now().strftime(\"%Y-%m-%d %H:%M:%S\"))\n",
    "print('Python Version:', python_version())\n",
    "print('-----------------------------------')"
   ]
  }
 ],
 "metadata": {
  "kernelspec": {
   "display_name": "spenv",
   "language": "python",
   "name": "python3"
  },
  "language_info": {
   "codemirror_mode": {
    "name": "ipython",
    "version": 3
   },
   "file_extension": ".py",
   "mimetype": "text/x-python",
   "name": "python",
   "nbconvert_exporter": "python",
   "pygments_lexer": "ipython3",
   "version": "3.10.13"
  },
  "orig_nbformat": 4
 },
 "nbformat": 4,
 "nbformat_minor": 2
}
