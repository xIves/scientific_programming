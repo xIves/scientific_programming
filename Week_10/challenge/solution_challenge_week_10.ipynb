{
 "cells": [
  {
   "attachments": {},
   "cell_type": "markdown",
   "id": "unexpected-restoration",
   "metadata": {},
   "source": [
    "# Extracting and analyzing crypto currency data"
   ]
  },
  {
   "cell_type": "markdown",
   "id": "5d93dfe3",
   "metadata": {},
   "source": [
    "## Libraries and settings"
   ]
  },
  {
   "cell_type": "code",
   "execution_count": null,
   "id": "e086cd70",
   "metadata": {},
   "outputs": [],
   "source": [
    "# Libraries\n",
    "import os\n",
    "import time\n",
    "import locale\n",
    "import numpy as np\n",
    "import pandas as pd\n",
    "import seaborn as sns\n",
    "from datetime import datetime\n",
    "locale.setlocale(locale.LC_ALL,\"\")\n",
    "\n",
    "import matplotlib.pyplot as plt\n",
    "import matplotlib.dates as mdates\n",
    "\n",
    "# Define settings for graphics\n",
    "# plt.style.use('dark_background')\n",
    "\n",
    "from pycoingecko import CoinGeckoAPI\n",
    "cg = CoinGeckoAPI()\n",
    "\n",
    "# Settings\n",
    "import warnings\n",
    "warnings.filterwarnings(\"ignore\")\n",
    "\n",
    "# Current working directory\n",
    "print(f'Current working directory: {os.getcwd()}')"
   ]
  },
  {
   "attachments": {},
   "cell_type": "markdown",
   "id": "a263b889",
   "metadata": {},
   "source": [
    "## Get data (multiple coins, time series)"
   ]
  },
  {
   "cell_type": "code",
   "execution_count": null,
   "id": "9665f908",
   "metadata": {},
   "outputs": [],
   "source": [
    "# Define datetime\n",
    "dt_start = '2024-01-01 00:00:00'\n",
    "dt_end = datetime.now().strftime('%Y-%m-%d %H:%M:%S')\n",
    "\n",
    "# Convert the date string to a struct_time object\n",
    "dt_start_struct = time.strptime(dt_start, '%Y-%m-%d %H:%M:%S')\n",
    "dt_end_struct = time.strptime(dt_end, '%Y-%m-%d %H:%M:%S')\n",
    "\n",
    "# Convert the struct_time object to a Unix timestamp\n",
    "start = str(int(time.mktime(dt_start_struct)))\n",
    "end = str(int(time.mktime(dt_end_struct)))\n",
    "\n",
    "# Define the cryptocurrencies to retrieve price data for\n",
    "cryptocurrencies = ['bitcoin', 'ethereum', 'dogecoin', 'near']\n",
    "\n",
    "# Initialize the CoinGeckoAPI client\n",
    "cg = CoinGeckoAPI()\n",
    "\n",
    "# Retrieve price data for each cryptocurrency and save it in a data frame\n",
    "dfs = []\n",
    "for currency in cryptocurrencies:\n",
    "    # Make the API request\n",
    "    data = cg.get_coin_market_chart_range_by_id(\n",
    "        id=currency,\n",
    "        vs_currency='usd',\n",
    "        from_timestamp=start,\n",
    "        to_timestamp=end\n",
    "    )\n",
    "    \n",
    "    # Extract the price data from the response\n",
    "    prices = data['prices']\n",
    "    \n",
    "    # Convert the data to a pandas DataFrame\n",
    "    df = pd.DataFrame(prices, columns=['timestamp', currency])\n",
    "    \n",
    "    # Convert the timestamp from UNIX to datetime format\n",
    "    df['timestamp'] = pd.to_datetime(df['timestamp'], unit='ms')\n",
    "    \n",
    "    # Set the timestamp as the index\n",
    "    df.set_index('timestamp', inplace=True)\n",
    "    \n",
    "    # Append the DataFrame to the list of DataFrames\n",
    "    dfs.append(df)\n",
    "\n",
    "# Merge the DataFrames into a single DataFrame with a time series for each coin\n",
    "df = pd.concat(dfs, axis=1)\n",
    "df"
   ]
  },
  {
   "cell_type": "markdown",
   "id": "00f515e9",
   "metadata": {},
   "source": [
    "## Exploratory Data Analysis (EDA)"
   ]
  },
  {
   "attachments": {},
   "cell_type": "markdown",
   "id": "e081b09a",
   "metadata": {},
   "source": [
    "### Bar chart"
   ]
  },
  {
   "cell_type": "code",
   "execution_count": null,
   "id": "cb547d20",
   "metadata": {},
   "outputs": [],
   "source": [
    "# Derive data\n",
    "names = df.columns.tolist()\n",
    "values = list(df.iloc[-1,0:4])\n",
    "\n",
    "# Plot data\n",
    "fig, ax = plt.subplots(figsize=(6,4))\n",
    "\n",
    "bar_x          = names\n",
    "bar_height     = values\n",
    "bar_tick_label = names\n",
    "bar_label      = [\"%.2f\" % i for i in values]\n",
    "\n",
    "bar_plot = plt.bar(bar_x,bar_height,tick_label=bar_tick_label,color='green')\n",
    "def autolabel(rects):\n",
    "    for idx,rect in enumerate(bar_plot):\n",
    "        height = rect.get_height()\n",
    "        ax.text(rect.get_x() + rect.get_width()/2., height,\n",
    "                bar_label[idx],\n",
    "                ha='center', va='bottom', rotation=0)\n",
    "\n",
    "autolabel(bar_plot)\n",
    "plt.ylabel('Price (USD)')\n",
    "plt.title('Price of crypto currencies')\n",
    "plt.grid(linestyle='-', linewidth=0.1)\n",
    "\n",
    "plt.show()"
   ]
  },
  {
   "attachments": {},
   "cell_type": "markdown",
   "id": "72aab90c",
   "metadata": {},
   "source": [
    "### Line chart (multiplot using .subplots())"
   ]
  },
  {
   "cell_type": "code",
   "execution_count": null,
   "id": "574be81e",
   "metadata": {},
   "outputs": [],
   "source": [
    "fig, ax = plt.subplots(2, 2, figsize=(16,6), sharex=True, sharey=False)\n",
    "\n",
    "ax[0, 0].plot(df.index, df['bitcoin'], color='orangered') # row=0, col=0\n",
    "ax[1, 0].plot(df.index, df['ethereum'], color='green') # row=1, col=0\n",
    "ax[0, 1].plot(df.index, df['dogecoin'], color='deepskyblue') # row=0, col=1\n",
    "ax[1, 1].plot(df.index, df['near'], color='orange') # row=1, col=1\n",
    "\n",
    "# Adding title\n",
    "ax[0, 0].set_title('Bitcoin', fontsize = 10)\n",
    "ax[1, 0].set_title('Ethereum', fontsize = 10)\n",
    "ax[0, 1].set_title('Dogecoin', fontsize = 10)\n",
    "ax[1, 1].set_title('Near', fontsize = 10)\n",
    "\n",
    "# Adding x-labels\n",
    "ax[0, 0].set_xlabel('', fontsize = 10)\n",
    "ax[1, 0].set_xlabel('Date', fontsize = 10)\n",
    "ax[0, 1].set_xlabel('', fontsize = 10)\n",
    "ax[1, 1].set_xlabel('Date', fontsize = 10)\n",
    "\n",
    "# Size of tick labels\n",
    "ax[0, 0].tick_params(axis='both', which='major', labelsize=8)\n",
    "ax[1, 0].tick_params(axis='both', which='major', labelsize=8)\n",
    "ax[0, 1].tick_params(axis='both', which='major', labelsize=8)\n",
    "ax[1, 1].tick_params(axis='both', which='major', labelsize=8)\n",
    "\n",
    "# Adding y-labels\n",
    "ax[0, 0].set_ylabel('Price', fontsize = 10)\n",
    "ax[1, 0].set_ylabel('Price', fontsize = 10)\n",
    "ax[0, 1].set_ylabel('', fontsize = 10)\n",
    "ax[1, 1].set_ylabel('', fontsize = 10)\n",
    "\n",
    "# Set the spacing between subplots\n",
    "plt.subplots_adjust(left=0.1,\n",
    "                    bottom=0.1, \n",
    "                    right=0.9, \n",
    "                    top=0.9, \n",
    "                    wspace=0.2, \n",
    "                    hspace=0.2)\n",
    "\n",
    "plt.show()"
   ]
  },
  {
   "attachments": {},
   "cell_type": "markdown",
   "id": "d79566c3",
   "metadata": {},
   "source": [
    "### Histogram"
   ]
  },
  {
   "cell_type": "code",
   "execution_count": null,
   "id": "f9ba9ceb",
   "metadata": {},
   "outputs": [],
   "source": [
    "# Plot histogram\n",
    "fig = plt.figure( figsize=(6,4) )\n",
    "n, bins, patches = plt.hist(x=df['bitcoin'], \n",
    "                            bins=20, \n",
    "                            color='steelblue',\n",
    "                            alpha=0.8, \n",
    "                            rwidth=0.95\n",
    "                   )\n",
    "plt.grid(True)\n",
    "plt.ticklabel_format(style='plain')\n",
    "plt.grid(axis='y', alpha=0.75)\n",
    "plt.xlabel('Price (USD)', fontsize=12, labelpad=10)\n",
    "plt.ylabel('Frequency', fontsize=12, labelpad=10)\n",
    "plt.title('Bitcoin price', fontsize=12, pad=10)\n",
    "plt.show()"
   ]
  },
  {
   "attachments": {},
   "cell_type": "markdown",
   "id": "f12442e8",
   "metadata": {},
   "source": [
    "### Boxplot"
   ]
  },
  {
   "cell_type": "code",
   "execution_count": null,
   "id": "720401b7",
   "metadata": {},
   "outputs": [],
   "source": [
    "# Plot boxplot\n",
    "plt.figure(figsize=(6,1.2))\n",
    "sns.boxplot(x=df['bitcoin'], color=\"greenyellow\")"
   ]
  },
  {
   "attachments": {},
   "cell_type": "markdown",
   "id": "7575829b",
   "metadata": {},
   "source": [
    "### Scatterplot"
   ]
  },
  {
   "cell_type": "code",
   "execution_count": null,
   "id": "065211d6",
   "metadata": {},
   "outputs": [],
   "source": [
    "# Scatterplot\n",
    "plt.plot(df['ethereum'], df['bitcoin'], 'o', markersize=1.5, c='steelblue')\n",
    "\n",
    "# Regression line (b = slope, a=intercept)\n",
    "b, a = np.polyfit(df['ethereum'], df['bitcoin'], 1)\n",
    "print(b)\n",
    "print(a)\n",
    "\n",
    "# Plot regression line\n",
    "plt.plot(df['ethereum'], \n",
    "         b*df['ethereum'] + a,\n",
    "         linewidth=2, \n",
    "         c='darkred')\n",
    "plt.xlabel('Price (Ethereum)')\n",
    "plt.ylabel('Price (Bitcoin)')\n",
    "plt.title('Bitcoin versus Ethereum price')\n",
    "plt.grid()\n",
    "\n",
    "plt.show()"
   ]
  },
  {
   "attachments": {},
   "cell_type": "markdown",
   "id": "d6b29526",
   "metadata": {},
   "source": [
    "### Scatterplot-Matrix"
   ]
  },
  {
   "cell_type": "code",
   "execution_count": null,
   "id": "361dadc8",
   "metadata": {},
   "outputs": [],
   "source": [
    "# Change seaborn settings\n",
    "sns.set(style=\"ticks\", font_scale=0.8)\n",
    "\n",
    "# Plot\n",
    "g = sns.PairGrid(df, \n",
    "                 height=1.5, \n",
    "                 aspect=1)\n",
    "g.map_upper(sns.scatterplot,color='darkgreen', s=10)\n",
    "g.map_lower(sns.scatterplot, color='darkgreen', s=10)\n",
    "g.map_diag(plt.hist, color='brown')\n",
    "plt.show()"
   ]
  },
  {
   "attachments": {},
   "cell_type": "markdown",
   "id": "3c287a30",
   "metadata": {},
   "source": [
    "### Heatmap with correlation matrix"
   ]
  },
  {
   "cell_type": "code",
   "execution_count": null,
   "id": "bfc749d2",
   "metadata": {},
   "outputs": [],
   "source": [
    "# Change font size of annotations\n",
    "sns.set(font_scale=0.8)\n",
    "\n",
    "# Correlation matrix\n",
    "corr = df.corr()\n",
    "print('Correlation matrix')\n",
    "print(corr)\n",
    "\n",
    "# Plot\n",
    "plt.figure(figsize=(6,4))\n",
    "sns.heatmap(corr, cmap=\"BrBG\", annot=True)\n",
    "plt.show()"
   ]
  },
  {
   "attachments": {},
   "cell_type": "markdown",
   "id": "cd71fca9",
   "metadata": {},
   "source": [
    "### Jupyter notebook --footer info-- (please always provide this at the end of each notebook)"
   ]
  },
  {
   "cell_type": "code",
   "execution_count": null,
   "id": "23004277",
   "metadata": {},
   "outputs": [],
   "source": [
    "import os\n",
    "import platform\n",
    "import socket\n",
    "from platform import python_version\n",
    "from datetime import datetime\n",
    "\n",
    "print('-----------------------------------')\n",
    "print(os.name.upper())\n",
    "print(platform.system(), '|', platform.release())\n",
    "print('Datetime:', datetime.now().strftime(\"%Y-%m-%d %H:%M:%S\"))\n",
    "print('Python Version:', python_version())\n",
    "print('-----------------------------------')"
   ]
  }
 ],
 "metadata": {
  "kernelspec": {
   "display_name": "adsenv",
   "language": "python",
   "name": "python3"
  },
  "language_info": {
   "codemirror_mode": {
    "name": "ipython",
    "version": 3
   },
   "file_extension": ".py",
   "mimetype": "text/x-python",
   "name": "python",
   "nbconvert_exporter": "python",
   "pygments_lexer": "ipython3",
   "version": "3.10.13"
  },
  "toc": {
   "base_numbering": 1,
   "nav_menu": {},
   "number_sections": true,
   "sideBar": true,
   "skip_h1_title": false,
   "title_cell": "Table of Contents",
   "title_sidebar": "Contents",
   "toc_cell": false,
   "toc_position": {},
   "toc_section_display": true,
   "toc_window_display": false
  },
  "vscode": {
   "interpreter": {
    "hash": "18632da57c1a416bf8be4aa27ba4ca7c1f66541805f18b0825a162dab4e44f29"
   }
  }
 },
 "nbformat": 4,
 "nbformat_minor": 5
}
