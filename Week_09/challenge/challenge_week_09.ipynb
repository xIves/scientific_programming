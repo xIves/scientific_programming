{
 "cells": [
  {
   "cell_type": "code",
   "execution_count": 130,
   "metadata": {},
   "outputs": [
    {
     "name": "stdout",
     "output_type": "stream",
     "text": [
      "/Users/ivesbrunner/Documents/Studium/01_Bachelor/04_Semester/04_ScientificProgramming/scientific_programming/Week_09/challenge\n"
     ]
    }
   ],
   "source": [
    "# Libraries\n",
    "import os\n",
    "import IPython\n",
    "import numpy as np\n",
    "import random as rn\n",
    "import matplotlib.pyplot as plt\n",
    "\n",
    "# Background color of matplotlib graphics \n",
    "plt.rcParams['axes.facecolor'] = 'black'\n",
    "\n",
    "# Ignore warnings\n",
    "import warnings\n",
    "warnings.filterwarnings('ignore')\n",
    "\n",
    "# Show current working directory\n",
    "print(os.getcwd())"
   ]
  },
  {
   "cell_type": "code",
   "execution_count": 131,
   "metadata": {},
   "outputs": [],
   "source": [
    "class GameAgent:\n",
    "    \"\"\"An agent with fixed initial wealth.\"\"\"\n",
    "\n",
    "    def __init__(self, unique_id, model):\n",
    "        self.unique_id = unique_id\n",
    "        self.model = model\n",
    "\n",
    "    # Method to move the agent on the grid\n",
    "    def move(self):\n",
    "        possible_steps = self.model.grid.get_neighborhood(\n",
    "            self.pos, moore=True, include_center=False\n",
    "        )\n",
    "        new_position = self.random.choice(possible_steps)\n",
    "        self.model.grid.move_agent(self, new_position)\n",
    "\n",
    "\n",
    "    # Step method (action the agent takes when it is activated by the schedule)\n",
    "    def step(self):\n",
    "        self.move()"
   ]
  },
  {
   "cell_type": "code",
   "execution_count": 132,
   "metadata": {},
   "outputs": [],
   "source": [
    "class GridModel:\n",
    "    \"\"\"A model with some number of agents.\"\"\"\n",
    "\n",
    "    def __init__(self, width, height):\n",
    "        self.width = width\n",
    "        self.height = height\n",
    "        self.num_agents = 2\n",
    "        self.grid = np.zeros((width, height), dtype=object)  # Use object dtype for storing agents\n",
    "\n",
    "        # Create agents using MoneyAgent class\n",
    "        for i in range(self.num_agents):\n",
    "            a = GameAgent(i, self)\n",
    "            # Add the agent to a random grid cell\n",
    "            x = rn.randrange(0, width)\n",
    "            y = rn.randrange(0, height)\n",
    "            self.grid[x, y] = a\n",
    "\n",
    "    def plot(self):\n",
    "        \"\"\"Visualizes the grid.\"\"\"\n",
    "        fig, ax = plt.subplots(figsize=(5, 5))\n",
    "        agent_coords = [(x, y) for x in range(self.width) for y in range(self.height) if self.grid[x, y] is not None]\n",
    "        ax.plot([y for _, y in agent_coords], [x for x, _ in agent_coords], 'ro', markersize=5)  # Adjusted marker size for visibility\n",
    "        plt.grid(True)\n",
    "        plt.xlim(0, self.width)\n",
    "        plt.ylim(0, self.height)\n",
    "        plt.title('Grid with Agents Plotted as Red Circles')\n",
    "        plt.show()\n",
    "\n",
    "    \n"
   ]
  },
  {
   "cell_type": "code",
   "execution_count": 133,
   "metadata": {},
   "outputs": [
    {
     "data": {
      "image/png": "[encoded data removed]",
      "text/plain": [
       "<Figure size 500x500 with 1 Axes>"
      ]
     },
     "metadata": {},
     "output_type": "display_data"
    }
   ],
   "source": [
    "x = input(\"Enter width:\")\n",
    "y = input(\"Enter height:\")\n",
    "\n",
    "model = GridModel(int(x), int(y))\n",
    "model.plot();"
   ]
  }
 ],
 "metadata": {
  "kernelspec": {
   "display_name": "spenv",
   "language": "python",
   "name": "python3"
  },
  "language_info": {
   "codemirror_mode": {
    "name": "ipython",
    "version": 3
   },
   "file_extension": ".py",
   "mimetype": "text/x-python",
   "name": "python",
   "nbconvert_exporter": "python",
   "pygments_lexer": "ipython3",
   "version": "3.10.13"
  }
 },
 "nbformat": 4,
 "nbformat_minor": 2
}
