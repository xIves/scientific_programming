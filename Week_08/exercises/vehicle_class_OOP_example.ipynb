{
 "cells": [
  {
   "attachments": {},
   "cell_type": "markdown",
   "metadata": {},
   "source": [
    "# Object oriented programming (OOP): Vehicle class"
   ]
  },
  {
   "attachments": {},
   "cell_type": "markdown",
   "metadata": {},
   "source": [
    "## Libraries and settings"
   ]
  },
  {
   "cell_type": "code",
   "execution_count": null,
   "metadata": {},
   "outputs": [],
   "source": [
    "# Libraries\n",
    "import os\n",
    "\n",
    "# Ignore warnings\n",
    "import warnings\n",
    "warnings.filterwarnings('ignore')\n",
    "\n",
    "# Show current working directory\n",
    "print(os.getcwd())"
   ]
  },
  {
   "attachments": {},
   "cell_type": "markdown",
   "metadata": {},
   "source": [
    "## Creating a Vehicle class"
   ]
  },
  {
   "cell_type": "code",
   "execution_count": null,
   "metadata": {},
   "outputs": [],
   "source": [
    "class Vehicle:\n",
    "    # Class variables\n",
    "    num_wheels = 4\n",
    "    num_doors = 4\n",
    "\n",
    "    def __init__(self, make, model, type):\n",
    "        # Instance variables\n",
    "        self.make = make\n",
    "        self.model = model\n",
    "        self.type = type\n",
    "        self.fuel = 20\n",
    "        self.total_fuel_added = 0\n",
    "\n",
    "    # Method \n",
    "    def drive(self):\n",
    "        print(f'The {self.make} {self.model} is now driving.')\n",
    "\n",
    "    # Method\n",
    "    def add_fuel(self, amount):\n",
    "        self.fuel += amount\n",
    "        self.total_fuel_added += amount\n"
   ]
  },
  {
   "attachments": {},
   "cell_type": "markdown",
   "metadata": {},
   "source": [
    "## Using the Vehicle class and its methods"
   ]
  },
  {
   "cell_type": "code",
   "execution_count": null,
   "metadata": {},
   "outputs": [],
   "source": [
    "# Create a new instance of the Vehicle class\n",
    "my_car = Vehicle(\"Toyota\", \"Hillux\", \"Pickup Truck\")\n",
    "\n",
    "# Access attributes\n",
    "print(my_car.make)\n",
    "\n",
    "# Modify attributes directly\n",
    "my_car.fuel = 100\n",
    "\n",
    "# Call methods\n",
    "my_car.drive()\n",
    "\n",
    "my_car.add_fuel(10)\n",
    "print(f\"Fuel level: {my_car.fuel} liters.\")\n",
    "print(f\"Total fuel added: {my_car.total_fuel_added} liters.\")\n",
    "\n",
    "my_car.add_fuel(15)\n",
    "print(f\"Fuel level: {my_car.fuel} liters.\")\n",
    "print(f\"Total fuel added: {my_car.total_fuel_added} liters.\")"
   ]
  },
  {
   "attachments": {},
   "cell_type": "markdown",
   "metadata": {},
   "source": [
    "## Creating an ElectricVehicle class (= child class)"
   ]
  },
  {
   "cell_type": "code",
   "execution_count": null,
   "metadata": {},
   "outputs": [],
   "source": [
    "class ElectricVehicle(Vehicle):\n",
    "    def __init__(self, make, model, type):\n",
    "        super().__init__(make, model, type)\n",
    "        self.battery_size = 85\n",
    "        self.charge_level = 0\n",
    "\n",
    "    def charge(self):\n",
    "        self.charge_level = 100\n",
    "        print('The vehicle is now charged.')\n",
    "\n",
    "    def add_fuel(self, amount):\n",
    "        print(f'Stop! This vehicle has no fuel tank!')"
   ]
  },
  {
   "attachments": {},
   "cell_type": "markdown",
   "metadata": {},
   "source": [
    "## Using child and parents methods"
   ]
  },
  {
   "cell_type": "code",
   "execution_count": null,
   "metadata": {},
   "outputs": [],
   "source": [
    "# Note that make, model & type is inherited from the Vehicle class\n",
    "electric_car = ElectricVehicle('Tesla', 'Model 3', 'Car')\n",
    "electric_car.charge()\n",
    "electric_car.drive()"
   ]
  },
  {
   "attachments": {},
   "cell_type": "markdown",
   "metadata": {},
   "source": [
    "## Overriding parent methods"
   ]
  },
  {
   "cell_type": "code",
   "execution_count": null,
   "metadata": {},
   "outputs": [],
   "source": [
    "# Note that the .add_fuel() method is overwritten by the child class\n",
    "electric_car.add_fuel(15)"
   ]
  },
  {
   "attachments": {},
   "cell_type": "markdown",
   "metadata": {},
   "source": [
    "### Jupyter notebook --footer info-- (please always provide this at the end of each notebook)"
   ]
  },
  {
   "cell_type": "code",
   "execution_count": null,
   "metadata": {},
   "outputs": [],
   "source": [
    "import os\n",
    "import platform\n",
    "import socket\n",
    "from platform import python_version\n",
    "from datetime import datetime\n",
    "\n",
    "print('-----------------------------------')\n",
    "print(os.name.upper())\n",
    "print(platform.system(), '|', platform.release())\n",
    "print('Datetime:', datetime.now().strftime(\"%Y-%m-%d %H:%M:%S\"))\n",
    "print('Python Version:', python_version())\n",
    "print('-----------------------------------')"
   ]
  }
 ],
 "metadata": {
  "kernelspec": {
   "display_name": "spenv",
   "language": "python",
   "name": "python3"
  },
  "language_info": {
   "codemirror_mode": {
    "name": "ipython",
    "version": 3
   },
   "file_extension": ".py",
   "mimetype": "text/x-python",
   "name": "python",
   "nbconvert_exporter": "python",
   "pygments_lexer": "ipython3",
   "version": "3.10.13"
  },
  "orig_nbformat": 4
 },
 "nbformat": 4,
 "nbformat_minor": 2
}
