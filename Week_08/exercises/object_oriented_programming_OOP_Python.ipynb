{
 "cells": [
  {
   "attachments": {},
   "cell_type": "markdown",
   "metadata": {},
   "source": [
    "# Basics of object oriented programming (OOP) in Python"
   ]
  },
  {
   "attachments": {},
   "cell_type": "markdown",
   "metadata": {},
   "source": [
    "## Libaries and settings"
   ]
  },
  {
   "cell_type": "code",
   "execution_count": null,
   "metadata": {},
   "outputs": [],
   "source": [
    "# Libraries\n",
    "import os\n",
    "\n",
    "# Ignore warnings\n",
    "import warnings\n",
    "warnings.filterwarnings('ignore')\n",
    "\n",
    "# Show current working directory\n",
    "print(os.getcwd())"
   ]
  },
  {
   "cell_type": "markdown",
   "metadata": {},
   "source": [
    "## Encapsulation in Python"
   ]
  },
  {
   "cell_type": "markdown",
   "metadata": {},
   "source": [
    "<b style=\"color:blue\">Encapsulation</b> is one of the fundamental concepts in object-oriented programming (OOP). It describes the idea of wrapping data and the methods that work on data within one unit. This puts restrictions on accessing variables and methods directly and can prevent the accidental modification of data. To prevent accidental change, an object’s variable can only be changed by an object’s method. Those types of variables are known as private variables."
   ]
  },
  {
   "cell_type": "code",
   "execution_count": null,
   "metadata": {},
   "outputs": [],
   "source": [
    "class Computer:\n",
    "\n",
    "    def __init__(self):\n",
    "        self.__maxprice = 900\n",
    "\n",
    "    def sell(self):\n",
    "        print(\"Selling Price:\", self.__maxprice)\n",
    "\n",
    "    def setMaxPrice(self, price):\n",
    "        self.__maxprice = price\n",
    "\n",
    "c = Computer()\n",
    "c.sell()\n",
    "\n",
    "# Trying to change the price (will not work)\n",
    "c.__maxprice = 1800\n",
    "c.sell()\n",
    "\n",
    "# Change the price using setMaxPrice() method\n",
    "c.setMaxPrice(1800)\n",
    "c.sell()"
   ]
  },
  {
   "cell_type": "markdown",
   "metadata": {},
   "source": [
    "## Polymorphism in Python"
   ]
  },
  {
   "cell_type": "markdown",
   "metadata": {},
   "source": [
    "You can create a function that can take any object, allowing for <b style=\"color:blue\">polymorphism</b>. Let’s take an example and create a function called \"func()\" which will take an object which we will name \"obj\". Now, let’s give the function something to do that uses the 'obj' object we passed to it. In this case, let’s call the methods type() and color(), each of which is defined in the two classes 'Tomato' and 'Apple'. Now, you have to create instantiations of both the 'Tomato' and 'Apple' classes."
   ]
  },
  {
   "cell_type": "code",
   "execution_count": null,
   "metadata": {},
   "outputs": [],
   "source": [
    "# Polymorphism with Function and Objects\n",
    "class Tomato:\n",
    "    \n",
    "    def fruit_type(self):\n",
    "        print(\"Vegetable\") \n",
    "        \n",
    "    def fruit_color(self):\n",
    "        print(\"Red\") \n",
    "\n",
    "class Apple(): \n",
    "    \n",
    "    def fruit_type(self): \n",
    "        print(\"Fruit\") \n",
    "        \n",
    "    def fruit_color(self): \n",
    "        print(\"Red\") \n",
    "\n",
    "# Common interface function\n",
    "def func(obj):\n",
    "    obj.fruit_type()\n",
    "    obj.fruit_color()\n",
    "\n",
    "# Create objects\n",
    "obj_tomato = Tomato() \n",
    "obj_apple = Apple() \n",
    "\n",
    "# Call the common interface function\n",
    "func(obj_tomato) \n",
    "func(obj_apple)"
   ]
  },
  {
   "cell_type": "markdown",
   "metadata": {},
   "source": [
    "## Class declaration"
   ]
  },
  {
   "cell_type": "code",
   "execution_count": null,
   "metadata": {},
   "outputs": [],
   "source": [
    "class House:\n",
    "    \"\"\"this is an empty class\"\"\""
   ]
  },
  {
   "cell_type": "code",
   "execution_count": null,
   "metadata": {},
   "outputs": [],
   "source": [
    "# Create new instance of the class\n",
    "instance_01 = House()\n",
    "\n",
    "# Return properties and methods of object\n",
    "print(dir(instance_01))"
   ]
  },
  {
   "cell_type": "markdown",
   "metadata": {},
   "source": [
    "## Class constructor: ```__init__()```"
   ]
  },
  {
   "cell_type": "markdown",
   "metadata": {},
   "source": [
    "Constructors are generally used for instantiating an object. The task of constructors is to initialize (assign values) to the data members of the class when an object of the class is created. In Python the <b>```__init__()```</b> method is called the constructor and is always called when an object is created."
   ]
  },
  {
   "cell_type": "code",
   "execution_count": null,
   "metadata": {},
   "outputs": [],
   "source": [
    "class House:\n",
    "    \n",
    "    # Default constructor __init__()\n",
    "    def __init__(self, length, width, height):\n",
    "        self.length = length\n",
    "        self.width = width\n",
    "        self.height = height"
   ]
  },
  {
   "cell_type": "markdown",
   "metadata": {},
   "source": [
    "## Methods"
   ]
  },
  {
   "cell_type": "markdown",
   "metadata": {},
   "source": [
    "In Python, different methods are available which are all defined inside a class. Any method we create in a class will automatically be created as an <b style=\"color:blue\">instance method</b>. We must explicitly tell Python that it is a <b style=\"color:blue\">class method</b> or <b style=\"color:blue\">static method</b> using @classmethod or @staticmethod decorators."
   ]
  },
  {
   "cell_type": "markdown",
   "metadata": {},
   "source": [
    "### Methods (1st example)"
   ]
  },
  {
   "cell_type": "code",
   "execution_count": null,
   "metadata": {},
   "outputs": [],
   "source": [
    "class House:\n",
    "    \n",
    "    # Default constructor\n",
    "    def __init__(self, length, width, height):\n",
    "        self.length = length\n",
    "        self.width = width\n",
    "        self.height = height\n",
    "\n",
    "    # Instance method\n",
    "    def getVolume(self):\n",
    "        volume = f'{self.height*self.length*self.width:,} m3'\n",
    "        return volume\n",
    "\n",
    "# Create object (= new instance of the House class)\n",
    "myHouse = House(length=12, width=10, height=8)\n",
    "\n",
    "# Call the method\n",
    "volume  = myHouse.getVolume()\n",
    "print(volume)"
   ]
  },
  {
   "cell_type": "markdown",
   "metadata": {},
   "source": [
    "### Methods (2nd example)"
   ]
  },
  {
   "cell_type": "code",
   "execution_count": null,
   "metadata": {},
   "outputs": [],
   "source": [
    "class Student:\n",
    "    # Class variables\n",
    "    school_name = 'ETH Zürich'\n",
    "\n",
    "    def __init__(self, name, age):\n",
    "        self.name = name\n",
    "        self.age = age\n",
    "\n",
    "    # Instance method\n",
    "    def show(self):\n",
    "        # Access instance variables\n",
    "        print('Student:', self.name, self.age)\n",
    "        # Access class variables\n",
    "        print('School:', self.school_name)\n",
    "\n",
    "    @classmethod\n",
    "    def change_School(cls, name):\n",
    "        # Access class variable\n",
    "        print('Previous School name:', cls.school_name)\n",
    "        cls.school_name = name\n",
    "        print('School name changed to:', Student.school_name)\n",
    "\n",
    "    @staticmethod\n",
    "    def find_notes(subject_name):\n",
    "        # Can't access instance or class attributes\n",
    "        return ['chapter 1', 'chapter 2', 'chapter 3']\n",
    "\n",
    "# Create object\n",
    "stu = Student('Mary', 24)\n",
    "\n",
    "# Call instance method\n",
    "stu.show()\n",
    "\n",
    "# Call class method\n",
    "Student.change_School('ZHAW')"
   ]
  },
  {
   "attachments": {},
   "cell_type": "markdown",
   "metadata": {},
   "source": [
    "### The self parameter"
   ]
  },
  {
   "attachments": {},
   "cell_type": "markdown",
   "metadata": {},
   "source": [
    "Each of the methods above contain <b style=\"color:blue\">self</b> as a parameter. When we call methods on an instance of the class the name of that instance is automatically passed to the method as the argument self. This allows us to access and change attributes that are specific to this instance."
   ]
  },
  {
   "cell_type": "code",
   "execution_count": null,
   "metadata": {},
   "outputs": [],
   "source": [
    "class House:\n",
    "  \n",
    "  def open_window(self, windows):\n",
    "        self.windows = windows\n",
    "        print(f'Open the {self.windows} windows')\n",
    "\n",
    "my_house = House()\n",
    "my_house.open_window(10)"
   ]
  },
  {
   "cell_type": "markdown",
   "metadata": {},
   "source": [
    "## Class destructor"
   ]
  },
  {
   "cell_type": "markdown",
   "metadata": {},
   "source": [
    "Destructors are called when an object gets destroyed. In Python, destructors are not needed as much as in other programming languages because Python has a garbage collector that handles memory management automatically. The <b>```__del__()```</b> method is known as a destructor method in Python. It is called when all references to the object have been deleted i.e. when an object is garbage collected."
   ]
  },
  {
   "cell_type": "code",
   "execution_count": null,
   "metadata": {},
   "outputs": [],
   "source": [
    "class House:\n",
    "\n",
    "    def __init__(self, length, width, height):\n",
    "        self.length = length\n",
    "        self.width = width\n",
    "        self.height = height\n",
    "\n",
    "    def getVolume(self):\n",
    "        volume = f'{self.height*self.length*self.width:,} m3'\n",
    "        return volume\n",
    "\n",
    "    def __del__(self):\n",
    "        print(\"Destructor called\")\n",
    "\n",
    "myHouse = House(100, 500, 800)\n",
    "volume  = myHouse.getVolume()\n",
    "print(volume)\n",
    "\n",
    "# Call the class destructor\n",
    "del myHouse"
   ]
  },
  {
   "cell_type": "markdown",
   "metadata": {},
   "source": [
    "## Class variables versus instance variables"
   ]
  },
  {
   "cell_type": "markdown",
   "metadata": {},
   "source": [
    "Python <b style=\"color:blue\">class variables</b> are declared within a class and their values are the same across all instances of a class. Python instance variables can have different values across multiple instances of a class. <b style=\"color:blue\">Class variables</b> share the same value among all instances of the class. The value of instance variables can differ across each instance of a class. <b style=\"color:blue\">Class variables</b> can only be assigned when a class has been defined. <b style=\"color:blue\">Instance variables</b>, on the other hand, can be assigned or changed at any time. Both <b style=\"color:blue\">class variables</b> and <b style=\"color:blue\">instance variables</b> store a value in a program, just like any other Python variable."
   ]
  },
  {
   "cell_type": "code",
   "execution_count": null,
   "metadata": {},
   "outputs": [],
   "source": [
    "class CoffeeOrder:\n",
    "    \n",
    "    # Class variables declared within the class\n",
    "    def __init__(self, coffee_name, price):\n",
    "        self.coffee_name = coffee_name\n",
    "        self.price = price\n",
    "\n",
    "# In the examples below, different instance variables are defined\n",
    "# New instance of class CoffeeOrder\n",
    "peter_order = CoffeeOrder(\"Espresso\", 2.10)\n",
    "print(peter_order.coffee_name)\n",
    "print(peter_order.price)\n",
    "\n",
    "# New instance of class CoffeeOrder\n",
    "mary_order = CoffeeOrder(\"Latte\", 2.75)\n",
    "print(mary_order.coffee_name)\n",
    "print(mary_order.price)"
   ]
  },
  {
   "cell_type": "markdown",
   "metadata": {},
   "source": [
    "## Inheritance"
   ]
  },
  {
   "cell_type": "markdown",
   "metadata": {},
   "source": [
    "<b style=\"color:blue\">Inheritance</b> is basically a phenomenon where an element acquires characteristics from its parent class. In the case below, the Subaru class is inheriting all common features from Car class but at the same time, it itself is having additional features."
   ]
  },
  {
   "cell_type": "markdown",
   "metadata": {},
   "source": [
    "### Inheritance: 1st example"
   ]
  },
  {
   "cell_type": "markdown",
   "metadata": {},
   "source": [
    "The class from which our element is inheriting is known as <b style=\"color:blue\">parent class</b> and it is generic in nature. While the class which is inheriting those characteristics is known as <b style=\"color:blue\">child class</b> which is specific in nature."
   ]
  },
  {
   "cell_type": "code",
   "execution_count": null,
   "metadata": {},
   "outputs": [],
   "source": [
    "# Parent class\n",
    "class Cat:\n",
    "    def color(self):\n",
    "        return \"Gray\"\n",
    "\n",
    "    def speak(self):\n",
    "        return \"Miau!\"\n",
    "\n",
    "# Child class\n",
    "class AngoraCat(Cat):\n",
    "    \n",
    "    def speak(self):\n",
    "        return \"Miau, Miau!\"\n",
    "\n",
    "katty = Cat()\n",
    "kitty = AngoraCat()\n",
    "print(katty.color(), \"|\", katty.speak())\n",
    "print(kitty.color(), \"|\", kitty.speak())"
   ]
  },
  {
   "cell_type": "markdown",
   "metadata": {},
   "source": [
    "### Inheritance: 2nd example"
   ]
  },
  {
   "cell_type": "code",
   "execution_count": null,
   "metadata": {},
   "outputs": [],
   "source": [
    "# Parent class\n",
    "class Computer:\n",
    "    \n",
    "    def __init__(self, computer, ram, storage):\n",
    "        self.computer = computer\n",
    "        self.ram = ram\n",
    "        self.storage = storage\n",
    "\n",
    "# Child class\n",
    "class Mobile(Computer):\n",
    "    \n",
    "    def __init__(self, computer, ram, storage, model):\n",
    "        super().__init__(computer, ram, storage)\n",
    "        self.model = model\n",
    "\n",
    "Apple = Mobile('Apple', 2, 64, 'iPhone X')\n",
    "print('The mobile is:', Apple.computer)\n",
    "print('The RAM is:', Apple.ram)\n",
    "print('The storage is:', Apple.storage)\n",
    "print('The model is:', Apple.model)"
   ]
  },
  {
   "cell_type": "markdown",
   "metadata": {},
   "source": [
    "### Inheritance: 3rd example"
   ]
  },
  {
   "cell_type": "code",
   "execution_count": null,
   "metadata": {},
   "outputs": [],
   "source": [
    "# Parent class\n",
    "class Person:\n",
    "    \n",
    "    def __init__(self, fname, lname):\n",
    "        self.firstname = fname\n",
    "        self.lastname = lname\n",
    "\n",
    "    def printname(self):\n",
    "        print(self.firstname, self.lastname)\n",
    "\n",
    "# Child class\n",
    "class Student(Person):\n",
    "    \n",
    "    # super() returns an object that represents the parent class\n",
    "    def __init__(self, fname, lname, year):\n",
    "        super().__init__(fname, lname)\n",
    "        self.graduationyear = year\n",
    "        \n",
    "    def welcome(self):\n",
    "        print(\"Welcome\", self.firstname, self.lastname, \n",
    "              \"to the class of\", self.graduationyear)\n",
    "        \n",
    "# Create an instance\n",
    "stu = Student(\"Mike\", \"Olsen\", 2022)\n",
    "stu.welcome()"
   ]
  },
  {
   "cell_type": "markdown",
   "metadata": {},
   "source": [
    "### Inheritance: 4th example"
   ]
  },
  {
   "cell_type": "code",
   "execution_count": null,
   "metadata": {},
   "outputs": [],
   "source": [
    "class Vehicle:\n",
    "    \n",
    "    def __init__(self, price):\n",
    "        self.price = price\n",
    "        \n",
    "    def display(self):\n",
    "        print ('Price = $', self.price)\n",
    "\n",
    "class Category(Vehicle):\n",
    "    \n",
    "    def __init__(self, price, name):\n",
    "        Vehicle.__init__(self, price)\n",
    "        self.name = name\n",
    "        \n",
    "    def disp_name(self):\n",
    "        print ('Vehicle = ', self.name)\n",
    "\n",
    "# Create instance of Category class\n",
    "mycar = Category(24000, 'VW T4')\n",
    "mycar.disp_name()\n",
    "mycar.display()"
   ]
  },
  {
   "cell_type": "markdown",
   "metadata": {},
   "source": [
    "### Inheritance: 5th example"
   ]
  },
  {
   "cell_type": "code",
   "execution_count": null,
   "metadata": {},
   "outputs": [],
   "source": [
    "# Parent class\n",
    "class Person:\n",
    "    def __init__(self, per_name, per_age):\n",
    "        self.name = per_name\n",
    "        self.age = per_age\n",
    "\n",
    "    def display1(self):\n",
    "        print(\"name:\", self.name)\n",
    "        print(\"age:\", self.age)\n",
    "\n",
    "# Child class\n",
    "class Employee(Person):\n",
    "    def __init__(self, emp_name, emp_age, emp_salary):\n",
    "        self.salary = emp_salary\n",
    "        Person.__init__(self, emp_name, emp_age)\n",
    "\n",
    "    def display2(self):\n",
    "        print(\"salary:\", self.salary)\n",
    "        Person.display1(self)\n",
    "\n",
    "emp = Employee(\"John\", 20, 8000)\n",
    "emp.display2()"
   ]
  },
  {
   "cell_type": "markdown",
   "metadata": {},
   "source": [
    "### Inheritance: 6th example (multiple inheritance)"
   ]
  },
  {
   "cell_type": "code",
   "execution_count": null,
   "metadata": {},
   "outputs": [],
   "source": [
    "# Parent class 1\n",
    "class Person:\n",
    "    def person_info(self, name, age):\n",
    "        print('Inside Person class')\n",
    "        print('Name:', name, 'Age:', age)\n",
    "\n",
    "# Parent class 2\n",
    "class Company:\n",
    "    def company_info(self, company_name, location):\n",
    "        print('Inside Company class')\n",
    "        print('Name:', company_name, 'location:', location)\n",
    "\n",
    "# Child class\n",
    "class Employee(Person, Company):\n",
    "    def Employee_info(self, salary, skill):\n",
    "        print('Inside Employee class')\n",
    "        print('Salary:', salary, 'Skill:', skill)\n",
    "\n",
    "# Create object of Employee\n",
    "emp = Employee()\n",
    "\n",
    "# access data\n",
    "emp.person_info('Jessa', 28)\n",
    "emp.company_info('Google', 'Atlanta')\n",
    "emp.Employee_info(12000, 'Machine Learning')"
   ]
  },
  {
   "cell_type": "markdown",
   "metadata": {},
   "source": [
    "## Overriding parent class methods"
   ]
  },
  {
   "cell_type": "markdown",
   "metadata": {},
   "source": [
    "In the following example, notice that the <b>```speak()```</b> method was defined in both classes, Cat and AngoraCat. When this happens, the method in the child class overrides that in the parent class. This is to say, <b>```speak()```</b> in AngoraCat gets preference over the <b>```speak()```</b> in Cat."
   ]
  },
  {
   "cell_type": "code",
   "execution_count": null,
   "metadata": {},
   "outputs": [],
   "source": [
    "# Parent class\n",
    "class Cat:\n",
    "    \n",
    "    def color(self):\n",
    "        return \"Gray\"\n",
    "\n",
    "    def speak(self):\n",
    "        return \"Miau!\"\n",
    "\n",
    "# Child class inheriting 'color' from Cat class\n",
    "class AngoraCat(Cat):\n",
    "    \n",
    "    def speak(self):\n",
    "        return \"Miau, Miau!\"\n",
    "\n",
    "kitty = AngoraCat()\n",
    "print(kitty.color(), \"|\", kitty.speak())"
   ]
  },
  {
   "cell_type": "code",
   "execution_count": null,
   "metadata": {},
   "outputs": [],
   "source": [
    "# isinstance() returns True if the object (first argument) is an instance of \n",
    "# the class or other classes derived from it (second argument).\n",
    "print(isinstance(kitty, Cat))\n",
    "print(isinstance(kitty, AngoraCat))\n",
    "print(\"-------------------\")\n",
    "\n",
    "# issubclass() checks if the class argument (first argument) is a subclass \n",
    "# of classinfo class (second argument)\n",
    "print(issubclass(AngoraCat, Cat))\n",
    "print(issubclass(Cat, AngoraCat))"
   ]
  },
  {
   "attachments": {},
   "cell_type": "markdown",
   "metadata": {},
   "source": [
    "### Jupyter notebook --footer info-- (please always provide this at the end of each notebook)"
   ]
  },
  {
   "cell_type": "code",
   "execution_count": null,
   "metadata": {},
   "outputs": [],
   "source": [
    "import os\n",
    "import platform\n",
    "import socket\n",
    "from platform import python_version\n",
    "from datetime import datetime\n",
    "\n",
    "print('-----------------------------------')\n",
    "print(os.name.upper())\n",
    "print(platform.system(), '|', platform.release())\n",
    "print('Datetime:', datetime.now().strftime(\"%Y-%m-%d %H:%M:%S\"))\n",
    "print('Python Version:', python_version())\n",
    "print('-----------------------------------')"
   ]
  }
 ],
 "metadata": {
  "kernelspec": {
   "display_name": "spenv",
   "language": "python",
   "name": "python3"
  },
  "language_info": {
   "codemirror_mode": {
    "name": "ipython",
    "version": 3
   },
   "file_extension": ".py",
   "mimetype": "text/x-python",
   "name": "python",
   "nbconvert_exporter": "python",
   "pygments_lexer": "ipython3",
   "version": "3.10.13"
  },
  "vscode": {
   "interpreter": {
    "hash": "e88d0147854d95637bfda66d71c1971db493e0eba7c923c8e835cc4382a02720"
   }
  }
 },
 "nbformat": 4,
 "nbformat_minor": 2
}
