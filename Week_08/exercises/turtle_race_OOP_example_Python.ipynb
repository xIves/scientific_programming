{
 "cells": [
  {
   "attachments": {},
   "cell_type": "markdown",
   "id": "c0adefd2",
   "metadata": {},
   "source": [
    "# Object oriented programming (OOP): Turtle race\n",
    "\n",
    "### Note: when using Jupter notebook, to close the animation window, always Restart the Kernel\n",
    "\n",
    "For an introduction to the Turtle library see: https://realpython.com/beginners-guide-python-turtle"
   ]
  },
  {
   "attachments": {},
   "cell_type": "markdown",
   "id": "3e9404ee",
   "metadata": {},
   "source": [
    "## Libraries and settings"
   ]
  },
  {
   "cell_type": "code",
   "execution_count": null,
   "id": "209ce4bc",
   "metadata": {},
   "outputs": [],
   "source": [
    "# Libaries\n",
    "import os\n",
    "from random import randint\n",
    "from turtle import Screen, Turtle, mainloop\n",
    "\n",
    "# Ignore warnings\n",
    "import warnings\n",
    "warnings.filterwarnings('ignore')\n",
    "\n",
    "# Show current working directory\n",
    "print(os.getcwd())"
   ]
  },
  {
   "attachments": {},
   "cell_type": "markdown",
   "id": "0a343227",
   "metadata": {},
   "source": [
    "## Turtle race"
   ]
  },
  {
   "attachments": {},
   "cell_type": "markdown",
   "id": "d6cb679e",
   "metadata": {},
   "source": [
    "### Note: to close the Turtle graphics window, always use: ALT+F4 or Restart the Kernel"
   ]
  },
  {
   "cell_type": "code",
   "execution_count": null,
   "id": "898bdc9b",
   "metadata": {},
   "outputs": [],
   "source": [
    "# Settings\n",
    "COLORS = ['red', 'brown', 'green', 'orange', 'lightblue']\n",
    "FONT = (\"Times New Roman\", 14, 'bold')\n",
    "\n",
    "# Instance of Screen class from Python library turtle\n",
    "screen = Screen()\n",
    "screen.bgcolor('black')\n",
    "\n",
    "\"\"\"Instance of Turtle class from Python library turtle\n",
    "The 'finish' object is used to draw a finish line, write \n",
    "the message \"Finish-Line\", and then animate a series of \n",
    "blue and red dashes on the finish line. Pendown and penup \n",
    "commands tell the turtle to leave ink on the screen as it \n",
    "moves or not to leave ink, respectively.\"\"\"\n",
    "\n",
    "# Create finish-line object\n",
    "finish = Turtle(visible=False)\n",
    "finish.speed('fastest')\n",
    "finish.penup()\n",
    "\n",
    "# Settings for text \"Finish-Line\"\n",
    "finish.color('white')\n",
    "finish.goto(180, 160)\n",
    "finish.write(\"Finish-Line\", font=FONT)\n",
    "\n",
    "# Settings for line \"Finish-Line\"\n",
    "finish.width(3)\n",
    "finish.goto(200, 150)\n",
    "finish.right(90)\n",
    "finish.pendown()\n",
    "\n",
    "\"\"\"In the nex code block, the 'finish' object's pen color is set to blue, \n",
    "and then it moves forward 5 pixels. Then the pen color is set to red, \n",
    "and the 'finish' object moves forward another 5 pixels. This process is \n",
    "repeated 16 times, resulting in a dashed line with alternating blue and red \n",
    "segments.\"\"\"\n",
    "\n",
    "# Settings for finish-line\n",
    "for i in range(16):\n",
    "    finish.color('blue')\n",
    "    finish.forward(5)\n",
    "    finish.color('red')\n",
    "    finish.forward(5)\n",
    "\n",
    "finish.penup()\n",
    "finish.goto(160, 250)\n",
    "\n",
    "\"\"\"The 'turtles' list is used to store instances of the 'Turtle' class, \n",
    "each representing a turtle in the race. The 'turtles' are initialized \n",
    "with different colors, positioned on the starting line, and then animated \n",
    "to move forward randomly until one of them reaches the finish line.\"\"\"\n",
    "\n",
    "# List to store turtles\n",
    "turtles = []\n",
    "\n",
    "# Turtle settings (colors, position on start line)\n",
    "for gate, color in enumerate(COLORS):\n",
    "    turtle = Turtle('turtle')\n",
    "    turtle.color(color)\n",
    "    turtle.penup()\n",
    "    turtle.goto(-155, 10 + 30 * gate)\n",
    "    turtle.pendown()\n",
    "\n",
    "    turtles.append(turtle)\n",
    "\n",
    "winner = None\n",
    "\n",
    "# Loop to run the turtle race\n",
    "while not winner:\n",
    "    for turtle in turtles:\n",
    "        # Step width of turtels (random numbers)\n",
    "        turtle.forward(randint(1, 5))\n",
    "        if turtle.xcor() >= 190:\n",
    "            winner = turtle\n",
    "            break  # we have a winner!\n",
    "    else:\n",
    "        continue # as long as no winner, continue\n",
    "    break\n",
    "\n",
    "\"\"\"Once a turtle wins the race, the color of the 'finish' object's pen is \n",
    "changed to the winner's color and the message 'color' won the race!\"\"\"\n",
    "\n",
    "finish.pencolor(winner.pencolor())\n",
    "finish.write(f\"{winner.pencolor().capitalize()} won the race!!!\", font=FONT)\n",
    "\n",
    "# The mainloop function is called to keep the \n",
    "# turtle screen open until the user closes it.\n",
    "mainloop()"
   ]
  },
  {
   "attachments": {},
   "cell_type": "markdown",
   "id": "85c1c732",
   "metadata": {},
   "source": [
    "### Jupyter notebook --footer info-- (please always provide this at the end of each notebook)"
   ]
  },
  {
   "cell_type": "code",
   "execution_count": null,
   "id": "a17438db",
   "metadata": {},
   "outputs": [],
   "source": [
    "import os\n",
    "import platform\n",
    "import socket\n",
    "from platform import python_version\n",
    "from datetime import datetime\n",
    "\n",
    "print('-----------------------------------')\n",
    "print(os.name.upper())\n",
    "print(platform.system(), '|', platform.release())\n",
    "print('Datetime:', datetime.now().strftime(\"%Y-%m-%d %H:%M:%S\"))\n",
    "print('Python Version:', python_version())\n",
    "print('-----------------------------------')"
   ]
  }
 ],
 "metadata": {
  "kernelspec": {
   "display_name": "spenv",
   "language": "python",
   "name": "python3"
  },
  "language_info": {
   "codemirror_mode": {
    "name": "ipython",
    "version": 3
   },
   "file_extension": ".py",
   "mimetype": "text/x-python",
   "name": "python",
   "nbconvert_exporter": "python",
   "pygments_lexer": "ipython3",
   "version": "3.10.13"
  },
  "vscode": {
   "interpreter": {
    "hash": "e88d0147854d95637bfda66d71c1971db493e0eba7c923c8e835cc4382a02720"
   }
  }
 },
 "nbformat": 4,
 "nbformat_minor": 5
}
