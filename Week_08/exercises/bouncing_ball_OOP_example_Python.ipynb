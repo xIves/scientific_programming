{
 "cells": [
  {
   "attachments": {},
   "cell_type": "markdown",
   "id": "763d31db",
   "metadata": {},
   "source": [
    "# Object oriented programming (OOP): Bouncing ball\n",
    "\n",
    "### Note: when using Jupter notebook, to close the animation window, always Restart the Kernel"
   ]
  },
  {
   "attachments": {},
   "cell_type": "markdown",
   "id": "c63115a2",
   "metadata": {},
   "source": [
    "## Libraries and settings"
   ]
  },
  {
   "cell_type": "code",
   "execution_count": null,
   "id": "3c3ef90d",
   "metadata": {},
   "outputs": [],
   "source": [
    "# Libraries\n",
    "import os\n",
    "import turtle\n",
    "import random\n",
    "\n",
    "# Ignore warnings\n",
    "import warnings\n",
    "warnings.filterwarnings('ignore')\n",
    "\n",
    "# Show current working directory\n",
    "print(os.getcwd())"
   ]
  },
  {
   "attachments": {},
   "cell_type": "markdown",
   "id": "01c9c7e4",
   "metadata": {},
   "source": [
    "## Ball class"
   ]
  },
  {
   "cell_type": "code",
   "execution_count": null,
   "id": "ba8ef30c",
   "metadata": {},
   "outputs": [],
   "source": [
    "# Settings\n",
    "turtle.title(\"Bouncing Balls\")\n",
    "turtle.Screen().bgcolor(\"yellow\")\n",
    "\n",
    "class Ball(turtle.Turtle):\n",
    "\n",
    "    # Pixels/(time of iteration)^2\n",
    "    gravity = -0.05\n",
    "    energy_loss_ground = 0.95\n",
    "    energy_loss_walls = 0.80\n",
    "    \n",
    "    # Note the 'super().__init__()' which is a call to the constructor of \n",
    "    # the parent class.\n",
    "    def __init__(self, x=0, y=0):\n",
    "        super().__init__()\n",
    "        self.penup()\n",
    "        self.hideturtle()\n",
    "        self.y_velocity = random.randint(-10, 50) / 10\n",
    "        self.x_velocity = random.randint(-30, 30) / 10\n",
    "        self.setposition(x, y)\n",
    "        self.size = int(random.gammavariate(25, 2))\n",
    "        self.color((random.random(),\n",
    "                    random.random(),\n",
    "                    random.random())\n",
    "                   )\n",
    "\n",
    "    def draw(self):\n",
    "        self.clear()\n",
    "        self.dot(self.size)\n",
    "        \n",
    "    def move(self):\n",
    "        self.y_velocity += self.gravity\n",
    "        self.sety(self.ycor() + self.y_velocity)\n",
    "        self.setx(self.xcor() + self.x_velocity)\n",
    "        \n",
    "    def bounce_floor(self, floor_y):\n",
    "        if self.ycor() < floor_y:\n",
    "            self.y_velocity = -self.y_velocity * self.energy_loss_ground\n",
    "            self.sety(floor_y)\n",
    "            \n",
    "    def bounce_walls(self, wall_x):\n",
    "        if abs(self.xcor()) > wall_x:\n",
    "            self.x_velocity = -self.x_velocity * self.energy_loss_walls\n",
    "            sign = self.xcor() / abs(self.xcor())\n",
    "            self.setx(wall_x * sign)"
   ]
  },
  {
   "attachments": {},
   "cell_type": "markdown",
   "id": "89e5e46b",
   "metadata": {},
   "source": [
    "## Parameter settings for the animation"
   ]
  },
  {
   "cell_type": "code",
   "execution_count": null,
   "id": "c6620795",
   "metadata": {},
   "outputs": [],
   "source": [
    "# Settings\n",
    "width = 500\n",
    "height = 500\n",
    "window = turtle.Screen()\n",
    "window.setup(width, height)\n",
    "window.tracer(0)\n",
    "balls = [Ball() for i in range(3)]\n",
    "\n",
    "def add_ball(x, y):\n",
    "    balls.append(Ball(x, y))\n",
    "window.onclick(add_ball)\n",
    "\n",
    "# Close window\n",
    "while True:\n",
    "    for ball in balls:\n",
    "        ball.draw()\n",
    "        ball.move()\n",
    "        ball.bounce_floor(-height/2.5)\n",
    "        ball.bounce_walls(width/2)\n",
    "    window.update()"
   ]
  },
  {
   "attachments": {},
   "cell_type": "markdown",
   "id": "2725ca1d",
   "metadata": {},
   "source": [
    "### Jupyter notebook --footer info-- (please always provide this at the end of each notebook)"
   ]
  },
  {
   "cell_type": "code",
   "execution_count": null,
   "id": "fa32ec16",
   "metadata": {},
   "outputs": [],
   "source": [
    "import os\n",
    "import platform\n",
    "import socket\n",
    "from platform import python_version\n",
    "from datetime import datetime\n",
    "\n",
    "print('-----------------------------------')\n",
    "print(os.name.upper())\n",
    "print(platform.system(), '|', platform.release())\n",
    "print('Datetime:', datetime.now().strftime(\"%Y-%m-%d %H:%M:%S\"))\n",
    "print('Python Version:', python_version())\n",
    "print('-----------------------------------')"
   ]
  }
 ],
 "metadata": {
  "kernelspec": {
   "display_name": "spenv",
   "language": "python",
   "name": "python3"
  },
  "language_info": {
   "codemirror_mode": {
    "name": "ipython",
    "version": 3
   },
   "file_extension": ".py",
   "mimetype": "text/x-python",
   "name": "python",
   "nbconvert_exporter": "python",
   "pygments_lexer": "ipython3",
   "version": "3.10.13"
  },
  "vscode": {
   "interpreter": {
    "hash": "e88d0147854d95637bfda66d71c1971db493e0eba7c923c8e835cc4382a02720"
   }
  }
 },
 "nbformat": 4,
 "nbformat_minor": 5
}
