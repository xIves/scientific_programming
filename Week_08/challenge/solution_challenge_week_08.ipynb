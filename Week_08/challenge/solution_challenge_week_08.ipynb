{
 "cells": [
  {
   "attachments": {},
   "cell_type": "markdown",
   "metadata": {},
   "source": [
    "# Image Analyzer OOP - example"
   ]
  },
  {
   "attachments": {},
   "cell_type": "markdown",
   "metadata": {},
   "source": [
    "## Libraries and settings"
   ]
  },
  {
   "cell_type": "code",
   "execution_count": null,
   "metadata": {},
   "outputs": [],
   "source": [
    "import os\n",
    "import numpy as np\n",
    "import pandas as pd\n",
    "import matplotlib.pyplot as plt\n",
    "\n",
    "# Ignore warnings\n",
    "import warnings\n",
    "warnings.filterwarnings('ignore')\n",
    "\n",
    "# Show current working directory\n",
    "print(os.getcwd())"
   ]
  },
  {
   "attachments": {},
   "cell_type": "markdown",
   "metadata": {},
   "source": [
    "## ImageAnalyzer class"
   ]
  },
  {
   "cell_type": "code",
   "execution_count": null,
   "metadata": {},
   "outputs": [],
   "source": [
    "class ImageAnalyzer:\n",
    "    def __init__(self, image):\n",
    "        self.image = image\n",
    "\n",
    "    def show(self):\n",
    "        \"\"\"Plots the image\"\"\"\n",
    "\n",
    "        plt.imshow(self.image)\n",
    "        plt.show()\n",
    "\n",
    "    def get_size(self):\n",
    "        \"\"\"Gets image size in number of pixels\"\"\"\n",
    "\n",
    "        return self.image.shape\n",
    "\n",
    "    def get_pixel_value(self, row, col):\n",
    "        \"\"\"Gets single pixel value\"\"\"\n",
    "\n",
    "        return self.image[row, col]\n",
    "\n",
    "    def get_grayscale(self):\n",
    "        \"\"\"Changes colors to grayscale\"\"\"\n",
    "\n",
    "        return np.mean(self.image, axis=2)\n",
    "\n",
    "    def get_histogram(self):\n",
    "        \"\"\"Creates overlapping histograms of rgb colors\"\"\"\n",
    "\n",
    "        # RGB-Colors\n",
    "        self.red = self.image[:, :, 0].ravel()\n",
    "        self.green = self.image[:, :, 1].ravel()\n",
    "        self.blue = self.image[:, :, 2].ravel()\n",
    "\n",
    "        # Histograms\n",
    "        fig, ax = plt.subplots(figsize=(6,4))\n",
    "        ax.hist(self.red, bins=256, color='red', alpha=1)\n",
    "        ax.hist(self.green, bins=256, color='green', alpha=1)\n",
    "        ax.hist(self.blue, bins=256, color='blue', alpha=1)\n",
    "        ax.set_xlim([0, 256])\n",
    "        ax.set_xlabel('Color Value')\n",
    "        ax.set_ylabel('Frequency')\n",
    "        ax.set_title('Color Histogram')\n",
    "\n",
    "        return plt.show()\n",
    "    \n",
    "    def get_dataframe(self):\n",
    "        \"\"\"Creates a pandas dataframe from RGB-colors\"\"\"\n",
    "\n",
    "        # RGB-Colors\n",
    "        self.red = self.image[:, :, 0].ravel()\n",
    "        self.green = self.image[:, :, 1].ravel()\n",
    "        self.blue = self.image[:, :, 2].ravel()\n",
    "\n",
    "        df = pd.DataFrame({'RED': self.red, \n",
    "                           'GREEN': self.green,\n",
    "                           'BLUE': self.blue})\n",
    "\n",
    "        return df\n",
    "\n"
   ]
  },
  {
   "attachments": {},
   "cell_type": "markdown",
   "metadata": {},
   "source": [
    "## Analyze image"
   ]
  },
  {
   "cell_type": "code",
   "execution_count": null,
   "metadata": {},
   "outputs": [],
   "source": [
    "# Read image\n",
    "image = plt.imread('amsterdam-canal-house.jpeg')\n",
    "\n",
    "# Crate instance of the ImageAnalyzer class\n",
    "analyzer = ImageAnalyzer(image)\n",
    "\n",
    "# Show the image\n",
    "analyzer.show()\n",
    "\n",
    "# Get image size\n",
    "size = analyzer.get_size()\n",
    "print(f\"Image size: {size[0]} x {size[1]}\")\n",
    "\n",
    "# Get pixel value\n",
    "pixel_value = analyzer.get_pixel_value(100, 50)\n",
    "print(f\"Pixel value at (100, 50): {pixel_value}\")\n",
    "\n",
    "# Plot gray-scale version\n",
    "grayscale = analyzer.get_grayscale()\n",
    "plt.imshow(grayscale, cmap='gray')\n",
    "plt.show()\n",
    "\n",
    "# Plot histogram of RGB colors\n",
    "histogram = analyzer.get_histogram()\n",
    "\n",
    "# Write RGB - color values to a data frame\n",
    "df = analyzer.get_dataframe()\n",
    "df\n"
   ]
  },
  {
   "attachments": {},
   "cell_type": "markdown",
   "metadata": {},
   "source": [
    "### Jupyter notebook --footer info-- (please always provide this at the end of each notebook)"
   ]
  },
  {
   "cell_type": "code",
   "execution_count": null,
   "metadata": {},
   "outputs": [],
   "source": [
    "import os\n",
    "import platform\n",
    "import socket\n",
    "from platform import python_version\n",
    "from datetime import datetime\n",
    "\n",
    "print('-----------------------------------')\n",
    "print(os.name.upper())\n",
    "print(platform.system(), '|', platform.release())\n",
    "print('Datetime:', datetime.now().strftime(\"%Y-%m-%d %H:%M:%S\"))\n",
    "print('Python Version:', python_version())\n",
    "print('-----------------------------------')"
   ]
  }
 ],
 "metadata": {
  "kernelspec": {
   "display_name": "spenv",
   "language": "python",
   "name": "python3"
  },
  "language_info": {
   "codemirror_mode": {
    "name": "ipython",
    "version": 3
   },
   "file_extension": ".py",
   "mimetype": "text/x-python",
   "name": "python",
   "nbconvert_exporter": "python",
   "pygments_lexer": "ipython3",
   "version": "3.10.13"
  },
  "orig_nbformat": 4
 },
 "nbformat": 4,
 "nbformat_minor": 2
}
