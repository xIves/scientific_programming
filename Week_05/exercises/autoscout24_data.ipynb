{
 "cells": [
  {
   "attachments": {},
   "cell_type": "markdown",
   "id": "71fbb210",
   "metadata": {},
   "source": [
    "# Data types and built-in data structures using the example of car data"
   ]
  },
  {
   "attachments": {},
   "cell_type": "markdown",
   "id": "5c399ad5",
   "metadata": {},
   "source": [
    "## Libraries and settings"
   ]
  },
  {
   "cell_type": "code",
   "execution_count": 26,
   "id": "1bf1b3a1",
   "metadata": {},
   "outputs": [
    {
     "name": "stdout",
     "output_type": "stream",
     "text": [
      "/Users/ivesbrunner/Documents/Studium/01_Bachelor/04_Semester/04_ScientificProgramming/scientific_programming/Week_05/exercises\n"
     ]
    }
   ],
   "source": [
    "# Libraries\n",
    "import os\n",
    "import re\n",
    "import pandas as pd\n",
    "import seaborn as sns\n",
    "import matplotlib.pyplot as plt\n",
    "\n",
    "# Set background color of graphics to dark\n",
    "# plt.style.use('dark_background')\n",
    "\n",
    "# Ignore warnings\n",
    "import warnings\n",
    "warnings.filterwarnings('ignore')\n",
    "\n",
    "# Show current working directory\n",
    "print(os.getcwd())"
   ]
  },
  {
   "attachments": {},
   "cell_type": "markdown",
   "id": "534a3531",
   "metadata": {},
   "source": [
    "# Import car data"
   ]
  },
  {
   "cell_type": "code",
   "execution_count": 27,
   "id": "ca0eb1e8",
   "metadata": {},
   "outputs": [
    {
     "name": "stdout",
     "output_type": "stream",
     "text": [
      "(3980, 19)\n"
     ]
    },
    {
     "data": {
      "text/html": [
       "<div>\n",
       "<style scoped>\n",
       "    .dataframe tbody tr th:only-of-type {\n",
       "        vertical-align: middle;\n",
       "    }\n",
       "\n",
       "    .dataframe tbody tr th {\n",
       "        vertical-align: top;\n",
       "    }\n",
       "\n",
       "    .dataframe thead th {\n",
       "        text-align: right;\n",
       "    }\n",
       "</style>\n",
       "<table border=\"1\" class=\"dataframe\">\n",
       "  <thead>\n",
       "    <tr style=\"text-align: right;\">\n",
       "      <th></th>\n",
       "      <th>Offer_Id</th>\n",
       "      <th>Scrape_Dt</th>\n",
       "      <th>Type</th>\n",
       "      <th>Price</th>\n",
       "      <th>HP</th>\n",
       "      <th>Init_Regist</th>\n",
       "      <th>Mileage</th>\n",
       "      <th>Fuel_Type</th>\n",
       "      <th>Transmission</th>\n",
       "      <th>Dealer_Name</th>\n",
       "      <th>Dealer_PLZ</th>\n",
       "    </tr>\n",
       "  </thead>\n",
       "  <tbody>\n",
       "    <tr>\n",
       "      <th>0</th>\n",
       "      <td>7324420</td>\n",
       "      <td>2020_03_17 07:34:45</td>\n",
       "      <td>AUDI A5 Sportback 3.0 TDI quattro S-tronic (Li...</td>\n",
       "      <td>CHF 22'500.–</td>\n",
       "      <td>245 PS</td>\n",
       "      <td>10.2014</td>\n",
       "      <td>75'000 km</td>\n",
       "      <td>Diesel</td>\n",
       "      <td>Automatisiertes Schaltgetriebe</td>\n",
       "      <td>***confidential***</td>\n",
       "      <td>8488</td>\n",
       "    </tr>\n",
       "    <tr>\n",
       "      <th>1</th>\n",
       "      <td>7512768</td>\n",
       "      <td>2020_03_17 07:34:55</td>\n",
       "      <td>MERCEDES-BENZ SLK 200 7G-Tronic (Cabriolet)</td>\n",
       "      <td>CHF 23'749.–</td>\n",
       "      <td>184 PS</td>\n",
       "      <td>6.2013</td>\n",
       "      <td>46'655 km</td>\n",
       "      <td>Benzin</td>\n",
       "      <td>Automat sequentiell</td>\n",
       "      <td>***confidential***</td>\n",
       "      <td>3186</td>\n",
       "    </tr>\n",
       "    <tr>\n",
       "      <th>2</th>\n",
       "      <td>7512034</td>\n",
       "      <td>2020_03_17 07:35:03</td>\n",
       "      <td>MERCEDES-BENZ C 350 Avantgarde 4Matic 7G-Troni...</td>\n",
       "      <td>CHF 18'500.–</td>\n",
       "      <td>306 PS</td>\n",
       "      <td>6.2011</td>\n",
       "      <td>138'955 km</td>\n",
       "      <td>Benzin</td>\n",
       "      <td>Automat sequentiell</td>\n",
       "      <td>***confidential***</td>\n",
       "      <td>1262</td>\n",
       "    </tr>\n",
       "    <tr>\n",
       "      <th>3</th>\n",
       "      <td>7512728</td>\n",
       "      <td>2020_03_17 07:35:06</td>\n",
       "      <td>MERCEDES-BENZ A 45 AMG 4Matic Speedshift 7G-DC...</td>\n",
       "      <td>CHF 36'000.–</td>\n",
       "      <td>360 PS</td>\n",
       "      <td>8.2015</td>\n",
       "      <td>43'000 km</td>\n",
       "      <td>Benzin</td>\n",
       "      <td>Automatisiertes Schaltgetriebe</td>\n",
       "      <td>***confidential***</td>\n",
       "      <td>4314</td>\n",
       "    </tr>\n",
       "    <tr>\n",
       "      <th>4</th>\n",
       "      <td>7490242</td>\n",
       "      <td>2020_03_17 07:35:16</td>\n",
       "      <td>AUDI A5 Sportback 2.0 TFSI Sport quattro S-tro...</td>\n",
       "      <td>CHF 48'500.–</td>\n",
       "      <td>252 PS</td>\n",
       "      <td>9.2018</td>\n",
       "      <td>43'300 km</td>\n",
       "      <td>Benzin</td>\n",
       "      <td>Automatisiertes Schaltgetriebe</td>\n",
       "      <td>***confidential***</td>\n",
       "      <td>3250</td>\n",
       "    </tr>\n",
       "    <tr>\n",
       "      <th>5</th>\n",
       "      <td>7512188</td>\n",
       "      <td>2020_03_17 07:36:44</td>\n",
       "      <td>MERCEDES-BENZ SLK 200 Kompressor (Cabriolet)</td>\n",
       "      <td>CHF 12'000.–</td>\n",
       "      <td>163 PS</td>\n",
       "      <td>12.2004</td>\n",
       "      <td>109'000 km</td>\n",
       "      <td>Benzin</td>\n",
       "      <td>Schaltgetriebe manuell</td>\n",
       "      <td>***confidential***</td>\n",
       "      <td>8832</td>\n",
       "    </tr>\n",
       "    <tr>\n",
       "      <th>6</th>\n",
       "      <td>7512184</td>\n",
       "      <td>2020_03_17 07:38:16</td>\n",
       "      <td>MERCEDES-BENZ C 350 Elégance Sport Edition 4Ma...</td>\n",
       "      <td>CHF 8'000.–</td>\n",
       "      <td>272 PS</td>\n",
       "      <td>5.2006</td>\n",
       "      <td>156'000 km</td>\n",
       "      <td>Benzin</td>\n",
       "      <td>Automat</td>\n",
       "      <td>***confidential***</td>\n",
       "      <td>6460</td>\n",
       "    </tr>\n",
       "    <tr>\n",
       "      <th>7</th>\n",
       "      <td>7512142</td>\n",
       "      <td>2020_03_17 07:39:00</td>\n",
       "      <td>SEAT Ibiza SC 1.4 TSI Cupra DSG (Kleinwagen)</td>\n",
       "      <td>CHF 10'500.–</td>\n",
       "      <td>180 PS</td>\n",
       "      <td>2.201</td>\n",
       "      <td>71'400 km</td>\n",
       "      <td>Benzin</td>\n",
       "      <td>Automatisiertes Schaltgetriebe</td>\n",
       "      <td>***confidential***</td>\n",
       "      <td>3014</td>\n",
       "    </tr>\n",
       "    <tr>\n",
       "      <th>8</th>\n",
       "      <td>7511265</td>\n",
       "      <td>2020_03_17 07:39:06</td>\n",
       "      <td>PORSCHE 911 Turbo Cabrio PDK (Cabriolet)</td>\n",
       "      <td>CHF 143'500.–</td>\n",
       "      <td>521 PS</td>\n",
       "      <td>7.2015</td>\n",
       "      <td>18'000 km</td>\n",
       "      <td>Benzin</td>\n",
       "      <td>Automatisiertes Schaltgetriebe</td>\n",
       "      <td>***confidential***</td>\n",
       "      <td>4133</td>\n",
       "    </tr>\n",
       "    <tr>\n",
       "      <th>9</th>\n",
       "      <td>7511230</td>\n",
       "      <td>2020_03_17 07:42:10</td>\n",
       "      <td>VW Golf 1.4 TSI Comfortline (Limousine)</td>\n",
       "      <td>CHF 19'800.–</td>\n",
       "      <td>125 PS</td>\n",
       "      <td>12.2015</td>\n",
       "      <td>110'000 km</td>\n",
       "      <td>Benzin</td>\n",
       "      <td>Schaltgetriebe manuell</td>\n",
       "      <td>***confidential***</td>\n",
       "      <td>1807</td>\n",
       "    </tr>\n",
       "  </tbody>\n",
       "</table>\n",
       "</div>"
      ],
      "text/plain": [
       "   Offer_Id            Scrape_Dt  \\\n",
       "0   7324420  2020_03_17 07:34:45   \n",
       "1   7512768  2020_03_17 07:34:55   \n",
       "2   7512034  2020_03_17 07:35:03   \n",
       "3   7512728  2020_03_17 07:35:06   \n",
       "4   7490242  2020_03_17 07:35:16   \n",
       "5   7512188  2020_03_17 07:36:44   \n",
       "6   7512184  2020_03_17 07:38:16   \n",
       "7   7512142  2020_03_17 07:39:00   \n",
       "8   7511265  2020_03_17 07:39:06   \n",
       "9   7511230  2020_03_17 07:42:10   \n",
       "\n",
       "                                                Type          Price      HP  \\\n",
       "0  AUDI A5 Sportback 3.0 TDI quattro S-tronic (Li...   CHF 22'500.–  245 PS   \n",
       "1        MERCEDES-BENZ SLK 200 7G-Tronic (Cabriolet)   CHF 23'749.–  184 PS   \n",
       "2  MERCEDES-BENZ C 350 Avantgarde 4Matic 7G-Troni...   CHF 18'500.–  306 PS   \n",
       "3  MERCEDES-BENZ A 45 AMG 4Matic Speedshift 7G-DC...   CHF 36'000.–  360 PS   \n",
       "4  AUDI A5 Sportback 2.0 TFSI Sport quattro S-tro...   CHF 48'500.–  252 PS   \n",
       "5       MERCEDES-BENZ SLK 200 Kompressor (Cabriolet)   CHF 12'000.–  163 PS   \n",
       "6  MERCEDES-BENZ C 350 Elégance Sport Edition 4Ma...    CHF 8'000.–  272 PS   \n",
       "7       SEAT Ibiza SC 1.4 TSI Cupra DSG (Kleinwagen)   CHF 10'500.–  180 PS   \n",
       "8           PORSCHE 911 Turbo Cabrio PDK (Cabriolet)  CHF 143'500.–  521 PS   \n",
       "9            VW Golf 1.4 TSI Comfortline (Limousine)   CHF 19'800.–  125 PS   \n",
       "\n",
       "  Init_Regist     Mileage Fuel_Type                    Transmission  \\\n",
       "0     10.2014   75'000 km    Diesel  Automatisiertes Schaltgetriebe   \n",
       "1      6.2013   46'655 km    Benzin             Automat sequentiell   \n",
       "2      6.2011  138'955 km    Benzin             Automat sequentiell   \n",
       "3      8.2015   43'000 km    Benzin  Automatisiertes Schaltgetriebe   \n",
       "4      9.2018   43'300 km    Benzin  Automatisiertes Schaltgetriebe   \n",
       "5     12.2004  109'000 km    Benzin          Schaltgetriebe manuell   \n",
       "6      5.2006  156'000 km    Benzin                         Automat   \n",
       "7       2.201   71'400 km    Benzin  Automatisiertes Schaltgetriebe   \n",
       "8      7.2015   18'000 km    Benzin  Automatisiertes Schaltgetriebe   \n",
       "9     12.2015  110'000 km    Benzin          Schaltgetriebe manuell   \n",
       "\n",
       "          Dealer_Name  Dealer_PLZ  \n",
       "0  ***confidential***        8488  \n",
       "1  ***confidential***        3186  \n",
       "2  ***confidential***        1262  \n",
       "3  ***confidential***        4314  \n",
       "4  ***confidential***        3250  \n",
       "5  ***confidential***        8832  \n",
       "6  ***confidential***        6460  \n",
       "7  ***confidential***        3014  \n",
       "8  ***confidential***        4133  \n",
       "9  ***confidential***        1807  "
      ]
     },
     "execution_count": 27,
     "metadata": {},
     "output_type": "execute_result"
    }
   ],
   "source": [
    "# Read the data\n",
    "df_orig = pd.read_csv('autoscout24_data.csv', sep=\";\")\n",
    "\n",
    "# Show the number of rows and columns\n",
    "print(df_orig.shape)\n",
    "\n",
    "# Print the first 10 rows and a selected number of columns\n",
    "df_orig.iloc[:10,1:12]"
   ]
  },
  {
   "attachments": {},
   "cell_type": "markdown",
   "id": "d40f63b5",
   "metadata": {},
   "source": [
    "## Show data types"
   ]
  },
  {
   "cell_type": "code",
   "execution_count": 28,
   "id": "e5001463",
   "metadata": {},
   "outputs": [
    {
     "name": "stdout",
     "output_type": "stream",
     "text": [
      "Url_Short                  object\n",
      "Offer_Id                    int64\n",
      "Scrape_Dt                  object\n",
      "Type                       object\n",
      "Price                      object\n",
      "HP                         object\n",
      "Init_Regist                object\n",
      "Mileage                    object\n",
      "Fuel_Type                  object\n",
      "Transmission               object\n",
      "Dealer_Name                object\n",
      "Dealer_PLZ                  int64\n",
      "Dealer_City                object\n",
      "Dealer_Street_House_Nr     object\n",
      "Dealer_Telnr               object\n",
      "Init_Regist_MY             object\n",
      "Init_Regist_Month         float64\n",
      "Init_Regist_Year          float64\n",
      "Init_Regist_Dt             object\n",
      "dtype: object\n"
     ]
    }
   ],
   "source": [
    "# Show data types\n",
    "print(df_orig.dtypes)"
   ]
  },
  {
   "attachments": {},
   "cell_type": "markdown",
   "id": "f552bc66",
   "metadata": {},
   "source": [
    "## Count and remove missing values"
   ]
  },
  {
   "cell_type": "code",
   "execution_count": 29,
   "id": "c9dc1e0c",
   "metadata": {},
   "outputs": [
    {
     "name": "stdout",
     "output_type": "stream",
     "text": [
      "Count missing values\n",
      "Url_Short                 0\n",
      "Offer_Id                  0\n",
      "Scrape_Dt                 0\n",
      "Type                      0\n",
      "Price                     0\n",
      "HP                        0\n",
      "Init_Regist               0\n",
      "Mileage                   0\n",
      "Fuel_Type                 0\n",
      "Transmission              0\n",
      "Dealer_Name               0\n",
      "Dealer_PLZ                0\n",
      "Dealer_City               0\n",
      "Dealer_Street_House_Nr    2\n",
      "Dealer_Telnr              0\n",
      "Init_Regist_MY            0\n",
      "Init_Regist_Month         7\n",
      "Init_Regist_Year          7\n",
      "Init_Regist_Dt            7\n",
      "dtype: int64\n",
      "\n",
      "Check whether missing values were successfully removed\n"
     ]
    },
    {
     "data": {
      "text/plain": [
       "Url_Short                 0\n",
       "Offer_Id                  0\n",
       "Scrape_Dt                 0\n",
       "Type                      0\n",
       "Price                     0\n",
       "HP                        0\n",
       "Init_Regist               0\n",
       "Mileage                   0\n",
       "Fuel_Type                 0\n",
       "Transmission              0\n",
       "Dealer_Name               0\n",
       "Dealer_PLZ                0\n",
       "Dealer_City               0\n",
       "Dealer_Street_House_Nr    0\n",
       "Dealer_Telnr              0\n",
       "Init_Regist_MY            0\n",
       "Init_Regist_Month         0\n",
       "Init_Regist_Year          0\n",
       "Init_Regist_Dt            0\n",
       "dtype: int64"
      ]
     },
     "execution_count": 29,
     "metadata": {},
     "output_type": "execute_result"
    }
   ],
   "source": [
    "# Count missing values\n",
    "print('Count missing values')\n",
    "print(df_orig.isna().sum())\n",
    "\n",
    "# Remove missing values\n",
    "print('\\nCheck whether missing values were successfully removed')\n",
    "df_clean_01 = df_orig.dropna()\n",
    "df_clean_01.isna().sum()"
   ]
  },
  {
   "attachments": {},
   "cell_type": "markdown",
   "id": "eec9312e",
   "metadata": {},
   "source": [
    "## Count and remove duplicated values"
   ]
  },
  {
   "cell_type": "code",
   "execution_count": 30,
   "id": "c6095e62",
   "metadata": {},
   "outputs": [
    {
     "name": "stdout",
     "output_type": "stream",
     "text": [
      "Count duplicated values\n",
      "0\n",
      "\n",
      "Check whether duplicated values were successfully removed\n",
      "0\n"
     ]
    }
   ],
   "source": [
    "# Count duplicated values\n",
    "print('Count duplicated values')\n",
    "print(df_clean_01.duplicated().sum())\n",
    "\n",
    "# Remove duplicated values\n",
    "print('\\nCheck whether duplicated values were successfully removed')\n",
    "df = df_clean_01.drop_duplicates()\n",
    "print(df_clean_01.duplicated().sum())"
   ]
  },
  {
   "attachments": {},
   "cell_type": "markdown",
   "id": "9cfaa828",
   "metadata": {},
   "source": [
    "## Create additional variables using string-manipulation functions"
   ]
  },
  {
   "attachments": {},
   "cell_type": "markdown",
   "id": "4cf542ae",
   "metadata": {},
   "source": [
    "### Extract make from car type"
   ]
  },
  {
   "cell_type": "code",
   "execution_count": 31,
   "id": "da5d294a",
   "metadata": {},
   "outputs": [
    {
     "data": {
      "text/plain": [
       "Make\n",
       "BMW              546\n",
       "AUDI             505\n",
       "MERCEDES-BENZ    491\n",
       "VW               386\n",
       "PORSCHE          214\n",
       "                ... \n",
       "TVR                1\n",
       "DAIMLER            1\n",
       "VAUXHALL           1\n",
       "ROLLS-ROYCE        1\n",
       "ARMSTRONG          1\n",
       "Name: count, Length: 74, dtype: int64"
      ]
     },
     "execution_count": 31,
     "metadata": {},
     "output_type": "execute_result"
    }
   ],
   "source": [
    "# Extract the first word from each string\n",
    "df['Make'] = df['Type'].str.split().str[0]\n",
    "\n",
    "# Explanation:\n",
    "# .split() splits a string, e.g.\n",
    "# txt = 'AUDI A5 Sportback 3.0 TDI quattro S-tronic'\n",
    "# txt.split()\n",
    "# ['AUDI', 'A5', 'Sportback', '3.0', 'TDI', 'quattro', 'S-tronic']\n",
    "# .str[0] returns the 1st item of the list which is 'AUDI'\n",
    "\n",
    "# Show result\n",
    "df[['Type', 'Make']]\n",
    "\n",
    "# Count the number of cars per 'Make'\n",
    "df['Make'].value_counts()"
   ]
  },
  {
   "attachments": {},
   "cell_type": "markdown",
   "id": "811b4b9a",
   "metadata": {},
   "source": [
    "### Crosstab Make versus Fuel Type"
   ]
  },
  {
   "cell_type": "code",
   "execution_count": 32,
   "id": "bd082fb7",
   "metadata": {},
   "outputs": [
    {
     "data": {
      "text/html": [
       "<div>\n",
       "<style scoped>\n",
       "    .dataframe tbody tr th:only-of-type {\n",
       "        vertical-align: middle;\n",
       "    }\n",
       "\n",
       "    .dataframe tbody tr th {\n",
       "        vertical-align: top;\n",
       "    }\n",
       "\n",
       "    .dataframe thead th {\n",
       "        text-align: right;\n",
       "    }\n",
       "</style>\n",
       "<table border=\"1\" class=\"dataframe\">\n",
       "  <thead>\n",
       "    <tr style=\"text-align: right;\">\n",
       "      <th>Fuel_Type</th>\n",
       "      <th>Benzin</th>\n",
       "      <th>Diesel</th>\n",
       "    </tr>\n",
       "    <tr>\n",
       "      <th>Make</th>\n",
       "      <th></th>\n",
       "      <th></th>\n",
       "    </tr>\n",
       "  </thead>\n",
       "  <tbody>\n",
       "    <tr>\n",
       "      <th>AUDI</th>\n",
       "      <td>329</td>\n",
       "      <td>170</td>\n",
       "    </tr>\n",
       "    <tr>\n",
       "      <th>BMW</th>\n",
       "      <td>323</td>\n",
       "      <td>210</td>\n",
       "    </tr>\n",
       "    <tr>\n",
       "      <th>FIAT</th>\n",
       "      <td>84</td>\n",
       "      <td>9</td>\n",
       "    </tr>\n",
       "    <tr>\n",
       "      <th>FORD</th>\n",
       "      <td>78</td>\n",
       "      <td>24</td>\n",
       "    </tr>\n",
       "    <tr>\n",
       "      <th>LAND</th>\n",
       "      <td>25</td>\n",
       "      <td>79</td>\n",
       "    </tr>\n",
       "    <tr>\n",
       "      <th>MERCEDES-BENZ</th>\n",
       "      <td>320</td>\n",
       "      <td>161</td>\n",
       "    </tr>\n",
       "    <tr>\n",
       "      <th>MINI</th>\n",
       "      <td>77</td>\n",
       "      <td>6</td>\n",
       "    </tr>\n",
       "    <tr>\n",
       "      <th>PORSCHE</th>\n",
       "      <td>192</td>\n",
       "      <td>21</td>\n",
       "    </tr>\n",
       "    <tr>\n",
       "      <th>SKODA</th>\n",
       "      <td>58</td>\n",
       "      <td>56</td>\n",
       "    </tr>\n",
       "    <tr>\n",
       "      <th>VW</th>\n",
       "      <td>255</td>\n",
       "      <td>129</td>\n",
       "    </tr>\n",
       "  </tbody>\n",
       "</table>\n",
       "</div>"
      ],
      "text/plain": [
       "Fuel_Type      Benzin  Diesel\n",
       "Make                         \n",
       "AUDI              329     170\n",
       "BMW               323     210\n",
       "FIAT               84       9\n",
       "FORD               78      24\n",
       "LAND               25      79\n",
       "MERCEDES-BENZ     320     161\n",
       "MINI               77       6\n",
       "PORSCHE           192      21\n",
       "SKODA              58      56\n",
       "VW                255     129"
      ]
     },
     "execution_count": 32,
     "metadata": {},
     "output_type": "execute_result"
    }
   ],
   "source": [
    "# Makes with highest number of cars\n",
    "top_ten = list(df['Make'].value_counts().index[:10])\n",
    "\n",
    "# Create subset of the data\n",
    "df_sub = df.loc[(df['Make'].isin(top_ten)) &\n",
    "                (df['Fuel_Type'].isin(['Diesel', 'Benzin']))]\n",
    "\n",
    "# Cross table\n",
    "pd.crosstab(df_sub.Make, df_sub.Fuel_Type)"
   ]
  },
  {
   "attachments": {},
   "cell_type": "markdown",
   "id": "85a6c350",
   "metadata": {},
   "source": [
    "### Extract numerical values from 'Mileage'"
   ]
  },
  {
   "cell_type": "code",
   "execution_count": 33,
   "id": "989aa5dd",
   "metadata": {},
   "outputs": [
    {
     "data": {
      "text/html": [
       "<div>\n",
       "<style scoped>\n",
       "    .dataframe tbody tr th:only-of-type {\n",
       "        vertical-align: middle;\n",
       "    }\n",
       "\n",
       "    .dataframe tbody tr th {\n",
       "        vertical-align: top;\n",
       "    }\n",
       "\n",
       "    .dataframe thead th {\n",
       "        text-align: right;\n",
       "    }\n",
       "</style>\n",
       "<table border=\"1\" class=\"dataframe\">\n",
       "  <thead>\n",
       "    <tr style=\"text-align: right;\">\n",
       "      <th></th>\n",
       "      <th>Mileage</th>\n",
       "      <th>Mileage_num</th>\n",
       "    </tr>\n",
       "  </thead>\n",
       "  <tbody>\n",
       "    <tr>\n",
       "      <th>0</th>\n",
       "      <td>75'000 km</td>\n",
       "      <td>75000</td>\n",
       "    </tr>\n",
       "    <tr>\n",
       "      <th>1</th>\n",
       "      <td>46'655 km</td>\n",
       "      <td>46655</td>\n",
       "    </tr>\n",
       "    <tr>\n",
       "      <th>2</th>\n",
       "      <td>138'955 km</td>\n",
       "      <td>138955</td>\n",
       "    </tr>\n",
       "    <tr>\n",
       "      <th>3</th>\n",
       "      <td>43'000 km</td>\n",
       "      <td>43000</td>\n",
       "    </tr>\n",
       "    <tr>\n",
       "      <th>4</th>\n",
       "      <td>43'300 km</td>\n",
       "      <td>43300</td>\n",
       "    </tr>\n",
       "    <tr>\n",
       "      <th>...</th>\n",
       "      <td>...</td>\n",
       "      <td>...</td>\n",
       "    </tr>\n",
       "    <tr>\n",
       "      <th>3975</th>\n",
       "      <td>78'000 km</td>\n",
       "      <td>78000</td>\n",
       "    </tr>\n",
       "    <tr>\n",
       "      <th>3976</th>\n",
       "      <td>315'000 km</td>\n",
       "      <td>315000</td>\n",
       "    </tr>\n",
       "    <tr>\n",
       "      <th>3977</th>\n",
       "      <td>85'000 km</td>\n",
       "      <td>85000</td>\n",
       "    </tr>\n",
       "    <tr>\n",
       "      <th>3978</th>\n",
       "      <td>188'920 km</td>\n",
       "      <td>188920</td>\n",
       "    </tr>\n",
       "    <tr>\n",
       "      <th>3979</th>\n",
       "      <td>134'000 km</td>\n",
       "      <td>134000</td>\n",
       "    </tr>\n",
       "  </tbody>\n",
       "</table>\n",
       "<p>3971 rows × 2 columns</p>\n",
       "</div>"
      ],
      "text/plain": [
       "         Mileage  Mileage_num\n",
       "0      75'000 km        75000\n",
       "1      46'655 km        46655\n",
       "2     138'955 km       138955\n",
       "3      43'000 km        43000\n",
       "4      43'300 km        43300\n",
       "...          ...          ...\n",
       "3975   78'000 km        78000\n",
       "3976  315'000 km       315000\n",
       "3977   85'000 km        85000\n",
       "3978  188'920 km       188920\n",
       "3979  134'000 km       134000\n",
       "\n",
       "[3971 rows x 2 columns]"
      ]
     },
     "execution_count": 33,
     "metadata": {},
     "output_type": "execute_result"
    }
   ],
   "source": [
    "# Extract values using the lambda function in combination with a regular expression\n",
    "df['Mileage_num'] = df['Mileage'].apply(lambda x: int(re.sub('[^\\d]', '', x)))\n",
    "\n",
    "# Explanation:\n",
    "# The lambda function iterates over df['Mileage'] in which x is a single element \n",
    "# The regular expression '[^\\d]' identifies all non numerical characters in x\n",
    "# The .sub() method replaces the non numerical characters like 'CHF' with ''\n",
    "# The int() converts the resulting string to an integer\n",
    "\n",
    "# Show result\n",
    "df[['Mileage', 'Mileage_num']]"
   ]
  },
  {
   "attachments": {},
   "cell_type": "markdown",
   "id": "b2466669",
   "metadata": {},
   "source": [
    "### Histogram of Mileage"
   ]
  },
  {
   "cell_type": "code",
   "execution_count": 34,
   "id": "65a3bdef",
   "metadata": {},
   "outputs": [
    {
     "data": {
      "image/png": "[encoded data removed]",
      "text/plain": [
       "<Figure size 600x400 with 1 Axes>"
      ]
     },
     "metadata": {},
     "output_type": "display_data"
    }
   ],
   "source": [
    "# Histogram\n",
    "plt.figure(figsize=(6,4))\n",
    "df['Mileage_num'].plot.hist(grid=True, \n",
    "                        bins=20, \n",
    "                        rwidth=0.9,\n",
    "                        color='lightseagreen')\n",
    "plt.title('Mileage')\n",
    "plt.xlabel('Mileage (km)')\n",
    "plt.ylabel('Frequency')\n",
    "plt.grid(linestyle='-', linewidth=0.1)"
   ]
  },
  {
   "attachments": {},
   "cell_type": "markdown",
   "id": "28ce3323",
   "metadata": {},
   "source": [
    "### Extract numerical values from Horse Power"
   ]
  },
  {
   "cell_type": "code",
   "execution_count": 35,
   "id": "1db7d409",
   "metadata": {},
   "outputs": [
    {
     "data": {
      "text/html": [
       "<div>\n",
       "<style scoped>\n",
       "    .dataframe tbody tr th:only-of-type {\n",
       "        vertical-align: middle;\n",
       "    }\n",
       "\n",
       "    .dataframe tbody tr th {\n",
       "        vertical-align: top;\n",
       "    }\n",
       "\n",
       "    .dataframe thead th {\n",
       "        text-align: right;\n",
       "    }\n",
       "</style>\n",
       "<table border=\"1\" class=\"dataframe\">\n",
       "  <thead>\n",
       "    <tr style=\"text-align: right;\">\n",
       "      <th></th>\n",
       "      <th>HP</th>\n",
       "      <th>HP_num</th>\n",
       "    </tr>\n",
       "  </thead>\n",
       "  <tbody>\n",
       "    <tr>\n",
       "      <th>0</th>\n",
       "      <td>245 PS</td>\n",
       "      <td>245</td>\n",
       "    </tr>\n",
       "    <tr>\n",
       "      <th>1</th>\n",
       "      <td>184 PS</td>\n",
       "      <td>184</td>\n",
       "    </tr>\n",
       "    <tr>\n",
       "      <th>2</th>\n",
       "      <td>306 PS</td>\n",
       "      <td>306</td>\n",
       "    </tr>\n",
       "    <tr>\n",
       "      <th>3</th>\n",
       "      <td>360 PS</td>\n",
       "      <td>360</td>\n",
       "    </tr>\n",
       "    <tr>\n",
       "      <th>4</th>\n",
       "      <td>252 PS</td>\n",
       "      <td>252</td>\n",
       "    </tr>\n",
       "    <tr>\n",
       "      <th>...</th>\n",
       "      <td>...</td>\n",
       "      <td>...</td>\n",
       "    </tr>\n",
       "    <tr>\n",
       "      <th>3975</th>\n",
       "      <td>400 PS</td>\n",
       "      <td>400</td>\n",
       "    </tr>\n",
       "    <tr>\n",
       "      <th>3976</th>\n",
       "      <td>232 PS</td>\n",
       "      <td>232</td>\n",
       "    </tr>\n",
       "    <tr>\n",
       "      <th>3977</th>\n",
       "      <td>525 PS</td>\n",
       "      <td>525</td>\n",
       "    </tr>\n",
       "    <tr>\n",
       "      <th>3978</th>\n",
       "      <td>193 PS</td>\n",
       "      <td>193</td>\n",
       "    </tr>\n",
       "    <tr>\n",
       "      <th>3979</th>\n",
       "      <td>193 PS</td>\n",
       "      <td>193</td>\n",
       "    </tr>\n",
       "  </tbody>\n",
       "</table>\n",
       "<p>3971 rows × 2 columns</p>\n",
       "</div>"
      ],
      "text/plain": [
       "          HP  HP_num\n",
       "0     245 PS     245\n",
       "1     184 PS     184\n",
       "2     306 PS     306\n",
       "3     360 PS     360\n",
       "4     252 PS     252\n",
       "...      ...     ...\n",
       "3975  400 PS     400\n",
       "3976  232 PS     232\n",
       "3977  525 PS     525\n",
       "3978  193 PS     193\n",
       "3979  193 PS     193\n",
       "\n",
       "[3971 rows x 2 columns]"
      ]
     },
     "execution_count": 35,
     "metadata": {},
     "output_type": "execute_result"
    }
   ],
   "source": [
    "# Extract values using the lambda function in combination with a regular expression\n",
    "df['HP_num'] = df['HP'].apply(lambda x: int(re.sub('[^\\d]', '', x)))\n",
    "\n",
    "# Show result\n",
    "df[['HP', 'HP_num']]"
   ]
  },
  {
   "attachments": {},
   "cell_type": "markdown",
   "id": "0604a2ed",
   "metadata": {},
   "source": [
    "### Histogram of Horsepower"
   ]
  },
  {
   "cell_type": "code",
   "execution_count": 36,
   "id": "2cd7ab1d",
   "metadata": {},
   "outputs": [
    {
     "data": {
      "image/png": "[encoded data removed]",
      "text/plain": [
       "<Figure size 600x400 with 1 Axes>"
      ]
     },
     "metadata": {},
     "output_type": "display_data"
    }
   ],
   "source": [
    "# Histogram\n",
    "plt.figure(figsize=(6,4))\n",
    "df['HP_num'].plot.hist(grid=True, \n",
    "                        bins=20, \n",
    "                        rwidth=0.9,\n",
    "                        color='lightseagreen')\n",
    "plt.title('Horsepower')\n",
    "plt.xlabel('HP')\n",
    "plt.ylabel('Frequency')\n",
    "plt.grid(linestyle='-', linewidth=0.1)"
   ]
  },
  {
   "attachments": {},
   "cell_type": "markdown",
   "id": "f3108b6a",
   "metadata": {},
   "source": [
    "### Extract numerical values from Price"
   ]
  },
  {
   "cell_type": "code",
   "execution_count": 37,
   "id": "86bc9e1c",
   "metadata": {},
   "outputs": [
    {
     "data": {
      "text/html": [
       "<div>\n",
       "<style scoped>\n",
       "    .dataframe tbody tr th:only-of-type {\n",
       "        vertical-align: middle;\n",
       "    }\n",
       "\n",
       "    .dataframe tbody tr th {\n",
       "        vertical-align: top;\n",
       "    }\n",
       "\n",
       "    .dataframe thead th {\n",
       "        text-align: right;\n",
       "    }\n",
       "</style>\n",
       "<table border=\"1\" class=\"dataframe\">\n",
       "  <thead>\n",
       "    <tr style=\"text-align: right;\">\n",
       "      <th></th>\n",
       "      <th>Price</th>\n",
       "      <th>Price_num</th>\n",
       "    </tr>\n",
       "  </thead>\n",
       "  <tbody>\n",
       "    <tr>\n",
       "      <th>0</th>\n",
       "      <td>CHF 22'500.–</td>\n",
       "      <td>22500</td>\n",
       "    </tr>\n",
       "    <tr>\n",
       "      <th>1</th>\n",
       "      <td>CHF 23'749.–</td>\n",
       "      <td>23749</td>\n",
       "    </tr>\n",
       "    <tr>\n",
       "      <th>2</th>\n",
       "      <td>CHF 18'500.–</td>\n",
       "      <td>18500</td>\n",
       "    </tr>\n",
       "    <tr>\n",
       "      <th>3</th>\n",
       "      <td>CHF 36'000.–</td>\n",
       "      <td>36000</td>\n",
       "    </tr>\n",
       "    <tr>\n",
       "      <th>4</th>\n",
       "      <td>CHF 48'500.–</td>\n",
       "      <td>48500</td>\n",
       "    </tr>\n",
       "    <tr>\n",
       "      <th>...</th>\n",
       "      <td>...</td>\n",
       "      <td>...</td>\n",
       "    </tr>\n",
       "    <tr>\n",
       "      <th>3975</th>\n",
       "      <td>CHF 58'400.–</td>\n",
       "      <td>58400</td>\n",
       "    </tr>\n",
       "    <tr>\n",
       "      <th>3976</th>\n",
       "      <td>CHF 15'900.–</td>\n",
       "      <td>15900</td>\n",
       "    </tr>\n",
       "    <tr>\n",
       "      <th>3977</th>\n",
       "      <td>CHF 42'000.–</td>\n",
       "      <td>42000</td>\n",
       "    </tr>\n",
       "    <tr>\n",
       "      <th>3978</th>\n",
       "      <td>CHF 9'980.–</td>\n",
       "      <td>9980</td>\n",
       "    </tr>\n",
       "    <tr>\n",
       "      <th>3979</th>\n",
       "      <td>CHF 13'500.–</td>\n",
       "      <td>13500</td>\n",
       "    </tr>\n",
       "  </tbody>\n",
       "</table>\n",
       "<p>3971 rows × 2 columns</p>\n",
       "</div>"
      ],
      "text/plain": [
       "             Price  Price_num\n",
       "0     CHF 22'500.–      22500\n",
       "1     CHF 23'749.–      23749\n",
       "2     CHF 18'500.–      18500\n",
       "3     CHF 36'000.–      36000\n",
       "4     CHF 48'500.–      48500\n",
       "...            ...        ...\n",
       "3975  CHF 58'400.–      58400\n",
       "3976  CHF 15'900.–      15900\n",
       "3977  CHF 42'000.–      42000\n",
       "3978   CHF 9'980.–       9980\n",
       "3979  CHF 13'500.–      13500\n",
       "\n",
       "[3971 rows x 2 columns]"
      ]
     },
     "execution_count": 37,
     "metadata": {},
     "output_type": "execute_result"
    }
   ],
   "source": [
    "# Extract values using the lambda function in combination with a regular expression\n",
    "df['Price_num'] = df['Price'].apply(lambda x: int(re.sub('[^\\d]', '', x)))\n",
    "\n",
    "# Show result\n",
    "df[['Price', 'Price_num']]"
   ]
  },
  {
   "attachments": {},
   "cell_type": "markdown",
   "id": "6b111174",
   "metadata": {},
   "source": [
    "### Boxplot of price"
   ]
  },
  {
   "cell_type": "code",
   "execution_count": 38,
   "id": "a246f100",
   "metadata": {},
   "outputs": [
    {
     "data": {
      "text/plain": [
       "<Axes: xlabel='Price_num'>"
      ]
     },
     "execution_count": 38,
     "metadata": {},
     "output_type": "execute_result"
    },
    {
     "data": {
      "image/png": "[encoded data removed]",
      "text/plain": [
       "<Figure size 700x120 with 1 Axes>"
      ]
     },
     "metadata": {},
     "output_type": "display_data"
    }
   ],
   "source": [
    "# Boxplot\n",
    "plt.figure(figsize=(7,1.2))\n",
    "plt.ticklabel_format(style='plain')\n",
    "sns.boxplot(x=df['Price_num'], color=\"lightseagreen\")"
   ]
  },
  {
   "attachments": {},
   "cell_type": "markdown",
   "id": "aae565c5",
   "metadata": {},
   "source": [
    "## Create additional variables through calculations"
   ]
  },
  {
   "attachments": {},
   "cell_type": "markdown",
   "id": "d938144c",
   "metadata": {},
   "source": [
    "### Calculate the Price per Horsepower"
   ]
  },
  {
   "cell_type": "code",
   "execution_count": 39,
   "id": "0f74006a",
   "metadata": {},
   "outputs": [
    {
     "data": {
      "text/html": [
       "<div>\n",
       "<style scoped>\n",
       "    .dataframe tbody tr th:only-of-type {\n",
       "        vertical-align: middle;\n",
       "    }\n",
       "\n",
       "    .dataframe tbody tr th {\n",
       "        vertical-align: top;\n",
       "    }\n",
       "\n",
       "    .dataframe thead th {\n",
       "        text-align: right;\n",
       "    }\n",
       "</style>\n",
       "<table border=\"1\" class=\"dataframe\">\n",
       "  <thead>\n",
       "    <tr style=\"text-align: right;\">\n",
       "      <th></th>\n",
       "      <th>Price_num</th>\n",
       "      <th>HP_num</th>\n",
       "      <th>Price_per_HP</th>\n",
       "    </tr>\n",
       "  </thead>\n",
       "  <tbody>\n",
       "    <tr>\n",
       "      <th>0</th>\n",
       "      <td>22500</td>\n",
       "      <td>245</td>\n",
       "      <td>91.8</td>\n",
       "    </tr>\n",
       "    <tr>\n",
       "      <th>1</th>\n",
       "      <td>23749</td>\n",
       "      <td>184</td>\n",
       "      <td>129.1</td>\n",
       "    </tr>\n",
       "    <tr>\n",
       "      <th>2</th>\n",
       "      <td>18500</td>\n",
       "      <td>306</td>\n",
       "      <td>60.5</td>\n",
       "    </tr>\n",
       "    <tr>\n",
       "      <th>3</th>\n",
       "      <td>36000</td>\n",
       "      <td>360</td>\n",
       "      <td>100.0</td>\n",
       "    </tr>\n",
       "    <tr>\n",
       "      <th>4</th>\n",
       "      <td>48500</td>\n",
       "      <td>252</td>\n",
       "      <td>192.5</td>\n",
       "    </tr>\n",
       "    <tr>\n",
       "      <th>...</th>\n",
       "      <td>...</td>\n",
       "      <td>...</td>\n",
       "      <td>...</td>\n",
       "    </tr>\n",
       "    <tr>\n",
       "      <th>3975</th>\n",
       "      <td>58400</td>\n",
       "      <td>400</td>\n",
       "      <td>146.0</td>\n",
       "    </tr>\n",
       "    <tr>\n",
       "      <th>3976</th>\n",
       "      <td>15900</td>\n",
       "      <td>232</td>\n",
       "      <td>68.5</td>\n",
       "    </tr>\n",
       "    <tr>\n",
       "      <th>3977</th>\n",
       "      <td>42000</td>\n",
       "      <td>525</td>\n",
       "      <td>80.0</td>\n",
       "    </tr>\n",
       "    <tr>\n",
       "      <th>3978</th>\n",
       "      <td>9980</td>\n",
       "      <td>193</td>\n",
       "      <td>51.7</td>\n",
       "    </tr>\n",
       "    <tr>\n",
       "      <th>3979</th>\n",
       "      <td>13500</td>\n",
       "      <td>193</td>\n",
       "      <td>69.9</td>\n",
       "    </tr>\n",
       "  </tbody>\n",
       "</table>\n",
       "<p>3971 rows × 3 columns</p>\n",
       "</div>"
      ],
      "text/plain": [
       "      Price_num  HP_num  Price_per_HP\n",
       "0         22500     245          91.8\n",
       "1         23749     184         129.1\n",
       "2         18500     306          60.5\n",
       "3         36000     360         100.0\n",
       "4         48500     252         192.5\n",
       "...         ...     ...           ...\n",
       "3975      58400     400         146.0\n",
       "3976      15900     232          68.5\n",
       "3977      42000     525          80.0\n",
       "3978       9980     193          51.7\n",
       "3979      13500     193          69.9\n",
       "\n",
       "[3971 rows x 3 columns]"
      ]
     },
     "execution_count": 39,
     "metadata": {},
     "output_type": "execute_result"
    }
   ],
   "source": [
    "# Calculate prices\n",
    "df['Price_per_HP'] = round(df['Price_num'] / df['HP_num'], 1)\n",
    "\n",
    "# Show result\n",
    "df[['Price_num', 'HP_num', 'Price_per_HP']]"
   ]
  },
  {
   "attachments": {},
   "cell_type": "markdown",
   "id": "213e5a2b",
   "metadata": {},
   "source": [
    "### Boxplot of Price per Horsepower"
   ]
  },
  {
   "cell_type": "code",
   "execution_count": 40,
   "id": "211ffa4d",
   "metadata": {},
   "outputs": [
    {
     "data": {
      "text/plain": [
       "<Axes: xlabel='Price_per_HP'>"
      ]
     },
     "execution_count": 40,
     "metadata": {},
     "output_type": "execute_result"
    },
    {
     "data": {
      "image/png": "[encoded data removed]",
      "text/plain": [
       "<Figure size 700x120 with 1 Axes>"
      ]
     },
     "metadata": {},
     "output_type": "display_data"
    }
   ],
   "source": [
    "# Boxplot of price per horsepower\n",
    "plt.figure(figsize=(7,1.2))\n",
    "plt.ticklabel_format(style='plain')\n",
    "sns.boxplot(x=df['Price_per_HP'], color=\"lightseagreen\")"
   ]
  },
  {
   "attachments": {},
   "cell_type": "markdown",
   "id": "033847fe",
   "metadata": {},
   "source": [
    "## Show data types of original and new variables"
   ]
  },
  {
   "cell_type": "code",
   "execution_count": 41,
   "id": "f84f9abd",
   "metadata": {},
   "outputs": [
    {
     "name": "stdout",
     "output_type": "stream",
     "text": [
      "Url_Short                  object\n",
      "Offer_Id                    int64\n",
      "Scrape_Dt                  object\n",
      "Type                       object\n",
      "Price                      object\n",
      "HP                         object\n",
      "Init_Regist                object\n",
      "Mileage                    object\n",
      "Fuel_Type                  object\n",
      "Transmission               object\n",
      "Dealer_Name                object\n",
      "Dealer_PLZ                  int64\n",
      "Dealer_City                object\n",
      "Dealer_Street_House_Nr     object\n",
      "Dealer_Telnr               object\n",
      "Init_Regist_MY             object\n",
      "Init_Regist_Month         float64\n",
      "Init_Regist_Year          float64\n",
      "Init_Regist_Dt             object\n",
      "Make                       object\n",
      "Mileage_num                 int64\n",
      "HP_num                      int64\n",
      "Price_num                   int64\n",
      "Price_per_HP              float64\n",
      "dtype: object\n"
     ]
    }
   ],
   "source": [
    "# Show data types (note that an 'object' is a string in pandas)\n",
    "print(df.dtypes)"
   ]
  },
  {
   "attachments": {},
   "cell_type": "markdown",
   "id": "71116f59",
   "metadata": {},
   "source": [
    "## Show summary statistics of numerical variables"
   ]
  },
  {
   "cell_type": "code",
   "execution_count": 42,
   "id": "8945408c",
   "metadata": {},
   "outputs": [
    {
     "data": {
      "text/html": [
       "<div>\n",
       "<style scoped>\n",
       "    .dataframe tbody tr th:only-of-type {\n",
       "        vertical-align: middle;\n",
       "    }\n",
       "\n",
       "    .dataframe tbody tr th {\n",
       "        vertical-align: top;\n",
       "    }\n",
       "\n",
       "    .dataframe thead th {\n",
       "        text-align: right;\n",
       "    }\n",
       "</style>\n",
       "<table border=\"1\" class=\"dataframe\">\n",
       "  <thead>\n",
       "    <tr style=\"text-align: right;\">\n",
       "      <th></th>\n",
       "      <th>Offer_Id</th>\n",
       "      <th>Dealer_PLZ</th>\n",
       "      <th>Init_Regist_Month</th>\n",
       "      <th>Init_Regist_Year</th>\n",
       "      <th>Mileage_num</th>\n",
       "      <th>HP_num</th>\n",
       "      <th>Price_num</th>\n",
       "      <th>Price_per_HP</th>\n",
       "    </tr>\n",
       "  </thead>\n",
       "  <tbody>\n",
       "    <tr>\n",
       "      <th>count</th>\n",
       "      <td>3.971000e+03</td>\n",
       "      <td>3971.000000</td>\n",
       "      <td>3971.000000</td>\n",
       "      <td>3971.000000</td>\n",
       "      <td>3971.000000</td>\n",
       "      <td>3971.000000</td>\n",
       "      <td>3971.000000</td>\n",
       "      <td>3971.000000</td>\n",
       "    </tr>\n",
       "    <tr>\n",
       "      <th>mean</th>\n",
       "      <td>7.242907e+06</td>\n",
       "      <td>5522.633594</td>\n",
       "      <td>6.309494</td>\n",
       "      <td>2010.189121</td>\n",
       "      <td>92952.412491</td>\n",
       "      <td>235.831025</td>\n",
       "      <td>27527.641652</td>\n",
       "      <td>117.362705</td>\n",
       "    </tr>\n",
       "    <tr>\n",
       "      <th>std</th>\n",
       "      <td>4.655890e+05</td>\n",
       "      <td>2848.337824</td>\n",
       "      <td>3.386320</td>\n",
       "      <td>9.610067</td>\n",
       "      <td>61097.990134</td>\n",
       "      <td>119.671388</td>\n",
       "      <td>26670.221155</td>\n",
       "      <td>104.818468</td>\n",
       "    </tr>\n",
       "    <tr>\n",
       "      <th>min</th>\n",
       "      <td>1.395491e+06</td>\n",
       "      <td>1000.000000</td>\n",
       "      <td>1.000000</td>\n",
       "      <td>1929.000000</td>\n",
       "      <td>1.000000</td>\n",
       "      <td>16.000000</td>\n",
       "      <td>160.000000</td>\n",
       "      <td>1.800000</td>\n",
       "    </tr>\n",
       "    <tr>\n",
       "      <th>25%</th>\n",
       "      <td>7.249691e+06</td>\n",
       "      <td>3014.000000</td>\n",
       "      <td>3.000000</td>\n",
       "      <td>2008.000000</td>\n",
       "      <td>45000.000000</td>\n",
       "      <td>150.000000</td>\n",
       "      <td>10900.000000</td>\n",
       "      <td>60.500000</td>\n",
       "    </tr>\n",
       "    <tr>\n",
       "      <th>50%</th>\n",
       "      <td>7.408668e+06</td>\n",
       "      <td>6003.000000</td>\n",
       "      <td>6.000000</td>\n",
       "      <td>2013.000000</td>\n",
       "      <td>83500.000000</td>\n",
       "      <td>204.000000</td>\n",
       "      <td>19900.000000</td>\n",
       "      <td>97.900000</td>\n",
       "    </tr>\n",
       "    <tr>\n",
       "      <th>75%</th>\n",
       "      <td>7.456806e+06</td>\n",
       "      <td>8304.500000</td>\n",
       "      <td>9.000000</td>\n",
       "      <td>2016.000000</td>\n",
       "      <td>130000.000000</td>\n",
       "      <td>306.000000</td>\n",
       "      <td>35900.000000</td>\n",
       "      <td>144.750000</td>\n",
       "    </tr>\n",
       "    <tr>\n",
       "      <th>max</th>\n",
       "      <td>7.512843e+06</td>\n",
       "      <td>9657.000000</td>\n",
       "      <td>12.000000</td>\n",
       "      <td>2020.000000</td>\n",
       "      <td>370000.000000</td>\n",
       "      <td>772.000000</td>\n",
       "      <td>428000.000000</td>\n",
       "      <td>2125.000000</td>\n",
       "    </tr>\n",
       "  </tbody>\n",
       "</table>\n",
       "</div>"
      ],
      "text/plain": [
       "           Offer_Id   Dealer_PLZ  Init_Regist_Month  Init_Regist_Year  \\\n",
       "count  3.971000e+03  3971.000000        3971.000000       3971.000000   \n",
       "mean   7.242907e+06  5522.633594           6.309494       2010.189121   \n",
       "std    4.655890e+05  2848.337824           3.386320          9.610067   \n",
       "min    1.395491e+06  1000.000000           1.000000       1929.000000   \n",
       "25%    7.249691e+06  3014.000000           3.000000       2008.000000   \n",
       "50%    7.408668e+06  6003.000000           6.000000       2013.000000   \n",
       "75%    7.456806e+06  8304.500000           9.000000       2016.000000   \n",
       "max    7.512843e+06  9657.000000          12.000000       2020.000000   \n",
       "\n",
       "         Mileage_num       HP_num      Price_num  Price_per_HP  \n",
       "count    3971.000000  3971.000000    3971.000000   3971.000000  \n",
       "mean    92952.412491   235.831025   27527.641652    117.362705  \n",
       "std     61097.990134   119.671388   26670.221155    104.818468  \n",
       "min         1.000000    16.000000     160.000000      1.800000  \n",
       "25%     45000.000000   150.000000   10900.000000     60.500000  \n",
       "50%     83500.000000   204.000000   19900.000000     97.900000  \n",
       "75%    130000.000000   306.000000   35900.000000    144.750000  \n",
       "max    370000.000000   772.000000  428000.000000   2125.000000  "
      ]
     },
     "execution_count": 42,
     "metadata": {},
     "output_type": "execute_result"
    }
   ],
   "source": [
    "# Summary statistics of numeric variables\n",
    "df.describe()\n",
    "\n",
    "# Explanation:\n",
    "# count = number of observations\n",
    "# mean = mean\n",
    "# min = minimum\n",
    "# std = standard deviation\n",
    "# 25% = 1st quartile\n",
    "# 50% = median\n",
    "# 75% = 3rd quartile\n",
    "# max = maximum\n"
   ]
  },
  {
   "attachments": {},
   "cell_type": "markdown",
   "id": "29d40339",
   "metadata": {},
   "source": [
    "## Use a list to store values from a calulation"
   ]
  },
  {
   "cell_type": "code",
   "execution_count": 43,
   "id": "7fa292e4",
   "metadata": {},
   "outputs": [
    {
     "name": "stdout",
     "output_type": "stream",
     "text": [
      "[1732.5, 1828.673, 1424.5, 2772.0, 3734.5, 924.0, 616.0, 808.5, 11049.5, 1524.6]\n"
     ]
    }
   ],
   "source": [
    "# Define a function to calculate the value added tax for a given price\n",
    "def value_added_tax(price, tax_rate=0.077):\n",
    "    return price * tax_rate\n",
    "\n",
    "# Calculate the value added tax using list comprehension\n",
    "tax_results = [value_added_tax(price) for price in df['Price_num']]\n",
    "\n",
    "# Show first 10 values of the list\n",
    "print(tax_results[:10])\n",
    "\n",
    "# Note that, if you have a data frame, you can also use .apply(), e.g.:\n",
    "# df['Tax_results'] = df['Price_num'].apply(value_added_tax)\n",
    "# print(df['Tax_results'])\n"
   ]
  },
  {
   "attachments": {},
   "cell_type": "markdown",
   "id": "43898483",
   "metadata": {},
   "source": [
    "## Create a dictionary with all prices per make"
   ]
  },
  {
   "cell_type": "code",
   "execution_count": 44,
   "id": "ae3e337a",
   "metadata": {},
   "outputs": [
    {
     "name": "stdout",
     "output_type": "stream",
     "text": [
      "Dictionary with keys and values:\n",
      "{'ALPINE': [29500, 19200], 'MINI': [26800, 31800, 12200, 24000, 11200, 13500, 24000, 8500, 21500, 11900, 24500, 32000, 32500, 22500, 10350, 7100, 27900, 6900, 17000, 20900, 20200, 24100, 19000, 23900, 11500, 26500, 11900, 31500, 19900, 7200, 18500, 12400, 8500, 7890, 5400, 20000, 17400, 4000, 19300, 37000, 14000, 10500, 9990, 6800, 6750, 7200, 18500, 12000, 5900, 6900, 23900, 10000, 5500, 7000, 4500, 15000, 26900, 6490, 5250, 26200, 25300, 24000, 9500, 3300, 13490, 14900, 19900, 20000, 33000, 9900, 9900, 13900, 24500, 28500, 5200, 21000, 13900, 12900, 3900, 9000, 5400, 33800, 22950], 'HYUNDAI': [23250, 25000, 1800, 12400, 6900, 31900, 5950, 4650, 8900, 5300, 21500, 9900, 22950, 27900, 2500, 15700, 1999, 2000, 5500, 17400, 6900, 29700, 23000, 9900, 7000, 9500, 16900, 11400, 9890, 8300, 4200, 23900, 28000, 4500, 24500, 24000, 23000, 18000, 8900, 17000, 8400, 6400, 5200, 7900, 4000, 20500, 17000], 'OPEL': [18500, 19300, 12490, 5000, 12800, 5400, 12999, 1500, 4200, 25900, 37000, 3500, 2500, 2350, 12300, 2999, 6900, 14900, 5500, 15850, 3390, 3850, 12800, 11999, 15900, 6300, 4490, 2490, 28750, 6300, 5750, 12900, 17900, 8900, 4600, 10500, 10800, 1190, 6000, 3600, 11900, 5500, 5500, 12900, 32000, 16400, 23500, 14000, 8900, 1900, 2200, 12500, 26500, 16300, 4600, 11400, 5000, 6300, 2950, 32999, 27900, 5200, 17500, 10000, 14900, 7900, 3300, 5200, 16800, 18000, 16500, 7500, 9850, 9000, 19300, 12000, 22000, 6500, 3500, 4200, 600], 'SSANGYONG': [6300, 5900, 13000], 'ASTON': [55900, 118000, 49500, 72950, 92500, 69000, 122000, 52500, 73000, 64500, 189900, 44000, 55000, 147510, 191000, 79000, 115000, 209000, 83500, 64000, 52900, 74900, 43800, 49999, 104800], 'VAUXHALL': [14500], 'DAIMLER': [59500], 'DACIA': [8500, 7000, 12900, 16300, 15900, 12800, 7900, 10000, 18500, 14999, 8900, 5000, 11200, 15000, 5600, 12100, 17900, 8700, 7199], 'SUBARU': [14900, 16900, 4500, 29000, 25800, 12900, 8200, 31500, 32900, 35000, 1390, 5780, 2000, 2400, 19900, 17500, 18300, 3000, 12800, 5990, 8499, 28000, 11200, 3000, 4900, 9500, 19800, 13000, 8500, 30750, 7000, 8500, 9900, 6800, 7500, 5500, 16500, 8600, 7000, 21900, 15000, 7900, 19000, 16500, 6400], 'WILLYS': [12000], 'SKODA': [8500, 17900, 28500, 6000, 16750, 13400, 22900, 13900, 4900, 16900, 9400, 31500, 33400, 32900, 10250, 26990, 10500, 7700, 19500, 9500, 18000, 12900, 14500, 6200, 9900, 15000, 13500, 41000, 7200, 23000, 19750, 29990, 23900, 17900, 9900, 4500, 24500, 6000, 9800, 10500, 28500, 11900, 37900, 26900, 10900, 9500, 14500, 9300, 20555, 12500, 17000, 11500, 6500, 10900, 9900, 12000, 19000, 14000, 18900, 8000, 29990, 14000, 14800, 25950, 14900, 2500, 19950, 23900, 21500, 16995, 7480, 8900, 11350, 16800, 17000, 9100, 45000, 8700, 12000, 20500, 27800, 6590, 17900, 20500, 10900, 21900, 23850, 20800, 21900, 22900, 26900, 33000, 14000, 34900, 32700, 51900, 19000, 20000, 7200, 12500, 5900, 6800, 24900, 6000, 5700, 15900, 11400, 39990, 31900, 34900, 32900, 24500, 8900, 4800], 'CHRYSLER': [13000, 19800, 17000, 1100, 2990, 5900, 3500, 10000, 6900, 9500, 9999, 2880], 'LAMBORGHINI': [384900, 199900, 139000, 82500, 74500, 74900, 85000], 'BMW': [44999, 77800, 19900, 28750, 5549, 33800, 11000, 9500, 25900, 31000, 17800, 58700, 28900, 14900, 86900, 78000, 16800, 11350, 29500, 45900, 46500, 21500, 27900, 14900, 46000, 25000, 10000, 27000, 28885, 29900, 16900, 27700, 9500, 27900, 7500, 56000, 9100, 23500, 43900, 15400, 13900, 36900, 35800, 55900, 45000, 16500, 27500, 39500, 28500, 46800, 21000, 51500, 28500, 39000, 34900, 4900, 16500, 38500, 46990, 34900, 41500, 10000, 22700, 45500, 59900, 29950, 19900, 19900, 31500, 8500, 19900, 71000, 11000, 56500, 18500, 20900, 10500, 6800, 39500, 27800, 17500, 14990, 23000, 38500, 79999, 35900, 7300, 13800, 31900, 29500, 46900, 15990, 18900, 43000, 17600, 16000, 26500, 29000, 20900, 51900, 25150, 14800, 51900, 37900, 25950, 26500, 60800, 17900, 27500, 25000, 38500, 36500, 61950, 57900, 24200, 16900, 31000, 8500, 10900, 8500, 11900, 16500, 12500, 13900, 28900, 27900, 39900, 45000, 43300, 7400, 14240, 9200, 8200, 7500, 22500, 13500, 29000, 22900, 2500, 12999, 21900, 26500, 8000, 31500, 25000, 21500, 19900, 22000, 64900, 8499, 49900, 9000, 27300, 10800, 11800, 19900, 17500, 19000, 29900, 25500, 60600, 65000, 49999, 14000, 53000, 47000, 37000, 39999, 58900, 62900, 27900, 18500, 2900, 45900, 38790, 43700, 95000, 54900, 19900, 25900, 15000, 18500, 12000, 18250, 34400, 27200, 35000, 16700, 22000, 11900, 43500, 34000, 9900, 19900, 35000, 9300, 12800, 4000, 5600, 11800, 33000, 11200, 13990, 16500, 33500, 15900, 1300, 14000, 4750, 15900, 21100, 16499, 14500, 13900, 17800, 15990, 15500, 12800, 58000, 139000, 34900, 10950, 16400, 10500, 14500, 36800, 14200, 75900, 42000, 49000, 39950, 46500, 32000, 7600, 6999, 9500, 23900, 24900, 33900, 42800, 50000, 7600, 12300, 28900, 25500, 33900, 22450, 38800, 25900, 28700, 44500, 51000, 43499, 50900, 38900, 26900, 23900, 14900, 22900, 24950, 22800, 34500, 12900, 26900, 14500, 28000, 45500, 17900, 24900, 17250, 15500, 3900, 42900, 32800, 37000, 10500, 18300, 59500, 21000, 6000, 12890, 29999, 23900, 9700, 17500, 59990, 70000, 71500, 27900, 19490, 16750, 21900, 9990, 1700, 12500, 18900, 11750, 14900, 11900, 18500, 28900, 34900, 34000, 21500, 36900, 15000, 32900, 42900, 23900, 27500, 87500, 14999, 16900, 42500, 34500, 36900, 18750, 29900, 6900, 7300, 9700, 37997, 9500, 9200, 19900, 65900, 52900, 37500, 17500, 30500, 16800, 4200, 28000, 48000, 70000, 16900, 14500, 23900, 22500, 33500, 28990, 7500, 23000, 110000, 129999, 69500, 5900, 11900, 22000, 12300, 16500, 24900, 17000, 19400, 8500, 15900, 47000, 38500, 36900, 13900, 9200, 20900, 8900, 14500, 20999, 5900, 6999, 35000, 35500, 46800, 23900, 25999, 18700, 21900, 23000, 16900, 19300, 11900, 16990, 12500, 24990, 24900, 19950, 23000, 13500, 5900, 6400, 6000, 21000, 78000, 24500, 46900, 17500, 42300, 42000, 48000, 39400, 26900, 35900, 42800, 24000, 58900, 21900, 23500, 29500, 4600, 32500, 10990, 10600, 11500, 15980, 12400, 46900, 26900, 24500, 15000, 12500, 13500, 59900, 12500, 21900, 58400, 52900, 69500, 69000, 65000, 72900, 46500, 49999, 69800, 17500, 38900, 45000, 30000, 21500, 26500, 4750, 52900, 22500, 9000, 19900, 13800, 24500, 24900, 23500, 11500, 24500, 19900, 21500, 15900, 26000, 35000, 18500, 49000, 41899, 15900, 32900, 19900, 15900, 35000, 53000, 40200, 52900, 9000, 6100, 8500, 18000, 61800, 29000, 32500, 35900, 22900, 17700, 19500, 13900, 23500, 27000, 43000, 33500, 50900, 49990, 28500, 39850, 25900, 30000, 26000, 19000, 23500, 24600, 12500, 20000, 44800, 43000, 12000, 17000, 20900, 29000, 27200, 67900, 74500, 4900, 36630, 6000, 39500, 54900, 49990, 5250, 7600, 21500, 18360, 12000, 10000, 9950, 16700, 12499, 16800, 15800, 86000, 79000, 43900, 45000, 16490, 15900, 9999, 6500, 20499, 15550, 59900, 40500, 48000, 59900, 56500, 40000, 41499, 24200, 11900, 22222, 29500, 32000, 16200, 19500, 58000, 34200, 4800, 9980, 13500], 'BMW-ALPINA': [15999, 63500, 15500, 29900], 'ALFA': [11990, 6000, 21000, 22500, 75000, 4900, 7900, 79900, 79500, 8500, 34900, 10300, 9490, 10500, 21000, 11100, 8500, 10000, 7500, 17500, 11900, 3100, 55000, 26000, 14900, 11300, 12500, 14900, 9990, 18500, 5400, 7000, 7200, 2200, 16500, 36500, 27000, 15900, 14400, 24900, 31200, 17900, 20500, 126000, 2300, 19900, 20500, 26000, 63000, 71900, 20500, 10800, 17900, 17500, 7990], 'MITSUBISHI': [37500, 18000, 28000, 34500, 32000, 13850, 6500, 13500, 5900, 20000, 11450, 4500, 6700, 12800, 13900, 1200, 16400, 11900, 40000, 28500, 6950, 6900, 8750, 26000, 21900, 40000, 24900, 24900, 1500], 'PORSCHE': [143500, 71900, 122000, 108000, 59500, 138000, 89800, 60000, 21700, 46950, 169500, 48500, 39900, 37500, 19800, 48500, 79000, 40800, 95600, 20000, 35000, 105991, 124500, 9100, 25900, 45000, 75911, 34500, 34990, 95000, 95900, 141490, 8800, 84999, 37900, 36900, 45000, 98000, 51500, 42920, 60000, 70000, 62000, 37500, 43500, 56200, 49900, 28000, 29900, 69900, 25000, 79000, 105000, 58500, 64500, 23500, 19500, 38911, 24996, 98500, 59500, 89900, 83000, 81800, 74900, 19900, 36000, 77900, 28000, 50997, 6990, 55750, 60000, 59500, 34900, 46911, 69900, 42900, 109110, 45000, 130000, 49500, 48000, 44900, 18500, 93800, 59900, 61446, 22000, 45900, 49900, 35000, 29000, 53900, 44200, 65000, 428000, 24900, 61911, 63900, 109900, 34900, 62500, 29999, 31900, 24000, 79900, 57000, 72500, 62000, 75500, 63000, 59000, 62499, 29900, 12990, 21790, 37500, 46990, 63500, 99500, 23900, 38911, 28500, 29500, 26500, 34900, 38000, 20500, 25950, 8700, 11500, 64911, 67500, 64718, 56000, 49800, 60000, 75900, 19000, 24900, 42500, 59900, 27000, 51000, 95000, 64500, 41500, 75000, 75000, 41000, 28900, 54000, 52900, 379000, 77750, 72500, 115000, 34990, 11200, 91500, 119800, 47350, 85900, 40800, 56900, 55900, 142000, 73500, 46000, 37490, 33950, 51000, 149500, 59400, 53000, 34000, 39950, 99900, 98500, 69911, 20300, 30000, 18950, 49000, 85000, 72000, 45000, 76800, 6900, 66000, 57438, 49900, 79800, 62000, 135500, 127400, 63000, 112900, 59900, 14700, 29700, 39900, 79900, 35000, 8500, 115000, 46600, 95000, 77900, 163000, 79000, 40000, 69911], 'TRIUMPH': [25000, 31900, 39500, 39900], 'FISKER': [38000], 'MAZDA': [13000, 20900, 15300, 37000, 8500, 18000, 6900, 12950, 21800, 12900, 6500, 4300, 9399, 22000, 5300, 7000, 4000, 2900, 14800, 21000, 17000, 14300, 7900, 10900, 5900, 4900, 5800, 18999, 17000, 12500, 15750, 2950, 14900, 17000, 11600, 11500, 13500, 12500, 28000, 16500, 990, 17500, 17900, 18000, 14500, 6500, 2500, 4000, 5700, 4500, 2300, 14000, 17900, 13000, 6400, 17900, 3599, 5700, 9000], 'MORGAN': [82900, 53900, 60000, 72500], 'SMART': [6500, 9400, 17000, 5350, 19500, 7200, 10150, 899, 1700, 3000, 7500, 4800, 7000, 12000, 14000, 3200, 5300, 4750, 2500, 5950, 3430, 9700, 4900, 5990, 16500, 9500], 'LOTUS': [30900, 42000, 25000, 33900, 43950, 74000], 'TAZZARI': [19000], 'LINCOLN': [19900], 'AUDI': [22500, 48500, 59800, 48500, 19900, 16999, 41900, 37500, 47900, 16400, 36500, 24800, 15500, 24900, 11500, 10900, 14900, 85000, 77500, 22500, 16000, 14500, 85000, 13950, 19800, 17500, 19000, 18700, 14000, 43300, 16950, 35000, 19000, 21500, 7200, 24900, 18500, 29450, 31000, 24900, 24900, 12400, 37900, 20500, 41500, 61000, 17900, 24000, 19500, 37100, 60000, 24900, 19500, 36500, 42900, 14999, 9900, 39999, 24900, 36900, 11800, 12500, 22100, 29800, 19000, 20500, 35900, 7000, 24800, 22990, 14800, 5000, 29000, 5900, 13500, 36700, 37500, 34990, 11350, 37900, 29900, 7499, 6500, 57000, 71600, 57450, 30000, 28000, 32980, 34500, 10900, 16800, 9800, 14900, 24799, 19900, 37500, 24900, 4900, 6000, 65500, 72500, 8700, 9999, 16900, 15800, 10000, 8500, 8400, 32000, 18900, 45500, 25900, 11000, 19500, 35500, 37900, 43900, 34900, 15000, 63000, 10900, 39900, 5500, 22000, 14900, 46000, 50900, 89000, 89900, 68500, 33900, 99000, 46000, 41500, 71000, 44800, 25200, 41900, 39900, 25000, 39000, 27300, 19800, 24000, 21000, 16500, 18900, 25500, 19950, 30500, 12900, 10900, 15000, 19500, 7900, 89300, 77500, 75000, 5500, 25430, 47000, 12500, 19900, 56900, 15900, 16999, 14900, 17900, 42000, 38900, 32900, 16000, 16500, 14500, 35900, 27000, 27300, 47750, 15650, 35900, 29500, 28000, 38500, 35000, 32900, 27900, 20900, 22000, 25000, 23500, 13490, 13900, 19500, 19800, 37000, 99900, 19500, 23500, 18125, 20499, 18900, 6400, 49500, 49500, 47900, 56900, 32000, 71900, 68200, 19500, 1500, 5000, 23500, 8750, 20900, 32000, 30000, 18400, 15900, 35800, 12800, 27900, 17500, 2900, 4700, 74900, 9900, 2700, 12500, 7440, 34950, 15200, 35500, 32800, 79900, 64999, 56000, 64999, 57900, 9900, 20000, 10000, 52450, 19900, 41800, 19200, 19500, 28490, 24500, 35999, 4000, 5900, 35800, 59900, 6500, 14000, 49000, 22900, 14300, 10500, 13500, 28900, 83900, 19500, 37999, 26000, 54000, 7400, 23900, 25900, 16250, 69690, 15900, 13500, 52900, 55600, 62500, 6000, 6500, 15000, 18500, 13900, 19900, 31500, 9000, 18000, 14800, 7100, 37500, 29999, 37900, 33800, 35900, 12490, 11990, 13500, 8100, 69500, 7500, 18810, 16800, 35900, 40000, 43000, 121594, 7000, 32200, 42490, 64900, 14200, 24300, 14900, 5900, 29900, 23500, 19000, 39900, 26000, 22000, 29800, 28900, 26500, 28000, 40900, 36000, 10400, 59900, 6200, 14500, 11200, 38500, 30900, 19900, 57500, 15900, 4290, 15500, 8100, 5200, 36500, 18500, 18990, 72000, 26000, 72000, 9499, 4800, 79900, 58900, 52500, 14500, 20500, 26900, 28300, 21300, 14500, 59900, 62900, 73500, 34900, 18700, 19000, 16100, 14500, 7900, 21500, 14900, 8500, 24000, 14700, 5200, 7500, 10900, 18000, 28700, 19456, 80900, 15500, 25900, 21000, 26990, 48900, 28900, 28800, 29900, 39800, 33500, 9500, 13599, 5400, 24900, 8500, 76000, 16500, 18500, 10500, 9955, 7900, 26000, 32900, 32900, 23700, 26500, 10900, 12000, 12990, 20000, 13900, 56990, 54900, 17333, 10500, 5500, 7900, 22200, 10900, 22500, 13900, 39950, 3500, 20900, 95000, 7050, 10800, 24000, 44900, 32990, 42500, 25500, 16800, 24200, 17300, 14500, 59900, 4999, 27950, 2390, 11000, 23900, 43200, 32500, 4750, 4300, 53900, 43900, 25000, 34900, 45000, 19900, 36800, 61900, 40900, 52280, 13000, 74900, 16900, 48500, 43000, 46000, 9000, 8500, 27950, 1100, 19499, 24500, 16300, 19900, 9300, 68500, 19500, 51500, 21900, 13500, 22490, 37500, 21900, 24900, 20000, 7000, 6900, 31500, 7500, 7250, 7000, 27600, 38500, 28600, 42000, 7700, 7920, 23900, 28500, 18490, 8490, 9000, 63850, 21490, 13950, 22222, 18000, 12000, 17500, 4990, 25500], 'DS': [8800, 6999, 7399, 9250, 25000, 15990, 5600, 8100, 11800, 11400, 15000, 7700, 7499, 14500, 7800], 'SAAB': [18000, 25500, 10800, 7990, 9400, 17500, 12800, 21500, 22000, 4300, 3899, 3999, 20500, 19500, 10300, 23900, 32500, 2600, 14900], 'PEUGEOT': [8900, 8500, 12990, 9000, 10000, 13800, 8000, 6490, 34900, 19500, 11500, 13500, 9800, 2800, 5400, 3400, 2700, 8500, 3250, 3950, 15900, 6500, 5900, 2400, 2300, 5000, 43620, 5000, 19900, 12000, 1200, 6500, 3650, 9150, 24999, 2600, 3500, 2900, 3250, 25000, 14500, 9700, 14900, 9900, 7800, 11000, 5700, 3300, 3800, 2700, 1500, 6990, 6100, 12300, 1875, 12800, 10000, 19987, 4500, 3300, 5900], 'LEXUS': [35400, 52900, 21900, 27500, 57500, 14300, 9500, 31900, 29500, 31500, 39900, 10000, 9800], 'CATERHAM': [41000, 34200, 99900], 'CHEVROLET': [28500, 14900, 15000, 33333, 25000, 11900, 35000, 65000, 8900, 19900, 4000, 3990, 22220, 7500, 12500, 45000, 38500, 4999, 34600, 38000, 44000, 42900, 54750, 165000, 6999, 7890, 15800, 33900, 31500, 27900, 55000, 17900, 3000, 7900, 3600, 108000, 48900, 2000, 5500, 49700, 22499, 19500, 32400, 25000, 45000], 'TESLA': [76900, 48500, 59500, 39500, 34990, 99900, 39000, 58500, 76500, 61000, 78000, 53500, 38000, 44000, 51500, 42100, 57000, 63500, 70900, 59990, 55000, 58000, 34900, 39250, 38700, 42900, 43500, 44500, 52500, 52990, 57900, 65000, 72900, 70000, 66500, 76400, 54900, 56900, 49900, 62000, 74900, 50000, 45000, 85000, 62900, 89990, 53000, 56900, 61800, 65980], 'TVR': [39500], 'FORD': [27900, 17900, 13500, 34444, 14900, 34900, 9300, 7300, 5800, 3950, 10400, 8990, 29800, 5900, 17500, 28900, 38000, 38000, 9850, 15800, 20000, 3800, 5200, 6900, 4800, 19800, 4900, 33900, 16000, 15500, 12000, 9999, 7500, 7600, 19800, 17950, 3000, 22499, 11900, 10500, 14500, 5790, 21800, 27500, 35900, 19400, 15800, 14900, 155000, 54000, 35100, 2900, 31900, 3500, 5500, 11000, 4200, 18300, 4350, 13399, 34700, 51500, 4100, 5200, 12400, 7900, 7700, 22500, 18000, 4990, 1500, 22000, 29500, 6900, 2500, 7000, 7000, 3500, 46500, 32000, 28500, 18500, 16400, 44900, 6500, 2900, 11200, 23000, 25000, 16900, 62900, 56000, 16400, 12300, 2095, 13900, 3500, 7500, 5300, 13000, 12500, 49000, 4600, 8300, 8500], 'MERCURY': [24999], 'JAGUAR': [29999, 54500, 26900, 5000, 12500, 49700, 45500, 38990, 41000, 69800, 35000, 4200, 4990, 11000, 11000, 16950, 14500, 84900, 154000, 32000, 9900, 44900, 22000, 65500, 62500, 56900, 57000, 79500, 108800, 4990, 1900, 49000, 29500, 29000, 49600, 55500, 15300, 35900, 22990, 31000, 20900, 34500, 83000, 33800, 17800, 10999, 8900], 'MG': [8500, 8650, 9700, 17900, 17000, 40000, 41000, 38500, 7500, 38000], 'JEEP': [24900, 10500, 40500, 16490, 38900, 7900, 46900, 37500, 65900, 35000, 20800, 36000, 39000, 31700, 17200, 39900, 44900, 14900, 56500, 11850, 22100, 24000, 8500, 13800, 34850, 15500, 15500, 32500, 29500, 17950, 16500, 31750, 32900, 22000, 15000], 'HUMMER': [19900, 19000, 12400, 47900, 37500, 40000], 'McLAREN': [280000], 'RENAULT': [13900, 23800, 35900, 26000, 5900, 11800, 8150, 3000, 10500, 6800, 11900, 7900, 4200, 13200, 14000, 3750, 6500, 30000, 24900, 9000, 13599, 24000, 5800, 5200, 4000, 25500, 22500, 9700, 27900, 8000, 5400, 15500, 6000, 3390, 5900, 2900, 5900, 2600, 32999, 9200, 9000, 24900, 19600, 8000, 9800, 9500, 4300, 9900, 2800, 13450, 22990, 7990, 11500, 15000, 3800, 15500, 2215, 24000, 8500, 31800, 4000, 17900, 23700, 13800, 16490, 4500, 5120, 4900, 28500, 6990, 800, 37800, 13900, 1490, 2500], 'ROLLS-ROYCE': [195000], 'INFINITI': [19700, 9500, 16000, 23500, 21900, 23600], 'CADILLAC': [4000, 1500, 18900, 6900, 25900, 4900, 53535, 19500, 2950, 3800, 64900, 59500], 'DAEWOO': [1900], 'BENTLEY': [55555, 126000, 45000, 94500, 220000, 137900, 71000, 38500], 'FERRARI': [54900, 54900, 53800, 126900, 125000, 102000, 139500, 79000, 83000, 72000, 75000, 115000, 119000, 95000, 155000, 152000, 140000, 58400], 'VOLVO': [15950, 43900, 47900, 24900, 15500, 49500, 17800, 23000, 8300, 24900, 38490, 34000, 33500, 44821, 11000, 34900, 14300, 7800, 46849, 14500, 2750, 14000, 12500, 19600, 11800, 24990, 69000, 11900, 13000, 8000, 7500, 48000, 22900, 29900, 24700, 39000, 31500, 24000, 19850, 6200, 37100, 28000, 45500, 46000, 17000, 4950, 44800, 6200, 12000, 7500, 13500, 8500, 8900, 6900, 9200, 21500, 79500, 42500, 12500, 4400, 9800, 14900, 38400, 49500, 7900, 2450, 44000, 9500, 19990, 75000, 54000, 69900, 26900, 64500, 6200, 9000, 4200, 4000, 19000, 49800, 15900, 400, 49900], 'TOYOTA': [18900, 20900, 6500, 23500, 18000, 10500, 42000, 15500, 4500, 29700, 9800, 6900, 36000, 3800, 7900, 8000, 3750, 28900, 4500, 3500, 17000, 14999, 3150, 4100, 2600, 4750, 1000, 22200, 22000, 46000, 29490, 18000, 18200, 19000, 19500, 18500, 29200, 21500, 18000, 5500, 23500, 4250, 4300, 10990, 16000, 56999, 32500, 23400, 3900, 3300, 7500, 39500, 32000, 26500, 14500, 15000, 3099, 2700, 41500, 9800, 8500, 7200, 49800, 19900, 54000, 6500, 6000, 5500, 33000, 33900, 18000], 'STEYR': [16000], 'MERCEDES-BENZ': [23749, 18500, 36000, 12000, 8000, 28900, 31500, 52000, 19500, 20000, 44000, 45000, 45000, 17900, 42000, 44900, 78000, 39900, 24000, 29500, 58000, 20500, 16300, 8900, 56000, 60500, 29900, 13900, 19900, 155000, 38500, 17100, 29900, 7200, 26900, 55000, 34900, 43000, 21000, 23000, 12999, 76000, 25000, 36900, 20000, 17500, 31900, 38000, 6950, 38000, 24900, 42500, 22900, 45500, 49900, 31500, 34000, 67900, 64900, 57500, 54900, 23800, 28900, 45000, 32900, 19800, 31900, 57900, 68500, 32900, 145000, 29900, 20900, 132500, 36900, 27500, 89608, 37100, 109990, 39900, 38900, 17900, 22900, 69900, 68800, 51790, 26850, 9200, 66900, 11500, 31500, 64500, 39000, 39800, 50950, 34500, 49990, 48000, 14500, 21000, 4490, 33700, 15800, 49000, 22800, 58900, 19500, 42000, 37000, 55500, 29500, 19800, 23900, 43800, 66900, 26150, 17500, 50200, 57900, 39990, 99500, 79000, 53000, 18990, 22000, 8990, 33900, 32900, 43900, 8700, 10000, 11900, 25000, 7000, 30900, 22900, 25000, 22000, 42999, 19000, 29900, 56900, 73000, 22500, 46500, 52900, 8900, 5500, 6500, 28000, 53500, 29200, 26000, 21000, 8900, 46000, 44900, 34900, 35500, 17990, 14400, 21000, 7000, 12000, 14800, 51900, 7900, 109000, 49000, 64900, 32500, 32900, 29900, 28950, 54500, 29900, 10999, 17800, 16900, 5900, 3000, 38600, 39900, 33890, 30000, 39000, 36900, 69000, 21900, 19700, 31900, 21900, 24000, 24900, 29300, 32900, 6900, 11570, 11500, 39500, 89900, 54900, 24800, 15390, 41999, 57000, 11900, 9900, 19400, 37800, 24000, 6800, 24899, 24900, 12800, 18000, 11200, 15400, 25500, 16900, 15900, 15990, 14900, 59900, 43900, 35000, 81900, 6249, 9900, 59900, 66700, 43000, 29900, 41999, 27900, 49450, 6500, 22500, 8700, 31000, 29900, 41900, 43900, 4200, 5900, 9500, 21000, 17900, 72000, 4200, 31400, 21900, 255000, 7700, 8500, 13900, 32300, 29900, 24900, 18000, 14500, 29400, 14900, 22000, 89500, 39999, 35500, 41900, 26900, 23500, 18500, 64500, 32000, 35299, 115000, 21000, 43900, 29000, 37900, 32900, 34500, 30900, 53000, 25000, 26900, 27900, 38999, 9990, 15900, 29000, 9599, 37000, 22500, 18000, 19500, 43000, 29000, 31000, 42900, 26200, 18000, 64900, 7500, 8700, 23000, 19900, 68500, 19900, 9900, 34900, 56500, 52500, 32000, 29900, 31900, 19000, 38900, 32900, 8000, 8700, 8500, 24800, 15900, 42750, 33000, 29950, 23999, 44900, 45600, 33500, 35900, 12000, 5500, 13000, 10900, 30950, 3500, 49990, 41850, 13800, 36900, 52900, 64900, 43900, 32500, 102690, 23990, 56900, 44800, 42900, 6900, 11900, 4900, 43990, 39900, 35500, 48000, 67000, 43900, 31990, 17999, 27500, 16500, 19000, 40000, 35900, 26700, 25999, 28900, 15200, 36000, 10950, 22800, 20800, 49990, 89999, 163000, 22500, 37500, 54000, 16500, 8300, 41280, 37500, 35000, 4500, 21999, 16900, 16500, 45950, 22900, 28450, 29500, 22200, 34800, 50495, 16000, 49900, 47500, 23500, 25500, 48000, 25900, 78000, 50000, 24900, 40000, 56000, 27500, 26500, 70900, 23900, 24500, 23000, 13500, 38150, 80000, 43900, 6700, 30900, 12790, 17850, 39900, 16000, 24900, 39200, 42000, 6000, 5200, 40000, 60000, 5499, 42900, 17900, 36400, 12000, 4900, 66990, 145900, 58000, 35800, 15500, 15900, 22800, 17900, 26000, 59800, 5700, 3000, 4800, 7900, 39500, 7800, 48500, 16000, 16000, 35800, 20990, 119000, 48500, 16900, 19900, 22222, 25900, 21499, 14000, 25550, 26000, 15300, 38900, 40900, 16000, 80000, 26900, 34900, 31900, 33000, 20500, 41250, 10500, 3800, 20900, 67900, 21300, 16000, 49900, 25000, 16000, 8990, 15900, 42000], 'FIAT': [7500, 6500, 1800, 29300, 6900, 19900, 16595, 15900, 13800, 15600, 9900, 10500, 21999, 8300, 13850, 18900, 10900, 23000, 65000, 4600, 7100, 4990, 7990, 4400, 17900, 23900, 3200, 25500, 12900, 5600, 6500, 11200, 13250, 13490, 5100, 8900, 12900, 17000, 500, 7950, 9000, 8900, 14500, 3500, 3000, 1400, 6900, 3950, 21500, 5900, 14400, 12500, 9250, 4299, 3800, 12900, 9200, 8000, 16000, 11000, 16990, 14000, 4500, 12000, 16000, 8500, 12200, 23000, 22990, 17200, 3390, 3800, 9990, 15900, 14000, 22000, 16500, 6700, 4000, 4350, 13500, 14900, 9900, 15900, 17900, 11900, 16900, 35000, 37500, 45000, 24900, 17950, 29300, 3500], 'LAND': [56900, 36500, 41900, 69900, 48500, 45000, 56900, 24500, 39999, 56900, 16200, 21999, 31000, 39900, 119000, 50900, 57000, 23500, 19500, 36900, 39900, 51000, 31200, 30800, 47750, 20900, 38899, 19900, 29980, 21400, 26500, 37500, 14500, 13000, 20500, 19000, 34800, 32500, 43000, 28500, 19000, 44900, 50000, 52000, 40500, 49500, 9999, 29000, 33500, 44000, 48000, 45999, 18500, 28000, 15500, 32900, 58900, 69900, 65000, 18500, 30999, 18500, 29500, 37500, 15000, 13500, 51500, 57900, 64900, 30900, 18900, 30500, 43500, 50800, 85000, 19820, 19500, 40000, 48900, 41900, 55000, 31900, 20800, 75000, 70900, 63500, 70000, 25900, 55000, 44000, 124900, 28000, 30900, 30900, 22999, 24900, 18900, 13900, 9900, 9800, 11500, 19800, 33600, 63900], 'SUZUKI': [9400, 5800, 14900, 5100, 17700, 11200, 12900, 11950, 17500, 13900, 3990, 8500, 18000, 6400, 5800, 6500, 3000, 4900, 4600, 12500, 10500, 6100], 'ARMSTRONG': [15000], 'ROVER': [28500, 2800, 4490], 'PLYMOUTH': [25500, 32800, 24900], 'VW': [19800, 34500, 6200, 9900, 24860, 16000, 25500, 10500, 44200, 18900, 16799, 18500, 34900, 17500, 10500, 19000, 26500, 14000, 11900, 4350, 9490, 5000, 27500, 10500, 14200, 58900, 31500, 3900, 24900, 18200, 37500, 13999, 23500, 7650, 22000, 5200, 12990, 34900, 12990, 18500, 22500, 10000, 2500, 8900, 15900, 8500, 12900, 6300, 31900, 8500, 33000, 14900, 4999, 29900, 33900, 15950, 10800, 22500, 15900, 13100, 19400, 10000, 41800, 78900, 34900, 49490, 24500, 11150, 23500, 17200, 26500, 31900, 10500, 24500, 12000, 21500, 19500, 11500, 35700, 33000, 3800, 36500, 10700, 31000, 15450, 17999, 4900, 22400, 12000, 26500, 49800, 2900, 10900, 2500, 8800, 10900, 15450, 4490, 3000, 5400, 21900, 17500, 2500, 31900, 2999, 3000, 1000, 49900, 8900, 12000, 5800, 9000, 22900, 22000, 15500, 10500, 4400, 12900, 6299, 29900, 12500, 4300, 12500, 16800, 35000, 5950, 12000, 8800, 11990, 4100, 18300, 25900, 12900, 13000, 17000, 17500, 10950, 18000, 17800, 3500, 13500, 30900, 15900, 14500, 31000, 9500, 19700, 25500, 17300, 32300, 8500, 23900, 16500, 35000, 2500, 19956, 22000, 10500, 5300, 4000, 6200, 3700, 17500, 12790, 41000, 12800, 39000, 37500, 19900, 19900, 6999, 16900, 18250, 24800, 20950, 11000, 22900, 17000, 22490, 10900, 9000, 29000, 36800, 16900, 9900, 1100, 6000, 9000, 35000, 40000, 7850, 29900, 41900, 34400, 24900, 17900, 6600, 10800, 7900, 38900, 20900, 15000, 8500, 30000, 33000, 9900, 8000, 14900, 24900, 21900, 27999, 19900, 33500, 35000, 7600, 23900, 18000, 800, 1950, 1200, 8200, 7500, 2000, 7399, 17900, 13500, 10500, 8300, 16400, 9950, 39500, 18000, 18500, 19500, 2900, 21500, 15800, 28000, 14500, 19190, 31800, 42900, 45850, 19900, 13900, 11450, 14500, 7500, 16900, 23000, 17000, 38900, 48900, 26200, 23900, 19500, 51800, 26000, 38300, 7300, 34900, 15500, 40500, 5500, 19500, 64000, 12800, 11500, 13000, 46900, 8500, 9400, 15600, 16400, 16700, 39000, 20350, 10800, 49500, 39900, 12900, 10100, 19400, 19250, 17400, 13000, 17999, 20600, 13400, 14500, 30000, 29900, 3500, 18700, 13500, 18900, 15500, 12000, 19900, 18700, 40000, 16500, 17500, 2900, 7900, 8500, 10500, 19980, 7500, 6500, 12400, 10000, 29500, 47900, 37800, 11200, 17499, 7700, 17900, 29900, 4900, 12500, 15900, 17000, 16950, 27900, 19900, 3900, 8900, 46000, 54950, 28500, 14975, 17800, 26500, 16700, 19999, 16000, 17990, 14900, 31900, 10300, 7200, 6990, 28400, 8250, 19900, 20000, 29900, 8800, 5100, 9000, 46500, 21000, 22800, 19900, 33333, 11700, 14990, 42900, 5800, 22000, 4800, 11999, 5000, 8990, 7800, 19800, 17900, 13900, 18000, 24500, 160, 10900, 9700, 23000, 1900, 5890, 13500, 19500, 9800, 8900, 7800, 17177, 23600, 4850], 'SEAT': [10500, 13000, 8450, 19900, 5490, 20000, 15900, 13900, 41900, 30900, 16500, 13900, 31000, 6300, 20400, 4800, 21400, 15500, 24950, 8200, 5500, 24900, 18000, 13000, 1500, 3000, 11700, 7490, 8500, 46999, 6500, 7400, 24800, 24999, 26400, 2600, 21500, 19900, 21900, 10500, 17000, 25950, 33000, 11300, 30500, 36900, 7900, 17490, 15900, 20900, 6200, 9100, 6300, 23900, 24500, 40200, 42900, 11500, 17500, 27499, 3900, 3600, 1500, 2555, 1650, 18500, 16900, 19900, 23500, 1099, 4500, 27500, 14490, 20900, 7800, 6300, 13900, 4700, 8690, 13900, 12000, 28900, 4900], 'MASERATI': [45000, 36100, 22900, 36000, 78000, 13000, 16500, 33000, 14900, 37950, 53998, 61900, 73900, 87000, 91000, 66900, 84500, 29900, 16800, 89500, 55000, 89500], 'BUICK': [43500, 4800, 25000], 'KIA': [3000, 27900, 29500, 17000, 21000, 28000, 38900, 14500, 17400, 18500, 7500, 16999, 20950, 13900, 8800, 8000, 2100, 2999, 48600, 10800, 6900], 'GMC': [52000, 3900], 'AUSTIN-HEALEY': [64000], 'CITROEN': [17400, 1500, 20000, 15000, 17999, 9850, 11200, 4500, 8000, 18850, 13000, 2800, 3900, 11900, 11500, 9800, 1000, 11500, 13500, 16500, 7190, 8900, 34000, 7500, 11900, 12700, 9000, 8500, 6099, 13500, 16800, 13900, 13900, 24850, 9500, 8000, 16987, 4900, 2500, 6900], 'AC': [93000], 'NISSAN': [9000, 4700, 17600, 3500, 15500, 10500, 7000, 29200, 20200, 12500, 8999, 8990, 9600, 1950, 19999, 9900, 8900, 5400, 22900, 9990, 22900, 9900, 18500, 29900, 6100, 12000, 7500, 6300, 3000, 11000, 22900, 7500, 12800, 11200, 12900, 13000, 12800, 32500, 89999, 17900, 12500, 37000, 11900, 14500, 19450], 'PONTIAC': [8000, 67000, 32200, 45900], 'LANCIA': [15000, 2500, 4400, 13500, 11000, 45000], 'DODGE': [40000, 39900, 28500, 4500, 23900, 19900, 43500, 45000, 26900, 59800, 34990, 35000, 15900, 22069, 45000, 8400, 23700, 20000, 26900, 34000], 'HONDA': [6900, 18000, 11712, 9000, 7900, 7500, 5100, 19990, 27000, 36000, 31700, 23500, 33400, 21500, 38500, 5500, 19000, 11500, 3900, 31500, 20500, 8000, 12500, 3700, 4000, 8500, 12500, 3900, 25500, 28590, 9990, 12900, 7500, 3000, 2800]}\n",
      "\n",
      "Dictionary keys:\n",
      "dict_keys(['ALPINE', 'MINI', 'HYUNDAI', 'OPEL', 'SSANGYONG', 'ASTON', 'VAUXHALL', 'DAIMLER', 'DACIA', 'SUBARU', 'WILLYS', 'SKODA', 'CHRYSLER', 'LAMBORGHINI', 'BMW', 'BMW-ALPINA', 'ALFA', 'MITSUBISHI', 'PORSCHE', 'TRIUMPH', 'FISKER', 'MAZDA', 'MORGAN', 'SMART', 'LOTUS', 'TAZZARI', 'LINCOLN', 'AUDI', 'DS', 'SAAB', 'PEUGEOT', 'LEXUS', 'CATERHAM', 'CHEVROLET', 'TESLA', 'TVR', 'FORD', 'MERCURY', 'JAGUAR', 'MG', 'JEEP', 'HUMMER', 'McLAREN', 'RENAULT', 'ROLLS-ROYCE', 'INFINITI', 'CADILLAC', 'DAEWOO', 'BENTLEY', 'FERRARI', 'VOLVO', 'TOYOTA', 'STEYR', 'MERCEDES-BENZ', 'FIAT', 'LAND', 'SUZUKI', 'ARMSTRONG', 'ROVER', 'PLYMOUTH', 'VW', 'SEAT', 'MASERATI', 'BUICK', 'KIA', 'GMC', 'AUSTIN-HEALEY', 'CITROEN', 'AC', 'NISSAN', 'PONTIAC', 'LANCIA', 'DODGE', 'HONDA'])\n",
      "\n",
      "Dictionary values\n",
      "dict_values([[29500, 19200], [26800, 31800, 12200, 24000, 11200, 13500, 24000, 8500, 21500, 11900, 24500, 32000, 32500, 22500, 10350, 7100, 27900, 6900, 17000, 20900, 20200, 24100, 19000, 23900, 11500, 26500, 11900, 31500, 19900, 7200, 18500, 12400, 8500, 7890, 5400, 20000, 17400, 4000, 19300, 37000, 14000, 10500, 9990, 6800, 6750, 7200, 18500, 12000, 5900, 6900, 23900, 10000, 5500, 7000, 4500, 15000, 26900, 6490, 5250, 26200, 25300, 24000, 9500, 3300, 13490, 14900, 19900, 20000, 33000, 9900, 9900, 13900, 24500, 28500, 5200, 21000, 13900, 12900, 3900, 9000, 5400, 33800, 22950], [23250, 25000, 1800, 12400, 6900, 31900, 5950, 4650, 8900, 5300, 21500, 9900, 22950, 27900, 2500, 15700, 1999, 2000, 5500, 17400, 6900, 29700, 23000, 9900, 7000, 9500, 16900, 11400, 9890, 8300, 4200, 23900, 28000, 4500, 24500, 24000, 23000, 18000, 8900, 17000, 8400, 6400, 5200, 7900, 4000, 20500, 17000], [18500, 19300, 12490, 5000, 12800, 5400, 12999, 1500, 4200, 25900, 37000, 3500, 2500, 2350, 12300, 2999, 6900, 14900, 5500, 15850, 3390, 3850, 12800, 11999, 15900, 6300, 4490, 2490, 28750, 6300, 5750, 12900, 17900, 8900, 4600, 10500, 10800, 1190, 6000, 3600, 11900, 5500, 5500, 12900, 32000, 16400, 23500, 14000, 8900, 1900, 2200, 12500, 26500, 16300, 4600, 11400, 5000, 6300, 2950, 32999, 27900, 5200, 17500, 10000, 14900, 7900, 3300, 5200, 16800, 18000, 16500, 7500, 9850, 9000, 19300, 12000, 22000, 6500, 3500, 4200, 600], [6300, 5900, 13000], [55900, 118000, 49500, 72950, 92500, 69000, 122000, 52500, 73000, 64500, 189900, 44000, 55000, 147510, 191000, 79000, 115000, 209000, 83500, 64000, 52900, 74900, 43800, 49999, 104800], [14500], [59500], [8500, 7000, 12900, 16300, 15900, 12800, 7900, 10000, 18500, 14999, 8900, 5000, 11200, 15000, 5600, 12100, 17900, 8700, 7199], [14900, 16900, 4500, 29000, 25800, 12900, 8200, 31500, 32900, 35000, 1390, 5780, 2000, 2400, 19900, 17500, 18300, 3000, 12800, 5990, 8499, 28000, 11200, 3000, 4900, 9500, 19800, 13000, 8500, 30750, 7000, 8500, 9900, 6800, 7500, 5500, 16500, 8600, 7000, 21900, 15000, 7900, 19000, 16500, 6400], [12000], [8500, 17900, 28500, 6000, 16750, 13400, 22900, 13900, 4900, 16900, 9400, 31500, 33400, 32900, 10250, 26990, 10500, 7700, 19500, 9500, 18000, 12900, 14500, 6200, 9900, 15000, 13500, 41000, 7200, 23000, 19750, 29990, 23900, 17900, 9900, 4500, 24500, 6000, 9800, 10500, 28500, 11900, 37900, 26900, 10900, 9500, 14500, 9300, 20555, 12500, 17000, 11500, 6500, 10900, 9900, 12000, 19000, 14000, 18900, 8000, 29990, 14000, 14800, 25950, 14900, 2500, 19950, 23900, 21500, 16995, 7480, 8900, 11350, 16800, 17000, 9100, 45000, 8700, 12000, 20500, 27800, 6590, 17900, 20500, 10900, 21900, 23850, 20800, 21900, 22900, 26900, 33000, 14000, 34900, 32700, 51900, 19000, 20000, 7200, 12500, 5900, 6800, 24900, 6000, 5700, 15900, 11400, 39990, 31900, 34900, 32900, 24500, 8900, 4800], [13000, 19800, 17000, 1100, 2990, 5900, 3500, 10000, 6900, 9500, 9999, 2880], [384900, 199900, 139000, 82500, 74500, 74900, 85000], [44999, 77800, 19900, 28750, 5549, 33800, 11000, 9500, 25900, 31000, 17800, 58700, 28900, 14900, 86900, 78000, 16800, 11350, 29500, 45900, 46500, 21500, 27900, 14900, 46000, 25000, 10000, 27000, 28885, 29900, 16900, 27700, 9500, 27900, 7500, 56000, 9100, 23500, 43900, 15400, 13900, 36900, 35800, 55900, 45000, 16500, 27500, 39500, 28500, 46800, 21000, 51500, 28500, 39000, 34900, 4900, 16500, 38500, 46990, 34900, 41500, 10000, 22700, 45500, 59900, 29950, 19900, 19900, 31500, 8500, 19900, 71000, 11000, 56500, 18500, 20900, 10500, 6800, 39500, 27800, 17500, 14990, 23000, 38500, 79999, 35900, 7300, 13800, 31900, 29500, 46900, 15990, 18900, 43000, 17600, 16000, 26500, 29000, 20900, 51900, 25150, 14800, 51900, 37900, 25950, 26500, 60800, 17900, 27500, 25000, 38500, 36500, 61950, 57900, 24200, 16900, 31000, 8500, 10900, 8500, 11900, 16500, 12500, 13900, 28900, 27900, 39900, 45000, 43300, 7400, 14240, 9200, 8200, 7500, 22500, 13500, 29000, 22900, 2500, 12999, 21900, 26500, 8000, 31500, 25000, 21500, 19900, 22000, 64900, 8499, 49900, 9000, 27300, 10800, 11800, 19900, 17500, 19000, 29900, 25500, 60600, 65000, 49999, 14000, 53000, 47000, 37000, 39999, 58900, 62900, 27900, 18500, 2900, 45900, 38790, 43700, 95000, 54900, 19900, 25900, 15000, 18500, 12000, 18250, 34400, 27200, 35000, 16700, 22000, 11900, 43500, 34000, 9900, 19900, 35000, 9300, 12800, 4000, 5600, 11800, 33000, 11200, 13990, 16500, 33500, 15900, 1300, 14000, 4750, 15900, 21100, 16499, 14500, 13900, 17800, 15990, 15500, 12800, 58000, 139000, 34900, 10950, 16400, 10500, 14500, 36800, 14200, 75900, 42000, 49000, 39950, 46500, 32000, 7600, 6999, 9500, 23900, 24900, 33900, 42800, 50000, 7600, 12300, 28900, 25500, 33900, 22450, 38800, 25900, 28700, 44500, 51000, 43499, 50900, 38900, 26900, 23900, 14900, 22900, 24950, 22800, 34500, 12900, 26900, 14500, 28000, 45500, 17900, 24900, 17250, 15500, 3900, 42900, 32800, 37000, 10500, 18300, 59500, 21000, 6000, 12890, 29999, 23900, 9700, 17500, 59990, 70000, 71500, 27900, 19490, 16750, 21900, 9990, 1700, 12500, 18900, 11750, 14900, 11900, 18500, 28900, 34900, 34000, 21500, 36900, 15000, 32900, 42900, 23900, 27500, 87500, 14999, 16900, 42500, 34500, 36900, 18750, 29900, 6900, 7300, 9700, 37997, 9500, 9200, 19900, 65900, 52900, 37500, 17500, 30500, 16800, 4200, 28000, 48000, 70000, 16900, 14500, 23900, 22500, 33500, 28990, 7500, 23000, 110000, 129999, 69500, 5900, 11900, 22000, 12300, 16500, 24900, 17000, 19400, 8500, 15900, 47000, 38500, 36900, 13900, 9200, 20900, 8900, 14500, 20999, 5900, 6999, 35000, 35500, 46800, 23900, 25999, 18700, 21900, 23000, 16900, 19300, 11900, 16990, 12500, 24990, 24900, 19950, 23000, 13500, 5900, 6400, 6000, 21000, 78000, 24500, 46900, 17500, 42300, 42000, 48000, 39400, 26900, 35900, 42800, 24000, 58900, 21900, 23500, 29500, 4600, 32500, 10990, 10600, 11500, 15980, 12400, 46900, 26900, 24500, 15000, 12500, 13500, 59900, 12500, 21900, 58400, 52900, 69500, 69000, 65000, 72900, 46500, 49999, 69800, 17500, 38900, 45000, 30000, 21500, 26500, 4750, 52900, 22500, 9000, 19900, 13800, 24500, 24900, 23500, 11500, 24500, 19900, 21500, 15900, 26000, 35000, 18500, 49000, 41899, 15900, 32900, 19900, 15900, 35000, 53000, 40200, 52900, 9000, 6100, 8500, 18000, 61800, 29000, 32500, 35900, 22900, 17700, 19500, 13900, 23500, 27000, 43000, 33500, 50900, 49990, 28500, 39850, 25900, 30000, 26000, 19000, 23500, 24600, 12500, 20000, 44800, 43000, 12000, 17000, 20900, 29000, 27200, 67900, 74500, 4900, 36630, 6000, 39500, 54900, 49990, 5250, 7600, 21500, 18360, 12000, 10000, 9950, 16700, 12499, 16800, 15800, 86000, 79000, 43900, 45000, 16490, 15900, 9999, 6500, 20499, 15550, 59900, 40500, 48000, 59900, 56500, 40000, 41499, 24200, 11900, 22222, 29500, 32000, 16200, 19500, 58000, 34200, 4800, 9980, 13500], [15999, 63500, 15500, 29900], [11990, 6000, 21000, 22500, 75000, 4900, 7900, 79900, 79500, 8500, 34900, 10300, 9490, 10500, 21000, 11100, 8500, 10000, 7500, 17500, 11900, 3100, 55000, 26000, 14900, 11300, 12500, 14900, 9990, 18500, 5400, 7000, 7200, 2200, 16500, 36500, 27000, 15900, 14400, 24900, 31200, 17900, 20500, 126000, 2300, 19900, 20500, 26000, 63000, 71900, 20500, 10800, 17900, 17500, 7990], [37500, 18000, 28000, 34500, 32000, 13850, 6500, 13500, 5900, 20000, 11450, 4500, 6700, 12800, 13900, 1200, 16400, 11900, 40000, 28500, 6950, 6900, 8750, 26000, 21900, 40000, 24900, 24900, 1500], [143500, 71900, 122000, 108000, 59500, 138000, 89800, 60000, 21700, 46950, 169500, 48500, 39900, 37500, 19800, 48500, 79000, 40800, 95600, 20000, 35000, 105991, 124500, 9100, 25900, 45000, 75911, 34500, 34990, 95000, 95900, 141490, 8800, 84999, 37900, 36900, 45000, 98000, 51500, 42920, 60000, 70000, 62000, 37500, 43500, 56200, 49900, 28000, 29900, 69900, 25000, 79000, 105000, 58500, 64500, 23500, 19500, 38911, 24996, 98500, 59500, 89900, 83000, 81800, 74900, 19900, 36000, 77900, 28000, 50997, 6990, 55750, 60000, 59500, 34900, 46911, 69900, 42900, 109110, 45000, 130000, 49500, 48000, 44900, 18500, 93800, 59900, 61446, 22000, 45900, 49900, 35000, 29000, 53900, 44200, 65000, 428000, 24900, 61911, 63900, 109900, 34900, 62500, 29999, 31900, 24000, 79900, 57000, 72500, 62000, 75500, 63000, 59000, 62499, 29900, 12990, 21790, 37500, 46990, 63500, 99500, 23900, 38911, 28500, 29500, 26500, 34900, 38000, 20500, 25950, 8700, 11500, 64911, 67500, 64718, 56000, 49800, 60000, 75900, 19000, 24900, 42500, 59900, 27000, 51000, 95000, 64500, 41500, 75000, 75000, 41000, 28900, 54000, 52900, 379000, 77750, 72500, 115000, 34990, 11200, 91500, 119800, 47350, 85900, 40800, 56900, 55900, 142000, 73500, 46000, 37490, 33950, 51000, 149500, 59400, 53000, 34000, 39950, 99900, 98500, 69911, 20300, 30000, 18950, 49000, 85000, 72000, 45000, 76800, 6900, 66000, 57438, 49900, 79800, 62000, 135500, 127400, 63000, 112900, 59900, 14700, 29700, 39900, 79900, 35000, 8500, 115000, 46600, 95000, 77900, 163000, 79000, 40000, 69911], [25000, 31900, 39500, 39900], [38000], [13000, 20900, 15300, 37000, 8500, 18000, 6900, 12950, 21800, 12900, 6500, 4300, 9399, 22000, 5300, 7000, 4000, 2900, 14800, 21000, 17000, 14300, 7900, 10900, 5900, 4900, 5800, 18999, 17000, 12500, 15750, 2950, 14900, 17000, 11600, 11500, 13500, 12500, 28000, 16500, 990, 17500, 17900, 18000, 14500, 6500, 2500, 4000, 5700, 4500, 2300, 14000, 17900, 13000, 6400, 17900, 3599, 5700, 9000], [82900, 53900, 60000, 72500], [6500, 9400, 17000, 5350, 19500, 7200, 10150, 899, 1700, 3000, 7500, 4800, 7000, 12000, 14000, 3200, 5300, 4750, 2500, 5950, 3430, 9700, 4900, 5990, 16500, 9500], [30900, 42000, 25000, 33900, 43950, 74000], [19000], [19900], [22500, 48500, 59800, 48500, 19900, 16999, 41900, 37500, 47900, 16400, 36500, 24800, 15500, 24900, 11500, 10900, 14900, 85000, 77500, 22500, 16000, 14500, 85000, 13950, 19800, 17500, 19000, 18700, 14000, 43300, 16950, 35000, 19000, 21500, 7200, 24900, 18500, 29450, 31000, 24900, 24900, 12400, 37900, 20500, 41500, 61000, 17900, 24000, 19500, 37100, 60000, 24900, 19500, 36500, 42900, 14999, 9900, 39999, 24900, 36900, 11800, 12500, 22100, 29800, 19000, 20500, 35900, 7000, 24800, 22990, 14800, 5000, 29000, 5900, 13500, 36700, 37500, 34990, 11350, 37900, 29900, 7499, 6500, 57000, 71600, 57450, 30000, 28000, 32980, 34500, 10900, 16800, 9800, 14900, 24799, 19900, 37500, 24900, 4900, 6000, 65500, 72500, 8700, 9999, 16900, 15800, 10000, 8500, 8400, 32000, 18900, 45500, 25900, 11000, 19500, 35500, 37900, 43900, 34900, 15000, 63000, 10900, 39900, 5500, 22000, 14900, 46000, 50900, 89000, 89900, 68500, 33900, 99000, 46000, 41500, 71000, 44800, 25200, 41900, 39900, 25000, 39000, 27300, 19800, 24000, 21000, 16500, 18900, 25500, 19950, 30500, 12900, 10900, 15000, 19500, 7900, 89300, 77500, 75000, 5500, 25430, 47000, 12500, 19900, 56900, 15900, 16999, 14900, 17900, 42000, 38900, 32900, 16000, 16500, 14500, 35900, 27000, 27300, 47750, 15650, 35900, 29500, 28000, 38500, 35000, 32900, 27900, 20900, 22000, 25000, 23500, 13490, 13900, 19500, 19800, 37000, 99900, 19500, 23500, 18125, 20499, 18900, 6400, 49500, 49500, 47900, 56900, 32000, 71900, 68200, 19500, 1500, 5000, 23500, 8750, 20900, 32000, 30000, 18400, 15900, 35800, 12800, 27900, 17500, 2900, 4700, 74900, 9900, 2700, 12500, 7440, 34950, 15200, 35500, 32800, 79900, 64999, 56000, 64999, 57900, 9900, 20000, 10000, 52450, 19900, 41800, 19200, 19500, 28490, 24500, 35999, 4000, 5900, 35800, 59900, 6500, 14000, 49000, 22900, 14300, 10500, 13500, 28900, 83900, 19500, 37999, 26000, 54000, 7400, 23900, 25900, 16250, 69690, 15900, 13500, 52900, 55600, 62500, 6000, 6500, 15000, 18500, 13900, 19900, 31500, 9000, 18000, 14800, 7100, 37500, 29999, 37900, 33800, 35900, 12490, 11990, 13500, 8100, 69500, 7500, 18810, 16800, 35900, 40000, 43000, 121594, 7000, 32200, 42490, 64900, 14200, 24300, 14900, 5900, 29900, 23500, 19000, 39900, 26000, 22000, 29800, 28900, 26500, 28000, 40900, 36000, 10400, 59900, 6200, 14500, 11200, 38500, 30900, 19900, 57500, 15900, 4290, 15500, 8100, 5200, 36500, 18500, 18990, 72000, 26000, 72000, 9499, 4800, 79900, 58900, 52500, 14500, 20500, 26900, 28300, 21300, 14500, 59900, 62900, 73500, 34900, 18700, 19000, 16100, 14500, 7900, 21500, 14900, 8500, 24000, 14700, 5200, 7500, 10900, 18000, 28700, 19456, 80900, 15500, 25900, 21000, 26990, 48900, 28900, 28800, 29900, 39800, 33500, 9500, 13599, 5400, 24900, 8500, 76000, 16500, 18500, 10500, 9955, 7900, 26000, 32900, 32900, 23700, 26500, 10900, 12000, 12990, 20000, 13900, 56990, 54900, 17333, 10500, 5500, 7900, 22200, 10900, 22500, 13900, 39950, 3500, 20900, 95000, 7050, 10800, 24000, 44900, 32990, 42500, 25500, 16800, 24200, 17300, 14500, 59900, 4999, 27950, 2390, 11000, 23900, 43200, 32500, 4750, 4300, 53900, 43900, 25000, 34900, 45000, 19900, 36800, 61900, 40900, 52280, 13000, 74900, 16900, 48500, 43000, 46000, 9000, 8500, 27950, 1100, 19499, 24500, 16300, 19900, 9300, 68500, 19500, 51500, 21900, 13500, 22490, 37500, 21900, 24900, 20000, 7000, 6900, 31500, 7500, 7250, 7000, 27600, 38500, 28600, 42000, 7700, 7920, 23900, 28500, 18490, 8490, 9000, 63850, 21490, 13950, 22222, 18000, 12000, 17500, 4990, 25500], [8800, 6999, 7399, 9250, 25000, 15990, 5600, 8100, 11800, 11400, 15000, 7700, 7499, 14500, 7800], [18000, 25500, 10800, 7990, 9400, 17500, 12800, 21500, 22000, 4300, 3899, 3999, 20500, 19500, 10300, 23900, 32500, 2600, 14900], [8900, 8500, 12990, 9000, 10000, 13800, 8000, 6490, 34900, 19500, 11500, 13500, 9800, 2800, 5400, 3400, 2700, 8500, 3250, 3950, 15900, 6500, 5900, 2400, 2300, 5000, 43620, 5000, 19900, 12000, 1200, 6500, 3650, 9150, 24999, 2600, 3500, 2900, 3250, 25000, 14500, 9700, 14900, 9900, 7800, 11000, 5700, 3300, 3800, 2700, 1500, 6990, 6100, 12300, 1875, 12800, 10000, 19987, 4500, 3300, 5900], [35400, 52900, 21900, 27500, 57500, 14300, 9500, 31900, 29500, 31500, 39900, 10000, 9800], [41000, 34200, 99900], [28500, 14900, 15000, 33333, 25000, 11900, 35000, 65000, 8900, 19900, 4000, 3990, 22220, 7500, 12500, 45000, 38500, 4999, 34600, 38000, 44000, 42900, 54750, 165000, 6999, 7890, 15800, 33900, 31500, 27900, 55000, 17900, 3000, 7900, 3600, 108000, 48900, 2000, 5500, 49700, 22499, 19500, 32400, 25000, 45000], [76900, 48500, 59500, 39500, 34990, 99900, 39000, 58500, 76500, 61000, 78000, 53500, 38000, 44000, 51500, 42100, 57000, 63500, 70900, 59990, 55000, 58000, 34900, 39250, 38700, 42900, 43500, 44500, 52500, 52990, 57900, 65000, 72900, 70000, 66500, 76400, 54900, 56900, 49900, 62000, 74900, 50000, 45000, 85000, 62900, 89990, 53000, 56900, 61800, 65980], [39500], [27900, 17900, 13500, 34444, 14900, 34900, 9300, 7300, 5800, 3950, 10400, 8990, 29800, 5900, 17500, 28900, 38000, 38000, 9850, 15800, 20000, 3800, 5200, 6900, 4800, 19800, 4900, 33900, 16000, 15500, 12000, 9999, 7500, 7600, 19800, 17950, 3000, 22499, 11900, 10500, 14500, 5790, 21800, 27500, 35900, 19400, 15800, 14900, 155000, 54000, 35100, 2900, 31900, 3500, 5500, 11000, 4200, 18300, 4350, 13399, 34700, 51500, 4100, 5200, 12400, 7900, 7700, 22500, 18000, 4990, 1500, 22000, 29500, 6900, 2500, 7000, 7000, 3500, 46500, 32000, 28500, 18500, 16400, 44900, 6500, 2900, 11200, 23000, 25000, 16900, 62900, 56000, 16400, 12300, 2095, 13900, 3500, 7500, 5300, 13000, 12500, 49000, 4600, 8300, 8500], [24999], [29999, 54500, 26900, 5000, 12500, 49700, 45500, 38990, 41000, 69800, 35000, 4200, 4990, 11000, 11000, 16950, 14500, 84900, 154000, 32000, 9900, 44900, 22000, 65500, 62500, 56900, 57000, 79500, 108800, 4990, 1900, 49000, 29500, 29000, 49600, 55500, 15300, 35900, 22990, 31000, 20900, 34500, 83000, 33800, 17800, 10999, 8900], [8500, 8650, 9700, 17900, 17000, 40000, 41000, 38500, 7500, 38000], [24900, 10500, 40500, 16490, 38900, 7900, 46900, 37500, 65900, 35000, 20800, 36000, 39000, 31700, 17200, 39900, 44900, 14900, 56500, 11850, 22100, 24000, 8500, 13800, 34850, 15500, 15500, 32500, 29500, 17950, 16500, 31750, 32900, 22000, 15000], [19900, 19000, 12400, 47900, 37500, 40000], [280000], [13900, 23800, 35900, 26000, 5900, 11800, 8150, 3000, 10500, 6800, 11900, 7900, 4200, 13200, 14000, 3750, 6500, 30000, 24900, 9000, 13599, 24000, 5800, 5200, 4000, 25500, 22500, 9700, 27900, 8000, 5400, 15500, 6000, 3390, 5900, 2900, 5900, 2600, 32999, 9200, 9000, 24900, 19600, 8000, 9800, 9500, 4300, 9900, 2800, 13450, 22990, 7990, 11500, 15000, 3800, 15500, 2215, 24000, 8500, 31800, 4000, 17900, 23700, 13800, 16490, 4500, 5120, 4900, 28500, 6990, 800, 37800, 13900, 1490, 2500], [195000], [19700, 9500, 16000, 23500, 21900, 23600], [4000, 1500, 18900, 6900, 25900, 4900, 53535, 19500, 2950, 3800, 64900, 59500], [1900], [55555, 126000, 45000, 94500, 220000, 137900, 71000, 38500], [54900, 54900, 53800, 126900, 125000, 102000, 139500, 79000, 83000, 72000, 75000, 115000, 119000, 95000, 155000, 152000, 140000, 58400], [15950, 43900, 47900, 24900, 15500, 49500, 17800, 23000, 8300, 24900, 38490, 34000, 33500, 44821, 11000, 34900, 14300, 7800, 46849, 14500, 2750, 14000, 12500, 19600, 11800, 24990, 69000, 11900, 13000, 8000, 7500, 48000, 22900, 29900, 24700, 39000, 31500, 24000, 19850, 6200, 37100, 28000, 45500, 46000, 17000, 4950, 44800, 6200, 12000, 7500, 13500, 8500, 8900, 6900, 9200, 21500, 79500, 42500, 12500, 4400, 9800, 14900, 38400, 49500, 7900, 2450, 44000, 9500, 19990, 75000, 54000, 69900, 26900, 64500, 6200, 9000, 4200, 4000, 19000, 49800, 15900, 400, 49900], [18900, 20900, 6500, 23500, 18000, 10500, 42000, 15500, 4500, 29700, 9800, 6900, 36000, 3800, 7900, 8000, 3750, 28900, 4500, 3500, 17000, 14999, 3150, 4100, 2600, 4750, 1000, 22200, 22000, 46000, 29490, 18000, 18200, 19000, 19500, 18500, 29200, 21500, 18000, 5500, 23500, 4250, 4300, 10990, 16000, 56999, 32500, 23400, 3900, 3300, 7500, 39500, 32000, 26500, 14500, 15000, 3099, 2700, 41500, 9800, 8500, 7200, 49800, 19900, 54000, 6500, 6000, 5500, 33000, 33900, 18000], [16000], [23749, 18500, 36000, 12000, 8000, 28900, 31500, 52000, 19500, 20000, 44000, 45000, 45000, 17900, 42000, 44900, 78000, 39900, 24000, 29500, 58000, 20500, 16300, 8900, 56000, 60500, 29900, 13900, 19900, 155000, 38500, 17100, 29900, 7200, 26900, 55000, 34900, 43000, 21000, 23000, 12999, 76000, 25000, 36900, 20000, 17500, 31900, 38000, 6950, 38000, 24900, 42500, 22900, 45500, 49900, 31500, 34000, 67900, 64900, 57500, 54900, 23800, 28900, 45000, 32900, 19800, 31900, 57900, 68500, 32900, 145000, 29900, 20900, 132500, 36900, 27500, 89608, 37100, 109990, 39900, 38900, 17900, 22900, 69900, 68800, 51790, 26850, 9200, 66900, 11500, 31500, 64500, 39000, 39800, 50950, 34500, 49990, 48000, 14500, 21000, 4490, 33700, 15800, 49000, 22800, 58900, 19500, 42000, 37000, 55500, 29500, 19800, 23900, 43800, 66900, 26150, 17500, 50200, 57900, 39990, 99500, 79000, 53000, 18990, 22000, 8990, 33900, 32900, 43900, 8700, 10000, 11900, 25000, 7000, 30900, 22900, 25000, 22000, 42999, 19000, 29900, 56900, 73000, 22500, 46500, 52900, 8900, 5500, 6500, 28000, 53500, 29200, 26000, 21000, 8900, 46000, 44900, 34900, 35500, 17990, 14400, 21000, 7000, 12000, 14800, 51900, 7900, 109000, 49000, 64900, 32500, 32900, 29900, 28950, 54500, 29900, 10999, 17800, 16900, 5900, 3000, 38600, 39900, 33890, 30000, 39000, 36900, 69000, 21900, 19700, 31900, 21900, 24000, 24900, 29300, 32900, 6900, 11570, 11500, 39500, 89900, 54900, 24800, 15390, 41999, 57000, 11900, 9900, 19400, 37800, 24000, 6800, 24899, 24900, 12800, 18000, 11200, 15400, 25500, 16900, 15900, 15990, 14900, 59900, 43900, 35000, 81900, 6249, 9900, 59900, 66700, 43000, 29900, 41999, 27900, 49450, 6500, 22500, 8700, 31000, 29900, 41900, 43900, 4200, 5900, 9500, 21000, 17900, 72000, 4200, 31400, 21900, 255000, 7700, 8500, 13900, 32300, 29900, 24900, 18000, 14500, 29400, 14900, 22000, 89500, 39999, 35500, 41900, 26900, 23500, 18500, 64500, 32000, 35299, 115000, 21000, 43900, 29000, 37900, 32900, 34500, 30900, 53000, 25000, 26900, 27900, 38999, 9990, 15900, 29000, 9599, 37000, 22500, 18000, 19500, 43000, 29000, 31000, 42900, 26200, 18000, 64900, 7500, 8700, 23000, 19900, 68500, 19900, 9900, 34900, 56500, 52500, 32000, 29900, 31900, 19000, 38900, 32900, 8000, 8700, 8500, 24800, 15900, 42750, 33000, 29950, 23999, 44900, 45600, 33500, 35900, 12000, 5500, 13000, 10900, 30950, 3500, 49990, 41850, 13800, 36900, 52900, 64900, 43900, 32500, 102690, 23990, 56900, 44800, 42900, 6900, 11900, 4900, 43990, 39900, 35500, 48000, 67000, 43900, 31990, 17999, 27500, 16500, 19000, 40000, 35900, 26700, 25999, 28900, 15200, 36000, 10950, 22800, 20800, 49990, 89999, 163000, 22500, 37500, 54000, 16500, 8300, 41280, 37500, 35000, 4500, 21999, 16900, 16500, 45950, 22900, 28450, 29500, 22200, 34800, 50495, 16000, 49900, 47500, 23500, 25500, 48000, 25900, 78000, 50000, 24900, 40000, 56000, 27500, 26500, 70900, 23900, 24500, 23000, 13500, 38150, 80000, 43900, 6700, 30900, 12790, 17850, 39900, 16000, 24900, 39200, 42000, 6000, 5200, 40000, 60000, 5499, 42900, 17900, 36400, 12000, 4900, 66990, 145900, 58000, 35800, 15500, 15900, 22800, 17900, 26000, 59800, 5700, 3000, 4800, 7900, 39500, 7800, 48500, 16000, 16000, 35800, 20990, 119000, 48500, 16900, 19900, 22222, 25900, 21499, 14000, 25550, 26000, 15300, 38900, 40900, 16000, 80000, 26900, 34900, 31900, 33000, 20500, 41250, 10500, 3800, 20900, 67900, 21300, 16000, 49900, 25000, 16000, 8990, 15900, 42000], [7500, 6500, 1800, 29300, 6900, 19900, 16595, 15900, 13800, 15600, 9900, 10500, 21999, 8300, 13850, 18900, 10900, 23000, 65000, 4600, 7100, 4990, 7990, 4400, 17900, 23900, 3200, 25500, 12900, 5600, 6500, 11200, 13250, 13490, 5100, 8900, 12900, 17000, 500, 7950, 9000, 8900, 14500, 3500, 3000, 1400, 6900, 3950, 21500, 5900, 14400, 12500, 9250, 4299, 3800, 12900, 9200, 8000, 16000, 11000, 16990, 14000, 4500, 12000, 16000, 8500, 12200, 23000, 22990, 17200, 3390, 3800, 9990, 15900, 14000, 22000, 16500, 6700, 4000, 4350, 13500, 14900, 9900, 15900, 17900, 11900, 16900, 35000, 37500, 45000, 24900, 17950, 29300, 3500], [56900, 36500, 41900, 69900, 48500, 45000, 56900, 24500, 39999, 56900, 16200, 21999, 31000, 39900, 119000, 50900, 57000, 23500, 19500, 36900, 39900, 51000, 31200, 30800, 47750, 20900, 38899, 19900, 29980, 21400, 26500, 37500, 14500, 13000, 20500, 19000, 34800, 32500, 43000, 28500, 19000, 44900, 50000, 52000, 40500, 49500, 9999, 29000, 33500, 44000, 48000, 45999, 18500, 28000, 15500, 32900, 58900, 69900, 65000, 18500, 30999, 18500, 29500, 37500, 15000, 13500, 51500, 57900, 64900, 30900, 18900, 30500, 43500, 50800, 85000, 19820, 19500, 40000, 48900, 41900, 55000, 31900, 20800, 75000, 70900, 63500, 70000, 25900, 55000, 44000, 124900, 28000, 30900, 30900, 22999, 24900, 18900, 13900, 9900, 9800, 11500, 19800, 33600, 63900], [9400, 5800, 14900, 5100, 17700, 11200, 12900, 11950, 17500, 13900, 3990, 8500, 18000, 6400, 5800, 6500, 3000, 4900, 4600, 12500, 10500, 6100], [15000], [28500, 2800, 4490], [25500, 32800, 24900], [19800, 34500, 6200, 9900, 24860, 16000, 25500, 10500, 44200, 18900, 16799, 18500, 34900, 17500, 10500, 19000, 26500, 14000, 11900, 4350, 9490, 5000, 27500, 10500, 14200, 58900, 31500, 3900, 24900, 18200, 37500, 13999, 23500, 7650, 22000, 5200, 12990, 34900, 12990, 18500, 22500, 10000, 2500, 8900, 15900, 8500, 12900, 6300, 31900, 8500, 33000, 14900, 4999, 29900, 33900, 15950, 10800, 22500, 15900, 13100, 19400, 10000, 41800, 78900, 34900, 49490, 24500, 11150, 23500, 17200, 26500, 31900, 10500, 24500, 12000, 21500, 19500, 11500, 35700, 33000, 3800, 36500, 10700, 31000, 15450, 17999, 4900, 22400, 12000, 26500, 49800, 2900, 10900, 2500, 8800, 10900, 15450, 4490, 3000, 5400, 21900, 17500, 2500, 31900, 2999, 3000, 1000, 49900, 8900, 12000, 5800, 9000, 22900, 22000, 15500, 10500, 4400, 12900, 6299, 29900, 12500, 4300, 12500, 16800, 35000, 5950, 12000, 8800, 11990, 4100, 18300, 25900, 12900, 13000, 17000, 17500, 10950, 18000, 17800, 3500, 13500, 30900, 15900, 14500, 31000, 9500, 19700, 25500, 17300, 32300, 8500, 23900, 16500, 35000, 2500, 19956, 22000, 10500, 5300, 4000, 6200, 3700, 17500, 12790, 41000, 12800, 39000, 37500, 19900, 19900, 6999, 16900, 18250, 24800, 20950, 11000, 22900, 17000, 22490, 10900, 9000, 29000, 36800, 16900, 9900, 1100, 6000, 9000, 35000, 40000, 7850, 29900, 41900, 34400, 24900, 17900, 6600, 10800, 7900, 38900, 20900, 15000, 8500, 30000, 33000, 9900, 8000, 14900, 24900, 21900, 27999, 19900, 33500, 35000, 7600, 23900, 18000, 800, 1950, 1200, 8200, 7500, 2000, 7399, 17900, 13500, 10500, 8300, 16400, 9950, 39500, 18000, 18500, 19500, 2900, 21500, 15800, 28000, 14500, 19190, 31800, 42900, 45850, 19900, 13900, 11450, 14500, 7500, 16900, 23000, 17000, 38900, 48900, 26200, 23900, 19500, 51800, 26000, 38300, 7300, 34900, 15500, 40500, 5500, 19500, 64000, 12800, 11500, 13000, 46900, 8500, 9400, 15600, 16400, 16700, 39000, 20350, 10800, 49500, 39900, 12900, 10100, 19400, 19250, 17400, 13000, 17999, 20600, 13400, 14500, 30000, 29900, 3500, 18700, 13500, 18900, 15500, 12000, 19900, 18700, 40000, 16500, 17500, 2900, 7900, 8500, 10500, 19980, 7500, 6500, 12400, 10000, 29500, 47900, 37800, 11200, 17499, 7700, 17900, 29900, 4900, 12500, 15900, 17000, 16950, 27900, 19900, 3900, 8900, 46000, 54950, 28500, 14975, 17800, 26500, 16700, 19999, 16000, 17990, 14900, 31900, 10300, 7200, 6990, 28400, 8250, 19900, 20000, 29900, 8800, 5100, 9000, 46500, 21000, 22800, 19900, 33333, 11700, 14990, 42900, 5800, 22000, 4800, 11999, 5000, 8990, 7800, 19800, 17900, 13900, 18000, 24500, 160, 10900, 9700, 23000, 1900, 5890, 13500, 19500, 9800, 8900, 7800, 17177, 23600, 4850], [10500, 13000, 8450, 19900, 5490, 20000, 15900, 13900, 41900, 30900, 16500, 13900, 31000, 6300, 20400, 4800, 21400, 15500, 24950, 8200, 5500, 24900, 18000, 13000, 1500, 3000, 11700, 7490, 8500, 46999, 6500, 7400, 24800, 24999, 26400, 2600, 21500, 19900, 21900, 10500, 17000, 25950, 33000, 11300, 30500, 36900, 7900, 17490, 15900, 20900, 6200, 9100, 6300, 23900, 24500, 40200, 42900, 11500, 17500, 27499, 3900, 3600, 1500, 2555, 1650, 18500, 16900, 19900, 23500, 1099, 4500, 27500, 14490, 20900, 7800, 6300, 13900, 4700, 8690, 13900, 12000, 28900, 4900], [45000, 36100, 22900, 36000, 78000, 13000, 16500, 33000, 14900, 37950, 53998, 61900, 73900, 87000, 91000, 66900, 84500, 29900, 16800, 89500, 55000, 89500], [43500, 4800, 25000], [3000, 27900, 29500, 17000, 21000, 28000, 38900, 14500, 17400, 18500, 7500, 16999, 20950, 13900, 8800, 8000, 2100, 2999, 48600, 10800, 6900], [52000, 3900], [64000], [17400, 1500, 20000, 15000, 17999, 9850, 11200, 4500, 8000, 18850, 13000, 2800, 3900, 11900, 11500, 9800, 1000, 11500, 13500, 16500, 7190, 8900, 34000, 7500, 11900, 12700, 9000, 8500, 6099, 13500, 16800, 13900, 13900, 24850, 9500, 8000, 16987, 4900, 2500, 6900], [93000], [9000, 4700, 17600, 3500, 15500, 10500, 7000, 29200, 20200, 12500, 8999, 8990, 9600, 1950, 19999, 9900, 8900, 5400, 22900, 9990, 22900, 9900, 18500, 29900, 6100, 12000, 7500, 6300, 3000, 11000, 22900, 7500, 12800, 11200, 12900, 13000, 12800, 32500, 89999, 17900, 12500, 37000, 11900, 14500, 19450], [8000, 67000, 32200, 45900], [15000, 2500, 4400, 13500, 11000, 45000], [40000, 39900, 28500, 4500, 23900, 19900, 43500, 45000, 26900, 59800, 34990, 35000, 15900, 22069, 45000, 8400, 23700, 20000, 26900, 34000], [6900, 18000, 11712, 9000, 7900, 7500, 5100, 19990, 27000, 36000, 31700, 23500, 33400, 21500, 38500, 5500, 19000, 11500, 3900, 31500, 20500, 8000, 12500, 3700, 4000, 8500, 12500, 3900, 25500, 28590, 9990, 12900, 7500, 3000, 2800]])\n"
     ]
    }
   ],
   "source": [
    "# Use set and dictionary comprehension to create a dictionary\n",
    "car_dict = {make: df.loc[df['Make'] == make, 'Price_num'].tolist() \\\n",
    "            for make in set(df['Make'])}\n",
    "\n",
    "# Print the resulting dictionary keys and values\n",
    "print('Dictionary with keys and values:')\n",
    "print(car_dict)\n",
    "\n",
    "# Print the resulting dictionary keys\n",
    "print('\\nDictionary keys:')\n",
    "print(car_dict.keys())\n",
    "\n",
    "# Print the resulting dictionary values\n",
    "print('\\nDictionary values')\n",
    "print(car_dict.values())"
   ]
  },
  {
   "attachments": {},
   "cell_type": "markdown",
   "id": "b0c1947c",
   "metadata": {},
   "source": [
    "## Access elements of the dictionary with all prices per make"
   ]
  },
  {
   "cell_type": "code",
   "execution_count": 45,
   "id": "8f8393e2",
   "metadata": {},
   "outputs": [
    {
     "name": "stdout",
     "output_type": "stream",
     "text": [
      "The key FERRARI exists!\n",
      "\n",
      "Here are the available prices of the key FERRARI:\n",
      "[54900, 54900, 53800, 126900, 125000, 102000, 139500, 79000, 83000, 72000, 75000, 115000, 119000, 95000, 155000, 152000, 140000, 58400]\n"
     ]
    }
   ],
   "source": [
    "# Define the key\n",
    "mykey = 'FERRARI'\n",
    "\n",
    "# Check whether FERRARI is a key in car_dict\n",
    "if mykey in car_dict:\n",
    "    print(f'The key {mykey} exists!')\n",
    "\n",
    "# Get all values from the key\n",
    "print(f'\\nHere are the available prices of the key {mykey}:')\n",
    "print(car_dict.get(mykey))"
   ]
  },
  {
   "attachments": {},
   "cell_type": "markdown",
   "id": "32387c41",
   "metadata": {},
   "source": [
    "## Use a set to create a list of unique makes"
   ]
  },
  {
   "cell_type": "code",
   "execution_count": 46,
   "id": "65972e2d",
   "metadata": {},
   "outputs": [
    {
     "name": "stdout",
     "output_type": "stream",
     "text": [
      "['AC', 'ALFA', 'ALPINE', 'ARMSTRONG', 'ASTON', 'AUDI', 'AUSTIN-HEALEY', 'BENTLEY', 'BMW', 'BMW-ALPINA', 'BUICK', 'CADILLAC', 'CATERHAM', 'CHEVROLET', 'CHRYSLER', 'CITROEN', 'DACIA', 'DAEWOO', 'DAIMLER', 'DODGE', 'DS', 'FERRARI', 'FIAT', 'FISKER', 'FORD', 'GMC', 'HONDA', 'HUMMER', 'HYUNDAI', 'INFINITI', 'JAGUAR', 'JEEP', 'KIA', 'LAMBORGHINI', 'LANCIA', 'LAND', 'LEXUS', 'LINCOLN', 'LOTUS', 'MASERATI', 'MAZDA', 'MERCEDES-BENZ', 'MERCURY', 'MG', 'MINI', 'MITSUBISHI', 'MORGAN', 'McLAREN', 'NISSAN', 'OPEL', 'PEUGEOT', 'PLYMOUTH', 'PONTIAC', 'PORSCHE', 'RENAULT', 'ROLLS-ROYCE', 'ROVER', 'SAAB', 'SEAT', 'SKODA', 'SMART', 'SSANGYONG', 'STEYR', 'SUBARU', 'SUZUKI', 'TAZZARI', 'TESLA', 'TOYOTA', 'TRIUMPH', 'TVR', 'VAUXHALL', 'VOLVO', 'VW', 'WILLYS']\n"
     ]
    }
   ],
   "source": [
    "# Create a set with unique values\n",
    "unique_makes_set = set(df['Make'])\n",
    "\n",
    "# Create a list from the set\n",
    "unique_makes_list = list(unique_makes_set)\n",
    "\n",
    "# Sort the list\n",
    "unique_makes_list_sorted = sorted(unique_makes_list)\n",
    "\n",
    "# Print the result\n",
    "print(unique_makes_list_sorted)"
   ]
  },
  {
   "cell_type": "markdown",
   "id": "5dc10895",
   "metadata": {},
   "source": [
    "### Aufgabe 2"
   ]
  },
  {
   "cell_type": "code",
   "execution_count": 47,
   "id": "d34e27e7",
   "metadata": {},
   "outputs": [
    {
     "name": "stdout",
     "output_type": "stream",
     "text": [
      "0       2014\n",
      "1       2013\n",
      "2       2011\n",
      "3       2015\n",
      "4       2018\n",
      "        ... \n",
      "3975    2002\n",
      "3976    1987\n",
      "3977    2007\n",
      "3978    1995\n",
      "3979    1999\n",
      "Name: year, Length: 3971, dtype: Int32\n"
     ]
    }
   ],
   "source": [
    "df['year'] = df['Init_Regist'].str.split('.').str[1].astype('Int32')\n",
    "print(df['year'])"
   ]
  },
  {
   "cell_type": "markdown",
   "id": "4b6cf34a",
   "metadata": {},
   "source": [
    "### Aufgabe 3\n"
   ]
  },
  {
   "cell_type": "code",
   "execution_count": 59,
   "id": "454d3916",
   "metadata": {},
   "outputs": [
    {
     "name": "stdout",
     "output_type": "stream",
     "text": [
      "0       10\n",
      "1       11\n",
      "2       13\n",
      "3        9\n",
      "4        6\n",
      "        ..\n",
      "3975    22\n",
      "3976    37\n",
      "3977    17\n",
      "3978    29\n",
      "3979    25\n",
      "Name: age_of_car, Length: 3971, dtype: Int32\n"
     ]
    }
   ],
   "source": [
    "import datetime\n",
    "today = datetime.date.today()\n",
    "year = today.year\n",
    "df['age_of_car'] = year - df['year']\n",
    "print(df['age_of_car'])"
   ]
  },
  {
   "cell_type": "markdown",
   "id": "22fe1b9c",
   "metadata": {},
   "source": [
    "### Aufgabe 4"
   ]
  },
  {
   "cell_type": "code",
   "execution_count": 63,
   "id": "67963683",
   "metadata": {},
   "outputs": [
    {
     "data": {
      "image/png": "[encoded data removed]",
      "text/plain": [
       "<Figure size 640x480 with 1 Axes>"
      ]
     },
     "metadata": {},
     "output_type": "display_data"
    },
    {
     "data": {
      "text/plain": [
       "{'whiskers': [<matplotlib.lines.Line2D at 0x16ca83af0>,\n",
       "  <matplotlib.lines.Line2D at 0x16ca83d90>],\n",
       " 'caps': [<matplotlib.lines.Line2D at 0x16cab0070>,\n",
       "  <matplotlib.lines.Line2D at 0x16cab0310>],\n",
       " 'boxes': [<matplotlib.lines.Line2D at 0x16ca83850>],\n",
       " 'medians': [<matplotlib.lines.Line2D at 0x16cab05b0>],\n",
       " 'fliers': [<matplotlib.lines.Line2D at 0x16cab0850>],\n",
       " 'means': []}"
      ]
     },
     "execution_count": 63,
     "metadata": {},
     "output_type": "execute_result"
    },
    {
     "data": {
      "image/png": "[encoded data removed]",
      "text/plain": [
       "<Figure size 640x480 with 1 Axes>"
      ]
     },
     "metadata": {},
     "output_type": "display_data"
    }
   ],
   "source": [
    "plt.hist(df['age_of_car'], bins=20, color='lightseagreen')\n",
    "plt.title('Age of Car')\n",
    "plt.xlabel('Age')\n",
    "plt.ylabel('Frequency')\n",
    "plt.show()\n",
    "\n",
    "plt.boxplot(df['age_of_car'], vert=False)"
   ]
  },
  {
   "cell_type": "markdown",
   "id": "8a9bb059",
   "metadata": {},
   "source": [
    "### Aufgabe 5"
   ]
  },
  {
   "cell_type": "code",
   "execution_count": 64,
   "id": "7ed0078a",
   "metadata": {},
   "outputs": [
    {
     "name": "stdout",
     "output_type": "stream",
     "text": [
      "{0: 2014, 1: 2013, 2: 2011, 3: 2015, 4: 2018, 5: 2004, 6: 2006, 7: 201, 8: 2015, 9: 2015, 10: 2018, 11: 2016, 12: 2017, 13: 2012, 14: 2018, 15: 2018, 16: 2016, 17: 2012, 18: 2013, 19: 2013, 20: 2014, 21: 201, 22: 2011, 23: 2017, 24: 2013, 25: 2009, 26: 1992, 27: 2006, 28: 2016, 29: 2015, 30: 2019, 31: 2017, 32: 2016, 33: 2007, 34: 2009, 35: 2011, 36: 2016, 37: 2014, 38: 2014, 39: 2015, 40: 2017, 41: 2013, 42: 2016, 43: 1985, 44: 2011, 45: 1989, 46: 201, 47: 2018, 48: 2017, 49: 2003, 50: 2007, 51: 2016, 52: 2012, 53: 2015, 54: 1959, 55: 2017, 56: 2019, 57: 1979, 58: 2019, 59: 2013, 60: 2009, 61: 2001, 62: 2017, 63: 2018, 64: 2017, 65: 2016, 66: 2012, 67: 2017, 68: 2014, 69: 201, 70: 2014, 71: 2016, 72: 2017, 73: 2016, 74: 2017, 75: 2014, 76: 2015, 77: 201, 78: 2018, 79: 2016, 80: 2016, 81: 201, 82: 2015, 83: 2017, 84: 2018, 85: 2012, 86: 2016, 87: 2013, 88: 2016, 89: 2019, 90: 2016, 91: 2018, 92: 2012, 93: 2008, 94: 2008, 95: 2014, 96: 2009, 97: 2018, 98: 2017, 99: 2013, 100: 2011, 101: 1982, 102: 2018, 103: 2016, 104: 201, 105: 2017, 106: 2012, 107: 2016, 108: 2015, 109: 2016, 110: 2008, 111: 2018, 112: 2018, 113: 2008, 114: 2016, 115: 2016, 116: 2014, 117: 2018, 118: 2019, 119: 1978, 120: 2017, 121: 2017, 122: 2012, 123: 2007, 124: 2017, 125: 2011, 126: 2018, 127: 2015, 128: 2016, 129: 2014, 130: 2016, 131: 201, 132: 2005, 133: 2016, 134: 2013, 135: 2013, 136: 2017, 137: 2019, 138: 2016, 139: 2012, 140: 2015, 141: 2013, 142: 2013, 143: 2016, 144: 201, 145: 2016, 146: 2011, 147: 2016, 148: 2004, 149: 2012, 150: 2013, 151: 2018, 152: 2013, 153: 2011, 154: 2017, 155: 2014, 156: 2015, 157: 2019, 158: 2007, 159: 2014, 160: 2014, 161: 2008, 162: 2016, 163: 2007, 164: 2017, 165: 2009, 166: 2013, 167: 2017, 168: 2018, 169: 2016, 170: 2018, 171: 2016, 172: 2006, 173: 2017, 174: 2014, 175: 2006, 176: 2012, 177: 2013, 178: 2011, 179: 2017, 180: 2009, 181: 2013, 182: 2014, 183: 2015, 184: 2018, 185: 2014, 186: 2015, 187: 2016, 188: 2014, 189: 1994, 190: 2015, 191: 2017, 192: 201, 193: 2015, 194: 1991, 195: 2018, 196: 1992, 197: 2008, 198: 201, 199: 2015, 200: 2005, 201: 2014, 202: 2014, 203: 2015, 204: 2014, 205: 2014, 206: 2015, 207: 2017, 208: 202, 209: 2009, 210: 2014, 211: 2008, 212: 2016, 213: 2011, 214: 2007, 215: 2015, 216: 2, 217: 2014, 218: 201, 219: 2014, 220: 2016, 221: 2012, 222: 2017, 223: 2016, 224: 2018, 225: 2008, 226: 2016, 227: 2016, 228: 2014, 229: 2008, 230: 2015, 231: 2017, 232: 2004, 233: 2019, 234: 2015, 235: 2005, 236: 2009, 237: 2011, 238: 2014, 239: 2016, 240: 2016, 241: 2017, 242: 2009, 243: 2006, 244: 2016, 245: 2004, 246: 2017, 247: 201, 248: 2012, 249: 2017, 250: 2011, 251: 2017, 252: 2005, 253: 2012, 254: 2019, 255: 2017, 256: 2015, 257: 2012, 258: 2011, 259: 2019, 260: 2008, 261: 2016, 262: 2014, 263: 2016, 264: 2015, 265: 2016, 266: 2013, 267: 2015, 268: 2017, 269: 2012, 270: 2002, 271: 2014, 272: 2017, 273: 2013, 274: 2017, 275: 2018, 276: 2015, 277: 2005, 278: 2011, 279: 2014, 280: 2013, 281: 201, 282: 2015, 283: 2013, 284: 2016, 285: 2009, 286: 2017, 287: 2011, 289: 2017, 290: 2018, 291: 1988, 292: 2015, 293: 2009, 294: 2011, 295: 2018, 296: 1973, 297: 2014, 298: 2017, 299: 2018, 300: 2017, 301: 201, 302: 2013, 303: 2017, 304: 2018, 305: 2009, 306: 2012, 307: 201, 308: 2014, 309: 2015, 310: 2013, 311: 2017, 312: 2013, 313: 2018, 314: 2017, 315: 1996, 316: 2016, 317: 2004, 318: 2016, 319: 2017, 320: 2018, 321: 2017, 322: 2019, 323: 2017, 324: 2011, 325: 2012, 326: 2011, 327: 2013, 328: 2005, 329: 2017, 330: 2017, 331: 2016, 332: 2015, 333: 2013, 334: 2012, 335: 201, 336: 2007, 337: 2014, 338: 2009, 339: 2014, 340: 2013, 341: 2018, 342: 2017, 343: 2016, 344: 2007, 345: 2015, 346: 2014, 347: 2006, 348: 2006, 349: 2014, 350: 201, 351: 2006, 352: 2014, 353: 2019, 354: 2015, 355: 2012, 356: 2011, 357: 2018, 358: 2014, 359: 2016, 360: 2014, 361: 2015, 362: 2013, 363: 2016, 364: 1966, 365: 2019, 366: 2011, 367: 2019, 368: 201, 369: 2013, 370: 201, 371: 2016, 372: 2013, 373: 2008, 374: 2016, 375: 2011, 376: 2016, 377: 2016, 378: 2014, 379: 2016, 380: 2017, 381: 1969, 382: 2006, 383: 2018, 384: 2011, 385: 2015, 386: 2013, 387: 2018, 388: 2015, 389: 2018, 390: 2006, 391: 2009, 392: 2013, 393: 2015, 394: 2016, 395: 2019, 396: 2015, 397: 2008, 398: 2016, 399: 2008, 400: 2009, 401: 2014, 402: 2016, 403: 2015, 404: 2014, 405: 2017, 406: 2012, 407: 2011, 408: 2011, 409: 2013, 410: 2004, 411: 2015, 412: 2014, 413: 2013, 414: 2015, 415: 2013, 416: 2008, 417: 2017, 418: 2014, 419: 2017, 420: 2012, 421: 2011, 422: 2015, 423: 2017, 424: 2015, 425: 2005, 426: 2019, 427: 2016, 428: 2012, 429: 2011, 430: 2013, 431: 2016, 432: 2013, 433: 2018, 434: 2016, 435: 2019, 436: 1998, 437: 2018, 438: 2011, 439: 2015, 440: 2015, 441: 2002, 442: 1995, 443: 2016, 444: 2009, 445: 2017, 446: 2017, 447: 201, 448: 2018, 449: 2019, 450: 2011, 451: 2015, 452: 2015, 453: 2018, 454: 2015, 455: 2015, 456: 2016, 457: 201, 458: 2017, 459: 2008, 460: 201, 461: 2013, 462: 2014, 463: 2018, 464: 2005, 465: 2015, 466: 2015, 467: 2002, 468: 2019, 469: 2017, 470: 2011, 471: 2012, 472: 2012, 473: 201, 474: 2015, 475: 2018, 476: 2013, 477: 2003, 478: 2015, 479: 2015, 480: 2018, 481: 2006, 482: 201, 483: 2018, 484: 2019, 485: 2014, 486: 1999, 487: 201, 488: 2014, 489: 2011, 490: 2014, 491: 2009, 492: 2018, 493: 2014, 494: 2008, 495: 2016, 496: 2015, 497: 2018, 498: 2007, 499: 1963, 500: 2016, 501: 2009, 502: 2009, 503: 2016, 504: 201, 505: 2019, 506: 2015, 507: 2018, 508: 2014, 509: 201, 510: 2017, 511: 2009, 512: 2011, 513: 2009, 514: 2008, 515: 2015, 516: 2019, 517: 2017, 518: 2003, 519: 2015, 520: 2013, 521: 201, 522: 2016, 523: 201, 524: 2012, 525: 2011, 526: 2012, 527: 2018, 528: 2011, 529: 2015, 530: 2018, 531: 2007, 532: 2004, 533: 2014, 534: 2013, 535: 2017, 536: 2009, 537: 2014, 538: 2016, 539: 2016, 540: 2012, 541: 2005, 542: 2011, 543: 2016, 544: 2013, 545: 2018, 546: 2011, 547: 201, 548: 2006, 549: 1997, 550: 2011, 551: 2019, 552: 2017, 553: 2009, 554: 2017, 555: 2016, 556: 1989, 557: 2012, 558: 2016, 559: 2016, 560: 201, 561: 2016, 562: 2018, 563: 2005, 564: 2012, 565: 2014, 566: 2006, 567: 2017, 568: 1999, 569: 2017, 570: 201, 571: 2013, 572: 2002, 573: 202, 574: 2017, 575: 2009, 576: 2011, 577: 2014, 578: 2019, 579: 2015, 580: 2017, 581: 2006, 582: 201, 583: 2015, 584: 2005, 585: 2015, 586: 2009, 587: 201, 588: 201, 589: 2015, 590: 201, 591: 2018, 592: 2011, 593: 2015, 594: 2007, 595: 2008, 596: 2014, 597: 2017, 598: 2012, 599: 2013, 600: 2018, 601: 2004, 602: 2014, 603: 2011, 604: 2016, 605: 1987, 606: 199, 607: 2017, 608: 2015, 609: 2017, 610: 2017, 611: 2014, 612: 2012, 613: 2011, 614: 2009, 615: 2011, 616: 2012, 617: 2013, 618: 2006, 619: 2015, 620: 2019, 621: 2018, 622: 201, 623: 2011, 624: 2017, 625: 1996, 626: 2011, 627: 2016, 628: 1992, 629: 2017, 630: 2019, 631: 2012, 632: 2019, 633: 2018, 634: 2008, 635: 2006, 636: 2016, 637: 2015, 638: 2003, 639: 201, 640: 2012, 641: 2009, 642: 2018, 643: 2017, 644: 2006, 645: 2016, 646: 2017, 647: 2011, 648: 2019, 649: 2014, 650: 2013, 651: 2016, 652: 2018, 653: 2018, 654: 2018, 655: 2018, 656: 2016, 657: 2013, 658: 2016, 659: 2017, 660: 2013, 661: 2019, 662: 2012, 663: 2008, 664: 201, 665: 2015, 666: 2009, 667: 2011, 668: 2015, 669: 2016, 670: 2013, 671: 201, 672: 201, 673: 2018, 674: 2017, 675: 2015, 676: 2011, 677: 2017, 678: 2012, 679: 2018, 680: 2013, 681: 2014, 682: 2014, 683: 201, 684: 2016, 685: 2015, 686: 201, 687: 2018, 688: 2014, 689: 2018, 690: 1999, 691: 2011, 692: 1992, 693: 2013, 694: 2015, 695: 2016, 696: 2014, 697: 2016, 698: 2009, 699: 2013, 700: 2015, 701: 2016, 702: 2015, 703: 2011, 704: 2019, 705: 201, 706: 201, 707: 1986, 708: 2011, 709: 2011, 710: 2013, 711: 2012, 712: 2018, 713: 2016, 714: 2012, 715: 2012, 716: 2015, 717: 2019, 718: 2016, 719: 2017, 720: 2011, 721: 2013, 722: 2019, 723: 2015, 724: 2011, 725: 2015, 726: 2011, 727: 2012, 728: 2015, 729: 2015, 730: 2011, 731: 2006, 732: 2013, 733: 2014, 734: 2015, 735: 2012, 736: 2017, 737: 2014, 738: 2007, 739: 2015, 740: 2017, 741: 2017, 742: 2017, 743: 2014, 744: 2017, 745: 2017, 746: 2017, 747: 2012, 748: 2019, 749: 2016, 750: 2018, 751: 2015, 752: 2016, 753: 201, 754: 2016, 755: 201, 756: 201, 757: 2018, 758: 2014, 759: 2013, 760: 2003, 761: 2019, 762: 2017, 763: 2019, 764: 2011, 765: 2013, 766: 2014, 767: 2017, 768: 2014, 769: 2007, 770: 2006, 771: 2015, 772: 1999, 773: 2015, 774: 2016, 775: 2008, 776: 2016, 777: 2017, 778: 201, 779: 2018, 780: 2018, 781: 2009, 782: 2006, 783: 2005, 784: 2018, 785: 2013, 786: 2004, 787: 2009, 788: 2013, 789: 2, 790: 2008, 791: 2013, 792: 1965, 793: 2015, 794: 2014, 795: 2015, 796: 2016, 797: 2014, 798: 2016, 799: 2014, 800: 2015, 801: 2013, 802: 2007, 803: 2015, 804: 2018, 805: 2007, 806: 2012, 807: 2016, 808: 2016, 809: 2014, 810: 2014, 811: 2016, 812: 2013, 813: 2018, 814: 2016, 815: 2015, 816: 2013, 817: 2013, 818: 2018, 819: 2016, 820: 2018, 821: 2016, 822: 2012, 823: 2018, 824: 2013, 825: 2016, 826: 2014, 827: 2018, 828: 2006, 829: 2016, 830: 1996, 831: 2017, 832: 2018, 833: 1966, 834: 2007, 835: 201, 836: 2007, 837: 2018, 838: 2007, 839: 1999, 840: 2019, 841: 2006, 842: 2018, 843: 2012, 844: 2017, 845: 2014, 846: 2008, 847: 2016, 848: 2012, 849: 2015, 850: 2016, 851: 2016, 852: 2002, 854: 2018, 855: 2018, 856: 2018, 857: 2017, 858: 2015, 859: 2003, 860: 2011, 861: 2012, 862: 2014, 863: 2018, 864: 2014, 865: 2015, 866: 2015, 867: 2017, 868: 1998, 869: 2013, 870: 2014, 871: 2019, 872: 2017, 873: 2013, 874: 2002, 875: 2018, 876: 2014, 877: 2016, 878: 2004, 879: 2015, 880: 2016, 881: 2018, 882: 2016, 883: 2013, 884: 201, 885: 2012, 886: 2013, 887: 2011, 888: 2015, 889: 201, 890: 2008, 891: 2001, 892: 2012, 893: 2008, 894: 2004, 895: 2003, 896: 2008, 897: 2011, 898: 2009, 899: 2015, 900: 2014, 901: 2007, 902: 2, 903: 2014, 904: 2013, 905: 2014, 906: 2016, 907: 201, 908: 201, 909: 1999, 910: 1999, 911: 2005, 912: 2006, 913: 2007, 914: 2005, 915: 2014, 916: 2014, 917: 2015, 918: 2007, 919: 2016, 920: 2014, 921: 2013, 922: 201, 923: 2014, 924: 1991, 925: 1992, 926: 2014, 927: 2018, 928: 2016, 929: 2008, 930: 2001, 931: 2013, 932: 2013, 933: 2015, 934: 2012, 935: 1964, 936: 2005, 937: 2, 938: 2018, 939: 2014, 940: 2009, 941: 2015, 942: 2004, 943: 2003, 944: 2008, 945: 2002, 946: 2016, 947: 2014, 948: 2011, 949: 2003, 950: 2018, 951: 2018, 952: 2015, 953: 2007, 954: 2012, 955: 2009, 956: 2013, 957: 2, 958: 2013, 959: 2016, 960: 2016, 961: 2018, 962: 2008, 963: 2007, 964: 2016, 965: 2016, 966: 2015, 967: 2009, 968: 2007, 969: 2015, 970: 2014, 971: 1998, 972: 2007, 973: 202, 974: 2014, 975: 2014, 976: 2016, 977: 2017, 978: 2017, 979: 2008, 980: 2009, 981: 2009, 982: 2015, 983: 2008, 984: 2013, 985: 201, 986: 2015, 987: 2011, 988: 2013, 989: 2013, 990: 2011, 991: 2012, 992: 2001, 993: 1991, 994: 2001, 995: 2009, 996: 2019, 997: 2018, 998: 2018, 999: 2019, 1000: 2015, 1001: 2015, 1002: 201, 1003: 2007, 1004: 201, 1005: 2017, 1006: 2019, 1007: 2005, 1008: 2, 1009: 2013, 1010: 2004, 1011: 2007, 1012: 1973, 1013: 2018, 1014: 2012, 1015: 2011, 1016: 2013, 1017: 2016, 1018: 2012, 1019: 2008, 1020: 2015, 1021: 201, 1022: 2008, 1023: 2004, 1024: 2017, 1025: 2019, 1026: 2018, 1027: 2018, 1028: 2019, 1029: 2018, 1030: 2001, 1031: 2004, 1032: 2003, 1033: 2012, 1034: 2011, 1035: 2009, 1036: 2006, 1037: 201, 1038: 2017, 1039: 2017, 1040: 2015, 1041: 2014, 1042: 2012, 1043: 2015, 1044: 1991, 1045: 199, 1046: 199, 1047: 2015, 1048: 2009, 1049: 2014, 1050: 2014, 1051: 2005, 1052: 2012, 1053: 2013, 1054: 2016, 1055: 2013, 1056: 2015, 1057: 2005, 1058: 2004, 1059: 2016, 1060: 2009, 1061: 201, 1062: 2015, 1063: 2013, 1064: 2017, 1065: 2009, 1066: 201, 1067: 2012, 1068: 2012, 1069: 201, 1070: 2018, 1071: 201, 1072: 2011, 1073: 2014, 1074: 2011, 1075: 2014, 1076: 2009, 1077: 2001, 1078: 2002, 1079: 2016, 1080: 2015, 1081: 2002, 1082: 2017, 1083: 2017, 1084: 2015, 1085: 2005, 1086: 2005, 1087: 2006, 1088: 2012, 1089: 2015, 1090: 2012, 1091: 2016, 1092: 1999, 1093: 2015, 1094: 2015, 1095: 2012, 1096: 2011, 1097: 2015, 1098: 201, 1099: 2004, 1100: 2008, 1101: 2017, 1102: 2015, 1103: 2012, 1104: 2013, 1105: 2014, 1106: 2016, 1107: 201, 1108: 2016, 1109: 2015, 1110: 2015, 1111: 2017, 1112: 2016, 1113: 2011, 1114: 2013, 1115: 2013, 1116: 2016, 1117: 2002, 1118: 2015, 1119: 2001, 1120: 2011, 1121: 2013, 1122: 2012, 1123: 2008, 1124: 2015, 1125: 1997, 1126: 1972, 1127: 2016, 1128: 2015, 1129: 2015, 1130: 2008, 1131: 2009, 1132: 2011, 1133: 2006, 1134: 2001, 1135: 2019, 1136: 2012, 1137: 2014, 1138: 2, 1139: 2017, 1140: 2008, 1141: 1982, 1142: 1984, 1143: 2017, 1144: 2015, 1145: 2019, 1146: 1996, 1147: 2004, 1148: 2009, 1149: 2, 1150: 2012, 1151: 2016, 1152: 2016, 1153: 2008, 1154: 2007, 1155: 2015, 1156: 2009, 1157: 2011, 1158: 2015, 1159: 2014, 1160: 2013, 1161: 2016, 1162: 2015, 1163: 2013, 1164: 2011, 1165: 2018, 1166: 2016, 1167: 2006, 1168: 2011, 1169: 2015, 1170: 201, 1171: 2002, 1172: 2007, 1173: 2006, 1174: 2011, 1175: 2016, 1176: 2014, 1177: 2014, 1178: 2009, 1179: 2001, 1180: 2014, 1181: 2005, 1182: 2008, 1183: 1999, 1184: 2012, 1185: 2017, 1186: 2011, 1187: 2012, 1188: 2011, 1189: 2012, 1190: 2011, 1191: 2019, 1192: 2015, 1193: 1973, 1194: 2012, 1195: 1987, 1196: 2015, 1197: 2003, 1198: 2008, 1199: 2009, 1200: 2011, 1201: 2008, 1202: 2015, 1203: 2017, 1204: 2016, 1205: 2008, 1206: 2011, 1207: 2008, 1208: 2017, 1209: 2001, 1210: 2019, 1211: 2008, 1212: 2006, 1213: 2011, 1214: 2012, 1215: 2011, 1216: 2011, 1217: 2011, 1218: 2009, 1219: 2012, 1220: 2005, 1221: 2014, 1222: 2015, 1223: 2016, 1224: 2016, 1225: 2016, 1226: 2016, 1227: 2015, 1228: 2013, 1229: 2014, 1230: 2016, 1231: 2014, 1232: 2014, 1233: 2012, 1234: 2017, 1235: 2009, 1236: 2004, 1237: 2002, 1238: 2011, 1239: 2013, 1240: 2016, 1241: 2014, 1242: 2, 1243: 2017, 1244: 2011, 1245: 2011, 1246: 2019, 1247: 2012, 1248: 2011, 1249: 2013, 1251: 2013, 1252: 2014, 1253: 2017, 1254: 2017, 1255: 2014, 1256: 2016, 1257: 2015, 1258: 2015, 1259: 2014, 1260: 2014, 1261: 2013, 1262: 2013, 1263: 2011, 1264: 201, 1265: 2012, 1266: 2001, 1267: 2001, 1268: 2015, 1269: 2006, 1270: 2013, 1271: 1997, 1272: 2011, 1273: 2015, 1274: 2014, 1275: 2014, 1276: 201, 1277: 2019, 1278: 2019, 1279: 2017, 1280: 2018, 1281: 2013, 1282: 2016, 1283: 2017, 1284: 2019, 1285: 2017, 1286: 2016, 1287: 2018, 1288: 2015, 1289: 2018, 1290: 2018, 1291: 2001, 1292: 2006, 1293: 2012, 1294: 1991, 1295: 2002, 1296: 2004, 1297: 2008, 1298: 2008, 1299: 2005, 1300: 2012, 1301: 2015, 1302: 2015, 1303: 2012, 1304: 2017, 1305: 2015, 1306: 2017, 1307: 2008, 1308: 2003, 1309: 2004, 1310: 2016, 1311: 2015, 1312: 2013, 1313: 2011, 1314: 2015, 1315: 2015, 1316: 2015, 1317: 2015, 1318: 2011, 1319: 2012, 1320: 2012, 1321: 201, 1322: 2011, 1323: 201, 1324: 2009, 1325: 2016, 1326: 1991, 1327: 2018, 1328: 2017, 1329: 2006, 1330: 2015, 1331: 2006, 1332: 2004, 1333: 2012, 1334: 2016, 1335: 2016, 1336: 2018, 1337: 2014, 1338: 2011, 1339: 2015, 1340: 2015, 1341: 2012, 1342: 2017, 1343: 2011, 1344: 2011, 1345: 2011, 1346: 2011, 1347: 2011, 1348: 2013, 1349: 2014, 1350: 2014, 1351: 2013, 1352: 2, 1353: 1983, 1354: 2002, 1355: 1997, 1356: 2002, 1357: 2006, 1358: 199, 1359: 1985, 1360: 1989, 1361: 2013, 1362: 201, 1363: 2002, 1364: 2019, 1365: 2018, 1366: 2017, 1367: 2018, 1368: 2015, 1369: 2016, 1370: 2017, 1371: 201, 1372: 2012, 1373: 2013, 1374: 2012, 1375: 1964, 1376: 1965, 1377: 2017, 1378: 2016, 1379: 2016, 1380: 2015, 1381: 2019, 1382: 2016, 1383: 2011, 1384: 2018, 1385: 2011, 1386: 2016, 1387: 2017, 1388: 2015, 1389: 2012, 1390: 2008, 1391: 201, 1392: 201, 1393: 2013, 1394: 2015, 1395: 2016, 1396: 2018, 1397: 2016, 1398: 2004, 1399: 2008, 1400: 2008, 1401: 201, 1402: 2009, 1403: 2015, 1404: 2016, 1405: 2012, 1406: 201, 1407: 2014, 1408: 1976, 1409: 1993, 1410: 2004, 1411: 2003, 1412: 2009, 1413: 2013, 1414: 2015, 1415: 2016, 1416: 2016, 1417: 2017, 1418: 2016, 1419: 2003, 1420: 2003, 1421: 2009, 1422: 2015, 1423: 2008, 1424: 2015, 1425: 2014, 1426: 2015, 1427: 2015, 1428: 2009, 1429: 2003, 1430: 2012, 1431: 2012, 1432: 2016, 1433: 2003, 1434: 2017, 1435: 2018, 1436: 2017, 1437: 2011, 1438: 2012, 1439: 2004, 1440: 2003, 1441: 2018, 1442: 2006, 1443: 2016, 1444: 2007, 1445: 2016, 1446: 2017, 1447: 201, 1448: 2008, 1449: 201, 1450: 2014, 1451: 2015, 1452: 2012, 1453: 2015, 1454: 201, 1455: 2015, 1456: 2012, 1457: 2011, 1458: 2017, 1459: 2008, 1460: 2015, 1461: 2017, 1462: 2012, 1463: 2013, 1464: 2015, 1465: 2015, 1466: 2019, 1467: 2016, 1468: 2011, 1469: 2011, 1470: 2015, 1471: 2012, 1472: 2018, 1473: 2009, 1474: 2001, 1475: 2013, 1476: 201, 1477: 2004, 1478: 2005, 1479: 2015, 1480: 2017, 1481: 2005, 1482: 2016, 1483: 201, 1484: 2014, 1485: 2009, 1486: 2015, 1487: 2014, 1488: 2007, 1489: 2, 1490: 2016, 1491: 2012, 1492: 2014, 1493: 2008, 1494: 2008, 1495: 2006, 1496: 2005, 1497: 2007, 1498: 2015, 1499: 1992, 1500: 1989, 1501: 1992, 1502: 1992, 1503: 2006, 1504: 2007, 1505: 2018, 1506: 2013, 1507: 2013, 1508: 1999, 1509: 2007, 1510: 2014, 1511: 2015, 1512: 2015, 1513: 201, 1514: 2012, 1515: 2013, 1516: 2015, 1517: 201, 1518: 2012, 1519: 2009, 1520: 2013, 1521: 2017, 1522: 2002, 1523: 2015, 1524: 2009, 1525: 2016, 1526: 2017, 1527: 2019, 1528: 1989, 1529: 2005, 1530: 1996, 1531: 1989, 1532: 1989, 1533: 2009, 1534: 2007, 1535: 1993, 1536: 2002, 1537: 201, 1538: 2014, 1539: 2013, 1540: 2005, 1541: 2007, 1542: 2007, 1543: 2016, 1544: 201, 1545: 2011, 1546: 2018, 1547: 2018, 1548: 2016, 1549: 1994, 1550: 2013, 1551: 2012, 1552: 2014, 1553: 2016, 1554: 201, 1555: 2017, 1556: 2011, 1557: 2015, 1558: 2011, 1559: 2011, 1560: 201, 1561: 2008, 1562: 2009, 1563: 2018, 1564: 2016, 1565: 2011, 1566: 2017, 1567: 2005, 1568: 2013, 1569: 2017, 1570: 1986, 1571: 2013, 1572: 2014, 1573: 2013, 1574: 2014, 1575: 2014, 1576: 2007, 1577: 2013, 1578: 2015, 1579: 201, 1580: 2002, 1581: 1981, 1582: 2013, 1583: 2014, 1584: 2019, 1585: 2014, 1586: 202, 1587: 2014, 1588: 2017, 1589: 2019, 1590: 2019, 1591: 2018, 1592: 2018, 1593: 2019, 1594: 2017, 1595: 2012, 1596: 2013, 1597: 2018, 1598: 2017, 1599: 2008, 1600: 2015, 1601: 1973, 1602: 2001, 1603: 2002, 1604: 1999, 1605: 2006, 1606: 2008, 1607: 2012, 1608: 2006, 1609: 2001, 1610: 2007, 1611: 2014, 1612: 2017, 1613: 201, 1614: 2009, 1615: 2009, 1616: 2005, 1617: 2006, 1618: 2015, 1619: 1991, 1620: 2011, 1621: 2012, 1622: 2014, 1623: 2002, 1624: 2011, 1625: 2017, 1626: 2019, 1627: 2004, 1628: 2005, 1629: 2016, 1630: 201, 1631: 2011, 1632: 2013, 1633: 2011, 1634: 2013, 1635: 2012, 1636: 2016, 1637: 2015, 1638: 2016, 1639: 2015, 1640: 2015, 1641: 2015, 1642: 2013, 1643: 2011, 1644: 2017, 1645: 2012, 1646: 2019, 1647: 2003, 1648: 2003, 1649: 2005, 1650: 2005, 1651: 2007, 1652: 2007, 1653: 2019, 1654: 2004, 1655: 2002, 1656: 2014, 1657: 2014, 1658: 2003, 1659: 2012, 1660: 2015, 1661: 2014, 1662: 2008, 1663: 2009, 1664: 201, 1665: 2015, 1666: 2019, 1667: 2015, 1668: 2013, 1669: 2007, 1670: 2015, 1671: 2013, 1672: 2017, 1673: 2013, 1674: 2013, 1675: 2012, 1676: 2016, 1677: 2016, 1678: 2015, 1679: 2018, 1680: 2017, 1681: 2011, 1682: 1996, 1683: 2004, 1684: 2007, 1685: 2009, 1686: 201, 1687: 201, 1688: 201, 1689: 2003, 1690: 2011, 1691: 2012, 1692: 2014, 1693: 2011, 1694: 2006, 1695: 1988, 1696: 1984, 1697: 2008, 1698: 2009, 1699: 2008, 1700: 2009, 1701: 1996, 1702: 201, 1703: 2014, 1704: 2017, 1705: 2018, 1706: 1989, 1707: 2014, 1708: 2013, 1709: 2011, 1710: 2016, 1711: 201, 1712: 201, 1713: 2007, 1714: 2007, 1715: 2008, 1716: 2009, 1717: 2008, 1718: 196, 1719: 1995, 1720: 2016, 1721: 2009, 1722: 2011, 1723: 2017, 1724: 2014, 1725: 2016, 1726: 2, 1727: 2003, 1728: 2008, 1729: 2012, 1730: 2011, 1731: 2011, 1732: 2014, 1733: 2014, 1734: 2011, 1735: 2008, 1736: 2013, 1737: 2013, 1738: 2019, 1739: 2013, 1740: 2013, 1741: 2012, 1742: 2013, 1743: 2015, 1744: 2013, 1745: 2019, 1746: 2002, 1747: 2004, 1748: 2004, 1749: 2014, 1750: 2014, 1751: 2016, 1752: 2018, 1753: 2012, 1754: 2009, 1755: 1998, 1756: 1997, 1757: 2016, 1758: 1998, 1759: 2018, 1760: 2015, 1761: 2012, 1762: 2017, 1763: 2013, 1764: 2014, 1765: 2012, 1766: 2012, 1767: 2015, 1768: 2015, 1769: 2005, 1770: 2007, 1771: 2014, 1772: 201, 1773: 2017, 1774: 2008, 1775: 2006, 1776: 2015, 1777: 2018, 1778: 2008, 1779: 2006, 1780: 2016, 1781: 2017, 1782: 2015, 1783: 2014, 1784: 2015, 1785: 2015, 1786: 2015, 1787: 2015, 1788: 2015, 1789: 2016, 1790: 2015, 1791: 2015, 1792: 201, 1793: 201, 1794: 2012, 1795: 2001, 1796: 2013, 1797: 2018, 1798: 2014, 1799: 2011, 1800: 201, 1801: 2011, 1802: 2009, 1803: 2, 1804: 2013, 1805: 2014, 1806: 2016, 1807: 2018, 1808: 2017, 1809: 2018, 1810: 2005, 1811: 1999, 1812: 2012, 1813: 2015, 1814: 2017, 1815: 2018, 1816: 2018, 1817: 2009, 1818: 2014, 1819: 2009, 1820: 201, 1821: 201, 1822: 2007, 1823: 2016, 1824: 2016, 1825: 2004, 1826: 2008, 1827: 196, 1828: 199, 1829: 1982, 1830: 2013, 1831: 2016, 1832: 2017, 1833: 2012, 1834: 1972, 1835: 2008, 1836: 2009, 1837: 2006, 1838: 2012, 1839: 2014, 1840: 2018, 1841: 2017, 1842: 1992, 1843: 2015, 1844: 2012, 1845: 2012, 1846: 2008, 1847: 2019, 1848: 2012, 1849: 2009, 1850: 2015, 1851: 2011, 1852: 201, 1853: 2013, 1854: 2013, 1855: 2014, 1856: 201, 1857: 1966, 1858: 1972, 1859: 2008, 1860: 2008, 1861: 2014, 1862: 2011, 1863: 2015, 1864: 2015, 1865: 2011, 1866: 2001, 1867: 2018, 1868: 2017, 1869: 2018, 1870: 2015, 1871: 2016, 1872: 2018, 1873: 2006, 1874: 2018, 1875: 2012, 1876: 2014, 1877: 2006, 1878: 2007, 1879: 2016, 1880: 2017, 1881: 2017, 1882: 1946, 1883: 201, 1884: 2015, 1885: 2001, 1886: 2003, 1887: 2003, 1888: 2, 1889: 2013, 1890: 2017, 1891: 2007, 1892: 2016, 1893: 2015, 1894: 2007, 1895: 2018, 1896: 2015, 1897: 2015, 1898: 2012, 1899: 2019, 1900: 2011, 1901: 2012, 1902: 201, 1903: 2012, 1904: 2009, 1905: 2012, 1906: 2016, 1907: 2013, 1908: 2012, 1909: 2012, 1910: 2016, 1911: 2012, 1912: 2019, 1913: 2016, 1914: 2012, 1915: 2004, 1916: 2004, 1917: 2002, 1918: 2006, 1919: 2002, 1920: 1999, 1921: 2003, 1922: 2013, 1923: 2014, 1924: 2006, 1926: 2013, 1927: 2011, 1928: 1987, 1929: 2019, 1930: 2013, 1931: 2017, 1932: 2015, 1933: 1987, 1934: 199, 1935: 2019, 1936: 2018, 1937: 2017, 1938: 2018, 1939: 201, 1940: 2006, 1941: 2011, 1942: 201, 1943: 2009, 1944: 2018, 1945: 2017, 1946: 2009, 1947: 2018, 1948: 2016, 1949: 2015, 1950: 2016, 1951: 2014, 1952: 2013, 1953: 2017, 1954: 2015, 1955: 2015, 1956: 2008, 1957: 2013, 1958: 201, 1959: 2016, 1960: 2018, 1961: 2017, 1962: 1998, 1963: 201, 1964: 196, 1965: 2011, 1966: 2015, 1967: 201, 1968: 2018, 1969: 2017, 1970: 2016, 1971: 2006, 1972: 2016, 1973: 2017, 1974: 2016, 1975: 2018, 1976: 2011, 1977: 2017, 1978: 2015, 1979: 2012, 1980: 2013, 1981: 2001, 1982: 2005, 1983: 2017, 1984: 2015, 1985: 2014, 1986: 2018, 1987: 2015, 1988: 2014, 1989: 2014, 1990: 2019, 1991: 201, 1992: 2008, 1993: 2011, 1994: 2011, 1995: 1972, 1996: 2016, 1997: 2012, 1998: 2012, 1999: 2008, 2000: 2007, 2001: 2008, 2002: 2013, 2003: 2014, 2004: 2018, 2005: 2014, 2006: 2008, 2007: 2007, 2008: 2009, 2009: 2007, 2010: 2017, 2011: 2003, 2012: 2, 2013: 2011, 2014: 2003, 2015: 2015, 2016: 1969, 2017: 2015, 2018: 2017, 2019: 2019, 2020: 2015, 2021: 2018, 2022: 2013, 2023: 2012, 2024: 2013, 2025: 2005, 2026: 2015, 2027: 2017, 2028: 2018, 2029: 2018, 2030: 2015, 2031: 2015, 2032: 2015, 2033: 2015, 2034: 2012, 2035: 2014, 2036: 2013, 2037: 2013, 2038: 2015, 2039: 2014, 2040: 2006, 2041: 2015, 2043: 2016, 2044: 2006, 2045: 2006, 2046: 2006, 2047: 1986, 2048: 2015, 2049: 2017, 2050: 201, 2051: 2015, 2052: 2007, 2053: 2007, 2054: 2011, 2055: 2005, 2056: 2017, 2057: 2008, 2058: 2008, 2059: 2008, 2060: 2009, 2061: 2012, 2062: 2013, 2063: 2017, 2064: 201, 2065: 2013, 2066: 2017, 2067: 2013, 2068: 2014, 2069: 2014, 2070: 2008, 2071: 2015, 2072: 2014, 2073: 2017, 2074: 2016, 2075: 2016, 2076: 2016, 2077: 1999, 2078: 2013, 2079: 2015, 2080: 2011, 2081: 2012, 2082: 2014, 2083: 2015, 2084: 2017, 2085: 2006, 2086: 2003, 2087: 2001, 2088: 2007, 2089: 2003, 2090: 2003, 2091: 2002, 2092: 2018, 2093: 2015, 2094: 2015, 2095: 1999, 2096: 2018, 2097: 2017, 2098: 2016, 2099: 2017, 2100: 2009, 2101: 201, 2102: 2009, 2103: 2016, 2104: 2017, 2105: 2017, 2106: 2016, 2107: 2017, 2108: 2007, 2109: 2008, 2110: 2018, 2111: 2018, 2112: 2012, 2113: 1971, 2114: 2001, 2115: 2001, 2116: 2011, 2117: 1981, 2118: 2005, 2119: 2006, 2120: 2006, 2121: 1996, 2122: 2001, 2123: 2014, 2124: 2017, 2125: 2011, 2126: 2015, 2127: 2008, 2128: 2018, 2129: 2015, 2130: 2012, 2131: 2012, 2132: 1997, 2133: 2013, 2134: 201, 2135: 2012, 2136: 2007, 2137: 2006, 2138: 2017, 2139: 2014, 2140: 2014, 2141: 2018, 2142: 2017, 2143: 2012, 2144: 1988, 2145: 199, 2146: 1987, 2147: 1989, 2148: 1985, 2149: 1982, 2150: 2011, 2151: 201, 2152: 2013, 2153: 2014, 2154: 2014, 2155: 2011, 2156: 2012, 2157: 2011, 2158: 1985, 2159: 1996, 2160: 201, 2161: 201, 2162: 2011, 2163: 2014, 2164: 2008, 2165: 2009, 2166: 2008, 2167: 2011, 2168: 2014, 2169: 2011, 2170: 2012, 2171: 2011, 2172: 2011, 2173: 2009, 2174: 201, 2175: 2015, 2176: 2007, 2177: 2016, 2178: 2005, 2179: 1971, 2180: 2018, 2181: 2016, 2182: 2011, 2183: 1996, 2184: 1991, 2185: 2013, 2186: 2016, 2187: 2016, 2188: 2017, 2189: 2018, 2190: 2017, 2191: 2008, 2192: 2009, 2193: 2015, 2194: 2009, 2195: 2012, 2196: 2015, 2197: 2017, 2198: 201, 2199: 2017, 2200: 2013, 2201: 2018, 2202: 2013, 2203: 2012, 2204: 2016, 2205: 2018, 2206: 201, 2207: 2012, 2208: 2004, 2209: 2009, 2210: 2009, 2211: 2008, 2212: 2014, 2213: 2017, 2214: 2017, 2215: 2005, 2216: 2017, 2217: 2014, 2218: 2015, 2219: 2014, 2220: 2014, 2221: 2017, 2222: 2015, 2223: 2011, 2224: 2013, 2225: 2, 2226: 2013, 2227: 2007, 2228: 2014, 2229: 1938, 2230: 2016, 2231: 2015, 2232: 2017, 2233: 2015, 2234: 2016, 2235: 2015, 2236: 2015, 2237: 2008, 2238: 2012, 2239: 2015, 2240: 2008, 2241: 2006, 2242: 201, 2243: 2003, 2244: 2011, 2245: 2008, 2246: 2015, 2247: 2015, 2248: 2018, 2249: 2009, 2250: 2015, 2251: 2007, 2252: 2008, 2253: 2008, 2254: 2017, 2255: 2009, 2256: 2018, 2257: 2009, 2258: 2012, 2259: 2015, 2260: 2004, 2261: 2013, 2262: 2012, 2263: 2003, 2264: 2014, 2265: 1966, 2266: 2017, 2267: 2017, 2268: 2017, 2269: 2017, 2270: 2016, 2271: 2016, 2272: 201, 2273: 2012, 2274: 2014, 2275: 201, 2276: 2008, 2277: 2013, 2278: 2012, 2279: 2013, 2280: 2014, 2281: 2014, 2282: 2013, 2283: 2002, 2284: 2014, 2285: 201, 2286: 2009, 2287: 2015, 2288: 2014, 2289: 2016, 2290: 201, 2291: 2015, 2292: 2015, 2293: 2014, 2294: 2009, 2295: 2001, 2296: 2008, 2297: 2015, 2298: 2014, 2299: 2015, 2300: 2012, 2301: 2014, 2302: 2014, 2303: 2007, 2304: 201, 2305: 2006, 2306: 1968, 2307: 2011, 2308: 2016, 2309: 2017, 2310: 2017, 2311: 2018, 2312: 2018, 2313: 2014, 2314: 2013, 2315: 2015, 2316: 2014, 2317: 2006, 2318: 1999, 2319: 1998, 2320: 2007, 2321: 2, 2322: 2009, 2323: 2008, 2324: 2014, 2325: 2013, 2326: 2011, 2327: 201, 2328: 1975, 2329: 193, 2330: 2014, 2331: 2006, 2332: 2015, 2333: 2016, 2334: 2015, 2335: 2017, 2336: 2014, 2337: 2014, 2338: 2018, 2339: 2018, 2340: 2011, 2341: 2016, 2342: 2016, 2343: 2018, 2344: 2014, 2345: 2014, 2346: 2015, 2347: 2011, 2348: 2014, 2349: 2014, 2350: 2013, 2351: 1998, 2352: 2, 2353: 1997, 2354: 2009, 2355: 2013, 2356: 2014, 2357: 1967, 2358: 2, 2359: 201, 2360: 2013, 2361: 2017, 2362: 2014, 2363: 2012, 2364: 2014, 2365: 2008, 2366: 2007, 2367: 2011, 2368: 2019, 2369: 2002, 2370: 2013, 2371: 2009, 2372: 2018, 2373: 2013, 2374: 2018, 2375: 2018, 2376: 2009, 2377: 2001, 2378: 2013, 2379: 1986, 2380: 1986, 2381: 1986, 2382: 2014, 2383: 1999, 2384: 2014, 2385: 2014, 2386: 2017, 2387: 2014, 2388: 2016, 2389: 2016, 2390: 2012, 2391: 2013, 2392: 2011, 2393: 1988, 2394: 1987, 2395: 2009, 2396: 201, 2397: 2004, 2398: 201, 2399: 1931, 2400: 2002, 2401: 2007, 2402: 2015, 2403: 1987, 2404: 2014, 2405: 2015, 2406: 1999, 2407: 2008, 2408: 2007, 2409: 2015, 2410: 2007, 2411: 201, 2412: 2008, 2413: 2007, 2414: 2009, 2415: 2017, 2416: 2014, 2417: 2004, 2418: 2016, 2419: 201, 2420: 2018, 2421: 2003, 2422: 2004, 2423: 2012, 2424: 2014, 2425: 2015, 2426: 2008, 2427: 2015, 2428: 2014, 2429: 2014, 2430: 2015, 2431: 2014, 2432: 2018, 2433: 2015, 2434: 2016, 2435: 2011, 2436: 2017, 2437: 2017, 2438: 2017, 2439: 2017, 2440: 2019, 2441: 1997, 2442: 1992, 2443: 2007, 2444: 2019, 2445: 2013, 2446: 1976, 2447: 1956, 2448: 2013, 2449: 2014, 2450: 2008, 2451: 2016, 2452: 2017, 2453: 2014, 2454: 2015, 2455: 2018, 2456: 1997, 2457: 2013, 2458: 2014, 2459: 201, 2460: 2011, 2461: 2011, 2462: 201, 2463: 2015, 2464: 196, 2465: 2016, 2466: 1992, 2467: 2016, 2468: 2019, 2469: 201, 2470: 2001, 2471: 2011, 2472: 2, 2473: 2019, 2474: 2016, 2475: 2018, 2476: 202, 2477: 2012, 2478: 2012, 2479: 2015, 2480: 2018, 2481: 2015, 2482: 2009, 2483: 201, 2484: 2008, 2485: 2004, 2486: 2019, 2487: 2007, 2488: 2014, 2489: 1969, 2490: 1972, 2491: 2014, 2492: 2015, 2493: 2002, 2494: 2006, 2495: 2018, 2496: 2016, 2497: 2009, 2498: 2013, 2499: 2018, 2500: 2011, 2501: 2012, 2502: 2017, 2503: 201, 2504: 2014, 2505: 2005, 2506: 2012, 2507: 2012, 2508: 2018, 2509: 1995, 2510: 2019, 2511: 2019, 2512: 2014, 2513: 2016, 2514: 1972, 2515: 2008, 2516: 2013, 2517: 2016, 2518: 2018, 2519: 2013, 2520: 2014, 2521: 2018, 2522: 2017, 2523: 2016, 2524: 2018, 2525: 2018, 2526: 2009, 2527: 2012, 2528: 2013, 2529: 2008, 2530: 2007, 2531: 201, 2532: 2015, 2533: 2013, 2534: 2012, 2535: 2013, 2536: 1997, 2537: 1998, 2538: 2011, 2539: 2011, 2540: 2014, 2541: 2007, 2542: 2007, 2543: 2012, 2544: 2005, 2545: 2007, 2546: 2005, 2547: 2002, 2548: 1981, 2549: 1983, 2550: 2016, 2551: 2008, 2552: 2009, 2553: 2018, 2554: 1996, 2555: 2012, 2556: 2012, 2557: 2001, 2558: 1999, 2559: 2006, 2560: 2009, 2561: 2019, 2562: 2017, 2563: 2018, 2564: 2013, 2565: 2015, 2566: 2017, 2567: 2015, 2568: 2016, 2569: 2018, 2570: 2016, 2571: 2018, 2572: 2018, 2573: 2016, 2574: 2015, 2575: 2013, 2576: 2017, 2577: 2014, 2578: 1999, 2579: 2014, 2580: 2016, 2581: 2016, 2582: 2014, 2583: 2015, 2584: 2007, 2585: 2016, 2586: 2013, 2587: 2017, 2588: 2012, 2589: 2016, 2590: 2013, 2591: 2017, 2592: 2015, 2593: 2016, 2594: 2011, 2595: 2015, 2596: 2013, 2597: 2008, 2598: 2014, 2599: 2003, 2600: 2003, 2601: 2008, 2602: 2006, 2603: 2013, 2604: 2016, 2605: 2017, 2606: 2016, 2607: 2013, 2608: 1997, 2609: 201, 2610: 1983, 2611: 2015, 2612: 2018, 2613: 2014, 2614: 2007, 2615: 2015, 2616: 2, 2617: 1998, 2618: 2017, 2619: 201, 2620: 2011, 2621: 2018, 2622: 2019, 2623: 2007, 2624: 2011, 2625: 2011, 2626: 201, 2627: 2012, 2628: 2015, 2629: 2011, 2630: 2014, 2631: 2012, 2632: 2018, 2633: 2018, 2634: 2018, 2635: 2002, 2636: 2018, 2637: 2017, 2638: 2019, 2639: 2015, 2640: 2013, 2641: 2012, 2642: 2005, 2643: 2013, 2644: 2012, 2645: 2018, 2646: 2009, 2647: 2008, 2648: 201, 2649: 2019, 2650: 2017, 2651: 2008, 2652: 2006, 2653: 2012, 2654: 2017, 2655: 2018, 2656: 2017, 2657: 2013, 2658: 2014, 2659: 2017, 2660: 201, 2661: 201, 2662: 201, 2663: 1999, 2664: 2, 2665: 2015, 2666: 2016, 2667: 2016, 2668: 2016, 2669: 2013, 2670: 2014, 2671: 2009, 2672: 2008, 2673: 2015, 2674: 2015, 2675: 2008, 2676: 2008, 2677: 2017, 2678: 2006, 2679: 2016, 2680: 201, 2681: 2016, 2682: 1997, 2683: 1997, 2684: 2015, 2685: 2005, 2686: 2004, 2687: 2012, 2688: 2012, 2689: 2017, 2690: 2009, 2691: 2007, 2692: 2014, 2693: 2011, 2694: 201, 2695: 2016, 2696: 2015, 2697: 2018, 2698: 2013, 2699: 2011, 2700: 2019, 2701: 2015, 2702: 2015, 2703: 2017, 2704: 1996, 2705: 2015, 2706: 2013, 2707: 2019, 2708: 2019, 2709: 2019, 2710: 2017, 2711: 2015, 2712: 2015, 2713: 2003, 2714: 2003, 2715: 2016, 2716: 2009, 2717: 2015, 2718: 1978, 2719: 202, 2720: 2009, 2721: 2006, 2722: 2013, 2723: 2014, 2724: 2001, 2725: 2016, 2726: 2016, 2727: 2014, 2728: 2006, 2729: 2006, 2730: 2005, 2731: 2013, 2732: 2018, 2733: 2016, 2734: 2016, 2735: 2018, 2736: 1994, 2737: 2014, 2738: 2015, 2739: 2001, 2740: 2016, 2741: 1968, 2742: 1978, 2743: 2011, 2744: 2015, 2745: 2013, 2746: 1988, 2747: 1989, 2748: 2017, 2749: 2018, 2750: 2017, 2751: 2002, 2752: 2004, 2753: 2008, 2754: 2007, 2755: 2016, 2756: 2011, 2757: 2019, 2758: 2014, 2759: 2015, 2760: 2011, 2761: 2014, 2762: 2003, 2763: 2007, 2764: 2014, 2765: 2019, 2766: 2017, 2767: 2017, 2768: 1972, 2769: 2013, 2770: 2016, 2771: 201, 2772: 1998, 2773: 2009, 2774: 2009, 2775: 2016, 2776: 2016, 2777: 2015, 2778: 2018, 2779: 2, 2780: 2012, 2781: 2011, 2782: 1999, 2783: 2016, 2784: 2018, 2785: 2014, 2786: 2016, 2787: 2019, 2788: 2012, 2789: 2016, 2790: 199, 2791: 1991, 2792: 1996, 2793: 2011, 2794: 2014, 2795: 2013, 2796: 2, 2797: 2012, 2798: 2007, 2799: 2015, 2800: 2015, 2801: 2018, 2802: 201, 2803: 2011, 2804: 2008, 2805: 2015, 2806: 2015, 2807: 2016, 2808: 2015, 2809: 2014, 2810: 2018, 2811: 2013, 2812: 2014, 2813: 2011, 2814: 2013, 2815: 2018, 2816: 1983, 2817: 2014, 2818: 2014, 2819: 2014, 2820: 2018, 2821: 2012, 2822: 2014, 2823: 2012, 2824: 2011, 2825: 2015, 2826: 2015, 2827: 2016, 2828: 2006, 2829: 2013, 2830: 2011, 2831: 2016, 2832: 2018, 2833: 201, 2834: 2012, 2835: 2015, 2836: 2017, 2837: 2017, 2838: 2017, 2839: 2019, 2840: 2019, 2841: 2016, 2842: 2014, 2843: 2017, 2844: 2008, 2846: 2008, 2847: 2011, 2848: 2009, 2849: 2014, 2850: 2013, 2851: 2016, 2852: 2015, 2853: 2001, 2854: 2015, 2855: 2002, 2856: 2001, 2857: 2009, 2858: 1977, 2859: 2005, 2860: 2016, 2861: 201, 2862: 2005, 2863: 2015, 2864: 2013, 2865: 2014, 2866: 2012, 2867: 2013, 2868: 2016, 2869: 2017, 2870: 2014, 2871: 2009, 2872: 2007, 2873: 2005, 2874: 2008, 2875: 2017, 2876: 2012, 2877: 2008, 2878: 2009, 2879: 2016, 2880: 2017, 2881: 2015, 2882: 2008, 2883: 2011, 2884: 2013, 2885: 1999, 2886: 201, 2887: 2001, 2888: 2017, 2889: 2012, 2890: 2012, 2891: 1976, 2892: 2009, 2893: 2009, 2894: 201, 2895: 2012, 2896: 2007, 2897: 2013, 2898: 2013, 2899: 2012, 2900: 2013, 2901: 2016, 2902: 2008, 2903: 2006, 2904: 2016, 2905: 2011, 2906: 2012, 2907: 2008, 2908: 2014, 2909: 2015, 2910: 2014, 2911: 201, 2912: 2009, 2913: 201, 2914: 2007, 2915: 2011, 2916: 1998, 2917: 2007, 2918: 2007, 2919: 201, 2920: 2009, 2921: 2017, 2922: 2015, 2923: 2015, 2924: 1973, 2925: 2013, 2926: 2012, 2927: 2009, 2928: 2013, 2929: 2016, 2930: 2015, 2931: 2012, 2932: 2003, 2933: 1979, 2934: 1986, 2935: 1989, 2936: 1986, 2937: 2009, 2938: 2004, 2939: 2005, 2940: 2007, 2941: 2016, 2942: 2019, 2943: 2005, 2944: 2014, 2945: 2016, 2946: 2013, 2947: 2013, 2948: 2006, 2949: 2013, 2950: 1996, 2951: 2018, 2952: 2017, 2953: 2018, 2954: 2012, 2955: 1993, 2956: 2004, 2957: 2015, 2958: 2016, 2959: 2017, 2960: 2017, 2961: 2015, 2962: 2003, 2963: 2012, 2964: 1999, 2965: 1999, 2966: 2016, 2967: 2007, 2968: 2016, 2969: 2019, 2970: 2016, 2971: 2014, 2972: 201, 2973: 2015, 2974: 201, 2975: 2011, 2976: 2012, 2977: 201, 2978: 2017, 2979: 2018, 2980: 2017, 2981: 2014, 2982: 2012, 2983: 2014, 2984: 2009, 2985: 2016, 2986: 2017, 2987: 2011, 2988: 2016, 2989: 2016, 2990: 2008, 2991: 2012, 2992: 2011, 2993: 2013, 2994: 2015, 2995: 2017, 2996: 2017, 2997: 2018, 2998: 2016, 2999: 1997, 3000: 2014, 3001: 2012, 3002: 2013, 3003: 1994, 3004: 1997, 3005: 2011, 3006: 2014, 3007: 2017, 3008: 2017, 3009: 2016, 3010: 2017, 3011: 2007, 3012: 2006, 3013: 2014, 3014: 2019, 3015: 201, 3016: 2016, 3017: 2015, 3018: 2017, 3019: 2016, 3020: 2015, 3021: 2017, 3022: 1962, 3023: 2013, 3024: 2006, 3025: 2016, 3026: 2016, 3027: 2008, 3028: 2018, 3029: 2018, 3030: 2018, 3031: 2014, 3032: 2007, 3033: 2005, 3034: 2014, 3035: 2018, 3036: 1958, 3037: 2018, 3038: 2014, 3039: 2015, 3040: 2017, 3041: 2012, 3042: 2019, 3043: 2015, 3044: 1998, 3045: 2019, 3046: 2002, 3047: 2001, 3048: 2004, 3049: 2002, 3050: 2015, 3051: 2012, 3052: 2007, 3053: 2005, 3054: 2007, 3055: 201, 3056: 2012, 3057: 2013, 3058: 2017, 3059: 2015, 3060: 2017, 3061: 2004, 3062: 2019, 3063: 2017, 3064: 2012, 3065: 2016, 3066: 2017, 3067: 2009, 3068: 2014, 3069: 2015, 3070: 2018, 3071: 2013, 3072: 2018, 3073: 2014, 3074: 201, 3075: 2012, 3076: 2013, 3077: 2015, 3078: 2015, 3079: 2009, 3080: 2015, 3081: 1987, 3082: 1993, 3083: 2017, 3084: 2017, 3085: 2015, 3086: 2018, 3087: 2013, 3088: 2013, 3089: 2011, 3090: 2017, 3091: 2001, 3092: 1966, 3093: 2016, 3094: 2015, 3095: 2013, 3096: 2015, 3097: 201, 3098: 2012, 3099: 195, 3100: 2012, 3101: 2013, 3102: 2018, 3103: 2015, 3104: 2013, 3105: 2011, 3106: 199, 3107: 2015, 3108: 2015, 3109: 2017, 3110: 2018, 3111: 2007, 3112: 2006, 3113: 2006, 3114: 2014, 3115: 2016, 3116: 2018, 3117: 2004, 3118: 2013, 3119: 2012, 3120: 2004, 3121: 2015, 3122: 2017, 3123: 2016, 3124: 201, 3125: 2017, 3126: 2007, 3127: 1967, 3128: 2014, 3129: 2015, 3130: 2009, 3131: 2015, 3132: 1989, 3133: 201, 3134: 2011, 3135: 2018, 3136: 2017, 3137: 2006, 3138: 201, 3139: 2018, 3140: 2014, 3141: 2014, 3142: 2016, 3143: 2013, 3144: 2015, 3145: 2007, 3146: 2012, 3147: 1983, 3148: 1991, 3149: 2009, 3150: 201, 3151: 2007, 3152: 2015, 3153: 2016, 3154: 2006, 3155: 2008, 3156: 2009, 3157: 2006, 3158: 2001, 3159: 2002, 3160: 2015, 3161: 1966, 3162: 1963, 3163: 1966, 3164: 2014, 3165: 2015, 3166: 201, 3167: 2017, 3168: 2017, 3169: 2018, 3170: 2015, 3171: 2013, 3172: 2013, 3173: 2009, 3174: 2014, 3175: 2012, 3176: 201, 3177: 1981, 3178: 2018, 3179: 2017, 3180: 1976, 3181: 1991, 3182: 1991, 3183: 2013, 3184: 2019, 3185: 1965, 3186: 2017, 3187: 2016, 3188: 2015, 3189: 201, 3190: 201, 3191: 2015, 3192: 2017, 3193: 2019, 3194: 2019, 3195: 2019, 3196: 2005, 3197: 2014, 3198: 2007, 3199: 2019, 3200: 2014, 3201: 2011, 3202: 2011, 3203: 2011, 3204: 1995, 3205: 199, 3206: 1991, 3207: 2014, 3208: 2008, 3209: 201, 3210: 2011, 3211: 201, 3212: 2012, 3213: 2014, 3214: 2018, 3215: 2015, 3216: 2014, 3217: 2018, 3218: 2015, 3219: 2016, 3220: 2005, 3221: 2012, 3222: 2011, 3223: 2018, 3224: 2017, 3225: 2009, 3226: 2002, 3227: 2013, 3228: 2017, 3229: 2013, 3230: 2017, 3231: 2, 3232: 2016, 3233: 2016, 3234: 2006, 3235: 2007, 3236: 2017, 3237: 2018, 3238: 2017, 3239: 2018, 3240: 2015, 3241: 2014, 3242: 2012, 3243: 2011, 3244: 2013, 3245: 2019, 3246: 2018, 3247: 2014, 3248: 2015, 3249: 2008, 3250: 2008, 3251: 2004, 3252: 2006, 3253: 2016, 3254: 2017, 3255: 2018, 3256: 2011, 3257: 2017, 3258: 2018, 3259: 2018, 3260: 2018, 3261: 2007, 3262: 2013, 3263: 2013, 3264: 2006, 3265: 2018, 3266: 1985, 3267: 2007, 3268: 201, 3269: 2007, 3270: 2012, 3271: 2017, 3272: 2019, 3273: 2011, 3274: 2008, 3275: 1996, 3276: 2014, 3277: 1947, 3278: 2017, 3279: 2011, 3280: 2007, 3281: 2009, 3282: 201, 3283: 2009, 3284: 2018, 3285: 1999, 3286: 2, 3287: 2009, 3288: 2013, 3289: 2015, 3290: 2014, 3291: 2008, 3292: 2017, 3293: 2016, 3294: 2014, 3295: 2017, 3296: 201, 3297: 2013, 3298: 2017, 3299: 2014, 3300: 2013, 3301: 2014, 3302: 2012, 3303: 2017, 3304: 2012, 3305: 2015, 3306: 1998, 3307: 2017, 3308: 2018, 3309: 2018, 3310: 2018, 3311: 2014, 3312: 2018, 3313: 2002, 3314: 2017, 3315: 2006, 3316: 1953, 3317: 1978, 3318: 1991, 3319: 2017, 3320: 2014, 3321: 2008, 3322: 2018, 3323: 2016, 3324: 2009, 3325: 2005, 3326: 2003, 3327: 2002, 3328: 2003, 3329: 2009, 3330: 2019, 3331: 2001, 3332: 201, 3333: 2014, 3334: 2014, 3335: 2011, 3336: 2011, 3337: 2018, 3338: 2011, 3339: 201, 3340: 2013, 3341: 2017, 3342: 2013, 3343: 2008, 3344: 2009, 3345: 2005, 3346: 2015, 3347: 201, 3348: 2015, 3349: 2009, 3350: 2004, 3351: 2015, 3352: 2016, 3353: 2017, 3354: 2014, 3355: 2012, 3356: 201, 3357: 2009, 3358: 2015, 3359: 2017, 3360: 2019, 3361: 2011, 3362: 2011, 3363: 2012, 3364: 2011, 3365: 201, 3366: 2017, 3367: 2006, 3368: 1966, 3369: 1996, 3370: 2017, 3371: 2009, 3372: 2005, 3373: 1998, 3374: 1999, 3375: 2018, 3376: 2018, 3377: 2009, 3378: 2008, 3379: 2016, 3380: 2017, 3381: 2013, 3382: 2019, 3383: 2006, 3384: 2014, 3385: 2003, 3386: 1999, 3387: 2018, 3388: 2015, 3389: 2008, 3390: 2017, 3391: 201, 3392: 2006, 3393: 2016, 3394: 2011, 3395: 1985, 3396: 1973, 3397: 2018, 3398: 2002, 3399: 2007, 3400: 2007, 3401: 1972, 3402: 2014, 3403: 2009, 3404: 2, 3405: 2012, 3406: 2019, 3407: 2014, 3408: 2015, 3409: 1965, 3410: 2015, 3411: 2014, 3412: 2019, 3413: 2016, 3414: 2016, 3415: 1967, 3416: 201, 3417: 2003, 3418: 2017, 3419: 2018, 3420: 2018, 3421: 2016, 3422: 2018, 3423: 2016, 3424: 202, 3425: 2009, 3426: 2001, 3427: 2005, 3428: 2004, 3429: 2015, 3430: 201, 3431: 2001, 3432: 2003, 3433: 2017, 3434: 2015, 3435: 2018, 3436: 2014, 3437: 2019, 3438: 2014, 3439: 2016, 3440: 2016, 3441: 2008, 3442: 2004, 3443: 2007, 3444: 2013, 3445: 2014, 3446: 2002, 3447: 1992, 3448: 2011, 3449: 2002, 3450: 2016, 3451: 1993, 3452: 2011, 3453: 2013, 3454: 2012, 3455: 2014, 3456: 201, 3457: 2001, 3458: 2019, 3459: 201, 3460: 2014, 3461: 2018, 3462: 2018, 3463: 2006, 3464: 2007, 3465: 2016, 3466: 2015, 3467: 2009, 3468: 197, 3469: 2006, 3470: 2006, 3471: 1967, 3472: 2017, 3473: 2013, 3474: 2014, 3475: 2013, 3476: 2019, 3477: 2013, 3478: 2011, 3479: 2016, 3480: 2001, 3481: 2001, 3482: 1989, 3483: 2008, 3484: 2019, 3485: 2018, 3486: 2006, 3487: 2014, 3488: 2016, 3489: 2015, 3490: 2016, 3491: 2016, 3492: 2006, 3493: 2013, 3494: 1992, 3495: 201, 3496: 2009, 3497: 2019, 3498: 2013, 3499: 1984, 3500: 2, 3501: 1973, 3502: 2014, 3503: 2013, 3504: 2008, 3505: 2017, 3506: 2003, 3507: 2008, 3508: 2007, 3509: 2013, 3510: 2006, 3511: 2011, 3512: 1962, 3513: 2013, 3515: 2017, 3516: 2016, 3517: 2008, 3518: 2009, 3519: 2019, 3520: 2003, 3521: 201, 3522: 2018, 3523: 2011, 3524: 2015, 3525: 2002, 3526: 2003, 3527: 2005, 3528: 2006, 3529: 2016, 3530: 2014, 3531: 2015, 3532: 2016, 3533: 1987, 3534: 2004, 3535: 2005, 3536: 2017, 3537: 2014, 3538: 2014, 3539: 2013, 3540: 2014, 3541: 1999, 3542: 2017, 3543: 2016, 3544: 1965, 3545: 2003, 3546: 2015, 3547: 2006, 3548: 2008, 3549: 2019, 3550: 201, 3551: 1995, 3552: 1995, 3553: 2019, 3554: 2014, 3555: 2019, 3556: 2013, 3557: 2017, 3558: 2006, 3559: 1981, 3560: 2012, 3561: 2008, 3562: 201, 3563: 1958, 3564: 2011, 3565: 2018, 3566: 1982, 3567: 1986, 3568: 2013, 3569: 2014, 3570: 2017, 3571: 201, 3572: 2009, 3573: 2019, 3574: 2019, 3575: 2018, 3576: 2008, 3577: 2018, 3578: 2012, 3579: 2017, 3580: 2017, 3581: 2015, 3582: 2012, 3583: 2015, 3584: 2002, 3585: 2002, 3586: 2002, 3587: 1985, 3588: 1989, 3589: 2015, 3590: 1993, 3591: 2001, 3592: 2004, 3593: 2009, 3594: 2017, 3595: 2016, 3596: 2013, 3597: 1989, 3598: 2014, 3599: 2004, 3600: 2008, 3601: 2008, 3602: 2015, 3604: 1929, 3605: 2005, 3606: 2017, 3607: 2014, 3608: 2013, 3609: 2007, 3610: 2005, 3611: 2009, 3612: 2007, 3613: 2018, 3614: 2018, 3615: 2017, 3616: 2016, 3617: 2015, 3618: 2016, 3619: 2, 3620: 2013, 3621: 2014, 3622: 2014, 3623: 201, 3624: 2017, 3625: 201, 3626: 198, 3627: 2019, 3628: 2009, 3629: 2012, 3630: 2014, 3631: 2014, 3632: 2016, 3633: 2017, 3634: 2019, 3635: 2009, 3636: 2012, 3637: 2002, 3638: 2013, 3639: 2009, 3640: 1983, 3641: 2015, 3642: 2017, 3643: 2007, 3644: 2016, 3645: 2009, 3646: 201, 3647: 2016, 3648: 2017, 3649: 2014, 3650: 2012, 3651: 2012, 3652: 201, 3653: 2013, 3654: 2016, 3655: 2011, 3656: 2011, 3657: 2011, 3658: 2009, 3659: 2011, 3660: 201, 3661: 2012, 3662: 2008, 3663: 2017, 3664: 2019, 3665: 2004, 3666: 1962, 3667: 2004, 3668: 1987, 3669: 1982, 3670: 2013, 3671: 1996, 3672: 2018, 3673: 2018, 3674: 2018, 3675: 2015, 3676: 2014, 3677: 2012, 3678: 2013, 3679: 2017, 3680: 2013, 3681: 201, 3682: 201, 3683: 2014, 3684: 2014, 3685: 2013, 3686: 2006, 3687: 2004, 3688: 2013, 3689: 2007, 3690: 2008, 3691: 2014, 3692: 2011, 3693: 2018, 3694: 2018, 3695: 201, 3696: 1981, 3697: 1984, 3698: 1986, 3699: 2018, 3700: 2005, 3701: 2003, 3702: 1999, 3703: 2015, 3704: 2013, 3705: 1993, 3706: 1998, 3707: 201, 3708: 2014, 3709: 2014, 3710: 2013, 3711: 2016, 3712: 1995, 3713: 2013, 3714: 2007, 3715: 2011, 3716: 2009, 3717: 2016, 3718: 2009, 3719: 2018, 3720: 2011, 3721: 2014, 3722: 2015, 3723: 2015, 3724: 1993, 3725: 2008, 3726: 2017, 3727: 2018, 3728: 2004, 3729: 2008, 3730: 2006, 3731: 2006, 3732: 1974, 3733: 2015, 3734: 2011, 3735: 2011, 3736: 2009, 3737: 1991, 3738: 201, 3739: 2011, 3740: 2018, 3741: 2014, 3742: 2011, 3743: 2011, 3744: 1997, 3745: 2014, 3746: 2013, 3747: 2015, 3748: 2006, 3749: 1971, 3750: 1995, 3751: 1997, 3752: 2003, 3753: 2013, 3754: 201, 3755: 201, 3756: 2007, 3757: 1961, 3758: 1956, 3759: 2013, 3760: 2011, 3761: 1979, 3762: 2016, 3763: 201, 3764: 201, 3765: 2017, 3766: 1982, 3767: 2008, 3768: 2013, 3769: 2011, 3770: 2011, 3771: 2008, 3772: 2007, 3773: 2007, 3774: 2008, 3775: 2017, 3776: 2013, 3777: 2019, 3778: 2018, 3779: 2016, 3780: 2, 3781: 2003, 3782: 201, 3783: 2017, 3784: 2016, 3785: 2008, 3786: 2008, 3787: 2018, 3788: 2003, 3789: 2018, 3790: 2003, 3791: 2008, 3792: 2004, 3793: 2007, 3794: 2009, 3795: 2018, 3796: 2018, 3797: 2011, 3798: 2015, 3799: 2016, 3800: 2001, 3801: 1986, 3802: 2014, 3803: 2011, 3804: 1969, 3805: 2011, 3806: 2009, 3807: 2018, 3808: 1977, 3809: 2003, 3810: 2018, 3811: 2015, 3812: 201, 3813: 2001, 3814: 2013, 3815: 2007, 3816: 2009, 3817: 2017, 3818: 2008, 3819: 2012, 3820: 201, 3821: 2015, 3822: 201, 3823: 2004, 3824: 2017, 3825: 2017, 3826: 2009, 3827: 201, 3828: 1959, 3829: 2012, 3830: 2013, 3831: 2013, 3832: 2011, 3833: 2012, 3834: 2011, 3835: 2019, 3836: 2017, 3837: 2005, 3838: 2002, 3839: 2014, 3840: 2014, 3841: 2014, 3842: 2018, 3843: 2005, 3844: 2018, 3845: 2018, 3846: 201, 3847: 2015, 3848: 2002, 3849: 2002, 3850: 2016, 3851: 201, 3852: 2011, 3853: 2009, 3854: 2001, 3855: 201, 3856: 2, 3857: 2002, 3858: 2012, 3859: 2011, 3860: 2011, 3861: 2012, 3862: 2015, 3863: 1988, 3864: 2009, 3865: 1986, 3866: 1972, 3867: 2016, 3868: 2015, 3869: 1963, 3870: 2012, 3871: 2009, 3872: 2012, 3873: 2018, 3874: 2016, 3875: 1999, 3876: 2019, 3877: 2005, 3878: 2014, 3879: 2018, 3880: 2011, 3881: 2011, 3882: 1985, 3883: 1987, 3884: 2016, 3885: 1962, 3886: 1967, 3887: 197, 3888: 2011, 3889: 2008, 3890: 2005, 3891: 2015, 3892: 2011, 3893: 2011, 3894: 2011, 3895: 201, 3896: 2012, 3898: 1999, 3899: 1999, 3900: 2, 3901: 2012, 3902: 2008, 3903: 2011, 3904: 2011, 3905: 197, 3906: 2011, 3907: 2013, 3908: 2017, 3909: 2014, 3910: 2004, 3911: 2018, 3912: 2017, 3913: 1997, 3914: 1999, 3915: 2018, 3916: 2009, 3917: 2015, 3918: 2018, 3919: 2002, 3920: 2011, 3921: 1991, 3922: 2012, 3923: 2, 3924: 2018, 3925: 2018, 3926: 2019, 3927: 2012, 3928: 2012, 3929: 1987, 3930: 2011, 3931: 2005, 3932: 2018, 3933: 2011, 3934: 1999, 3935: 2016, 3936: 1997, 3937: 2011, 3938: 2015, 3939: 2008, 3940: 2012, 3941: 2006, 3942: 2012, 3943: 2011, 3944: 2016, 3945: 2016, 3946: 2012, 3947: 2013, 3948: 2007, 3949: 2014, 3950: 199, 3951: 1973, 3952: 2008, 3953: 1993, 3954: 2014, 3955: 1974, 3956: 2012, 3957: 2011, 3958: 2006, 3959: 2014, 3960: 2006, 3961: 2002, 3962: 2, 3963: 2016, 3964: 2015, 3965: 1982, 3966: 2, 3967: 2004, 3968: 2009, 3969: 1984, 3970: 1948, 3971: 2006, 3972: 2004, 3973: 2001, 3974: 1991, 3975: 2002, 3976: 1987, 3977: 2007, 3978: 1995, 3979: 1999}\n"
     ]
    }
   ],
   "source": [
    "dictionary = df['year'].to_dict()\n",
    "print(dictionary)"
   ]
  },
  {
   "attachments": {},
   "cell_type": "markdown",
   "id": "1926ca28",
   "metadata": {},
   "source": [
    "### Jupyter notebook --footer info-- (please always provide this at the end of each notebook)"
   ]
  },
  {
   "cell_type": "code",
   "execution_count": null,
   "id": "522aee39",
   "metadata": {},
   "outputs": [
    {
     "name": "stdout",
     "output_type": "stream",
     "text": [
      "-----------------------------------\n",
      "POSIX\n",
      "Darwin | 23.4.0\n",
      "Datetime: 2024-03-29 09:18:37\n",
      "Python Version: 3.10.13\n",
      "-----------------------------------\n"
     ]
    }
   ],
   "source": [
    "import os\n",
    "import platform\n",
    "import socket\n",
    "from platform import python_version\n",
    "from datetime import datetime\n",
    "\n",
    "print('-----------------------------------')\n",
    "print(os.name.upper())\n",
    "print(platform.system(), '|', platform.release())\n",
    "print('Datetime:', datetime.now().strftime(\"%Y-%m-%d %H:%M:%S\"))\n",
    "print('Python Version:', python_version())\n",
    "print('-----------------------------------')"
   ]
  }
 ],
 "metadata": {
  "kernelspec": {
   "display_name": "spenv",
   "language": "python",
   "name": "python3"
  },
  "language_info": {
   "codemirror_mode": {
    "name": "ipython",
    "version": 3
   },
   "file_extension": ".py",
   "mimetype": "text/x-python",
   "name": "python",
   "nbconvert_exporter": "python",
   "pygments_lexer": "ipython3",
   "version": "3.10.13"
  },
  "vscode": {
   "interpreter": {
    "hash": "e88d0147854d95637bfda66d71c1971db493e0eba7c923c8e835cc4382a02720"
   }
  }
 },
 "nbformat": 4,
 "nbformat_minor": 5
}
