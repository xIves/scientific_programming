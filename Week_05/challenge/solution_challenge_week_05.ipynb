{
 "cells": [
  {
   "attachments": {},
   "cell_type": "markdown",
   "metadata": {},
   "source": [
    "# Preparation and exploration of bicycle / bicycle-product data from tutti.ch"
   ]
  },
  {
   "attachments": {},
   "cell_type": "markdown",
   "metadata": {},
   "source": [
    "## Libraries and settings"
   ]
  },
  {
   "cell_type": "code",
   "execution_count": 1,
   "metadata": {},
   "outputs": [
    {
     "name": "stdout",
     "output_type": "stream",
     "text": [
      "/Users/ivesbrunner/Documents/Studium/01_Bachelor/04_Semester/04_ScientificProgramming/scientific_programming/Week_05/challenge\n"
     ]
    }
   ],
   "source": [
    "# Libraries\n",
    "import os\n",
    "import re\n",
    "import numpy as np\n",
    "import pandas as pd\n",
    "import matplotlib.pyplot as plt\n",
    "\n",
    "# Ignore warnings\n",
    "import warnings\n",
    "warnings.filterwarnings('ignore')\n",
    "\n",
    "# Show current working directory\n",
    "print(os.getcwd())"
   ]
  },
  {
   "attachments": {},
   "cell_type": "markdown",
   "metadata": {},
   "source": [
    "## Import bicycle data"
   ]
  },
  {
   "cell_type": "code",
   "execution_count": 2,
   "metadata": {},
   "outputs": [
    {
     "name": "stdout",
     "output_type": "stream",
     "text": [
      "(600, 6)\n"
     ]
    },
    {
     "data": {
      "text/html": [
       "<div>\n",
       "<style scoped>\n",
       "    .dataframe tbody tr th:only-of-type {\n",
       "        vertical-align: middle;\n",
       "    }\n",
       "\n",
       "    .dataframe tbody tr th {\n",
       "        vertical-align: top;\n",
       "    }\n",
       "\n",
       "    .dataframe thead th {\n",
       "        text-align: right;\n",
       "    }\n",
       "</style>\n",
       "<table border=\"1\" class=\"dataframe\">\n",
       "  <thead>\n",
       "    <tr style=\"text-align: right;\">\n",
       "      <th></th>\n",
       "      <th>web-scraper-order</th>\n",
       "      <th>web-scraper-start-url</th>\n",
       "      <th>title_raw</th>\n",
       "      <th>address_raw</th>\n",
       "      <th>price_raw</th>\n",
       "      <th>description_raw</th>\n",
       "    </tr>\n",
       "  </thead>\n",
       "  <tbody>\n",
       "    <tr>\n",
       "      <th>0</th>\n",
       "      <td>1678953522-601</td>\n",
       "      <td>https://www.tutti.ch/de/q/suche/Ak6V2ZWxvc8CUw...</td>\n",
       "      <td>Velounterstand / Fahrradunterstand für 3-4 Vel...</td>\n",
       "      <td>Zürich, 8472, 26.02.2023</td>\n",
       "      <td>2'200.-</td>\n",
       "      <td>Velounterstand / Fahrradunterstand für 3-4 Vel...</td>\n",
       "    </tr>\n",
       "    <tr>\n",
       "      <th>1</th>\n",
       "      <td>1678953522-602</td>\n",
       "      <td>https://www.tutti.ch/de/q/suche/Ak6V2ZWxvc8CUw...</td>\n",
       "      <td>Thule FAHRRADTRÄGER Mod. 307130</td>\n",
       "      <td>Zürich, 8032, 26.02.2023</td>\n",
       "      <td>200.-</td>\n",
       "      <td>Da wir ohne Velos auf Reise gehen, verkaufen w...</td>\n",
       "    </tr>\n",
       "    <tr>\n",
       "      <th>2</th>\n",
       "      <td>1678953522-603</td>\n",
       "      <td>https://www.tutti.ch/de/q/suche/Ak6V2ZWxvc8CUw...</td>\n",
       "      <td>Veloständer für 5 Velos</td>\n",
       "      <td>St. Gallen, 9424, 26.02.2023</td>\n",
       "      <td>15.-</td>\n",
       "      <td>Verankerbarer Veloständer für 5 Fahrräder. Ein...</td>\n",
       "    </tr>\n",
       "    <tr>\n",
       "      <th>3</th>\n",
       "      <td>1678953522-604</td>\n",
       "      <td>https://www.tutti.ch/de/q/suche/Ak6V2ZWxvc8CUw...</td>\n",
       "      <td>Hymer-Veloträger- Multitalent Tele 4</td>\n",
       "      <td>St. Gallen, 9607, 26.02.2023</td>\n",
       "      <td>320.-</td>\n",
       "      <td>- Top Zustand, unbenutzt\\n- Masse: [LxB(T)xH] ...</td>\n",
       "    </tr>\n",
       "    <tr>\n",
       "      <th>4</th>\n",
       "      <td>1678953522-605</td>\n",
       "      <td>https://www.tutti.ch/de/q/suche/Ak6V2ZWxvc8CUw...</td>\n",
       "      <td>Veloständer</td>\n",
       "      <td>Bern, 3472, 26.02.2023</td>\n",
       "      <td>100.-</td>\n",
       "      <td>Veloständer verzinkt für 12 Velos. Länge 4.5m....</td>\n",
       "    </tr>\n",
       "    <tr>\n",
       "      <th>5</th>\n",
       "      <td>1678953522-606</td>\n",
       "      <td>https://www.tutti.ch/de/q/suche/Ak6V2ZWxvc8CUw...</td>\n",
       "      <td>Umwerfer Shimano Deore FD-M610. 3x10. E-Type</td>\n",
       "      <td>Aargau, 5210, 26.02.2023</td>\n",
       "      <td>10.-</td>\n",
       "      <td>Termin schriftlich mit mir vereinbaren, erst d...</td>\n",
       "    </tr>\n",
       "    <tr>\n",
       "      <th>6</th>\n",
       "      <td>1678953522-607</td>\n",
       "      <td>https://www.tutti.ch/de/q/suche/Ak6V2ZWxvc8CUw...</td>\n",
       "      <td>Fahrradträger Veloträger Anhängerkupplung</td>\n",
       "      <td>Glarus, 8866, 26.02.2023</td>\n",
       "      <td>390.-</td>\n",
       "      <td>Veloträger für 4 Velos,\\nauch für  E- Bike auf...</td>\n",
       "    </tr>\n",
       "    <tr>\n",
       "      <th>7</th>\n",
       "      <td>1678953522-608</td>\n",
       "      <td>https://www.tutti.ch/de/q/suche/Ak6V2ZWxvc8CUw...</td>\n",
       "      <td>Velomechaniker</td>\n",
       "      <td>Bern, 3612, 26.02.2023</td>\n",
       "      <td>80.-</td>\n",
       "      <td>Ich bin gelernter Velomechaniker und bietet ih...</td>\n",
       "    </tr>\n",
       "    <tr>\n",
       "      <th>8</th>\n",
       "      <td>1678953522-609</td>\n",
       "      <td>https://www.tutti.ch/de/q/suche/Ak6V2ZWxvc8CUw...</td>\n",
       "      <td>Velokorb vorne weiss (Gratis Lieferung)</td>\n",
       "      <td>Zürich, 8004, 26.02.2023</td>\n",
       "      <td>38.-</td>\n",
       "      <td>Gratis Versand innerhalb von ca. 2-4 Arbeitsta...</td>\n",
       "    </tr>\n",
       "    <tr>\n",
       "      <th>9</th>\n",
       "      <td>1678953522-610</td>\n",
       "      <td>https://www.tutti.ch/de/q/suche/Ak6V2ZWxvc8CUw...</td>\n",
       "      <td>Veloträger</td>\n",
       "      <td>St. Gallen, 9630, 26.02.2023</td>\n",
       "      <td>70.-</td>\n",
       "      <td>Veloträger für AHK für 2 Velos (geht auch für ...</td>\n",
       "    </tr>\n",
       "  </tbody>\n",
       "</table>\n",
       "</div>"
      ],
      "text/plain": [
       "  web-scraper-order                              web-scraper-start-url  \\\n",
       "0    1678953522-601  https://www.tutti.ch/de/q/suche/Ak6V2ZWxvc8CUw...   \n",
       "1    1678953522-602  https://www.tutti.ch/de/q/suche/Ak6V2ZWxvc8CUw...   \n",
       "2    1678953522-603  https://www.tutti.ch/de/q/suche/Ak6V2ZWxvc8CUw...   \n",
       "3    1678953522-604  https://www.tutti.ch/de/q/suche/Ak6V2ZWxvc8CUw...   \n",
       "4    1678953522-605  https://www.tutti.ch/de/q/suche/Ak6V2ZWxvc8CUw...   \n",
       "5    1678953522-606  https://www.tutti.ch/de/q/suche/Ak6V2ZWxvc8CUw...   \n",
       "6    1678953522-607  https://www.tutti.ch/de/q/suche/Ak6V2ZWxvc8CUw...   \n",
       "7    1678953522-608  https://www.tutti.ch/de/q/suche/Ak6V2ZWxvc8CUw...   \n",
       "8    1678953522-609  https://www.tutti.ch/de/q/suche/Ak6V2ZWxvc8CUw...   \n",
       "9    1678953522-610  https://www.tutti.ch/de/q/suche/Ak6V2ZWxvc8CUw...   \n",
       "\n",
       "                                           title_raw  \\\n",
       "0  Velounterstand / Fahrradunterstand für 3-4 Vel...   \n",
       "1                    Thule FAHRRADTRÄGER Mod. 307130   \n",
       "2                            Veloständer für 5 Velos   \n",
       "3               Hymer-Veloträger- Multitalent Tele 4   \n",
       "4                                        Veloständer   \n",
       "5       Umwerfer Shimano Deore FD-M610. 3x10. E-Type   \n",
       "6          Fahrradträger Veloträger Anhängerkupplung   \n",
       "7                                     Velomechaniker   \n",
       "8            Velokorb vorne weiss (Gratis Lieferung)   \n",
       "9                                         Veloträger   \n",
       "\n",
       "                    address_raw price_raw  \\\n",
       "0      Zürich, 8472, 26.02.2023   2'200.-   \n",
       "1      Zürich, 8032, 26.02.2023     200.-   \n",
       "2  St. Gallen, 9424, 26.02.2023      15.-   \n",
       "3  St. Gallen, 9607, 26.02.2023     320.-   \n",
       "4        Bern, 3472, 26.02.2023     100.-   \n",
       "5      Aargau, 5210, 26.02.2023      10.-   \n",
       "6      Glarus, 8866, 26.02.2023     390.-   \n",
       "7        Bern, 3612, 26.02.2023      80.-   \n",
       "8      Zürich, 8004, 26.02.2023      38.-   \n",
       "9  St. Gallen, 9630, 26.02.2023      70.-   \n",
       "\n",
       "                                     description_raw  \n",
       "0  Velounterstand / Fahrradunterstand für 3-4 Vel...  \n",
       "1  Da wir ohne Velos auf Reise gehen, verkaufen w...  \n",
       "2  Verankerbarer Veloständer für 5 Fahrräder. Ein...  \n",
       "3  - Top Zustand, unbenutzt\\n- Masse: [LxB(T)xH] ...  \n",
       "4  Veloständer verzinkt für 12 Velos. Länge 4.5m....  \n",
       "5  Termin schriftlich mit mir vereinbaren, erst d...  \n",
       "6  Veloträger für 4 Velos,\\nauch für  E- Bike auf...  \n",
       "7  Ich bin gelernter Velomechaniker und bietet ih...  \n",
       "8  Gratis Versand innerhalb von ca. 2-4 Arbeitsta...  \n",
       "9  Veloträger für AHK für 2 Velos (geht auch für ...  "
      ]
     },
     "execution_count": 2,
     "metadata": {},
     "output_type": "execute_result"
    }
   ],
   "source": [
    "# Read the data\n",
    "df_orig = pd.read_csv('bicycles.csv', sep=\",\")\n",
    "\n",
    "# Show the number of rows and columns\n",
    "print(df_orig.shape)\n",
    "\n",
    "# Print the first 10 rows and a selected number of columns\n",
    "df_orig.iloc[:10,]"
   ]
  },
  {
   "attachments": {},
   "cell_type": "markdown",
   "metadata": {},
   "source": [
    "## Show data types"
   ]
  },
  {
   "cell_type": "code",
   "execution_count": 3,
   "metadata": {},
   "outputs": [
    {
     "name": "stdout",
     "output_type": "stream",
     "text": [
      "web-scraper-order        object\n",
      "web-scraper-start-url    object\n",
      "title_raw                object\n",
      "address_raw              object\n",
      "price_raw                object\n",
      "description_raw          object\n",
      "dtype: object\n"
     ]
    }
   ],
   "source": [
    "# Show data types\n",
    "print(df_orig.dtypes)"
   ]
  },
  {
   "attachments": {},
   "cell_type": "markdown",
   "metadata": {},
   "source": [
    "## Count and remove missing values"
   ]
  },
  {
   "cell_type": "code",
   "execution_count": 4,
   "metadata": {},
   "outputs": [
    {
     "name": "stdout",
     "output_type": "stream",
     "text": [
      "Count missing values\n",
      "web-scraper-order        0\n",
      "web-scraper-start-url    0\n",
      "title_raw                0\n",
      "address_raw              0\n",
      "price_raw                0\n",
      "description_raw          0\n",
      "dtype: int64\n",
      "\n",
      "Check whether missing values were successfully removed\n"
     ]
    },
    {
     "data": {
      "text/plain": [
       "web-scraper-order        0\n",
       "web-scraper-start-url    0\n",
       "title_raw                0\n",
       "address_raw              0\n",
       "price_raw                0\n",
       "description_raw          0\n",
       "dtype: int64"
      ]
     },
     "execution_count": 4,
     "metadata": {},
     "output_type": "execute_result"
    }
   ],
   "source": [
    "# Count missing values\n",
    "print('Count missing values')\n",
    "print(df_orig.isna().sum())\n",
    "\n",
    "# Remove missing values\n",
    "print('\\nCheck whether missing values were successfully removed')\n",
    "df_clean_01 = df_orig.dropna()\n",
    "df_clean_01.isna().sum()"
   ]
  },
  {
   "attachments": {},
   "cell_type": "markdown",
   "metadata": {},
   "source": [
    "## Count and remove duplicated values"
   ]
  },
  {
   "cell_type": "code",
   "execution_count": 5,
   "metadata": {},
   "outputs": [
    {
     "name": "stdout",
     "output_type": "stream",
     "text": [
      "Count duplicated values\n",
      "0\n",
      "\n",
      "Check whether duplicated values were successfully removed\n",
      "0\n"
     ]
    }
   ],
   "source": [
    "# Count duplicated values\n",
    "print('Count duplicated values')\n",
    "print(df_clean_01.duplicated().sum())\n",
    "\n",
    "# Remove duplicated values\n",
    "print('\\nCheck whether duplicated values were successfully removed')\n",
    "df = df_clean_01.drop_duplicates()\n",
    "print(df.duplicated().sum())"
   ]
  },
  {
   "attachments": {},
   "cell_type": "markdown",
   "metadata": {},
   "source": [
    "## Create a new variable 'price' with an 'int' as data type"
   ]
  },
  {
   "cell_type": "code",
   "execution_count": 6,
   "metadata": {},
   "outputs": [
    {
     "name": "stdout",
     "output_type": "stream",
     "text": [
      "int32\n"
     ]
    }
   ],
   "source": [
    "# Extract values using the lambda function\n",
    "df['price'] = df['price_raw'].apply(lambda x: re.sub('[^\\d]', '', x))\n",
    "\n",
    "# Remove records with no prices\n",
    "df_sub = df[df['price'] != '']\n",
    "\n",
    "# Change data type to int\n",
    "df_sub['price'] = df_sub['price'].astype('int32')\n",
    "\n",
    "# Check data type\n",
    "print(df_sub['price'].dtypes)"
   ]
  },
  {
   "attachments": {},
   "cell_type": "markdown",
   "metadata": {},
   "source": [
    "## Create a subset of the data frame with prices between 200.- and 2000.- CHF"
   ]
  },
  {
   "cell_type": "code",
   "execution_count": 7,
   "metadata": {},
   "outputs": [
    {
     "data": {
      "text/html": [
       "<div>\n",
       "<style scoped>\n",
       "    .dataframe tbody tr th:only-of-type {\n",
       "        vertical-align: middle;\n",
       "    }\n",
       "\n",
       "    .dataframe tbody tr th {\n",
       "        vertical-align: top;\n",
       "    }\n",
       "\n",
       "    .dataframe thead th {\n",
       "        text-align: right;\n",
       "    }\n",
       "</style>\n",
       "<table border=\"1\" class=\"dataframe\">\n",
       "  <thead>\n",
       "    <tr style=\"text-align: right;\">\n",
       "      <th></th>\n",
       "      <th>web-scraper-order</th>\n",
       "      <th>web-scraper-start-url</th>\n",
       "      <th>title_raw</th>\n",
       "      <th>address_raw</th>\n",
       "      <th>price_raw</th>\n",
       "      <th>description_raw</th>\n",
       "      <th>price</th>\n",
       "    </tr>\n",
       "  </thead>\n",
       "  <tbody>\n",
       "    <tr>\n",
       "      <th>1</th>\n",
       "      <td>1678953522-602</td>\n",
       "      <td>https://www.tutti.ch/de/q/suche/Ak6V2ZWxvc8CUw...</td>\n",
       "      <td>Thule FAHRRADTRÄGER Mod. 307130</td>\n",
       "      <td>Zürich, 8032, 26.02.2023</td>\n",
       "      <td>200.-</td>\n",
       "      <td>Da wir ohne Velos auf Reise gehen, verkaufen w...</td>\n",
       "      <td>200</td>\n",
       "    </tr>\n",
       "    <tr>\n",
       "      <th>3</th>\n",
       "      <td>1678953522-604</td>\n",
       "      <td>https://www.tutti.ch/de/q/suche/Ak6V2ZWxvc8CUw...</td>\n",
       "      <td>Hymer-Veloträger- Multitalent Tele 4</td>\n",
       "      <td>St. Gallen, 9607, 26.02.2023</td>\n",
       "      <td>320.-</td>\n",
       "      <td>- Top Zustand, unbenutzt\\n- Masse: [LxB(T)xH] ...</td>\n",
       "      <td>320</td>\n",
       "    </tr>\n",
       "    <tr>\n",
       "      <th>6</th>\n",
       "      <td>1678953522-607</td>\n",
       "      <td>https://www.tutti.ch/de/q/suche/Ak6V2ZWxvc8CUw...</td>\n",
       "      <td>Fahrradträger Veloträger Anhängerkupplung</td>\n",
       "      <td>Glarus, 8866, 26.02.2023</td>\n",
       "      <td>390.-</td>\n",
       "      <td>Veloträger für 4 Velos,\\nauch für  E- Bike auf...</td>\n",
       "      <td>390</td>\n",
       "    </tr>\n",
       "    <tr>\n",
       "      <th>15</th>\n",
       "      <td>1678953522-616</td>\n",
       "      <td>https://www.tutti.ch/de/q/suche/Ak6V2ZWxvc8CUw...</td>\n",
       "      <td>Veloträger,  Fahrradträger 4 ,  4er</td>\n",
       "      <td>Schwyz, 8806, 25.02.2023</td>\n",
       "      <td>399.-</td>\n",
       "      <td>Fahrradträger für 4 Velos\\nTraglast ca 65,\\nAb...</td>\n",
       "      <td>399</td>\n",
       "    </tr>\n",
       "    <tr>\n",
       "      <th>16</th>\n",
       "      <td>1678953522-617</td>\n",
       "      <td>https://www.tutti.ch/de/q/suche/Ak6V2ZWxvc8CUw...</td>\n",
       "      <td>Fahrradträger 3er  Verkauf &amp; Vermietung</td>\n",
       "      <td>Glarus, 8865, 25.02.2023</td>\n",
       "      <td>355.-</td>\n",
       "      <td>Für3 Velos\\nVerkauf 355,-, Nutzlast 60kg  nett...</td>\n",
       "      <td>355</td>\n",
       "    </tr>\n",
       "    <tr>\n",
       "      <th>...</th>\n",
       "      <td>...</td>\n",
       "      <td>...</td>\n",
       "      <td>...</td>\n",
       "      <td>...</td>\n",
       "      <td>...</td>\n",
       "      <td>...</td>\n",
       "      <td>...</td>\n",
       "    </tr>\n",
       "    <tr>\n",
       "      <th>577</th>\n",
       "      <td>1678953574-1178</td>\n",
       "      <td>https://www.tutti.ch/de/q/suche/Ak6V2ZWxvc8CUw...</td>\n",
       "      <td>Condor Sarina Damen Velo / City Bike / Red Love</td>\n",
       "      <td>Aargau, 5600, Heute 07:29</td>\n",
       "      <td>320.-</td>\n",
       "      <td>Zu verkaufen ist dieses wunderbare Condor Sari...</td>\n",
       "      <td>320</td>\n",
       "    </tr>\n",
       "    <tr>\n",
       "      <th>578</th>\n",
       "      <td>1678953574-1179</td>\n",
       "      <td>https://www.tutti.ch/de/q/suche/Ak6V2ZWxvc8CUw...</td>\n",
       "      <td>Alu-Elektro-Faltrad</td>\n",
       "      <td>Basel-Landschaft, 4410, Heute 07:24</td>\n",
       "      <td>450.-</td>\n",
       "      <td>2 Stück Campingvelos, elektrisch 3-Gang, aus A...</td>\n",
       "      <td>450</td>\n",
       "    </tr>\n",
       "    <tr>\n",
       "      <th>585</th>\n",
       "      <td>1678953574-1186</td>\n",
       "      <td>https://www.tutti.ch/de/q/suche/Ak6V2ZWxvc8CUw...</td>\n",
       "      <td>Veloträger VW T6/ 6.1</td>\n",
       "      <td>Luzern, 6122, Heute 06:05</td>\n",
       "      <td>280.-</td>\n",
       "      <td>Wegen nicht Gebrauch zu verkaufen. Der Träger ...</td>\n",
       "      <td>280</td>\n",
       "    </tr>\n",
       "    <tr>\n",
       "      <th>593</th>\n",
       "      <td>1678953574-1194</td>\n",
       "      <td>https://www.tutti.ch/de/q/suche/Ak6V2ZWxvc8CUw...</td>\n",
       "      <td>Kindervelo MTB Cycletec Moskito 20 Zoll</td>\n",
       "      <td>Bern, 3084, Gestern 19:06</td>\n",
       "      <td>200.-</td>\n",
       "      <td>Das MTB Cycletech Moskito 20? ist ein tolles, ...</td>\n",
       "      <td>200</td>\n",
       "    </tr>\n",
       "    <tr>\n",
       "      <th>594</th>\n",
       "      <td>1678953574-1195</td>\n",
       "      <td>https://www.tutti.ch/de/q/suche/Ak6V2ZWxvc8CUw...</td>\n",
       "      <td>City Velo ab Service, 1 Monat Garantie</td>\n",
       "      <td>Zürich, 8302, Gestern 18:26</td>\n",
       "      <td>220.-</td>\n",
       "      <td>Ich verkaufe hier ein City Bike, frisch ab Ser...</td>\n",
       "      <td>220</td>\n",
       "    </tr>\n",
       "  </tbody>\n",
       "</table>\n",
       "<p>215 rows × 7 columns</p>\n",
       "</div>"
      ],
      "text/plain": [
       "    web-scraper-order                              web-scraper-start-url  \\\n",
       "1      1678953522-602  https://www.tutti.ch/de/q/suche/Ak6V2ZWxvc8CUw...   \n",
       "3      1678953522-604  https://www.tutti.ch/de/q/suche/Ak6V2ZWxvc8CUw...   \n",
       "6      1678953522-607  https://www.tutti.ch/de/q/suche/Ak6V2ZWxvc8CUw...   \n",
       "15     1678953522-616  https://www.tutti.ch/de/q/suche/Ak6V2ZWxvc8CUw...   \n",
       "16     1678953522-617  https://www.tutti.ch/de/q/suche/Ak6V2ZWxvc8CUw...   \n",
       "..                ...                                                ...   \n",
       "577   1678953574-1178  https://www.tutti.ch/de/q/suche/Ak6V2ZWxvc8CUw...   \n",
       "578   1678953574-1179  https://www.tutti.ch/de/q/suche/Ak6V2ZWxvc8CUw...   \n",
       "585   1678953574-1186  https://www.tutti.ch/de/q/suche/Ak6V2ZWxvc8CUw...   \n",
       "593   1678953574-1194  https://www.tutti.ch/de/q/suche/Ak6V2ZWxvc8CUw...   \n",
       "594   1678953574-1195  https://www.tutti.ch/de/q/suche/Ak6V2ZWxvc8CUw...   \n",
       "\n",
       "                                           title_raw  \\\n",
       "1                    Thule FAHRRADTRÄGER Mod. 307130   \n",
       "3               Hymer-Veloträger- Multitalent Tele 4   \n",
       "6          Fahrradträger Veloträger Anhängerkupplung   \n",
       "15               Veloträger,  Fahrradträger 4 ,  4er   \n",
       "16           Fahrradträger 3er  Verkauf & Vermietung   \n",
       "..                                               ...   \n",
       "577  Condor Sarina Damen Velo / City Bike / Red Love   \n",
       "578                              Alu-Elektro-Faltrad   \n",
       "585                            Veloträger VW T6/ 6.1   \n",
       "593          Kindervelo MTB Cycletec Moskito 20 Zoll   \n",
       "594           City Velo ab Service, 1 Monat Garantie   \n",
       "\n",
       "                             address_raw price_raw  \\\n",
       "1               Zürich, 8032, 26.02.2023     200.-   \n",
       "3           St. Gallen, 9607, 26.02.2023     320.-   \n",
       "6               Glarus, 8866, 26.02.2023     390.-   \n",
       "15              Schwyz, 8806, 25.02.2023     399.-   \n",
       "16              Glarus, 8865, 25.02.2023     355.-   \n",
       "..                                   ...       ...   \n",
       "577            Aargau, 5600, Heute 07:29     320.-   \n",
       "578  Basel-Landschaft, 4410, Heute 07:24     450.-   \n",
       "585            Luzern, 6122, Heute 06:05     280.-   \n",
       "593            Bern, 3084, Gestern 19:06     200.-   \n",
       "594          Zürich, 8302, Gestern 18:26     220.-   \n",
       "\n",
       "                                       description_raw  price  \n",
       "1    Da wir ohne Velos auf Reise gehen, verkaufen w...    200  \n",
       "3    - Top Zustand, unbenutzt\\n- Masse: [LxB(T)xH] ...    320  \n",
       "6    Veloträger für 4 Velos,\\nauch für  E- Bike auf...    390  \n",
       "15   Fahrradträger für 4 Velos\\nTraglast ca 65,\\nAb...    399  \n",
       "16   Für3 Velos\\nVerkauf 355,-, Nutzlast 60kg  nett...    355  \n",
       "..                                                 ...    ...  \n",
       "577  Zu verkaufen ist dieses wunderbare Condor Sari...    320  \n",
       "578  2 Stück Campingvelos, elektrisch 3-Gang, aus A...    450  \n",
       "585  Wegen nicht Gebrauch zu verkaufen. Der Träger ...    280  \n",
       "593  Das MTB Cycletech Moskito 20? ist ein tolles, ...    200  \n",
       "594  Ich verkaufe hier ein City Bike, frisch ab Ser...    220  \n",
       "\n",
       "[215 rows x 7 columns]"
      ]
     },
     "execution_count": 7,
     "metadata": {},
     "output_type": "execute_result"
    }
   ],
   "source": [
    "df_sub_02 = df_sub.loc[(df_sub['price'] >= 200) & (df_sub['price'] <= 2000)]\n",
    "df_sub_02"
   ]
  },
  {
   "attachments": {},
   "cell_type": "markdown",
   "metadata": {},
   "source": [
    "## Histogramm of bicycle prices"
   ]
  },
  {
   "cell_type": "code",
   "execution_count": 8,
   "metadata": {},
   "outputs": [
    {
     "data": {
      "image/png": "[encoded data removed]",
      "text/plain": [
       "<Figure size 600x400 with 1 Axes>"
      ]
     },
     "metadata": {},
     "output_type": "display_data"
    }
   ],
   "source": [
    "# Histogram\n",
    "plt.figure(figsize=(6,4))\n",
    "df_sub_02['price'].plot.hist(grid=True, \n",
    "                        bins=20, \n",
    "                        rwidth=0.9,\n",
    "                        color='lightseagreen')\n",
    "plt.title('Bicycle prices')\n",
    "plt.xlabel('Price (CHF)')\n",
    "plt.ylabel('Frequency')\n",
    "plt.grid(linestyle='-', linewidth=0.1)"
   ]
  },
  {
   "attachments": {},
   "cell_type": "markdown",
   "metadata": {},
   "source": [
    "##  Save the name of the city / canton from the address string in a new variable"
   ]
  },
  {
   "cell_type": "code",
   "execution_count": 9,
   "metadata": {},
   "outputs": [
    {
     "data": {
      "text/html": [
       "<div>\n",
       "<style scoped>\n",
       "    .dataframe tbody tr th:only-of-type {\n",
       "        vertical-align: middle;\n",
       "    }\n",
       "\n",
       "    .dataframe tbody tr th {\n",
       "        vertical-align: top;\n",
       "    }\n",
       "\n",
       "    .dataframe thead th {\n",
       "        text-align: right;\n",
       "    }\n",
       "</style>\n",
       "<table border=\"1\" class=\"dataframe\">\n",
       "  <thead>\n",
       "    <tr style=\"text-align: right;\">\n",
       "      <th></th>\n",
       "      <th>address_raw</th>\n",
       "      <th>location</th>\n",
       "    </tr>\n",
       "  </thead>\n",
       "  <tbody>\n",
       "    <tr>\n",
       "      <th>1</th>\n",
       "      <td>Zürich, 8032, 26.02.2023</td>\n",
       "      <td>Zürich</td>\n",
       "    </tr>\n",
       "    <tr>\n",
       "      <th>3</th>\n",
       "      <td>St. Gallen, 9607, 26.02.2023</td>\n",
       "      <td>St. Gallen</td>\n",
       "    </tr>\n",
       "    <tr>\n",
       "      <th>6</th>\n",
       "      <td>Glarus, 8866, 26.02.2023</td>\n",
       "      <td>Glarus</td>\n",
       "    </tr>\n",
       "    <tr>\n",
       "      <th>15</th>\n",
       "      <td>Schwyz, 8806, 25.02.2023</td>\n",
       "      <td>Schwyz</td>\n",
       "    </tr>\n",
       "    <tr>\n",
       "      <th>16</th>\n",
       "      <td>Glarus, 8865, 25.02.2023</td>\n",
       "      <td>Glarus</td>\n",
       "    </tr>\n",
       "    <tr>\n",
       "      <th>...</th>\n",
       "      <td>...</td>\n",
       "      <td>...</td>\n",
       "    </tr>\n",
       "    <tr>\n",
       "      <th>577</th>\n",
       "      <td>Aargau, 5600, Heute 07:29</td>\n",
       "      <td>Aargau</td>\n",
       "    </tr>\n",
       "    <tr>\n",
       "      <th>578</th>\n",
       "      <td>Basel-Landschaft, 4410, Heute 07:24</td>\n",
       "      <td>Basel-Landschaft</td>\n",
       "    </tr>\n",
       "    <tr>\n",
       "      <th>585</th>\n",
       "      <td>Luzern, 6122, Heute 06:05</td>\n",
       "      <td>Luzern</td>\n",
       "    </tr>\n",
       "    <tr>\n",
       "      <th>593</th>\n",
       "      <td>Bern, 3084, Gestern 19:06</td>\n",
       "      <td>Bern</td>\n",
       "    </tr>\n",
       "    <tr>\n",
       "      <th>594</th>\n",
       "      <td>Zürich, 8302, Gestern 18:26</td>\n",
       "      <td>Zürich</td>\n",
       "    </tr>\n",
       "  </tbody>\n",
       "</table>\n",
       "<p>215 rows × 2 columns</p>\n",
       "</div>"
      ],
      "text/plain": [
       "                             address_raw          location\n",
       "1               Zürich, 8032, 26.02.2023            Zürich\n",
       "3           St. Gallen, 9607, 26.02.2023        St. Gallen\n",
       "6               Glarus, 8866, 26.02.2023            Glarus\n",
       "15              Schwyz, 8806, 25.02.2023            Schwyz\n",
       "16              Glarus, 8865, 25.02.2023            Glarus\n",
       "..                                   ...               ...\n",
       "577            Aargau, 5600, Heute 07:29            Aargau\n",
       "578  Basel-Landschaft, 4410, Heute 07:24  Basel-Landschaft\n",
       "585            Luzern, 6122, Heute 06:05            Luzern\n",
       "593            Bern, 3084, Gestern 19:06              Bern\n",
       "594          Zürich, 8302, Gestern 18:26            Zürich\n",
       "\n",
       "[215 rows x 2 columns]"
      ]
     },
     "execution_count": 9,
     "metadata": {},
     "output_type": "execute_result"
    }
   ],
   "source": [
    "# Extract city / canton (note the split(',') which considering commas)\n",
    "df_sub_02['location'] = df['address_raw'].str.split(',').str[0]\n",
    "\n",
    "# Show result\n",
    "df_sub_02[['address_raw', 'location']]"
   ]
  },
  {
   "attachments": {},
   "cell_type": "markdown",
   "metadata": {},
   "source": [
    "## Create a dictionary with all prices per city / canton"
   ]
  },
  {
   "cell_type": "code",
   "execution_count": 10,
   "metadata": {},
   "outputs": [
    {
     "name": "stdout",
     "output_type": "stream",
     "text": [
      "Dictionary with keys and values:\n",
      "{'Solothurn': [350, 500, 799, 695, 1740, 1950, 690], 'Bern': [449, 1299, 399, 329, 420, 720, 499, 1450, 250, 299, 1480, 249, 499, 200, 479, 400, 499, 329, 399, 250, 399, 225, 299, 299, 269, 1480, 1990, 699, 699, 349, 700, 450, 1490, 1990, 349, 399, 299, 270, 699, 200], 'Zug': [440, 440, 222, 245], 'Tessin': [280], 'Luzern': [495, 220, 320, 250, 460, 200, 480, 240, 220, 280, 280, 280, 439, 280], '04.03.2023': [320], 'Aargau': [480, 580, 320, 210, 650, 300, 300, 600, 230, 320, 480, 200, 280, 390, 250, 250, 280, 700, 800, 230, 480, 699, 230, 250, 270, 280, 400, 1900, 1700, 250, 320, 500, 300, 499, 1100, 500, 250, 320, 320, 230, 280, 250, 260, 230, 250, 280, 230, 260, 230, 220, 950, 950, 280, 390, 230, 360, 320, 380, 599, 599, 320], 'Uri': [260], 'Schwyz': [399, 250, 324], 'Basel-Landschaft': [490, 320, 950, 870, 1190, 1440, 555, 450], 'Wallis': [200], 'Appenzell Ausserrhoden': [250], 'Freiburg': [432], 'Glarus': [390, 355], 'St. Gallen': [320, 400, 200, 1460, 210, 1120, 1990, 1120, 1490, 1500, 500, 200, 270, 520], 'Zürich': [200, 220, 800, 350, 550, 690, 339, 250, 200, 251, 949, 599, 336, 949, 899, 1690, 990, 250, 430, 379, 1290, 990, 240, 550, 990, 230, 270, 200, 950, 790, 1700, 300, 949, 300, 455, 270, 280, 290, 250, 1230, 1030, 375, 450, 800, 240, 220], 'Basel-Stadt': [1435, 600], 'Thurgau': [1900, 400, 400, 200, 450], 'Graubünden': [590, 250, 400]}\n",
      "\n",
      "Dictionary keys:\n",
      "dict_keys(['Solothurn', 'Bern', 'Zug', 'Tessin', 'Luzern', '04.03.2023', 'Aargau', 'Uri', 'Schwyz', 'Basel-Landschaft', 'Wallis', 'Appenzell Ausserrhoden', 'Freiburg', 'Glarus', 'St. Gallen', 'Zürich', 'Basel-Stadt', 'Thurgau', 'Graubünden'])\n",
      "\n",
      "Dictionary values\n",
      "dict_values([[350, 500, 799, 695, 1740, 1950, 690], [449, 1299, 399, 329, 420, 720, 499, 1450, 250, 299, 1480, 249, 499, 200, 479, 400, 499, 329, 399, 250, 399, 225, 299, 299, 269, 1480, 1990, 699, 699, 349, 700, 450, 1490, 1990, 349, 399, 299, 270, 699, 200], [440, 440, 222, 245], [280], [495, 220, 320, 250, 460, 200, 480, 240, 220, 280, 280, 280, 439, 280], [320], [480, 580, 320, 210, 650, 300, 300, 600, 230, 320, 480, 200, 280, 390, 250, 250, 280, 700, 800, 230, 480, 699, 230, 250, 270, 280, 400, 1900, 1700, 250, 320, 500, 300, 499, 1100, 500, 250, 320, 320, 230, 280, 250, 260, 230, 250, 280, 230, 260, 230, 220, 950, 950, 280, 390, 230, 360, 320, 380, 599, 599, 320], [260], [399, 250, 324], [490, 320, 950, 870, 1190, 1440, 555, 450], [200], [250], [432], [390, 355], [320, 400, 200, 1460, 210, 1120, 1990, 1120, 1490, 1500, 500, 200, 270, 520], [200, 220, 800, 350, 550, 690, 339, 250, 200, 251, 949, 599, 336, 949, 899, 1690, 990, 250, 430, 379, 1290, 990, 240, 550, 990, 230, 270, 200, 950, 790, 1700, 300, 949, 300, 455, 270, 280, 290, 250, 1230, 1030, 375, 450, 800, 240, 220], [1435, 600], [1900, 400, 400, 200, 450], [590, 250, 400]])\n"
     ]
    }
   ],
   "source": [
    "# Use set and dictionary comprehension to create a dictionary\n",
    "bicycle_dict = {x: df_sub_02.loc[df_sub_02['location'] == x, 'price'].tolist() \\\n",
    "               for x in set(df_sub_02['location'])}\n",
    "\n",
    "# Print the resulting dictionary keys and values\n",
    "print('Dictionary with keys and values:')\n",
    "print(bicycle_dict)\n",
    "\n",
    "# Print the resulting dictionary keys\n",
    "print('\\nDictionary keys:')\n",
    "print(bicycle_dict.keys())\n",
    "\n",
    "# Print the resulting dictionary values\n",
    "print('\\nDictionary values')\n",
    "print(bicycle_dict.values())"
   ]
  },
  {
   "attachments": {},
   "cell_type": "markdown",
   "metadata": {},
   "source": [
    "## Access elements of the dictionary with all prices in the city of Zürich"
   ]
  },
  {
   "cell_type": "code",
   "execution_count": 11,
   "metadata": {},
   "outputs": [
    {
     "name": "stdout",
     "output_type": "stream",
     "text": [
      "The key Zürich exists!\n",
      "\n",
      "Here are the available prices of the key Zürich:\n",
      "[200, 220, 800, 350, 550, 690, 339, 250, 200, 251, 949, 599, 336, 949, 899, 1690, 990, 250, 430, 379, 1290, 990, 240, 550, 990, 230, 270, 200, 950, 790, 1700, 300, 949, 300, 455, 270, 280, 290, 250, 1230, 1030, 375, 450, 800, 240, 220]\n"
     ]
    }
   ],
   "source": [
    "# Define the key\n",
    "mykey = 'Zürich'\n",
    "\n",
    "# Check whether FERRARI is a key in car_dict\n",
    "if mykey in bicycle_dict:\n",
    "    print(f'The key {mykey} exists!')\n",
    "\n",
    "# Get all values from the key\n",
    "print(f'\\nHere are the available prices of the key {mykey}:')\n",
    "print(bicycle_dict.get(mykey))"
   ]
  },
  {
   "attachments": {},
   "cell_type": "markdown",
   "metadata": {},
   "source": [
    "### Jupyter notebook --footer info-- (please always provide this at the end of each notebook)"
   ]
  },
  {
   "cell_type": "code",
   "execution_count": 12,
   "metadata": {},
   "outputs": [
    {
     "name": "stdout",
     "output_type": "stream",
     "text": [
      "-----------------------------------\n",
      "POSIX\n",
      "Darwin | 23.4.0\n",
      "Datetime: 2024-03-25 16:36:30\n",
      "Python Version: 3.10.13\n",
      "-----------------------------------\n"
     ]
    }
   ],
   "source": [
    "import os\n",
    "import platform\n",
    "import socket\n",
    "from platform import python_version\n",
    "from datetime import datetime\n",
    "\n",
    "print('-----------------------------------')\n",
    "print(os.name.upper())\n",
    "print(platform.system(), '|', platform.release())\n",
    "print('Datetime:', datetime.now().strftime(\"%Y-%m-%d %H:%M:%S\"))\n",
    "print('Python Version:', python_version())\n",
    "print('-----------------------------------')"
   ]
  }
 ],
 "metadata": {
  "kernelspec": {
   "display_name": "spenv",
   "language": "python",
   "name": "python3"
  },
  "language_info": {
   "codemirror_mode": {
    "name": "ipython",
    "version": 3
   },
   "file_extension": ".py",
   "mimetype": "text/x-python",
   "name": "python",
   "nbconvert_exporter": "python",
   "pygments_lexer": "ipython3",
   "version": "3.10.13"
  },
  "orig_nbformat": 4
 },
 "nbformat": 4,
 "nbformat_minor": 2
}
