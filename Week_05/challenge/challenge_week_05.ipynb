{
 "cells": [
  {
   "cell_type": "code",
   "execution_count": 64,
   "metadata": {},
   "outputs": [
    {
     "name": "stdout",
     "output_type": "stream",
     "text": [
      "/Users/ivesbrunner/Documents/Studium/01_Bachelor/04_Semester/04_ScientificProgramming/scientific_programming/Week_05/challenge\n"
     ]
    }
   ],
   "source": [
    "# Libraries\n",
    "import os\n",
    "import re\n",
    "import json\n",
    "import folium\n",
    "import requests\n",
    "import pandas as pd\n",
    "import matplotlib.pyplot as plt\n",
    "\n",
    "# Ignore warnings\n",
    "import warnings\n",
    "warnings.filterwarnings('ignore')\n",
    "\n",
    "# Show current working directory\n",
    "print(os.getcwd())"
   ]
  },
  {
   "cell_type": "markdown",
   "metadata": {},
   "source": [
    "# Aufgabe 1"
   ]
  },
  {
   "cell_type": "code",
   "execution_count": 65,
   "metadata": {},
   "outputs": [
    {
     "name": "stdout",
     "output_type": "stream",
     "text": [
      "Number of Rows:  600\n",
      "Number of Columns:  6\n",
      "Data Types:  web-scraper-order        object\n",
      "web-scraper-start-url    object\n",
      "title_raw                object\n",
      "address_raw              object\n",
      "price_raw                object\n",
      "description_raw          object\n",
      "dtype: object\n",
      "Number of Missing Values:  web-scraper-order        0\n",
      "web-scraper-start-url    0\n",
      "title_raw                0\n",
      "address_raw              0\n",
      "price_raw                0\n",
      "description_raw          0\n",
      "dtype: int64\n",
      "Number of Duplicated Values:  0\n"
     ]
    }
   ],
   "source": [
    "data = pd.read_csv('bicycles.csv', sep=\",\")\n",
    "df = pd.DataFrame(data)\n",
    "\n",
    "# computing number of rows\n",
    "rows = len(df.axes[0])\n",
    " \n",
    "# computing number of columns\n",
    "cols = len(df.axes[1])\n",
    " \n",
    "print(\"Number of Rows: \", rows)\n",
    "print(\"Number of Columns: \", cols)\n",
    "\n",
    "data_types = df.dtypes\n",
    "print(\"Data Types: \", data_types)\n",
    "\n",
    "missing_values= df.isna().sum()\n",
    "print(\"Number of Missing Values: \", missing_values)\n",
    "df_clean_01 = df.dropna()\n",
    "\n",
    "duplicated_values= df_clean_01.duplicated().sum()\n",
    "print(\"Number of Duplicated Values: \", duplicated_values)\n",
    "df_clean_01 = df_clean_01.dropna()"
   ]
  },
  {
   "cell_type": "markdown",
   "metadata": {},
   "source": [
    "# Aufgabe 2"
   ]
  },
  {
   "cell_type": "code",
   "execution_count": 66,
   "metadata": {},
   "outputs": [
    {
     "name": "stdout",
     "output_type": "stream",
     "text": [
      "int32\n"
     ]
    }
   ],
   "source": [
    "df['price'] = df['price_raw'].apply(lambda x: re.sub('[^\\d]', '', x))\n",
    "df_sub = df[df['price'] != '']\n",
    "df_sub['price'] = df_sub['price'].astype('int32')\n",
    "print(df_sub['price'].dtypes)\n"
   ]
  },
  {
   "cell_type": "markdown",
   "metadata": {},
   "source": [
    "# Aufgabe 3"
   ]
  },
  {
   "cell_type": "code",
   "execution_count": 67,
   "metadata": {},
   "outputs": [],
   "source": [
    "df_sub_price_range=df_sub[(df_sub['price'] >= 200) & (df_sub['price'] <= 2000)]"
   ]
  },
  {
   "cell_type": "markdown",
   "metadata": {},
   "source": [
    "# Aufgabe 4\n",
    "\n"
   ]
  },
  {
   "cell_type": "code",
   "execution_count": 68,
   "metadata": {},
   "outputs": [
    {
     "data": {
      "image/png": "[encoded data removed]",
      "text/plain": [
       "<Figure size 640x480 with 1 Axes>"
      ]
     },
     "metadata": {},
     "output_type": "display_data"
    }
   ],
   "source": [
    "plt.hist(df_sub_price_range[\"price\"], rwidth=0.9)\n",
    "plt.xlabel('Price')\n",
    "plt.ylabel('Frequency')\n",
    "plt.title('Price Distribution')\n",
    "plt.show()"
   ]
  },
  {
   "cell_type": "code",
   "execution_count": 69,
   "metadata": {},
   "outputs": [
    {
     "data": {
      "image/png": "[encoded data removed]",
      "text/plain": [
       "<Figure size 640x480 with 1 Axes>"
      ]
     },
     "metadata": {},
     "output_type": "display_data"
    }
   ],
   "source": [
    "plt.boxplot(df_sub_price_range[\"price\"], vert=False)\n",
    "plt.show()"
   ]
  },
  {
   "cell_type": "markdown",
   "metadata": {},
   "source": [
    "# Aufgabe 5"
   ]
  },
  {
   "cell_type": "code",
   "execution_count": 70,
   "metadata": {},
   "outputs": [
    {
     "data": {
      "text/html": [
       "<div>\n",
       "<style scoped>\n",
       "    .dataframe tbody tr th:only-of-type {\n",
       "        vertical-align: middle;\n",
       "    }\n",
       "\n",
       "    .dataframe tbody tr th {\n",
       "        vertical-align: top;\n",
       "    }\n",
       "\n",
       "    .dataframe thead th {\n",
       "        text-align: right;\n",
       "    }\n",
       "</style>\n",
       "<table border=\"1\" class=\"dataframe\">\n",
       "  <thead>\n",
       "    <tr style=\"text-align: right;\">\n",
       "      <th></th>\n",
       "      <th>address_raw</th>\n",
       "      <th>canton</th>\n",
       "    </tr>\n",
       "  </thead>\n",
       "  <tbody>\n",
       "    <tr>\n",
       "      <th>1</th>\n",
       "      <td>Zürich, 8032, 26.02.2023</td>\n",
       "      <td>Zürich</td>\n",
       "    </tr>\n",
       "    <tr>\n",
       "      <th>3</th>\n",
       "      <td>St. Gallen, 9607, 26.02.2023</td>\n",
       "      <td>St. Gallen</td>\n",
       "    </tr>\n",
       "    <tr>\n",
       "      <th>6</th>\n",
       "      <td>Glarus, 8866, 26.02.2023</td>\n",
       "      <td>Glarus</td>\n",
       "    </tr>\n",
       "    <tr>\n",
       "      <th>15</th>\n",
       "      <td>Schwyz, 8806, 25.02.2023</td>\n",
       "      <td>Schwyz</td>\n",
       "    </tr>\n",
       "    <tr>\n",
       "      <th>16</th>\n",
       "      <td>Glarus, 8865, 25.02.2023</td>\n",
       "      <td>Glarus</td>\n",
       "    </tr>\n",
       "    <tr>\n",
       "      <th>...</th>\n",
       "      <td>...</td>\n",
       "      <td>...</td>\n",
       "    </tr>\n",
       "    <tr>\n",
       "      <th>577</th>\n",
       "      <td>Aargau, 5600, Heute 07:29</td>\n",
       "      <td>Aargau</td>\n",
       "    </tr>\n",
       "    <tr>\n",
       "      <th>578</th>\n",
       "      <td>Basel-Landschaft, 4410, Heute 07:24</td>\n",
       "      <td>Basel-Landschaft</td>\n",
       "    </tr>\n",
       "    <tr>\n",
       "      <th>585</th>\n",
       "      <td>Luzern, 6122, Heute 06:05</td>\n",
       "      <td>Luzern</td>\n",
       "    </tr>\n",
       "    <tr>\n",
       "      <th>593</th>\n",
       "      <td>Bern, 3084, Gestern 19:06</td>\n",
       "      <td>Bern</td>\n",
       "    </tr>\n",
       "    <tr>\n",
       "      <th>594</th>\n",
       "      <td>Zürich, 8302, Gestern 18:26</td>\n",
       "      <td>Zürich</td>\n",
       "    </tr>\n",
       "  </tbody>\n",
       "</table>\n",
       "<p>215 rows × 2 columns</p>\n",
       "</div>"
      ],
      "text/plain": [
       "                             address_raw            canton\n",
       "1               Zürich, 8032, 26.02.2023            Zürich\n",
       "3           St. Gallen, 9607, 26.02.2023        St. Gallen\n",
       "6               Glarus, 8866, 26.02.2023            Glarus\n",
       "15              Schwyz, 8806, 25.02.2023            Schwyz\n",
       "16              Glarus, 8865, 25.02.2023            Glarus\n",
       "..                                   ...               ...\n",
       "577            Aargau, 5600, Heute 07:29            Aargau\n",
       "578  Basel-Landschaft, 4410, Heute 07:24  Basel-Landschaft\n",
       "585            Luzern, 6122, Heute 06:05            Luzern\n",
       "593            Bern, 3084, Gestern 19:06              Bern\n",
       "594          Zürich, 8302, Gestern 18:26            Zürich\n",
       "\n",
       "[215 rows x 2 columns]"
      ]
     },
     "execution_count": 70,
     "metadata": {},
     "output_type": "execute_result"
    }
   ],
   "source": [
    "df_sub_price_range['canton'] = df['address_raw'].apply(lambda x: x.split(',')[0])\n",
    "df_sub_price_range[['address_raw', 'canton']]"
   ]
  },
  {
   "cell_type": "markdown",
   "metadata": {},
   "source": [
    "# Aufgabe 6"
   ]
  },
  {
   "cell_type": "code",
   "execution_count": 71,
   "metadata": {},
   "outputs": [
    {
     "name": "stdout",
     "output_type": "stream",
     "text": [
      "Dictionary with keys and values:\n",
      "{'Graubünden': [590, 250, 400], 'Wallis': [200], 'Zürich': [200, 220, 800, 350, 550, 690, 339, 250, 200, 251, 949, 599, 336, 949, 899, 1690, 990, 250, 430, 379, 1290, 990, 240, 550, 990, 230, 270, 200, 950, 790, 1700, 300, 949, 300, 455, 270, 280, 290, 250, 1230, 1030, 375, 450, 800, 240, 220], 'Uri': [260], 'Tessin': [280], 'Appenzell Ausserrhoden': [250], '04.03.2023': [320], 'St. Gallen': [320, 400, 200, 1460, 210, 1120, 1990, 1120, 1490, 1500, 500, 200, 270, 520], 'Zug': [440, 440, 222, 245], 'Basel-Landschaft': [490, 320, 950, 870, 1190, 1440, 555, 450], 'Glarus': [390, 355], 'Aargau': [480, 580, 320, 210, 650, 300, 300, 600, 230, 320, 480, 200, 280, 390, 250, 250, 280, 700, 800, 230, 480, 699, 230, 250, 270, 280, 400, 1900, 1700, 250, 320, 500, 300, 499, 1100, 500, 250, 320, 320, 230, 280, 250, 260, 230, 250, 280, 230, 260, 230, 220, 950, 950, 280, 390, 230, 360, 320, 380, 599, 599, 320], 'Schwyz': [399, 250, 324], 'Bern': [449, 1299, 399, 329, 420, 720, 499, 1450, 250, 299, 1480, 249, 499, 200, 479, 400, 499, 329, 399, 250, 399, 225, 299, 299, 269, 1480, 1990, 699, 699, 349, 700, 450, 1490, 1990, 349, 399, 299, 270, 699, 200], 'Luzern': [495, 220, 320, 250, 460, 200, 480, 240, 220, 280, 280, 280, 439, 280], 'Freiburg': [432], 'Basel-Stadt': [1435, 600], 'Thurgau': [1900, 400, 400, 200, 450], 'Solothurn': [350, 500, 799, 695, 1740, 1950, 690]}\n",
      "\n",
      "Dictionary keys:\n",
      "dict_keys(['Graubünden', 'Wallis', 'Zürich', 'Uri', 'Tessin', 'Appenzell Ausserrhoden', '04.03.2023', 'St. Gallen', 'Zug', 'Basel-Landschaft', 'Glarus', 'Aargau', 'Schwyz', 'Bern', 'Luzern', 'Freiburg', 'Basel-Stadt', 'Thurgau', 'Solothurn'])\n",
      "\n",
      "Dictionary values\n",
      "dict_values([[590, 250, 400], [200], [200, 220, 800, 350, 550, 690, 339, 250, 200, 251, 949, 599, 336, 949, 899, 1690, 990, 250, 430, 379, 1290, 990, 240, 550, 990, 230, 270, 200, 950, 790, 1700, 300, 949, 300, 455, 270, 280, 290, 250, 1230, 1030, 375, 450, 800, 240, 220], [260], [280], [250], [320], [320, 400, 200, 1460, 210, 1120, 1990, 1120, 1490, 1500, 500, 200, 270, 520], [440, 440, 222, 245], [490, 320, 950, 870, 1190, 1440, 555, 450], [390, 355], [480, 580, 320, 210, 650, 300, 300, 600, 230, 320, 480, 200, 280, 390, 250, 250, 280, 700, 800, 230, 480, 699, 230, 250, 270, 280, 400, 1900, 1700, 250, 320, 500, 300, 499, 1100, 500, 250, 320, 320, 230, 280, 250, 260, 230, 250, 280, 230, 260, 230, 220, 950, 950, 280, 390, 230, 360, 320, 380, 599, 599, 320], [399, 250, 324], [449, 1299, 399, 329, 420, 720, 499, 1450, 250, 299, 1480, 249, 499, 200, 479, 400, 499, 329, 399, 250, 399, 225, 299, 299, 269, 1480, 1990, 699, 699, 349, 700, 450, 1490, 1990, 349, 399, 299, 270, 699, 200], [495, 220, 320, 250, 460, 200, 480, 240, 220, 280, 280, 280, 439, 280], [432], [1435, 600], [1900, 400, 400, 200, 450], [350, 500, 799, 695, 1740, 1950, 690]])\n"
     ]
    }
   ],
   "source": [
    "bicycle_dict = {x: df_sub_price_range.loc[df_sub_price_range['canton'] == x, 'price'].tolist() \\\n",
    "               for x in set(df_sub_price_range['canton'])}\n",
    "\n",
    "# Print the resulting dictionary keys and values\n",
    "print('Dictionary with keys and values:')\n",
    "print(bicycle_dict)\n",
    "\n",
    "# Print the resulting dictionary keys\n",
    "print('\\nDictionary keys:')\n",
    "print(bicycle_dict.keys())\n",
    "\n",
    "# Print the resulting dictionary values\n",
    "print('\\nDictionary values')\n",
    "print(bicycle_dict.values())"
   ]
  },
  {
   "cell_type": "markdown",
   "metadata": {},
   "source": [
    "# Aufgabe 7"
   ]
  },
  {
   "cell_type": "code",
   "execution_count": 72,
   "metadata": {},
   "outputs": [
    {
     "name": "stdout",
     "output_type": "stream",
     "text": [
      "The key Zürich exists!\n",
      "[200, 220, 800, 350, 550, 690, 339, 250, 200, 251, 949, 599, 336, 949, 899, 1690, 990, 250, 430, 379, 1290, 990, 240, 550, 990, 230, 270, 200, 950, 790, 1700, 300, 949, 300, 455, 270, 280, 290, 250, 1230, 1030, 375, 450, 800, 240, 220]\n"
     ]
    }
   ],
   "source": [
    "key = \"Zürich\"\n",
    "if key in bicycle_dict:\n",
    "    print(f'The key {key} exists!')\n",
    "\n",
    "print(bicycle_dict.get(key))"
   ]
  }
 ],
 "metadata": {
  "kernelspec": {
   "display_name": "spenv",
   "language": "python",
   "name": "python3"
  },
  "language_info": {
   "codemirror_mode": {
    "name": "ipython",
    "version": 3
   },
   "file_extension": ".py",
   "mimetype": "text/x-python",
   "name": "python",
   "nbconvert_exporter": "python",
   "pygments_lexer": "ipython3",
   "version": "3.10.13"
  }
 },
 "nbformat": 4,
 "nbformat_minor": 2
}
