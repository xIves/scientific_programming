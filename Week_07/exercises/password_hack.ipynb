{
 "cells": [
  {
   "attachments": {},
   "cell_type": "markdown",
   "metadata": {},
   "source": [
    "# Brute force Excel password hack with Python"
   ]
  },
  {
   "attachments": {},
   "cell_type": "markdown",
   "metadata": {},
   "source": [
    "## Libaries and settings"
   ]
  },
  {
   "cell_type": "code",
   "execution_count": null,
   "metadata": {},
   "outputs": [],
   "source": [
    "# Libraries\n",
    "import os\n",
    "import time\n",
    "import string\n",
    "import itertools\n",
    "import win32com.client\n",
    "\n",
    "# Ignore warnings\n",
    "import warnings\n",
    "warnings.filterwarnings('ignore')\n",
    "\n",
    "# Show current working directory\n",
    "print(os.getcwd())"
   ]
  },
  {
   "cell_type": "markdown",
   "metadata": {},
   "source": [
    "## Create own password list"
   ]
  },
  {
   "cell_type": "code",
   "execution_count": null,
   "metadata": {},
   "outputs": [],
   "source": [
    "def password_wordlist(start_range, end_range, file_name):\n",
    "\n",
    "    chars = string.ascii_lowercase + \\\n",
    "            string.ascii_uppercase + \\\n",
    "            string.digits + '@' + '#' + '$' + '.'\n",
    "    \n",
    "    attempts = 0\n",
    "    f = open(file_name, 'w')\n",
    "\n",
    "    for password_length in range(start_range, end_range):\n",
    "\n",
    "        for guess in itertools.product(chars, repeat=password_length): \n",
    "            attempts += 1\n",
    "            guess = ''.join(guess)\n",
    "            f.write(guess)\n",
    "            f.write(\"\\n\")\n",
    "            \n",
    "    f.close()\n",
    "\n",
    "password_wordlist(start_range=3,end_range=4,file_name='passwords.txt')"
   ]
  },
  {
   "attachments": {},
   "cell_type": "markdown",
   "metadata": {},
   "source": [
    "## Brute force Excel password hack"
   ]
  },
  {
   "cell_type": "code",
   "execution_count": null,
   "metadata": {},
   "outputs": [],
   "source": [
    "# .xls file\n",
    "notebook_dir = os.getcwd()\n",
    "excel_file_path = os.path.join(notebook_dir, \n",
    "                               'chicken_data_password_protected.xlsx')\n",
    "excel = win32com.client.Dispatch('Excel.Application')\n",
    "\n",
    "# List\n",
    "password_list = []\n",
    "\n",
    "# Extract passwords from file and load to list object\n",
    "with open('passwords_short.txt', 'r', encoding='utf-8') as pwd:\n",
    "    passwords = pwd.readlines()\n",
    "    for password in passwords:\n",
    "        password_list.append(password.replace('\\n', ''))\n",
    "\n",
    "# Loop\n",
    "for password in password_list:\n",
    "    try:\n",
    "        wb = excel.Workbooks.Open(excel_file_path, False, True, None, password)\n",
    "        wb.Unprotect(password)\n",
    "        print('Successful password: ', password)\n",
    "        pw = password\n",
    "        excel.DisplayAlerts = False\n",
    "        excel.Quit()\n",
    "        break\n",
    "    except:\n",
    "        print('Bad password: ', password)\n",
    "        continue"
   ]
  },
  {
   "attachments": {},
   "cell_type": "markdown",
   "metadata": {},
   "source": [
    "### Jupyter notebook --footer info-- (please always provide this at the end of each notebook)"
   ]
  },
  {
   "cell_type": "code",
   "execution_count": null,
   "metadata": {},
   "outputs": [],
   "source": [
    "import os\n",
    "import platform\n",
    "import socket\n",
    "from platform import python_version\n",
    "from datetime import datetime\n",
    "\n",
    "print('-----------------------------------')\n",
    "print(os.name.upper())\n",
    "print(platform.system(), '|', platform.release())\n",
    "print('Datetime:', datetime.now().strftime(\"%Y-%m-%d %H:%M:%S\"))\n",
    "print('Python Version:', python_version())\n",
    "print('-----------------------------------')"
   ]
  }
 ],
 "metadata": {
  "kernelspec": {
   "display_name": "spenv",
   "language": "python",
   "name": "python3"
  },
  "language_info": {
   "codemirror_mode": {
    "name": "ipython",
    "version": 3
   },
   "file_extension": ".py",
   "mimetype": "text/x-python",
   "name": "python",
   "nbconvert_exporter": "python",
   "pygments_lexer": "ipython3",
   "version": "3.10.13"
  },
  "orig_nbformat": 4
 },
 "nbformat": 4,
 "nbformat_minor": 2
}
