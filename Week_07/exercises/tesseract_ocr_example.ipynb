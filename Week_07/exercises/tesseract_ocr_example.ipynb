{
 "cells": [
  {
   "attachments": {},
   "cell_type": "markdown",
   "id": "deluxe-retention",
   "metadata": {},
   "source": [
    "# Optical Character Recognition (OCR)"
   ]
  },
  {
   "attachments": {},
   "cell_type": "markdown",
   "id": "unique-laugh",
   "metadata": {},
   "source": [
    "## Libraries and settings"
   ]
  },
  {
   "cell_type": "code",
   "execution_count": null,
   "id": "narrow-essay",
   "metadata": {},
   "outputs": [],
   "source": [
    "# Prerequisites:\n",
    "# 1.) Install tesseract on your computer \n",
    "#     Windows: https://linuxhint.com/install-tesseract-windows\n",
    "#     (dont forget to set the path to your installation of tesseract)\n",
    "#     Mac: brew install tesseract\n",
    "#\n",
    "# 2.) Download german language model (default is english):\n",
    "#     Go to: https://github.com/tesseract-ocr/tessdata\n",
    "#     Download: 'deu.traineddata'\n",
    "#     Copy the file into your tesseract installation folder under\n",
    "#     ...\\Tesseract-OCR\\tessdata\\deu.traineddata\n",
    "\n",
    "# Libraries\n",
    "import os\n",
    "import re\n",
    "import cv2\n",
    "import pytesseract\n",
    "from pytesseract import Output\n",
    "import PIL\n",
    "from PIL import Image\n",
    "\n",
    "# Ignore warnings\n",
    "import warnings\n",
    "warnings.filterwarnings('ignore')\n",
    "\n",
    "# Show current working directory\n",
    "print(os.getcwd())"
   ]
  },
  {
   "attachments": {},
   "cell_type": "markdown",
   "id": "cac6d63a",
   "metadata": {},
   "source": [
    "## Read and plot digital image of a receipt"
   ]
  },
  {
   "cell_type": "code",
   "execution_count": null,
   "id": "cb553ddf",
   "metadata": {},
   "outputs": [],
   "source": [
    "# Filename to read\n",
    "img_file = 'receipt.png'\n",
    "\n",
    "# Import and plot image of the receipt\n",
    "img = cv2.imread(img_file)\n",
    "\n",
    "cv2.imshow('img', img)\n",
    "cv2.waitKey(0)\n",
    "cv2.destroyAllWindows()"
   ]
  },
  {
   "cell_type": "markdown",
   "id": "piano-council",
   "metadata": {},
   "source": [
    "## Image processing to improve the image quality"
   ]
  },
  {
   "cell_type": "code",
   "execution_count": null,
   "id": "freelance-antarctica",
   "metadata": {},
   "outputs": [],
   "source": [
    "# Increase brightness function\n",
    "def increase_brightness(img, value=30):\n",
    "    hsv = cv2.cvtColor(img, cv2.COLOR_BGR2HSV)\n",
    "    h, s, v = cv2.split(hsv)\n",
    "\n",
    "    lim = 255 - value\n",
    "    v[v > lim] = 255\n",
    "    v[v <= lim] += value\n",
    "\n",
    "    final_hsv = cv2.merge((h, s, v))\n",
    "    img = cv2.cvtColor(final_hsv, cv2.COLOR_HSV2BGR)\n",
    "    return img\n",
    "\n",
    "# Improve image quality step by step\n",
    "img_01 = cv2.imread(img_file)\n",
    "img    = increase_brightness(img_01, value=30) \n",
    "\n",
    "cv2.imshow('img', img)\n",
    "cv2.waitKey(0)\n",
    "cv2.destroyAllWindows()"
   ]
  },
  {
   "cell_type": "markdown",
   "id": "sonic-teddy",
   "metadata": {},
   "source": [
    "## Getting boxes around the text"
   ]
  },
  {
   "cell_type": "code",
   "execution_count": null,
   "id": "northern-edinburgh",
   "metadata": {},
   "outputs": [],
   "source": [
    "h, w, c = img.shape\n",
    "boxes = pytesseract.image_to_boxes(img, lang='deu')\n",
    "\n",
    "for b in boxes.splitlines():\n",
    "    b = b.split(' ')\n",
    "    img = cv2.rectangle(img, (int(b[1]), h - int(b[2])), (int(b[3]), h - int(b[4])), (0, 255, 0), 1)\n",
    "\n",
    "d = pytesseract.image_to_data(img, output_type=Output.DICT, lang='deu')\n",
    "\n",
    "cv2.imshow('img', img)\n",
    "cv2.waitKey(0)\n",
    "cv2.destroyAllWindows()"
   ]
  },
  {
   "attachments": {},
   "cell_type": "markdown",
   "id": "spare-amateur",
   "metadata": {},
   "source": [
    "## Template matching"
   ]
  },
  {
   "cell_type": "code",
   "execution_count": null,
   "id": "interpreted-pickup",
   "metadata": {},
   "outputs": [],
   "source": [
    "img_01 = cv2.imread(img_file)\n",
    "img    = increase_brightness(img_01, value=30)\n",
    "\n",
    "d = pytesseract.image_to_data(img, output_type=Output.DICT, lang='deu')\n",
    "keys = list(d.keys())\n",
    "vals = list(d.values())\n",
    "\n",
    "# Try to find all numbers using regex\n",
    "pattern = r'\\d+'\n",
    "\n",
    "n_boxes = len(d['text'])\n",
    "for i in range(n_boxes):\n",
    "    if int(d['conf'][i]) >= 0:\n",
    "        if re.match(pattern, d['text'][i]):\n",
    "            (x, y, w, h) = (d['left'][i], d['top'][i], d['width'][i], d['height'][i])\n",
    "            img = cv2.rectangle(img, (x, y), (x + w, y + h), (0,128,255), 2)\n",
    "\n",
    "# Plot image in a separate window\n",
    "cv2.imshow('img', img)\n",
    "cv2.waitKey(0)\n",
    "cv2.destroyAllWindows()"
   ]
  },
  {
   "cell_type": "markdown",
   "id": "rising-pollution",
   "metadata": {},
   "source": [
    "## Print content of boxes around the text"
   ]
  },
  {
   "cell_type": "code",
   "execution_count": null,
   "id": "hindu-industry",
   "metadata": {},
   "outputs": [],
   "source": [
    "# Total number of text-boxes\n",
    "print('Number of boxes:', n_boxes, '\\n')\n",
    "\n",
    "# Boxes\n",
    "boxes = pytesseract.image_to_boxes(img, lang='deu')\n",
    "print(boxes[0:180])\n",
    "\n",
    "# Keys\n",
    "print(d.keys())\n",
    "\n",
    "# Values\n",
    "list(d.values())[11][17:21]"
   ]
  },
  {
   "cell_type": "code",
   "execution_count": null,
   "id": "heard-headset",
   "metadata": {},
   "outputs": [],
   "source": [
    "def replace_chars(text):\n",
    "    \"\"\"\n",
    "    Replaces all characters instead of numbers from 'text'.\n",
    "    :param text: Text string to be filtered\n",
    "    :return: Resulting number\n",
    "    \"\"\"\n",
    "    list_of_numbers = re.findall(r'\\d+', text)\n",
    "    result_number = '|'.join(list_of_numbers)\n",
    "    return result_number\n",
    "\n",
    "# Content of the receipt\n",
    "ocr_result = pytesseract.image_to_string(Image.open(img_file), lang='deu')\n",
    "print(ocr_result)\n",
    "\n",
    "# Numbers only\n",
    "ocr_result = replace_chars(ocr_result)\n",
    "print('Numbers only:')\n",
    "print(ocr_result)"
   ]
  },
  {
   "attachments": {},
   "cell_type": "markdown",
   "id": "postal-camping",
   "metadata": {},
   "source": [
    "## Write extracted text to file"
   ]
  },
  {
   "cell_type": "code",
   "execution_count": null,
   "id": "august-match",
   "metadata": {},
   "outputs": [],
   "source": [
    "parse_text = []\n",
    "word_list  = []\n",
    "last_word  = ''\n",
    "\n",
    "for word in d['text']:\n",
    "    if word!='':\n",
    "        word_list.append(word)\n",
    "        last_word = word\n",
    "    if (last_word!='' and word == '') or (word==d['text'][-1]):\n",
    "        parse_text.append(word_list)\n",
    "        word_list = []\n",
    "\n",
    "print(parse_text)\n",
    "\n",
    "# Write to .csv-file\n",
    "import csv\n",
    "with open('result_text.txt',  'w', newline=\"\") as file:\n",
    "          csv.writer(file, delimiter=\" \").writerows(parse_text)"
   ]
  },
  {
   "attachments": {},
   "cell_type": "markdown",
   "id": "9ae0d1fd",
   "metadata": {},
   "source": [
    "### Jupyter notebook --footer info-- (please always provide this at the end of each notebook)"
   ]
  },
  {
   "cell_type": "code",
   "execution_count": null,
   "id": "bbe81eee",
   "metadata": {},
   "outputs": [],
   "source": [
    "import os\n",
    "import platform\n",
    "import socket\n",
    "from platform import python_version\n",
    "from datetime import datetime\n",
    "\n",
    "print('-----------------------------------')\n",
    "print(os.name.upper())\n",
    "print(platform.system(), '|', platform.release())\n",
    "print('Datetime:', datetime.now().strftime(\"%Y-%m-%d %H:%M:%S\"))\n",
    "print('Python Version:', python_version())\n",
    "print('-----------------------------------')"
   ]
  }
 ],
 "metadata": {
  "kernelspec": {
   "display_name": "spenv",
   "language": "python",
   "name": "python3"
  },
  "language_info": {
   "codemirror_mode": {
    "name": "ipython",
    "version": 3
   },
   "file_extension": ".py",
   "mimetype": "text/x-python",
   "name": "python",
   "nbconvert_exporter": "python",
   "pygments_lexer": "ipython3",
   "version": "3.10.13"
  },
  "vscode": {
   "interpreter": {
    "hash": "e88d0147854d95637bfda66d71c1971db493e0eba7c923c8e835cc4382a02720"
   }
  }
 },
 "nbformat": 4,
 "nbformat_minor": 5
}
