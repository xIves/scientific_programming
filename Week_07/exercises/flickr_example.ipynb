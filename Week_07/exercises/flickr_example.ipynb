{
 "cells": [
  {
   "cell_type": "markdown",
   "id": "viral-receipt",
   "metadata": {},
   "source": [
    "# Flickr REST API: Get information from photos, get and plot photos"
   ]
  },
  {
   "cell_type": "markdown",
   "id": "db7e9667",
   "metadata": {},
   "source": [
    "## Libraries and Settings"
   ]
  },
  {
   "cell_type": "code",
   "execution_count": null,
   "id": "1f2918c5",
   "metadata": {},
   "outputs": [],
   "source": [
    "# Libraries\n",
    "import os\n",
    "import random\n",
    "import fnmatch\n",
    "import pandas as pd\n",
    "import urllib.request\n",
    "from flickrapi import FlickrAPI\n",
    "import matplotlib.pyplot as plt\n",
    "import matplotlib.image as mpimg\n",
    "\n",
    "# Settings\n",
    "import warnings\n",
    "warnings.filterwarnings(\"ignore\")\n",
    "\n",
    "# Read API key and secret (get one on: https://www.flickr.com/services/apps/create/apply/)\n",
    "with open('flickr_api_key.txt', 'r') as f:\n",
    "    lines = f.readlines()\n",
    "    api_key = lines[1].strip()\n",
    "    secret_key = lines[4].strip()\n",
    "\n",
    "# Current working directory\n",
    "print(f'Current working directory: {os.getcwd()}')"
   ]
  },
  {
   "attachments": {},
   "cell_type": "markdown",
   "id": "c893b302",
   "metadata": {},
   "source": [
    "## Flickr WEB API Settings"
   ]
  },
  {
   "cell_type": "code",
   "execution_count": null,
   "id": "detailed-criticism",
   "metadata": {},
   "outputs": [],
   "source": [
    "# Keys for flickr API\n",
    "FLICKR_PUBLIC = api_key\n",
    "FLICKR_SECRET = secret_key\n",
    "\n",
    "# Settings (extras = different resolution of photos)\n",
    "flickr = FlickrAPI(FLICKR_PUBLIC, FLICKR_SECRET, format='parsed-json')\n",
    "extras = 'url_sq,url_t,url_s,url_q,url_m,url_n,url_z,url_c,url_l,url_o'\n",
    "\n",
    "# Get information about photos using the flickr API\n",
    "cont = flickr.photos.search(text='yellow flowers', per_page=5, extras=extras)\n",
    "photos = cont['photos']\n",
    "\n",
    "# Object type\n",
    "print(type(photos))\n",
    "\n",
    "# Print keys of dictionary\n",
    "print(photos.keys())\n",
    "\n",
    "# Print values\n",
    "df = pd.DataFrame.from_dict(photos)\n",
    "df"
   ]
  },
  {
   "attachments": {},
   "cell_type": "markdown",
   "id": "f273b121",
   "metadata": {},
   "source": [
    "## Get info about photos"
   ]
  },
  {
   "cell_type": "code",
   "execution_count": null,
   "id": "disturbed-marketing",
   "metadata": {},
   "outputs": [],
   "source": [
    "# Derive information about the first photo\n",
    "photo_01 = photos[\"photo\"][0]\n",
    "\n",
    "try:\n",
    "    from pprint import pprint\n",
    "    pprint(photo_01)\n",
    "except:\n",
    "    print(photo_01)"
   ]
  },
  {
   "attachments": {},
   "cell_type": "markdown",
   "id": "631c44e5",
   "metadata": {},
   "source": [
    "## Download and plot photos"
   ]
  },
  {
   "attachments": {},
   "cell_type": "markdown",
   "id": "e1c58db6",
   "metadata": {},
   "source": [
    "### Single photo"
   ]
  },
  {
   "cell_type": "code",
   "execution_count": null,
   "id": "differential-sally",
   "metadata": {},
   "outputs": [],
   "source": [
    "# Photo url\n",
    "url = photo_01[\"url_m\"]\n",
    "url"
   ]
  },
  {
   "cell_type": "code",
   "execution_count": null,
   "id": "hourly-kazakhstan",
   "metadata": {},
   "outputs": [],
   "source": [
    "# Download single photo\n",
    "urllib.request.urlretrieve(url, 'photo_01.jpg')"
   ]
  },
  {
   "cell_type": "code",
   "execution_count": null,
   "id": "sought-conversion",
   "metadata": {},
   "outputs": [],
   "source": [
    "# Plot photo\n",
    "img = mpimg.imread('photo_01.jpg')\n",
    "plt.figure(figsize=(6,6))\n",
    "imgplot = plt.imshow(img)"
   ]
  },
  {
   "attachments": {},
   "cell_type": "markdown",
   "id": "e2ba0230",
   "metadata": {},
   "source": [
    "### Function to print all photos from the list"
   ]
  },
  {
   "cell_type": "code",
   "execution_count": null,
   "id": "3d6b04bf",
   "metadata": {},
   "outputs": [],
   "source": [
    "def print_photos():\n",
    "\n",
    "    for photo in photos[\"photo\"]:\n",
    "        try:\n",
    "            # Url\n",
    "            url = photo[\"url_m\"]\n",
    "            # Download\n",
    "            urllib.request.urlretrieve(url, 'photo.jpg')\n",
    "            # Plot\n",
    "            img = mpimg.imread('photo.jpg')\n",
    "            plt.figure(figsize=(6,6))\n",
    "            imgplot = plt.imshow(img)\n",
    "        except:\n",
    "            pass\n",
    "\n",
    "# Funtion call\n",
    "print_photos()"
   ]
  },
  {
   "attachments": {},
   "cell_type": "markdown",
   "id": "f58083e4",
   "metadata": {},
   "source": [
    "### Jupyter notebook --footer info-- (please always provide this at the end of each notebook)"
   ]
  },
  {
   "cell_type": "code",
   "execution_count": null,
   "id": "a98db001",
   "metadata": {},
   "outputs": [],
   "source": [
    "import os\n",
    "import platform\n",
    "import socket\n",
    "from platform import python_version\n",
    "from datetime import datetime\n",
    "\n",
    "print('-----------------------------------')\n",
    "print(os.name.upper())\n",
    "print(platform.system(), '|', platform.release())\n",
    "print('Datetime:', datetime.now().strftime(\"%Y-%m-%d %H:%M:%S\"))\n",
    "print('Python Version:', python_version())\n",
    "print('-----------------------------------')"
   ]
  }
 ],
 "metadata": {
  "kernelspec": {
   "display_name": "spenv",
   "language": "python",
   "name": "python3"
  },
  "language_info": {
   "codemirror_mode": {
    "name": "ipython",
    "version": 3
   },
   "file_extension": ".py",
   "mimetype": "text/x-python",
   "name": "python",
   "nbconvert_exporter": "python",
   "pygments_lexer": "ipython3",
   "version": "3.10.13"
  },
  "vscode": {
   "interpreter": {
    "hash": "e88d0147854d95637bfda66d71c1971db493e0eba7c923c8e835cc4382a02720"
   }
  }
 },
 "nbformat": 4,
 "nbformat_minor": 5
}
