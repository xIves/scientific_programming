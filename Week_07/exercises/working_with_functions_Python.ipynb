{
 "cells": [
  {
   "attachments": {},
   "cell_type": "markdown",
   "metadata": {},
   "source": [
    "# Working with functions in Python"
   ]
  },
  {
   "attachments": {},
   "cell_type": "markdown",
   "metadata": {},
   "source": [
    "## Libraries and settings"
   ]
  },
  {
   "cell_type": "code",
   "execution_count": null,
   "metadata": {},
   "outputs": [],
   "source": [
    "# Libraries\n",
    "import os\n",
    "import pandas as pd\n",
    "import matplotlib.pyplot as plt\n",
    "\n",
    "# Ignore warnings\n",
    "import warnings\n",
    "warnings.filterwarnings('ignore')\n",
    "\n",
    "# Show current working directory\n",
    "print(os.getcwd())"
   ]
  },
  {
   "cell_type": "markdown",
   "metadata": {},
   "source": [
    "## Built-in functions (examples)\n",
    "\n",
    "Each of the built-in functions below performs a specific task. The code that accomplishes the task is defined somewhere, but you don’t need to know where or even how the code works. All you need to know about is the function’s interface:\n",
    "\n",
    "- What arguments (if any) it takes\n",
    "- What values (if any) it returns"
   ]
  },
  {
   "cell_type": "code",
   "execution_count": null,
   "metadata": {},
   "outputs": [],
   "source": [
    "# The built-in function len() calculates the length of an object\n",
    "a = ['foo', 'bar', 'baz', 'qux']\n",
    "len(a)"
   ]
  },
  {
   "cell_type": "code",
   "execution_count": null,
   "metadata": {},
   "outputs": [],
   "source": [
    "# The built-in function 'any' checks if any of the the results is True\n",
    "print(any([False, False, False]))\n",
    "print(any([False, True, False]))\n",
    "\n",
    "print(any(['bar' == 'baz', len('foo') == 4, 'qux' in {'foo', 'bar', 'baz'}]))\n",
    "print(any(['bar' == 'baz', len('foo') == 3, 'qux' in {'foo', 'bar', 'baz'}]))"
   ]
  },
  {
   "cell_type": "code",
   "execution_count": null,
   "metadata": {},
   "outputs": [],
   "source": [
    "mylist = list(range(100))\n",
    "print(mylist, \"\\n\")\n",
    "\n",
    "print(min(mylist))\n",
    "print(max(mylist))"
   ]
  },
  {
   "cell_type": "code",
   "execution_count": null,
   "metadata": {},
   "outputs": [],
   "source": [
    "# Return the value of 3 to the power of 4\n",
    "x = pow(3, 4)\n",
    "print(x)"
   ]
  },
  {
   "cell_type": "code",
   "execution_count": null,
   "metadata": {},
   "outputs": [],
   "source": [
    "# The dir() function returns all the properties and methods \n",
    "# of the specified object, without the values.\n",
    "mylist = [1,2,3,4,5]\n",
    "print(dir(mylist))"
   ]
  },
  {
   "cell_type": "code",
   "execution_count": null,
   "metadata": {},
   "outputs": [],
   "source": [
    "# The sorted() function returns a sorted list of the specified iterable object.\n",
    "mytuple = (\"h\", \"b\", \"a\", \"c\", \"f\", \"d\", \"e\", \"g\")\n",
    "print(type(mytuple))\n",
    "print('Sorted list from tuple:', sorted(mytuple))\n",
    "\n",
    "mylist = [\"h\", \"b\", \"a\", \"c\", \"f\", \"d\", \"e\", \"g\"]\n",
    "print(type(mylist))\n",
    "print('Sorted list from list:', sorted(mylist))"
   ]
  },
  {
   "cell_type": "code",
   "execution_count": null,
   "metadata": {},
   "outputs": [],
   "source": [
    "# max() returns the highest value\n",
    "names_tuple = ('A', 'Z', 'B', 'K', 'L')\n",
    "print(max(names_tuple))\n",
    "\n",
    "number_tuple = (2785, 545, -987, 1239, 453)\n",
    "print(max(number_tuple))\n",
    "\n",
    "# min() returns the lowest value\n",
    "names_tuple = ('A', 'Z', 'B', 'K', 'L')\n",
    "print(min(names_tuple))\n",
    "\n",
    "number_tuple = (2785, 545, -987, 1239, 453)\n",
    "print(min(number_tuple))"
   ]
  },
  {
   "cell_type": "code",
   "execution_count": null,
   "metadata": {},
   "outputs": [],
   "source": [
    "# The id() function returns a unique id for the specified object. \n",
    "# The id is the object’s memory address.\n",
    "names_tuple = ('A', 'Z', 'B', 'K', 'L')\n",
    "print(id(names_tuple))\n",
    "\n",
    "x = 10**5\n",
    "print(id(x))"
   ]
  },
  {
   "cell_type": "code",
   "execution_count": null,
   "metadata": {},
   "outputs": [],
   "source": [
    "# The help() function is used to display the documentation of \n",
    "# modules, functions, classes, keywords, etc.\n",
    "\n",
    "help(max)\n",
    "\n",
    "# Try also ...\n",
    "# import pandas as pd\n",
    "# help(pd.read_json)"
   ]
  },
  {
   "cell_type": "markdown",
   "metadata": {},
   "source": [
    "## User-defined functions"
   ]
  },
  {
   "cell_type": "markdown",
   "metadata": {},
   "source": [
    "### Argument passing"
   ]
  },
  {
   "cell_type": "code",
   "execution_count": null,
   "metadata": {},
   "outputs": [],
   "source": [
    "# Positional Arguments\n",
    "def my_func(qty, item, price):\n",
    "    print(f'{qty} {item} cost ${price:.2f}')\n",
    "    \n",
    "# Ordered and complete list of arguments\n",
    "my_func(6, 'bananas', 1.74)"
   ]
  },
  {
   "cell_type": "code",
   "execution_count": null,
   "metadata": {},
   "outputs": [],
   "source": [
    "# Keyword Arguments\n",
    "def my_func(qty, item, price):\n",
    "    print(f'{qty} {item} cost ${price:.2f}')\n",
    "    \n",
    "# list of arguments (order does not matter)\n",
    "my_func(price=1.74, qty=6, item='bananas')"
   ]
  },
  {
   "cell_type": "code",
   "execution_count": null,
   "metadata": {},
   "outputs": [],
   "source": [
    "# Default Parameters\n",
    "def my_func(qty=6, item='bananas', price=1.74):\n",
    "    print(f'{qty} {item} cost ${price:.2f}')\n",
    "    \n",
    "# list of arguments (missing are set to default)\n",
    "my_func(4, 'apples', 2.24)\n",
    "my_func(4, 'apples')\n",
    "my_func(4)\n",
    "my_func()\n",
    "my_func(item='kumquats', qty=9)\n",
    "my_func(price=2.29)"
   ]
  },
  {
   "cell_type": "code",
   "execution_count": null,
   "metadata": {},
   "outputs": [],
   "source": [
    "# Mutable Default Parameter Values\n",
    "def my_func(my_list=[]):\n",
    "    my_list.append('###')\n",
    "    return my_list\n",
    "\n",
    "'''Problem:\n",
    "The default value isn’t re-defined each time the \n",
    "function is called. Thus, each time you call f() \n",
    "without a parameter, you’re performing .append()\n",
    "on the same list.'''\n",
    "print(my_func())\n",
    "print(my_func())\n",
    "print(my_func())"
   ]
  },
  {
   "cell_type": "code",
   "execution_count": null,
   "metadata": {},
   "outputs": [],
   "source": [
    "# Workaround to solve the problem above\n",
    "def my_func(my_list=None):\n",
    "    if my_list is None:\n",
    "        my_list = []\n",
    "    my_list.append('###')\n",
    "    return my_list\n",
    "\n",
    "my_func()\n",
    "my_func()\n",
    "my_func()\n",
    "\n",
    "print(my_func([1, 2, 3, 4, 5]))"
   ]
  },
  {
   "cell_type": "markdown",
   "metadata": {},
   "source": [
    "### Variable-length argument lists"
   ]
  },
  {
   "cell_type": "code",
   "execution_count": null,
   "metadata": {},
   "outputs": [],
   "source": [
    "# If you would like to work with a flexible number\n",
    "# of arguments you can use a list to pass \n",
    "# multiple arguments without the need to pre-define it\n",
    "def avg(a):\n",
    "    total = 0\n",
    "    for v in a:\n",
    "        total += v\n",
    "    return total / len(a)\n",
    "\n",
    "print(avg([1, 2, 3]))\n",
    "print(avg([1, 2, 3, 4, 5]))"
   ]
  },
  {
   "cell_type": "code",
   "execution_count": null,
   "metadata": {},
   "outputs": [],
   "source": [
    "# Argument Tuple Packing\n",
    "def my_func(*args):\n",
    "    print(args)\n",
    "    print(type(args), len(args))\n",
    "    for x in args:\n",
    "        print(x)\n",
    "\n",
    "my_func(1, 2, 3)\n",
    "\n",
    "# Argument Tuple Unpacking\n",
    "def my_func(x, y, z):\n",
    "    print(f'x = {x}')\n",
    "    print(f'y = {y}')\n",
    "    print(f'z = {z}')\n",
    "\n",
    "my_func(1, 2, 3)"
   ]
  },
  {
   "cell_type": "code",
   "execution_count": null,
   "metadata": {},
   "outputs": [],
   "source": [
    "# Argument Dictionary Packing\n",
    "def my_func(**kwargs):\n",
    "    print(kwargs)\n",
    "    print(type(kwargs))\n",
    "    for key, val in kwargs.items():\n",
    "        print(key, '->', val)\n",
    "\n",
    "my_func(foo=1, bar=2, baz=3)\n",
    "\n",
    "# Argument Dictionary Unpacking\n",
    "def my_func(a, b, c):\n",
    "    print(F'a = {a}')\n",
    "    print(F'b = {b}')\n",
    "    print(F'c = {c}')\n",
    "\n",
    "d = {'a': 'foo', 'b': 25, 'c': 'qux'}\n",
    "my_func(**d)"
   ]
  },
  {
   "cell_type": "code",
   "execution_count": null,
   "metadata": {},
   "outputs": [],
   "source": [
    "# Bringing the Packing and Unpacking functionality together\n",
    "\n",
    "# Think of *args as a variable-length positional argument list, \n",
    "# and **kwargs as a variable-length keyword argument list.\n",
    "# All three—standard positional parameters, *args, and **kwargs—can \n",
    "# be used in one Python function definition. If so, then they should \n",
    "# be specified in that order.\n",
    "\n",
    "def my_func(a, b, *args, **kwargs):\n",
    "    print(f'a = {a}')\n",
    "    print(f'b = {b}')\n",
    "    print(f'args = {args}')\n",
    "    print(f'kwargs = {kwargs}')\n",
    "\n",
    "my_func(1, 2, 'foo', 'bar', 'baz', 'qux', x=100, y=200, z=300)"
   ]
  },
  {
   "cell_type": "markdown",
   "metadata": {},
   "source": [
    "### Functions applied to functions"
   ]
  },
  {
   "cell_type": "code",
   "execution_count": null,
   "metadata": {},
   "outputs": [],
   "source": [
    "def mult_by_five(x):\n",
    "    return 5 * x\n",
    "\n",
    "def call(fn, arg):\n",
    "    \"\"\"Call fn on arg\"\"\"\n",
    "    return fn(arg)\n",
    "\n",
    "def squared_call(fn, arg):\n",
    "    \"\"\"Call fn on the result of calling fn on arg\"\"\"\n",
    "    return fn(fn(arg))\n",
    "\n",
    "# Call \n",
    "print(call(mult_by_five, 1))\n",
    "print(squared_call(mult_by_five, 1))"
   ]
  },
  {
   "cell_type": "markdown",
   "metadata": {},
   "source": [
    "### Docstrings"
   ]
  },
  {
   "cell_type": "code",
   "execution_count": null,
   "metadata": {},
   "outputs": [],
   "source": [
    "def max_difference(a, b, c):\n",
    "    \"\"\"Returns the largest difference \n",
    "       between any two numbers among a, b and c. \n",
    "     Example:\n",
    "     >>> max_difference(10, 20, 100)\n",
    "     90\"\"\"\n",
    "    diff1 = abs(a - b)\n",
    "    diff2 = abs(b - c)\n",
    "    diff3 = abs(a - c)\n",
    "    \n",
    "    return max(diff1, diff2, diff3)\n",
    "\n",
    "help(max_difference)\n",
    "\n",
    "print(max_difference(10, 20, 100))"
   ]
  },
  {
   "cell_type": "markdown",
   "metadata": {},
   "source": [
    "### Python function annotations"
   ]
  },
  {
   "cell_type": "code",
   "execution_count": null,
   "metadata": {},
   "outputs": [],
   "source": [
    "# Python program to illustrate function annotations\n",
    "\n",
    "\"\"\"In the example below, an annotation is attached to \n",
    "the parameter r and to the return value. Each annotation \n",
    "is a dictionary containing a string description and a type \n",
    "object.\"\"\"\n",
    "\n",
    "def area(\n",
    "    r: {\n",
    "        'desc': 'radius of circle',\n",
    "        'type': float\n",
    "    }) -> \\\n",
    "        {\n",
    "        'desc': 'area of circle',\n",
    "        'type': float\n",
    "}:\n",
    "    return 3.14159 * (r ** 2)\n",
    "\n",
    "print(area(2.5))\n",
    "\n",
    "print(area.__annotations__)\n",
    "print(area.__annotations__['r']['desc'])\n",
    "print(area.__annotations__['return']['type'])"
   ]
  },
  {
   "attachments": {},
   "cell_type": "markdown",
   "metadata": {},
   "source": [
    "### Jupyter notebook --footer info-- (please always provide this at the end of each notebook)"
   ]
  },
  {
   "cell_type": "code",
   "execution_count": null,
   "metadata": {},
   "outputs": [],
   "source": [
    "import os\n",
    "import platform\n",
    "import socket\n",
    "from platform import python_version\n",
    "from datetime import datetime\n",
    "\n",
    "print('-----------------------------------')\n",
    "print(os.name.upper())\n",
    "print(platform.system(), '|', platform.release())\n",
    "print('Datetime:', datetime.now().strftime(\"%Y-%m-%d %H:%M:%S\"))\n",
    "print('Python Version:', python_version())\n",
    "print('-----------------------------------')"
   ]
  }
 ],
 "metadata": {
  "kernelspec": {
   "display_name": "spenv",
   "language": "python",
   "name": "python3"
  },
  "language_info": {
   "codemirror_mode": {
    "name": "ipython",
    "version": 3
   },
   "file_extension": ".py",
   "mimetype": "text/x-python",
   "name": "python",
   "nbconvert_exporter": "python",
   "pygments_lexer": "ipython3",
   "version": "3.10.13"
  },
  "toc": {
   "base_numbering": 1,
   "nav_menu": {},
   "number_sections": true,
   "sideBar": true,
   "skip_h1_title": false,
   "title_cell": "Table of Contents",
   "title_sidebar": "Contents",
   "toc_cell": false,
   "toc_position": {},
   "toc_section_display": true,
   "toc_window_display": true
  },
  "vscode": {
   "interpreter": {
    "hash": "e88d0147854d95637bfda66d71c1971db493e0eba7c923c8e835cc4382a02720"
   }
  }
 },
 "nbformat": 4,
 "nbformat_minor": 4
}
