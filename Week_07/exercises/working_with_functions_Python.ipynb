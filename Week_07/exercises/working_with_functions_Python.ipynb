{
 "cells": [
  {
   "attachments": {},
   "cell_type": "markdown",
   "metadata": {},
   "source": [
    "# Working with functions in Python"
   ]
  },
  {
   "attachments": {},
   "cell_type": "markdown",
   "metadata": {},
   "source": [
    "## Libraries and settings"
   ]
  },
  {
   "cell_type": "code",
   "execution_count": 1,
   "metadata": {},
   "outputs": [
    {
     "name": "stdout",
     "output_type": "stream",
     "text": [
      "/Users/ivesbrunner/Documents/Studium/01_Bachelor/04_Semester/04_ScientificProgramming/scientific_programming/Week_07/exercises\n"
     ]
    }
   ],
   "source": [
    "# Libraries\n",
    "import os\n",
    "import pandas as pd\n",
    "import matplotlib.pyplot as plt\n",
    "\n",
    "# Ignore warnings\n",
    "import warnings\n",
    "warnings.filterwarnings('ignore')\n",
    "\n",
    "# Show current working directory\n",
    "print(os.getcwd())"
   ]
  },
  {
   "cell_type": "markdown",
   "metadata": {},
   "source": [
    "## Built-in functions (examples)\n",
    "\n",
    "Each of the built-in functions below performs a specific task. The code that accomplishes the task is defined somewhere, but you don’t need to know where or even how the code works. All you need to know about is the function’s interface:\n",
    "\n",
    "- What arguments (if any) it takes\n",
    "- What values (if any) it returns"
   ]
  },
  {
   "cell_type": "code",
   "execution_count": 2,
   "metadata": {},
   "outputs": [
    {
     "data": {
      "text/plain": [
       "4"
      ]
     },
     "execution_count": 2,
     "metadata": {},
     "output_type": "execute_result"
    }
   ],
   "source": [
    "# The built-in function len() calculates the length of an object\n",
    "a = ['foo', 'bar', 'baz', 'qux']\n",
    "len(a)"
   ]
  },
  {
   "cell_type": "code",
   "execution_count": 3,
   "metadata": {},
   "outputs": [
    {
     "name": "stdout",
     "output_type": "stream",
     "text": [
      "False\n",
      "True\n",
      "False\n",
      "True\n"
     ]
    }
   ],
   "source": [
    "# The built-in function 'any' checks if any of the the results is True\n",
    "print(any([False, False, False]))\n",
    "print(any([False, True, False]))\n",
    "\n",
    "print(any(['bar' == 'baz', len('foo') == 4, 'qux' in {'foo', 'bar', 'baz'}]))\n",
    "print(any(['bar' == 'baz', len('foo') == 3, 'qux' in {'foo', 'bar', 'baz'}]))"
   ]
  },
  {
   "cell_type": "code",
   "execution_count": 4,
   "metadata": {},
   "outputs": [
    {
     "name": "stdout",
     "output_type": "stream",
     "text": [
      "[0, 1, 2, 3, 4, 5, 6, 7, 8, 9, 10, 11, 12, 13, 14, 15, 16, 17, 18, 19, 20, 21, 22, 23, 24, 25, 26, 27, 28, 29, 30, 31, 32, 33, 34, 35, 36, 37, 38, 39, 40, 41, 42, 43, 44, 45, 46, 47, 48, 49, 50, 51, 52, 53, 54, 55, 56, 57, 58, 59, 60, 61, 62, 63, 64, 65, 66, 67, 68, 69, 70, 71, 72, 73, 74, 75, 76, 77, 78, 79, 80, 81, 82, 83, 84, 85, 86, 87, 88, 89, 90, 91, 92, 93, 94, 95, 96, 97, 98, 99] \n",
      "\n",
      "0\n",
      "99\n"
     ]
    }
   ],
   "source": [
    "mylist = list(range(100))\n",
    "print(mylist, \"\\n\")\n",
    "\n",
    "print(min(mylist))\n",
    "print(max(mylist))"
   ]
  },
  {
   "cell_type": "code",
   "execution_count": 5,
   "metadata": {},
   "outputs": [
    {
     "name": "stdout",
     "output_type": "stream",
     "text": [
      "81\n"
     ]
    }
   ],
   "source": [
    "# Return the value of 3 to the power of 4\n",
    "x = pow(3, 4)\n",
    "print(x)"
   ]
  },
  {
   "cell_type": "code",
   "execution_count": 6,
   "metadata": {},
   "outputs": [
    {
     "name": "stdout",
     "output_type": "stream",
     "text": [
      "['__add__', '__class__', '__class_getitem__', '__contains__', '__delattr__', '__delitem__', '__dir__', '__doc__', '__eq__', '__format__', '__ge__', '__getattribute__', '__getitem__', '__gt__', '__hash__', '__iadd__', '__imul__', '__init__', '__init_subclass__', '__iter__', '__le__', '__len__', '__lt__', '__mul__', '__ne__', '__new__', '__reduce__', '__reduce_ex__', '__repr__', '__reversed__', '__rmul__', '__setattr__', '__setitem__', '__sizeof__', '__str__', '__subclasshook__', 'append', 'clear', 'copy', 'count', 'extend', 'index', 'insert', 'pop', 'remove', 'reverse', 'sort']\n"
     ]
    }
   ],
   "source": [
    "# The dir() function returns all the properties and methods \n",
    "# of the specified object, without the values.\n",
    "mylist = [1,2,3,4,5]\n",
    "print(dir(mylist))"
   ]
  },
  {
   "cell_type": "code",
   "execution_count": 7,
   "metadata": {},
   "outputs": [
    {
     "name": "stdout",
     "output_type": "stream",
     "text": [
      "<class 'tuple'>\n",
      "Sorted list from tuple: ['a', 'b', 'c', 'd', 'e', 'f', 'g', 'h']\n",
      "<class 'list'>\n",
      "Sorted list from list: ['a', 'b', 'c', 'd', 'e', 'f', 'g', 'h']\n"
     ]
    }
   ],
   "source": [
    "# The sorted() function returns a sorted list of the specified iterable object.\n",
    "mytuple = (\"h\", \"b\", \"a\", \"c\", \"f\", \"d\", \"e\", \"g\")\n",
    "print(type(mytuple))\n",
    "print('Sorted list from tuple:', sorted(mytuple))\n",
    "\n",
    "mylist = [\"h\", \"b\", \"a\", \"c\", \"f\", \"d\", \"e\", \"g\"]\n",
    "print(type(mylist))\n",
    "print('Sorted list from list:', sorted(mylist))"
   ]
  },
  {
   "cell_type": "code",
   "execution_count": 8,
   "metadata": {},
   "outputs": [
    {
     "name": "stdout",
     "output_type": "stream",
     "text": [
      "Z\n",
      "2785\n",
      "A\n",
      "-987\n"
     ]
    }
   ],
   "source": [
    "# max() returns the highest value\n",
    "names_tuple = ('A', 'Z', 'B', 'K', 'L')\n",
    "print(max(names_tuple))\n",
    "\n",
    "number_tuple = (2785, 545, -987, 1239, 453)\n",
    "print(max(number_tuple))\n",
    "\n",
    "# min() returns the lowest value\n",
    "names_tuple = ('A', 'Z', 'B', 'K', 'L')\n",
    "print(min(names_tuple))\n",
    "\n",
    "number_tuple = (2785, 545, -987, 1239, 453)\n",
    "print(min(number_tuple))"
   ]
  },
  {
   "cell_type": "code",
   "execution_count": 9,
   "metadata": {},
   "outputs": [
    {
     "name": "stdout",
     "output_type": "stream",
     "text": [
      "5614560544\n",
      "5619270096\n"
     ]
    }
   ],
   "source": [
    "# The id() function returns a unique id for the specified object. \n",
    "# The id is the object’s memory address.\n",
    "names_tuple = ('A', 'Z', 'B', 'K', 'L')\n",
    "print(id(names_tuple))\n",
    "\n",
    "x = 10**5\n",
    "print(id(x))"
   ]
  },
  {
   "cell_type": "code",
   "execution_count": 10,
   "metadata": {},
   "outputs": [
    {
     "name": "stdout",
     "output_type": "stream",
     "text": [
      "Help on built-in function max in module builtins:\n",
      "\n",
      "max(...)\n",
      "    max(iterable, *[, default=obj, key=func]) -> value\n",
      "    max(arg1, arg2, *args, *[, key=func]) -> value\n",
      "    \n",
      "    With a single iterable argument, return its biggest item. The\n",
      "    default keyword-only argument specifies an object to return if\n",
      "    the provided iterable is empty.\n",
      "    With two or more arguments, return the largest argument.\n",
      "\n"
     ]
    }
   ],
   "source": [
    "# The help() function is used to display the documentation of \n",
    "# modules, functions, classes, keywords, etc.\n",
    "\n",
    "help(max)\n",
    "\n",
    "# Try also ...\n",
    "# import pandas as pd\n",
    "# help(pd.read_json)"
   ]
  },
  {
   "cell_type": "markdown",
   "metadata": {},
   "source": [
    "## User-defined functions"
   ]
  },
  {
   "cell_type": "markdown",
   "metadata": {},
   "source": [
    "### Argument passing"
   ]
  },
  {
   "cell_type": "code",
   "execution_count": 11,
   "metadata": {},
   "outputs": [
    {
     "name": "stdout",
     "output_type": "stream",
     "text": [
      "6 bananas cost $1.74\n"
     ]
    }
   ],
   "source": [
    "# Positional Arguments\n",
    "def my_func(qty, item, price):\n",
    "    print(f'{qty} {item} cost ${price:.2f}')\n",
    "    \n",
    "# Ordered and complete list of arguments\n",
    "my_func(6, 'bananas', 1.74)"
   ]
  },
  {
   "cell_type": "code",
   "execution_count": 12,
   "metadata": {},
   "outputs": [
    {
     "name": "stdout",
     "output_type": "stream",
     "text": [
      "6 bananas cost $1.74\n"
     ]
    }
   ],
   "source": [
    "# Keyword Arguments\n",
    "def my_func(qty, item, price):\n",
    "    print(f'{qty} {item} cost ${price:.2f}')\n",
    "    \n",
    "# list of arguments (order does not matter)\n",
    "my_func(price=1.74, qty=6, item='bananas')"
   ]
  },
  {
   "cell_type": "code",
   "execution_count": 13,
   "metadata": {},
   "outputs": [
    {
     "name": "stdout",
     "output_type": "stream",
     "text": [
      "4 apples cost $2.24\n",
      "4 apples cost $1.74\n",
      "4 bananas cost $1.74\n",
      "6 bananas cost $1.74\n",
      "9 kumquats cost $1.74\n",
      "6 bananas cost $2.29\n"
     ]
    }
   ],
   "source": [
    "# Default Parameters\n",
    "def my_func(qty=6, item='bananas', price=1.74):\n",
    "    print(f'{qty} {item} cost ${price:.2f}')\n",
    "    \n",
    "# list of arguments (missing are set to default)\n",
    "my_func(4, 'apples', 2.24)\n",
    "my_func(4, 'apples')\n",
    "my_func(4)\n",
    "my_func()\n",
    "my_func(item='kumquats', qty=9)\n",
    "my_func(price=2.29)"
   ]
  },
  {
   "cell_type": "code",
   "execution_count": 14,
   "metadata": {},
   "outputs": [
    {
     "name": "stdout",
     "output_type": "stream",
     "text": [
      "['###']\n",
      "['###', '###']\n",
      "['###', '###', '###']\n"
     ]
    }
   ],
   "source": [
    "# Mutable Default Parameter Values\n",
    "def my_func(my_list=[]):\n",
    "    my_list.append('###')\n",
    "    return my_list\n",
    "\n",
    "'''Problem:\n",
    "The default value isn’t re-defined each time the \n",
    "function is called. Thus, each time you call f() \n",
    "without a parameter, you’re performing .append()\n",
    "on the same list.'''\n",
    "print(my_func())\n",
    "print(my_func())\n",
    "print(my_func())"
   ]
  },
  {
   "cell_type": "code",
   "execution_count": 15,
   "metadata": {},
   "outputs": [
    {
     "name": "stdout",
     "output_type": "stream",
     "text": [
      "[1, 2, 3, 4, 5, '###']\n"
     ]
    }
   ],
   "source": [
    "# Workaround to solve the problem above\n",
    "def my_func(my_list=None):\n",
    "    if my_list is None:\n",
    "        my_list = []\n",
    "    my_list.append('###')\n",
    "    return my_list\n",
    "\n",
    "my_func()\n",
    "my_func()\n",
    "my_func()\n",
    "\n",
    "print(my_func([1, 2, 3, 4, 5]))"
   ]
  },
  {
   "cell_type": "markdown",
   "metadata": {},
   "source": [
    "### Variable-length argument lists"
   ]
  },
  {
   "cell_type": "code",
   "execution_count": 16,
   "metadata": {},
   "outputs": [
    {
     "name": "stdout",
     "output_type": "stream",
     "text": [
      "2.0\n",
      "3.0\n"
     ]
    }
   ],
   "source": [
    "# If you would like to work with a flexible number\n",
    "# of arguments you can use a list to pass \n",
    "# multiple arguments without the need to pre-define it\n",
    "def avg(a):\n",
    "    total = 0\n",
    "    for v in a:\n",
    "        total += v\n",
    "    return total / len(a)\n",
    "\n",
    "print(avg([1, 2, 3]))\n",
    "print(avg([1, 2, 3, 4, 5]))"
   ]
  },
  {
   "cell_type": "code",
   "execution_count": 17,
   "metadata": {},
   "outputs": [
    {
     "name": "stdout",
     "output_type": "stream",
     "text": [
      "(1, 2, 3)\n",
      "<class 'tuple'> 3\n",
      "1\n",
      "2\n",
      "3\n",
      "x = 1\n",
      "y = 2\n",
      "z = 3\n"
     ]
    }
   ],
   "source": [
    "# Argument Tuple Packing\n",
    "def my_func(*args):\n",
    "    print(args)\n",
    "    print(type(args), len(args))\n",
    "    for x in args:\n",
    "        print(x)\n",
    "\n",
    "my_func(1, 2, 3)\n",
    "\n",
    "# Argument Tuple Unpacking\n",
    "def my_func(x, y, z):\n",
    "    print(f'x = {x}')\n",
    "    print(f'y = {y}')\n",
    "    print(f'z = {z}')\n",
    "\n",
    "my_func(1, 2, 3)"
   ]
  },
  {
   "cell_type": "code",
   "execution_count": 18,
   "metadata": {},
   "outputs": [
    {
     "name": "stdout",
     "output_type": "stream",
     "text": [
      "{'foo': 1, 'bar': 2, 'baz': 3}\n",
      "<class 'dict'>\n",
      "foo -> 1\n",
      "bar -> 2\n",
      "baz -> 3\n",
      "a = foo\n",
      "b = 25\n",
      "c = qux\n"
     ]
    }
   ],
   "source": [
    "# Argument Dictionary Packing\n",
    "def my_func(**kwargs):\n",
    "    print(kwargs)\n",
    "    print(type(kwargs))\n",
    "    for key, val in kwargs.items():\n",
    "        print(key, '->', val)\n",
    "\n",
    "my_func(foo=1, bar=2, baz=3)\n",
    "\n",
    "# Argument Dictionary Unpacking\n",
    "def my_func(a, b, c):\n",
    "    print(F'a = {a}')\n",
    "    print(F'b = {b}')\n",
    "    print(F'c = {c}')\n",
    "\n",
    "d = {'a': 'foo', 'b': 25, 'c': 'qux'}\n",
    "my_func(**d)"
   ]
  },
  {
   "cell_type": "code",
   "execution_count": 19,
   "metadata": {},
   "outputs": [
    {
     "name": "stdout",
     "output_type": "stream",
     "text": [
      "a = 1\n",
      "b = 2\n",
      "args = ('foo', 'bar', 'baz', 'qux')\n",
      "kwargs = {'x': 100, 'y': 200, 'z': 300}\n"
     ]
    }
   ],
   "source": [
    "# Bringing the Packing and Unpacking functionality together\n",
    "\n",
    "# Think of *args as a variable-length positional argument list, \n",
    "# and **kwargs as a variable-length keyword argument list.\n",
    "# All three—standard positional parameters, *args, and **kwargs—can \n",
    "# be used in one Python function definition. If so, then they should \n",
    "# be specified in that order.\n",
    "\n",
    "def my_func(a, b, *args, **kwargs):\n",
    "    print(f'a = {a}')\n",
    "    print(f'b = {b}')\n",
    "    print(f'args = {args}')\n",
    "    print(f'kwargs = {kwargs}')\n",
    "\n",
    "my_func(1, 2, 'foo', 'bar', 'baz', 'qux', x=100, y=200, z=300)"
   ]
  },
  {
   "cell_type": "markdown",
   "metadata": {},
   "source": [
    "### Functions applied to functions"
   ]
  },
  {
   "cell_type": "code",
   "execution_count": 20,
   "metadata": {},
   "outputs": [
    {
     "name": "stdout",
     "output_type": "stream",
     "text": [
      "5\n",
      "25\n"
     ]
    }
   ],
   "source": [
    "def mult_by_five(x):\n",
    "    return 5 * x\n",
    "\n",
    "def call(fn, arg):\n",
    "    \"\"\"Call fn on arg\"\"\"\n",
    "    return fn(arg)\n",
    "\n",
    "def squared_call(fn, arg):\n",
    "    \"\"\"Call fn on the result of calling fn on arg\"\"\"\n",
    "    return fn(fn(arg))\n",
    "\n",
    "# Call \n",
    "print(call(mult_by_five, 1))\n",
    "print(squared_call(mult_by_five, 1))"
   ]
  },
  {
   "cell_type": "markdown",
   "metadata": {},
   "source": [
    "### Docstrings"
   ]
  },
  {
   "cell_type": "code",
   "execution_count": 21,
   "metadata": {},
   "outputs": [
    {
     "name": "stdout",
     "output_type": "stream",
     "text": [
      "Help on function max_difference in module __main__:\n",
      "\n",
      "max_difference(a, b, c)\n",
      "    Returns the largest difference \n",
      "      between any two numbers among a, b and c. \n",
      "    Example:\n",
      "    >>> max_difference(10, 20, 100)\n",
      "    90\n",
      "\n",
      "90\n"
     ]
    }
   ],
   "source": [
    "def max_difference(a, b, c):\n",
    "    \"\"\"Returns the largest difference \n",
    "       between any two numbers among a, b and c. \n",
    "     Example:\n",
    "     >>> max_difference(10, 20, 100)\n",
    "     90\"\"\"\n",
    "    diff1 = abs(a - b)\n",
    "    diff2 = abs(b - c)\n",
    "    diff3 = abs(a - c)\n",
    "    \n",
    "    return max(diff1, diff2, diff3)\n",
    "\n",
    "help(max_difference)\n",
    "\n",
    "print(max_difference(10, 20, 100))"
   ]
  },
  {
   "cell_type": "markdown",
   "metadata": {},
   "source": [
    "### Python function annotations"
   ]
  },
  {
   "cell_type": "code",
   "execution_count": 22,
   "metadata": {},
   "outputs": [
    {
     "name": "stdout",
     "output_type": "stream",
     "text": [
      "19.6349375\n",
      "{'r': {'desc': 'radius of circle', 'type': <class 'float'>}, 'return': {'desc': 'area of circle', 'type': <class 'float'>}}\n",
      "radius of circle\n",
      "<class 'float'>\n"
     ]
    }
   ],
   "source": [
    "# Python program to illustrate function annotations\n",
    "\n",
    "\"\"\"In the example below, an annotation is attached to \n",
    "the parameter r and to the return value. Each annotation \n",
    "is a dictionary containing a string description and a type \n",
    "object.\"\"\"\n",
    "\n",
    "def area(\n",
    "    r: {\n",
    "        'desc': 'radius of circle',\n",
    "        'type': float\n",
    "    }) -> \\\n",
    "        {\n",
    "        'desc': 'area of circle',\n",
    "        'type': float\n",
    "}:\n",
    "    return 3.14159 * (r ** 2)\n",
    "\n",
    "print(area(2.5))\n",
    "\n",
    "print(area.__annotations__)\n",
    "print(area.__annotations__['r']['desc'])\n",
    "print(area.__annotations__['return']['type'])"
   ]
  },
  {
   "attachments": {},
   "cell_type": "markdown",
   "metadata": {},
   "source": [
    "### Jupyter notebook --footer info-- (please always provide this at the end of each notebook)"
   ]
  },
  {
   "cell_type": "code",
   "execution_count": 23,
   "metadata": {},
   "outputs": [
    {
     "name": "stdout",
     "output_type": "stream",
     "text": [
      "-----------------------------------\n",
      "POSIX\n",
      "Darwin | 23.4.0\n",
      "Datetime: 2024-04-03 14:54:35\n",
      "Python Version: 3.10.13\n",
      "-----------------------------------\n"
     ]
    }
   ],
   "source": [
    "import os\n",
    "import platform\n",
    "import socket\n",
    "from platform import python_version\n",
    "from datetime import datetime\n",
    "\n",
    "print('-----------------------------------')\n",
    "print(os.name.upper())\n",
    "print(platform.system(), '|', platform.release())\n",
    "print('Datetime:', datetime.now().strftime(\"%Y-%m-%d %H:%M:%S\"))\n",
    "print('Python Version:', python_version())\n",
    "print('-----------------------------------')"
   ]
  }
 ],
 "metadata": {
  "kernelspec": {
   "display_name": "spenv",
   "language": "python",
   "name": "python3"
  },
  "language_info": {
   "codemirror_mode": {
    "name": "ipython",
    "version": 3
   },
   "file_extension": ".py",
   "mimetype": "text/x-python",
   "name": "python",
   "nbconvert_exporter": "python",
   "pygments_lexer": "ipython3",
   "version": "3.10.13"
  },
  "toc": {
   "base_numbering": 1,
   "nav_menu": {},
   "number_sections": true,
   "sideBar": true,
   "skip_h1_title": false,
   "title_cell": "Table of Contents",
   "title_sidebar": "Contents",
   "toc_cell": false,
   "toc_position": {},
   "toc_section_display": true,
   "toc_window_display": true
  },
  "vscode": {
   "interpreter": {
    "hash": "e88d0147854d95637bfda66d71c1971db493e0eba7c923c8e835cc4382a02720"
   }
  }
 },
 "nbformat": 4,
 "nbformat_minor": 4
}
