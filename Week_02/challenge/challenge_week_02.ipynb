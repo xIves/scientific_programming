{
 "cells": [
  {
   "cell_type": "markdown",
   "metadata": {},
   "source": [
    "# Challenge Week 02"
   ]
  },
  {
   "cell_type": "markdown",
   "metadata": {},
   "source": [
    "## Load data from api"
   ]
  },
  {
   "cell_type": "markdown",
   "metadata": {},
   "source": []
  },
  {
   "cell_type": "code",
   "execution_count": 1,
   "metadata": {},
   "outputs": [
    {
     "name": "stdout",
     "output_type": "stream",
     "text": [
      "Warning: Your Kaggle API key is readable by other users on this system! To fix this, you can run 'chmod 600 /Users/ivesbrunner/.kaggle/kaggle.json'\n",
      "Warning: Your Kaggle API key is readable by other users on this system! To fix this, you can run 'chmod 600 /Users/ivesbrunner/.kaggle/kaggle.json'\n"
     ]
    }
   ],
   "source": [
    "# Libraries\n",
    "import os\n",
    "import numpy as np\n",
    "import seaborn as sns\n",
    "import pandas as pd\n",
    "import matplotlib.pyplot as plt\n",
    "from kaggle.api.kaggle_api_extended import KaggleApi\n",
    "\n",
    "# Initialize the Kaggle API\n",
    "api = KaggleApi()\n",
    "api.authenticate()\n",
    "\n",
    "# Define the dataset and file name\n",
    "dataset = 'yasserh/titanic-dataset'\n",
    "file_name = 'Titanic-Dataset.csv'\n",
    "\n",
    "# Download the file from kaggle\n",
    "api.dataset_download_file(dataset, file_name)\n",
    "\n",
    "# Load the data\n",
    "data = pd.read_csv(file_name, delimiter=',')\n",
    " "
   ]
  },
  {
   "cell_type": "markdown",
   "metadata": {},
   "source": [
    "## Identify data types"
   ]
  },
  {
   "cell_type": "code",
   "execution_count": 20,
   "metadata": {},
   "outputs": [
    {
     "name": "stdout",
     "output_type": "stream",
     "text": [
      "PassengerId      int64\n",
      "Survived         int64\n",
      "Pclass           int64\n",
      "Name            object\n",
      "Sex             object\n",
      "Age            float64\n",
      "SibSp            int64\n",
      "Parch            int64\n",
      "Ticket          object\n",
      "Fare           float64\n",
      "Cabin           object\n",
      "Embarked        object\n",
      "dtype: object\n"
     ]
    }
   ],
   "source": [
    "# Identify the data types in the Titanic data set\n",
    "data_types = data.dtypes\n",
    "print(data_types)"
   ]
  },
  {
   "cell_type": "markdown",
   "metadata": {},
   "source": [
    "## Transform variable\n"
   ]
  },
  {
   "cell_type": "code",
   "execution_count": null,
   "metadata": {},
   "outputs": [
    {
     "name": "stdout",
     "output_type": "stream",
     "text": [
      "     female   male\n",
      "0     False   True\n",
      "1      True  False\n",
      "2      True  False\n",
      "3      True  False\n",
      "4     False   True\n",
      "..      ...    ...\n",
      "886   False   True\n",
      "887    True  False\n",
      "888    True  False\n",
      "889   False   True\n",
      "890   False   True\n",
      "\n",
      "[891 rows x 2 columns]\n"
     ]
    }
   ],
   "source": [
    "gender_matrix = pd.get_dummies(data['Sex'])\n",
    "print(gender_matrix)\n"
   ]
  },
  {
   "cell_type": "markdown",
   "metadata": {},
   "source": [
    "## Create subset"
   ]
  },
  {
   "cell_type": "code",
   "execution_count": 26,
   "metadata": {},
   "outputs": [
    {
     "name": "stdout",
     "output_type": "stream",
     "text": [
      "     Survived     Sex    Age\n",
      "11          1  female  58.00\n",
      "15          1  female  55.00\n",
      "52          1  female  49.00\n",
      "78          1    male   0.83\n",
      "125         1    male  12.00\n",
      "165         1    male   9.00\n",
      "183         1    male   1.00\n",
      "193         1    male   3.00\n",
      "195         1  female  58.00\n",
      "204         1    male  18.00\n",
      "220         1    male  16.00\n",
      "226         1    male  19.00\n",
      "259         1  female  50.00\n",
      "261         1    male   3.00\n",
      "268         1  female  58.00\n",
      "275         1  female  63.00\n",
      "283         1    male  19.00\n",
      "299         1  female  50.00\n",
      "305         1    male   0.92\n",
      "340         1    male   2.00\n",
      "348         1    male   3.00\n",
      "366         1  female  60.00\n",
      "407         1    male   3.00\n",
      "445         1    male   4.00\n",
      "458         1  female  50.00\n",
      "483         1  female  63.00\n",
      "489         1    male   9.00\n",
      "496         1  female  54.00\n",
      "513         1  female  54.00\n",
      "526         1  female  50.00\n",
      "549         1    male   8.00\n",
      "550         1    male  17.00\n",
      "556         1  female  48.00\n",
      "571         1  female  53.00\n",
      "591         1  female  52.00\n",
      "751         1    male   6.00\n",
      "754         1  female  48.00\n",
      "755         1    male   0.67\n",
      "765         1  female  51.00\n",
      "774         1  female  54.00\n",
      "788         1    male   1.00\n",
      "796         1  female  49.00\n",
      "802         1    male  11.00\n",
      "803         1    male   0.42\n",
      "820         1  female  52.00\n",
      "827         1    male   1.00\n",
      "829         1  female  62.00\n",
      "831         1    male   0.83\n",
      "862         1  female  48.00\n",
      "869         1    male   4.00\n",
      "871         1  female  47.00\n",
      "879         1  female  56.00\n"
     ]
    }
   ],
   "source": [
    "subset = data[(data['Survived'] == 1) & ((data['Sex'] == 'female') & (data['Age'] > 45) | (data['Sex'] == 'male') & (data['Age'] < 20))]\n",
    "print(subset[['Survived', 'Sex', 'Age']])\n",
    "\n"
   ]
  },
  {
   "cell_type": "markdown",
   "metadata": {},
   "source": [
    "## Number of results"
   ]
  },
  {
   "cell_type": "code",
   "execution_count": 28,
   "metadata": {},
   "outputs": [
    {
     "name": "stdout",
     "output_type": "stream",
     "text": [
      "52\n"
     ]
    }
   ],
   "source": [
    "print(len(subset))"
   ]
  }
 ],
 "metadata": {
  "kernelspec": {
   "display_name": "spenv",
   "language": "python",
   "name": "python3"
  },
  "language_info": {
   "codemirror_mode": {
    "name": "ipython",
    "version": 3
   },
   "file_extension": ".py",
   "mimetype": "text/x-python",
   "name": "python",
   "nbconvert_exporter": "python",
   "pygments_lexer": "ipython3",
   "version": "3.10.13"
  }
 },
 "nbformat": 4,
 "nbformat_minor": 2
}
