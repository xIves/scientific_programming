{
 "cells": [
  {
   "cell_type": "code",
   "execution_count": 2,
   "metadata": {},
   "outputs": [],
   "source": [
    "import pandas as pd\n",
    "from faker import Faker\n",
    "\n",
    "# Create a Faker instance\n",
    "fake = Faker()\n",
    "\n",
    "# Create an empty list to store the smartphone data\n",
    "smartphones = []\n",
    "\n",
    "# Generate 1000 random smartphone records\n",
    "for _ in range(1000):\n",
    "    smartphone = {\n",
    "        'Model': fake.word(),\n",
    "        'Brand': fake.company(),\n",
    "        'Price': fake.pyfloat(min_value=100, max_value=1000, right_digits=2),\n",
    "        'In Stock': fake.pybool()\n",
    "    }\n",
    "    smartphones.append(smartphone)\n",
    "\n",
    "# Create a DataFrame from the smartphone data\n",
    "df = pd.DataFrame(smartphones)\n",
    "\n",
    "# Save the DataFrame to an Excel file\n",
    "df.to_excel('smartphones.xlsx', index=False)"
   ]
  }
 ],
 "metadata": {
  "kernelspec": {
   "display_name": "spenv",
   "language": "python",
   "name": "python3"
  },
  "language_info": {
   "codemirror_mode": {
    "name": "ipython",
    "version": 3
   },
   "file_extension": ".py",
   "mimetype": "text/x-python",
   "name": "python",
   "nbconvert_exporter": "python",
   "pygments_lexer": "ipython3",
   "version": "3.10.13"
  }
 },
 "nbformat": 4,
 "nbformat_minor": 2
}
