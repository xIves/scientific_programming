{
 "cells": [
  {
   "attachments": {},
   "cell_type": "markdown",
   "metadata": {},
   "source": [
    "# Variables and data types in python "
   ]
  },
  {
   "attachments": {},
   "cell_type": "markdown",
   "metadata": {},
   "source": [
    "## Libraries and settings"
   ]
  },
  {
   "cell_type": "code",
   "execution_count": null,
   "metadata": {},
   "outputs": [],
   "source": [
    "# Libraries\n",
    "import os\n",
    "import random\n",
    "import numpy as np\n",
    "import pandas as pd\n",
    "\n",
    "# Ignore warnings\n",
    "import warnings\n",
    "warnings.filterwarnings('ignore')\n",
    "\n",
    "# Show current working directory\n",
    "print(os.getcwd())"
   ]
  },
  {
   "attachments": {},
   "cell_type": "markdown",
   "metadata": {},
   "source": [
    "## Creating an Excel file containing simulated data\n",
    "(yes, this is not neccessary because we have Python, but it shows how we can work with Excel spread sheets from within Python)"
   ]
  },
  {
   "cell_type": "code",
   "execution_count": null,
   "metadata": {},
   "outputs": [],
   "source": [
    "# Empty list to store the data\n",
    "col_01 = []\n",
    "col_02 = []\n",
    "col_03 = []\n",
    "col_04 = []\n",
    "\n",
    "# List with chicken breeds\n",
    "breed = ['ISA Brown',\n",
    "         'Plymouth Rock',\n",
    "         'Barnevelder',\n",
    "         'Australorp',\n",
    "         'New Hampshire Red']\n",
    "\n",
    "# Fill the empty lists with data\n",
    "random.seed(10)\n",
    "for i in range(1, 101):\n",
    "    col_01.append(i)\n",
    "    col_02.append(float(np.random.normal(2500, 250, 1)))\n",
    "    col_03.append(breed[random.randint(0, 4)])\n",
    "    col_04.append(random.randint(150, 365))\n",
    "\n",
    "# Create a data frame from the lists\n",
    "df = pd.DataFrame.from_dict({'chicken_id': col_01,\n",
    "                             'weight': col_02,\n",
    "                             'breed': col_03,\n",
    "                             'eggs_per_year': col_04})\n",
    "\n",
    "################################################################################\n",
    "\n",
    "# Create a Pandas Excel writer using XlsxWriter as the engine\n",
    "writer = pd.ExcelWriter('chicken_data.xlsx', engine='xlsxwriter')\n",
    "\n",
    "# Convert the dataframe to an XlsxWriter Excel object\n",
    "df.to_excel(writer, sheet_name='Sheet1', startrow=1, header=False, index=False)\n",
    "\n",
    "# Get the xlsxwriter objects from the dataframe writer object\n",
    "workbook = writer.book\n",
    "worksheet = writer.sheets['Sheet1']\n",
    "\n",
    "# Get the dimensions of the dataframe\n",
    "(max_row, max_col) = df.shape\n",
    "\n",
    "# Create a list of column headers, to use in add_table()\n",
    "column_settings = [{'header': column} for column in df.columns]\n",
    "\n",
    "# Add the Excel table structure. Pandas will add the data\n",
    "worksheet.add_table(0, 0, max_row, max_col - 1, {'columns': column_settings})\n",
    "\n",
    "# Make the columns wider for clarity\n",
    "worksheet.set_column(0, max_col - 1, 20)\n",
    "\n",
    "################################################################################\n",
    "\n",
    "# Create pivot table\n",
    "table = pd.pivot_table(df[['breed', 'eggs_per_year']],\n",
    "                       index=['breed'],\n",
    "                       values=['eggs_per_year'],\n",
    "                       aggfunc=np.mean)\n",
    "\n",
    "table.to_excel(writer, \n",
    "               sheet_name='Sheet2', \n",
    "               startrow=0, \n",
    "               header=True, \n",
    "               index=True)\n",
    "\n",
    "# Include barchart\n",
    "chart = workbook.add_chart({'type': 'bar', 'subtype': 'stacked'})\n",
    "\n",
    "# Configure the first series.\n",
    "chart.add_series({\n",
    "    'name':       '=Sheet2!$B$1',\n",
    "    'categories': '=Sheet2!$A$2:$A$6',\n",
    "    'values':     '=Sheet2!$B$2:$B$6',\n",
    "})\n",
    "\n",
    "# Add a chart title and some axis labels.\n",
    "chart.set_title ({'name': 'Average eggs per breed'})\n",
    "chart.set_x_axis({'name': ''})\n",
    "chart.set_y_axis({'name': ''})\n",
    "\n",
    "# Set an Excel chart style.\n",
    "chart.set_style(13)\n",
    "\n",
    "# Insert the chart into the worksheet (with an offset).\n",
    "worksheet.insert_chart('F1', chart, {'x_offset': 25, 'y_offset': 10})\n",
    "\n",
    "# Insert .png - file\n",
    "worksheet.insert_image('H17', '00_img_ipynb/chickens.jpg')\n",
    "\n",
    "# Close the Pandas Excel writer and output the Excel file.\n",
    "writer.close()"
   ]
  },
  {
   "attachments": {},
   "cell_type": "markdown",
   "metadata": {},
   "source": [
    "## Read data from Excel-File"
   ]
  },
  {
   "cell_type": "code",
   "execution_count": null,
   "metadata": {},
   "outputs": [],
   "source": [
    "# Read xlsx file\n",
    "df = pd.read_excel('chicken_data.xlsx', sheet_name='Sheet1')\n",
    "df"
   ]
  },
  {
   "attachments": {},
   "cell_type": "markdown",
   "metadata": {},
   "source": [
    "## Explore data types"
   ]
  },
  {
   "cell_type": "code",
   "execution_count": null,
   "metadata": {},
   "outputs": [],
   "source": [
    "# Explore data types (note that 'object' means categorical in pandas)\n",
    "df.dtypes"
   ]
  },
  {
   "attachments": {},
   "cell_type": "markdown",
   "metadata": {},
   "source": [
    "## Change data type of variable 'weight'"
   ]
  },
  {
   "cell_type": "code",
   "execution_count": 1,
   "metadata": {},
   "outputs": [
    {
     "ename": "NameError",
     "evalue": "name 'df' is not defined",
     "output_type": "error",
     "traceback": [
      "\u001b[0;31m---------------------------------------------------------------------------\u001b[0m",
      "\u001b[0;31mNameError\u001b[0m                                 Traceback (most recent call last)",
      "Cell \u001b[0;32mIn[1], line 2\u001b[0m\n\u001b[1;32m      1\u001b[0m \u001b[38;5;66;03m# Change data type (note that with .astype('int32'), the values are simply cutted!)\u001b[39;00m\n\u001b[0;32m----> 2\u001b[0m df[\u001b[38;5;124m'\u001b[39m\u001b[38;5;124mweight_new\u001b[39m\u001b[38;5;124m'\u001b[39m] \u001b[38;5;241m=\u001b[39m  \u001b[43mdf\u001b[49m[\u001b[38;5;124m'\u001b[39m\u001b[38;5;124mweight\u001b[39m\u001b[38;5;124m'\u001b[39m]\u001b[38;5;241m.\u001b[39mastype(\u001b[38;5;124m'\u001b[39m\u001b[38;5;124mint32\u001b[39m\u001b[38;5;124m'\u001b[39m)\n\u001b[1;32m      3\u001b[0m \u001b[38;5;28mprint\u001b[39m(df\u001b[38;5;241m.\u001b[39mdtypes, \u001b[38;5;124m'\u001b[39m\u001b[38;5;130;01m\\n\u001b[39;00m\u001b[38;5;124m'\u001b[39m)\n\u001b[1;32m      5\u001b[0m df\n",
      "\u001b[0;31mNameError\u001b[0m: name 'df' is not defined"
     ]
    }
   ],
   "source": [
    "# Change data type (note that with .astype('int32'), the values are simply cutted!)\n",
    "df['weight_new'] =  df['weight'].astype('int32')\n",
    "print(df.dtypes, '\\n')\n",
    "\n",
    "df"
   ]
  },
  {
   "attachments": {},
   "cell_type": "markdown",
   "metadata": {},
   "source": [
    "## Create new variable 'breed_str' which has string as the data type"
   ]
  },
  {
   "cell_type": "code",
   "execution_count": null,
   "metadata": {},
   "outputs": [],
   "source": [
    "df['breed_str'] = pd.Series(['breed'], dtype=\"string\")\n",
    "df.dtypes"
   ]
  },
  {
   "attachments": {},
   "cell_type": "markdown",
   "metadata": {},
   "source": [
    "## Create new categorical variable from 'eggs_per_year'"
   ]
  },
  {
   "cell_type": "code",
   "execution_count": null,
   "metadata": {},
   "outputs": [],
   "source": [
    "# Define labels for categories\n",
    "labels = ['0 - 99', '100 - 199', '20 - 365']\n",
    "\n",
    "# Create categories\n",
    "df[\"eggs_cat\"] = pd.cut(df['eggs_per_year'], bins=[0, 100, 200, 365], labels=labels)\n",
    "df[['eggs_per_year', 'eggs_cat']].head(10)"
   ]
  },
  {
   "attachments": {},
   "cell_type": "markdown",
   "metadata": {},
   "source": [
    "## Create new numerical variable from 'weight'"
   ]
  },
  {
   "cell_type": "code",
   "execution_count": null,
   "metadata": {},
   "outputs": [],
   "source": [
    "# Create new variable\n",
    "df['weight_kg'] = round(df['weight'] / 1000, 4)\n",
    "\n",
    "# Show values\n",
    "df"
   ]
  },
  {
   "attachments": {},
   "cell_type": "markdown",
   "metadata": {},
   "source": [
    "## Transform categorical variable 'breed' to matrix with binary (0/1) values"
   ]
  },
  {
   "cell_type": "code",
   "execution_count": null,
   "metadata": {},
   "outputs": [],
   "source": [
    "# Use the get_dummies() method from pandas for conversion\n",
    "df_02 = pd.get_dummies(df, drop_first=False, columns=['breed'])\n",
    "df_02"
   ]
  },
  {
   "attachments": {},
   "cell_type": "markdown",
   "metadata": {},
   "source": [
    "## Show data types of all generated variables"
   ]
  },
  {
   "cell_type": "code",
   "execution_count": null,
   "metadata": {},
   "outputs": [],
   "source": [
    "# Show data types\n",
    "df_02.dtypes"
   ]
  },
  {
   "attachments": {},
   "cell_type": "markdown",
   "metadata": {},
   "source": [
    "### Jupyter notebook --footer info-- (please always provide this at the end of each notebook)"
   ]
  },
  {
   "cell_type": "code",
   "execution_count": null,
   "metadata": {},
   "outputs": [],
   "source": [
    "import os\n",
    "import platform\n",
    "import socket\n",
    "from platform import python_version\n",
    "from datetime import datetime\n",
    "\n",
    "print('-----------------------------------')\n",
    "print(os.name.upper())\n",
    "print(platform.system(), '|', platform.release())\n",
    "print('Datetime:', datetime.now().strftime(\"%Y-%m-%d %H:%M:%S\"))\n",
    "print('Python Version:', python_version())\n",
    "print('-----------------------------------')"
   ]
  }
 ],
 "metadata": {
  "kernelspec": {
   "display_name": "spenv",
   "language": "python",
   "name": "python3"
  },
  "language_info": {
   "codemirror_mode": {
    "name": "ipython",
    "version": 3
   },
   "file_extension": ".py",
   "mimetype": "text/x-python",
   "name": "python",
   "nbconvert_exporter": "python",
   "pygments_lexer": "ipython3",
   "version": "3.10.13"
  },
  "orig_nbformat": 4,
  "vscode": {
   "interpreter": {
    "hash": "e88d0147854d95637bfda66d71c1971db493e0eba7c923c8e835cc4382a02720"
   }
  }
 },
 "nbformat": 4,
 "nbformat_minor": 2
}
