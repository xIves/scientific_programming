{
 "cells": [
  {
   "attachments": {},
   "cell_type": "markdown",
   "id": "885d48f8",
   "metadata": {},
   "source": [
    "<table width=\"100%\" height=\"50%\">\n",
    "    <tr>\n",
    "        <td width=\"20%\">\n",
    "        <img src=\"00_img_ipynb/python_quiz.jpeg\" alt=\"\" width=\"100%\"  align=\"left\">\n",
    "        </td>\n",
    "        <td style=\"text-align: left\">\n",
    "        <font size=\"6\"><b>Quiz: Operators and Expressions in Python</b></font>\n",
    "        </td>\n",
    "    </tr>\n",
    "</table>"
   ]
  },
  {
   "cell_type": "markdown",
   "id": "815b3177",
   "metadata": {},
   "source": [
    "## 1.) What is the output of the following code?\n",
    "\n",
    "```python\n",
    "print(10 - 4 * 2)\n",
    "```\n",
    "##### a) 2 X\n",
    "##### b) 12"
   ]
  },
  {
   "cell_type": "markdown",
   "id": "3ca845f6",
   "metadata": {},
   "source": [
    "## 2.) What is the output of the following bitwise operators?\n",
    "\n",
    "```python\n",
    "a = 60         # 60 = 0011 1100 \n",
    "b = 13         # 13 = 0000 1101 \n",
    "print(a & b) \n",
    "```\n",
    "##### a) 10\n",
    "##### b) 12 X\n",
    "##### c) 14\n",
    "##### d) 16"
   ]
  },
  {
   "cell_type": "markdown",
   "id": "20f4150e",
   "metadata": {},
   "source": [
    "## 3.) What is the output of the following code?\n",
    "\n",
    "```python\n",
    "x = 100\n",
    "y = 50\n",
    "z = 20\n",
    "print(x > y and y < z)\n",
    "```\n",
    "##### a) True\n",
    "##### c) False X"
   ]
  },
  {
   "cell_type": "markdown",
   "id": "5a64327a",
   "metadata": {},
   "source": [
    "## 4.) What is the output of the following expression?\n",
    "\n",
    "```python\n",
    "print(-18 // 4)\n",
    "```\n",
    "##### a)  -4\n",
    "##### b)  4\n",
    "##### c)  -5 X\n",
    "##### d)  5"
   ]
  },
  {
   "cell_type": "markdown",
   "id": "c162e74d",
   "metadata": {},
   "source": [
    "## 5.) What is the output of the following expression?\n",
    "\n",
    "```python\n",
    "print(2%6)\n",
    "```\n",
    "##### a) ValueError\n",
    "##### b) 0.33\n",
    "##### c) 2 X\n",
    "##### d) 12"
   ]
  },
  {
   "attachments": {},
   "cell_type": "markdown",
   "id": "b6f44766",
   "metadata": {},
   "source": [
    "## 6.) What is the output of the following expression?\n",
    "\n",
    "```python\n",
    "a = [10, 20]\n",
    "b = a\n",
    "b += [30, 40]\n",
    "a += [50, 60]\n",
    "print(b)\n",
    "```\n",
    "##### a) [10,20]\n",
    "##### b) [10,20,30,40]\n",
    "##### c) [10,20,30,40,50,60] X\n",
    "##### d) [30,40]"
   ]
  },
  {
   "cell_type": "markdown",
   "id": "b66f0e8e",
   "metadata": {},
   "source": [
    "## 7.) What is the output of the following expression?\n",
    "\n",
    "```python\n",
    "print(36 / 4)\n",
    "```\n",
    "##### a) 9.0 X\n",
    "##### b) 9 "
   ]
  },
  {
   "cell_type": "markdown",
   "id": "00987705",
   "metadata": {},
   "source": [
    "## 8.) What is the output of the following expression?\n",
    "\n",
    "```python\n",
    "x = 5\n",
    "x += 3\n",
    "print(x)\n",
    "```\n",
    "##### a) 5\n",
    "##### b) 8 X\n",
    "##### c) 3\n",
    "##### d) SyntaxError"
   ]
  },
  {
   "cell_type": "markdown",
   "id": "beb12758",
   "metadata": {},
   "source": [
    "## 9.) What is the output of the following expression?\n",
    "\n",
    "```python\n",
    "x = 10\n",
    "y = 50\n",
    "if x ** 2 > 100 and y < 100:\n",
    "    print(x, y)\n",
    "```\n",
    "##### a) 100 500\n",
    "##### b) 10 50\n",
    "##### c) No output X\n",
    "##### d) False"
   ]
  },
  {
   "cell_type": "markdown",
   "id": "f7ab606d",
   "metadata": {},
   "source": [
    "## 10.) What is the output of the following expression?\n",
    "\n",
    "```python\n",
    "x = 6\n",
    "y = 2\n",
    "print(x ** y)\n",
    "print(x // y)\n",
    "```\n",
    "##### a) 66 | 0\n",
    "##### b) 36 | 0\n",
    "##### c) 66 | 3\n",
    "##### d) 36 | 3 X"
   ]
  },
  {
   "cell_type": "markdown",
   "id": "03693414",
   "metadata": {},
   "source": [
    "## 11.) What is the output of the following expression?\n",
    "\n",
    "```python\n",
    "x = 5\n",
    "y = 3\n",
    "print(x != y)\n",
    "```\n",
    "##### a) True X\n",
    "##### b) False\n",
    "##### c) true \n",
    "##### d) false"
   ]
  },
  {
   "cell_type": "markdown",
   "id": "5703dac2",
   "metadata": {},
   "source": [
    "## 12.) What is the output of the following expression?\n",
    "\n",
    "```python\n",
    "x = 5\n",
    "print(not(x > 3 and x < 10))\n",
    "```\n",
    "##### a) True X\n",
    "##### b) False"
   ]
  }
 ],
 "metadata": {
  "kernelspec": {
   "display_name": "spenv",
   "language": "python",
   "name": "python3"
  },
  "language_info": {
   "codemirror_mode": {
    "name": "ipython",
    "version": 3
   },
   "file_extension": ".py",
   "mimetype": "text/x-python",
   "name": "python",
   "nbconvert_exporter": "python",
   "pygments_lexer": "ipython3",
   "version": "3.10.9"
  },
  "vscode": {
   "interpreter": {
    "hash": "e88d0147854d95637bfda66d71c1971db493e0eba7c923c8e835cc4382a02720"
   }
  }
 },
 "nbformat": 4,
 "nbformat_minor": 5
}
