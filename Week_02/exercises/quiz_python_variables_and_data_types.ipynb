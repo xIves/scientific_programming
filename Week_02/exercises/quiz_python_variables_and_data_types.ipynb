{
 "cells": [
  {
   "attachments": {},
   "cell_type": "markdown",
   "id": "308766cd",
   "metadata": {},
   "source": [
    "<table width=\"100%\" height=\"50%\">\n",
    "    <tr>\n",
    "        <td width=\"20%\">\n",
    "        <img src=\"00_img_ipynb/python_quiz.jpeg\" alt=\"\" width=\"100%\"  align=\"left\">\n",
    "        </td>\n",
    "        <td style=\"text-align: left\">\n",
    "        <font size=\"6\"><b>Quiz: Variables and Data Types in Python</b></font>\n",
    "        </td>\n",
    "    </tr>\n",
    "</table>"
   ]
  },
  {
   "attachments": {},
   "cell_type": "markdown",
   "id": "815b3177",
   "metadata": {},
   "source": [
    "## 1.) What is the output of the following code?\n",
    "\n",
    "```python\n",
    "print(bool(0), bool(3.14159), bool(-3), bool(None))\n",
    "```\n",
    "##### a) False True False True\n",
    "##### b) True True False True\n",
    "##### c) True True False True\n",
    "##### d) False True True False X"
   ]
  },
  {
   "cell_type": "markdown",
   "id": "9fb38db0",
   "metadata": {},
   "source": [
    "## 2.) What is the output of the following code?\n",
    "\n",
    "```python\n",
    "print(type([]) is list)\n",
    "```\n",
    "##### a) False\n",
    "##### b) True X"
   ]
  },
  {
   "cell_type": "markdown",
   "id": "e7226812",
   "metadata": {},
   "source": [
    "## 3.) What type will the following expression return?\n",
    "\n",
    "```python\n",
    "print(type(0xFF))\n",
    "```\n",
    "##### a) number\n",
    "##### b) hexint\n",
    "##### c) hex\n",
    "##### d) int X"
   ]
  },
  {
   "cell_type": "markdown",
   "id": "c4f2c41e",
   "metadata": {},
   "source": [
    "## 4.) Select all the valid String creation in Python\n",
    "\n",
    "##### a) str1 = 'str1' X\n",
    "##### b) str1 = \"str1\" X\n",
    "##### c) str1 = '''str''' X\n",
    "\n",
    "##### d) str1 = 'str1' X\n",
    "##### e) str1 = \"str1\"\" \n",
    "##### f) str1 = '''str1''\n",
    "\n",
    "##### g) str1 = str(Johnny)"
   ]
  },
  {
   "attachments": {},
   "cell_type": "markdown",
   "id": "e48567b1",
   "metadata": {},
   "source": [
    "## 5.) What will the following expression return?\n",
    "\n",
    "```python\n",
    "list(range(1, 10, 2)) \n",
    "```\n",
    "##### a) [1, 3, 5, 7, 9]\n",
    "##### b) [0, 2, 4, 6, 8, 10]\n",
    "##### c) [2, 4, 6, 8, 10, 12]\n",
    "##### d) [1, 2, 4, 6, 8]"
   ]
  },
  {
   "attachments": {},
   "cell_type": "markdown",
   "id": "8bedf4ce",
   "metadata": {},
   "source": [
    "## 6. What type will the following expression return?\n",
    "\n",
    "```python\n",
    "obj = (1, 'John', 3.14)\n",
    "print(type(obj[1]))\n",
    "```\n",
    "##### a) list\n",
    "##### b) str\n",
    "##### c) tuple\n",
    "##### d) set"
   ]
  },
  {
   "cell_type": "markdown",
   "id": "8b6ba7b3",
   "metadata": {},
   "source": [
    "## 8. What type it will the following expression return?\n",
    "\n",
    "```python\n",
    "print(type(3.14))\n",
    "```\n",
    "##### a) float\n",
    "##### b) integer\n",
    "##### c) int\n",
    "##### d) None"
   ]
  },
  {
   "cell_type": "markdown",
   "id": "e4362dfd",
   "metadata": {},
   "source": [
    "## 9. What type will the following expression return?\n",
    "\n",
    "```python\n",
    "obj = {1,2,3}\n",
    "print(type(obj))\n",
    "```\n",
    "##### a) list\n",
    "##### b) dict\n",
    "##### c) tuple\n",
    "##### d) set"
   ]
  },
  {
   "cell_type": "markdown",
   "id": "28ac2b0a",
   "metadata": {},
   "source": [
    "## 10. What type will the following expression return?\n",
    "\n",
    "```python\n",
    "obj = [1,2,3]\n",
    "print(type(obj[0]))\n",
    "```\n",
    "##### a) list\n",
    "##### b) int\n",
    "##### c) tuple\n",
    "##### d) set X"
   ]
  },
  {
   "cell_type": "markdown",
   "id": "abf30b6b",
   "metadata": {},
   "source": [
    "## 11. What type will the following expression return?\n",
    "\n",
    "```python\n",
    "obj = [1,2,3,4,5,6,7,8,9]\n",
    "print(type(obj[0:5]))\n",
    "```\n",
    "##### a) list X\n",
    "##### b) int\n",
    "##### c) tuple\n",
    "##### d) set"
   ]
  },
  {
   "attachments": {},
   "cell_type": "markdown",
   "id": "35e5c4ff",
   "metadata": {},
   "source": [
    "## 12. What type will the following expression return?\n",
    "\n",
    "```python\n",
    "obj = {'var1': 1, 'var2': 2, 'var3': 3}\n",
    "print(type(obj))\n",
    "```\n",
    "##### a) list\n",
    "##### b) dict X\n",
    "##### c) int\n",
    "##### d) tuple"
   ]
  }
 ],
 "metadata": {
  "kernelspec": {
   "display_name": "spenv",
   "language": "python",
   "name": "python3"
  },
  "language_info": {
   "codemirror_mode": {
    "name": "ipython",
    "version": 3
   },
   "file_extension": ".py",
   "mimetype": "text/x-python",
   "name": "python",
   "nbconvert_exporter": "python",
   "pygments_lexer": "ipython3",
   "version": "3.10.9"
  },
  "vscode": {
   "interpreter": {
    "hash": "e88d0147854d95637bfda66d71c1971db493e0eba7c923c8e835cc4382a02720"
   }
  }
 },
 "nbformat": 4,
 "nbformat_minor": 5
}
