{
 "cells": [
  {
   "attachments": {},
   "cell_type": "markdown",
   "metadata": {},
   "source": [
    "# Conditional statements, loops & loop control statements"
   ]
  },
  {
   "attachments": {},
   "cell_type": "markdown",
   "metadata": {},
   "source": [
    "## Libraries and settings"
   ]
  },
  {
   "cell_type": "code",
   "execution_count": 61,
   "metadata": {},
   "outputs": [
    {
     "name": "stdout",
     "output_type": "stream",
     "text": [
      "/Users/ivesbrunner/Documents/Studium/01_Bachelor/04_Semester/04_ScientificProgramming/scientific_programming/Week_06/exercises\n"
     ]
    }
   ],
   "source": [
    "# Libraries\n",
    "import os\n",
    "import re\n",
    "import json\n",
    "import pandas as pd\n",
    "import matplotlib.pyplot as plt\n",
    "\n",
    "# Background color of graphics\n",
    "# plt.style.use('dark_background')\n",
    "\n",
    "# Ignore warnings\n",
    "import warnings\n",
    "warnings.filterwarnings('ignore')\n",
    "\n",
    "# Show current working directory\n",
    "print(os.getcwd())"
   ]
  },
  {
   "cell_type": "markdown",
   "metadata": {},
   "source": [
    "## Conditional statements"
   ]
  },
  {
   "cell_type": "markdown",
   "metadata": {},
   "source": [
    "### if"
   ]
  },
  {
   "cell_type": "code",
   "execution_count": 62,
   "metadata": {},
   "outputs": [
    {
     "name": "stdout",
     "output_type": "stream",
     "text": [
      "36\n"
     ]
    }
   ],
   "source": [
    "# Example if-statement\n",
    "number = 6\n",
    "if number > 5:\n",
    "    print(number**2)"
   ]
  },
  {
   "cell_type": "code",
   "execution_count": 63,
   "metadata": {},
   "outputs": [
    {
     "name": "stdout",
     "output_type": "stream",
     "text": [
      "400\n"
     ]
    }
   ],
   "source": [
    "# Example if-statement\n",
    "number = 20\n",
    "if number <= 5 or number >= 9:\n",
    "    print(number**2)"
   ]
  },
  {
   "cell_type": "code",
   "execution_count": 64,
   "metadata": {},
   "outputs": [
    {
     "name": "stdout",
     "output_type": "stream",
     "text": [
      "The lenght of both lists is equal\n"
     ]
    }
   ],
   "source": [
    "# Example if-statement\n",
    "mylist1 = [\"dog\", \"cat\", \"mouse\", \"bird\", \"cow\"]\n",
    "mylist2 = [\"dog\", \"cat\", \"mouse\", \"parrot\", \"cow\"]\n",
    "\n",
    "# Comparing the length of lists\n",
    "if len(mylist1) == len(mylist2):\n",
    "    print(\"The lenght of both lists is equal\")"
   ]
  },
  {
   "cell_type": "markdown",
   "metadata": {},
   "source": [
    "### if-else"
   ]
  },
  {
   "cell_type": "code",
   "execution_count": 65,
   "metadata": {},
   "outputs": [
    {
     "name": "stdout",
     "output_type": "stream",
     "text": [
      "7776\n"
     ]
    }
   ],
   "source": [
    "# Example if-else statement\n",
    "number = 6\n",
    "if number <= 5:\n",
    "    print(number**2)\n",
    "else:\n",
    "    print(number**5)"
   ]
  },
  {
   "cell_type": "code",
   "execution_count": 66,
   "metadata": {},
   "outputs": [
    {
     "name": "stdout",
     "output_type": "stream",
     "text": [
      "1764\n"
     ]
    }
   ],
   "source": [
    "# Example if-else statement\n",
    "number = 42\n",
    "if number <= 5 or number >= 10:\n",
    "    print(number**2)\n",
    "else:\n",
    "    print(number**5)"
   ]
  },
  {
   "cell_type": "code",
   "execution_count": 67,
   "metadata": {},
   "outputs": [
    {
     "name": "stdout",
     "output_type": "stream",
     "text": [
      "The lenght of both lists is equal\n",
      "List elements are not equal\n"
     ]
    }
   ],
   "source": [
    "# Example if-statement\n",
    "mylist1 = [\"dog\", \"cat\", \"mouse\", \"bird\", \"cow\"]\n",
    "mylist2 = [\"dog\", \"cat\", \"mouse\", \"parrot\", \"cow\"]\n",
    "\n",
    "# Comparing the length of lists\n",
    "if len(mylist1) == len(mylist2):\n",
    "    print(\"The lenght of both lists is equal\")\n",
    "else:\n",
    "    print(\"The lenght of both lists is not equal\")\n",
    "\n",
    "# Compare the list content\n",
    "if mylist1 == mylist2:\n",
    "    print(\"List elements are equal\")\n",
    "else:\n",
    "    print(\"List elements are not equal\")"
   ]
  },
  {
   "cell_type": "markdown",
   "metadata": {},
   "source": [
    "### if...elif...else"
   ]
  },
  {
   "cell_type": "code",
   "execution_count": 68,
   "metadata": {},
   "outputs": [
    {
     "name": "stdout",
     "output_type": "stream",
     "text": [
      "num is in the range from 41 to 50\n"
     ]
    }
   ],
   "source": [
    "# if...elif...else example\n",
    "num = 42\n",
    "\n",
    "if num >= 0 and num <= 20:\n",
    "    print(\"num is in the range from 0 to 20\")\n",
    "elif num >= 21 and num <= 40:\n",
    "    print(\"num is in the range from 21 to 40\")\n",
    "elif num >= 41 and num <= 50:\n",
    "    print(\"num is in the range from 41 to 50\")\n",
    "else:\n",
    "    print(\"num is in another range\")"
   ]
  },
  {
   "cell_type": "code",
   "execution_count": 69,
   "metadata": {},
   "outputs": [
    {
     "name": "stdout",
     "output_type": "stream",
     "text": [
      "List elements 4 are not equal\n"
     ]
    }
   ],
   "source": [
    "# if...elif...else example\n",
    "mylist1 = [\"dog\", \"cat\", \"mouse\", \"bird\", \"cow\"]\n",
    "mylist2 = [\"dog\", \"cat\", \"mouse\", \"birds\", \"cow\"]\n",
    "\n",
    "# Comparing the length of lists\n",
    "if mylist1[0] != mylist2[0]:\n",
    "    print(\"List elements 1 are not equal\")\n",
    "elif mylist1[1] != mylist2[1]:\n",
    "    print(\"List elements 2 are not equal\") \n",
    "elif mylist1[2] != mylist2[2]:\n",
    "    print(\"List elements 3 are not equal\")\n",
    "elif mylist1[3] != mylist2[3]:\n",
    "    print(\"List elements 4 are not equal\") \n",
    "elif mylist1[4] != mylist2[4]:\n",
    "    print(\"List elements 5 are not equal\") \n",
    "else:\n",
    "    print(\"List elements are equal\")"
   ]
  },
  {
   "cell_type": "markdown",
   "metadata": {},
   "source": [
    "## Loops"
   ]
  },
  {
   "cell_type": "markdown",
   "metadata": {},
   "source": [
    "### for-loops"
   ]
  },
  {
   "cell_type": "code",
   "execution_count": 70,
   "metadata": {},
   "outputs": [
    {
     "name": "stdout",
     "output_type": "stream",
     "text": [
      "[1, 2, 3, 4, 5, 6, 7, 8, 9, 10] \n",
      "\n",
      "1**2 is: 1\n",
      "2**2 is: 4\n",
      "3**2 is: 9\n",
      "4**2 is: 16\n",
      "5**2 is: 25\n",
      "6**2 is: 36\n",
      "7**2 is: 49\n",
      "8**2 is: 64\n",
      "9**2 is: 81\n",
      "10**2 is: 100\n"
     ]
    }
   ],
   "source": [
    "# for-loop example\n",
    "count = list(range(1,11))\n",
    "print(count, '\\n')\n",
    "\n",
    "# Loop\n",
    "for i in count:\n",
    "    print(f\"{i}**2 is: {i**2}\")"
   ]
  },
  {
   "cell_type": "code",
   "execution_count": 71,
   "metadata": {},
   "outputs": [
    {
     "name": "stdout",
     "output_type": "stream",
     "text": [
      "[1, 2, 3, 4, 5] ... [96, 97, 98, 99, 100]\n",
      "The sum of all numbers from 1       to 100       is: 5050\n"
     ]
    }
   ],
   "source": [
    "# Program to find the sum of all numbers in a list\n",
    "numbers = list(range(1,101))\n",
    "print(numbers[:5], '...', numbers[-5:])\n",
    "\n",
    "# variable to store the sum\n",
    "sum = 0\n",
    "\n",
    "# Iterate over the list\n",
    "for val in numbers:\n",
    "    sum = sum+val\n",
    "\n",
    "# Note the '\\' which is used to break long lines of code\n",
    "print(f\"The sum of all numbers from {min(numbers)} \\\n",
    "      to {max(numbers)} \\\n",
    "      is:\", sum)"
   ]
  },
  {
   "cell_type": "markdown",
   "metadata": {},
   "source": [
    "### while-loops"
   ]
  },
  {
   "cell_type": "code",
   "execution_count": 72,
   "metadata": {},
   "outputs": [
    {
     "name": "stdout",
     "output_type": "stream",
     "text": [
      "Congrats, this while loop works!\n",
      "Congrats, this while loop works!\n",
      "Congrats, this while loop works!\n",
      "Congrats, this while loop works!\n",
      "Congrats, this while loop works!\n"
     ]
    }
   ],
   "source": [
    "# Program to illustrate while loop\n",
    "count = 0\n",
    "while (count < 5):   \n",
    "    count = count + 1\n",
    "    print(\"Congrats, this while loop works!\")"
   ]
  },
  {
   "cell_type": "code",
   "execution_count": 73,
   "metadata": {},
   "outputs": [
    {
     "name": "stdout",
     "output_type": "stream",
     "text": [
      "The value of count is: 2\n",
      "The value of count is: 4\n",
      "The value of count is: 6\n",
      "The value of count is: 8\n",
      "The value of count is: 10\n",
      "The value of count is: 12\n",
      "The value of count is: 14\n",
      "The value of count is: 16\n",
      "The value of count is: 18\n",
      "The value of count is: 20\n"
     ]
    }
   ],
   "source": [
    "# Program to illustrate while loop\n",
    "count = 0\n",
    "while (count < 20):   \n",
    "    count += 2\n",
    "    print(f\"The value of count is: {count}\")"
   ]
  },
  {
   "cell_type": "code",
   "execution_count": 74,
   "metadata": {},
   "outputs": [
    {
     "name": "stdout",
     "output_type": "stream",
     "text": [
      "The value of count is: 1\n",
      "The value of count is: 2\n",
      "The value of count is: 3\n",
      "The value of count is: 4\n",
      "The value of count is: 5\n",
      "Jumped to else block\n"
     ]
    }
   ],
   "source": [
    "# Program to illustrate combining else with while\n",
    "count = 0\n",
    "while (count < 5):   \n",
    "    count += 1\n",
    "    print(f\"The value of count is: {count}\")\n",
    "else:\n",
    "    print(\"Jumped to else block\")"
   ]
  },
  {
   "cell_type": "code",
   "execution_count": 75,
   "metadata": {},
   "outputs": [
    {
     "name": "stdout",
     "output_type": "stream",
     "text": [
      "Peter | Peter | Peter | Peter | Peter | Peter | Peter | Peter | Peter | Peter | \n",
      "Emily | Emily | Emily | Emily | Emily | Emily | Emily | Emily | Emily | Emily | \n",
      "Bobby | Bobby | Bobby | Bobby | Bobby | Bobby | Bobby | Bobby | Bobby | Bobby | \n",
      "Marie | Marie | Marie | Marie | Marie | Marie | Marie | Marie | Marie | Marie | \n",
      "Adrew | Adrew | Adrew | Adrew | Adrew | Adrew | Adrew | Adrew | Adrew | Adrew | \n",
      "Agnes | Agnes | Agnes | Agnes | Agnes | Agnes | Agnes | Agnes | Agnes | Agnes | \n"
     ]
    }
   ],
   "source": [
    "# While loop inside a for loop\n",
    "names = ['Peter', 'Emily', 'Bobby',\n",
    "         'Marie', 'Adrew', 'Agnes']\n",
    "\n",
    "for i in names:\n",
    "    count = 0\n",
    "    while count < 10:\n",
    "        print(i, end=' | ')\n",
    "        count = count + 1\n",
    "    print()"
   ]
  },
  {
   "cell_type": "code",
   "execution_count": 76,
   "metadata": {},
   "outputs": [
    {
     "name": "stdout",
     "output_type": "stream",
     "text": [
      "1 2 3 4 5 6 7 8 9 10 11 12 13 14 15 16 17 18 19 20 21 22 23 24 25 26 27 28 29 30 31 32 33 34 35 36 37 38 39 40 41 42 43 44 45 46 47 48 49 50 51 52 53 54 55 56 57 58 59 60 61 62 63 64 65 66 67 68 69 70 71 72 73 74 75 76 77 78 79 80 81 82 83 84 85 86 87 88 89 90 91 92 93 94 95 96 97 98 99 100 "
     ]
    }
   ],
   "source": [
    "# While True example\n",
    "x=0\n",
    "while True:\n",
    "    x += 1\n",
    "    if x > 100:\n",
    "        break\n",
    "    print(x, end=\" \")"
   ]
  },
  {
   "cell_type": "markdown",
   "metadata": {},
   "source": [
    "### Nested loops"
   ]
  },
  {
   "cell_type": "code",
   "execution_count": 77,
   "metadata": {},
   "outputs": [
    {
     "name": "stdout",
     "output_type": "stream",
     "text": [
      "0\n",
      "*|1\n",
      "*|*|2\n",
      "*|*|*|"
     ]
    },
    {
     "name": "stdout",
     "output_type": "stream",
     "text": [
      "3\n",
      "*|*|*|*|4\n",
      "*|*|*|*|*|5\n",
      "*|*|*|*|*|*|6\n",
      "*|*|*|*|*|*|*|7\n",
      "*|*|*|*|*|*|*|*|8\n",
      "*|*|*|*|*|*|*|*|*|9\n",
      "*|*|*|*|*|*|*|*|*|*|10\n"
     ]
    }
   ],
   "source": [
    "import time\n",
    "\n",
    "# Python program to illustrate nested for loop\n",
    "for i in range(0, 11):\n",
    "    for j in range(i):\n",
    "         print('*', end='|')\n",
    "         # Slow down to make the iterations visible\n",
    "         time.sleep(0.1)\n",
    "    print(i)\n",
    "    \n",
    "    # Slowed down to make the iterations visible\n",
    "    time.sleep(0.1)"
   ]
  },
  {
   "cell_type": "code",
   "execution_count": 78,
   "metadata": {},
   "outputs": [
    {
     "name": "stdout",
     "output_type": "stream",
     "text": [
      "1|2|3|4|5|6|7|8|9|10| -> 1\n",
      "1|2|3|4|5|6|7|8|9|10| -> 2\n",
      "1|2|3|4|5|6|7|8|9|10| -> 3\n",
      "1|2|3|4|5|6|7|8|9|10| -> 4\n",
      "1|2|3|4|5|6|7|8|9|10| -> 5\n",
      "1|2|3|4|5|6|7|8|9|10| -> 6\n",
      "1|2|3|4|5|6|7|8|9|10| -> 7\n",
      "1|2|3|4|5|6|7|8|9|10| -> 8\n",
      "1|2|3|4|5|6|7|8|9|10| -> 9\n",
      "1|2|3|4|5|6|7|8|9|10| -> 10\n"
     ]
    }
   ],
   "source": [
    "import time\n",
    "\n",
    "# Python program to illustrate nested for-loops\n",
    "mylist = [1,2,3,4,5,6,7,8,9,10]\n",
    "for i in mylist:\n",
    "    for j in mylist:\n",
    "         print(j, end='|')\n",
    "         # Slow down to make the iterations visible\n",
    "         time.sleep(0.1)\n",
    "    print(' ->', i)\n",
    "    \n",
    "    # Slowed down to make the iterations visible\n",
    "    time.sleep(0.1)"
   ]
  },
  {
   "cell_type": "code",
   "execution_count": 79,
   "metadata": {},
   "outputs": [
    {
     "name": "stdout",
     "output_type": "stream",
     "text": [
      "i: 10 | j: 1 | num: 10\n",
      "i: 10 | j: 2 | num: 100\n",
      "i: 10 | j: 3 | num: 1'000\n",
      "i: 10 | j: 4 | num: 10'000\n",
      "i: 10 | j: 5 | num: 100'000\n",
      "i: 10 | j: 6 | num: 1'000'000\n",
      "i: 10 | j: 7 | num: 10'000'000\n",
      "i: 10 | j: 8 | num: 100'000'000\n",
      "i: 10 | j: 9 | num: 1'000'000'000\n",
      "i: 10 | j: 10 | num: 10'000'000'000\n",
      "i: 20 | j: 1 | num: 20\n",
      "i: 20 | j: 2 | num: 400\n",
      "i: 20 | j: 3 | num: 8'000\n",
      "i: 20 | j: 4 | num: 160'000\n",
      "i: 20 | j: 5 | num: 3'200'000\n",
      "i: 20 | j: 6 | num: 64'000'000\n",
      "i: 20 | j: 7 | num: 1'280'000'000\n",
      "i: 20 | j: 8 | num: 25'600'000'000\n",
      "i: 20 | j: 9 | num: 512'000'000'000\n",
      "i: 20 | j: 10 | num: 10'240'000'000'000\n",
      "i: 30 | j: 1 | num: 30\n",
      "i: 30 | j: 2 | num: 900\n",
      "i: 30 | j: 3 | num: 27'000\n",
      "i: 30 | j: 4 | num: 810'000\n",
      "i: 30 | j: 5 | num: 24'300'000\n",
      "i: 30 | j: 6 | num: 729'000'000\n",
      "i: 30 | j: 7 | num: 21'870'000'000\n",
      "i: 30 | j: 8 | num: 656'100'000'000\n",
      "i: 30 | j: 9 | num: 19'683'000'000'000\n",
      "i: 30 | j: 10 | num: 590'490'000'000'000\n"
     ]
    }
   ],
   "source": [
    "# Python program to illustrate nested for-while loop\n",
    "mylist = [10,20,30]\n",
    "for i in mylist:\n",
    "    j = 1\n",
    "    while j <= 10:\n",
    "        num=i**j\n",
    "        print('i:', \n",
    "              i, '| j:', \n",
    "              j, \n",
    "              '| num:',\n",
    "              # replace the default \",\" by \"'\"\n",
    "              f\"{num:,}\".replace(\",\", \"'\"))\n",
    "        j +=1\n",
    "        \n",
    "    # Slowed down to make the iterations visible\n",
    "    time.sleep(1)"
   ]
  },
  {
   "cell_type": "markdown",
   "metadata": {},
   "source": [
    "## Loop control statements"
   ]
  },
  {
   "cell_type": "markdown",
   "metadata": {},
   "source": [
    "### continue"
   ]
  },
  {
   "cell_type": "code",
   "execution_count": 80,
   "metadata": {},
   "outputs": [
    {
     "name": "stdout",
     "output_type": "stream",
     "text": [
      "apple\n",
      "cherry\n",
      "strawberry\n",
      "lemon\n",
      "orange\n"
     ]
    }
   ],
   "source": [
    "fruits = [\"apple\", \"banana\", \n",
    "          \"cherry\", \"strawberry\", \n",
    "          \"lemon\", \"orange\"]\n",
    "for i in fruits:\n",
    "    if i == \"banana\":\n",
    "        continue\n",
    "    print(i)"
   ]
  },
  {
   "cell_type": "code",
   "execution_count": 81,
   "metadata": {},
   "outputs": [
    {
     "name": "stdout",
     "output_type": "stream",
     "text": [
      "Current letter : H\n",
      "Current letter : a\n",
      "Current letter : l\n",
      "Current letter : l\n",
      "Current letter : o\n",
      "Current letter :  \n",
      "Current letter : d\n",
      "Current letter : a\n",
      "Current letter : r\n",
      "Current letter : k\n",
      "Current letter : n\n",
      "Current letter : s\n",
      "Current letter : s\n",
      "Current letter :  \n",
      "Current letter : m\n",
      "Current letter : y\n",
      "Current letter :  \n",
      "Current letter : o\n",
      "Current letter : l\n",
      "Current letter : d\n",
      "Current letter :  \n",
      "Current letter : f\n",
      "Current letter : r\n",
      "Current letter : i\n",
      "Current letter : n\n",
      "Current letter : d\n"
     ]
    }
   ],
   "source": [
    "# Program to print all letters except 'e', 's'\n",
    "for i in 'Hallo darkness my old friend':\n",
    "    if i == 'e':\n",
    "         continue\n",
    "    print('Current letter :', i)"
   ]
  },
  {
   "cell_type": "code",
   "execution_count": 82,
   "metadata": {},
   "outputs": [
    {
     "name": "stdout",
     "output_type": "stream",
     "text": [
      "Current variable value : 9\n",
      "Current variable value : 8\n",
      "Current variable value : 7\n",
      "Current variable value : 6\n",
      "Current variable value : 4\n",
      "Current variable value : 3\n",
      "Current variable value : 2\n",
      "Current variable value : 1\n",
      "Current variable value : 0\n",
      "Ciao!\n"
     ]
    }
   ],
   "source": [
    "# Program to print all numbers from 0-9 except 5\n",
    "var = 10        \n",
    "while var > 0:\n",
    "    var = var -1\n",
    "    if var == 5:\n",
    "        continue \n",
    "    print('Current variable value :', var)\n",
    "print(\"Ciao!\")"
   ]
  },
  {
   "cell_type": "markdown",
   "metadata": {},
   "source": [
    "### pass"
   ]
  },
  {
   "cell_type": "code",
   "execution_count": 83,
   "metadata": {},
   "outputs": [
    {
     "name": "stdout",
     "output_type": "stream",
     "text": [
      "1 2 3 4 5 6 7 8 9 10 11 12 13 14 15 16 17 18 19 20 21 22 23 24 25 26 27 28 29 30 31 32 33 34 35 36 37 38 39 40 41 42 43 44 45 46 47 48 49 50 51 52 53 54 55 56 57 58 59 60 61 62 63 64 65 66 67 68 69 70 71 72 73 74 75 76 77 78 79 80 81 82 83 84 85 86 87 88 89 90 91 92 93 94 95 96 97 98 99 100 "
     ]
    }
   ],
   "source": [
    "# Example: for, pass statement\n",
    "for num in range(1, 101):\n",
    "    if num == 4:\n",
    "        pass # do nothing\n",
    "    print(num, end=\" \")"
   ]
  },
  {
   "cell_type": "code",
   "execution_count": 84,
   "metadata": {},
   "outputs": [
    {
     "name": "stdout",
     "output_type": "stream",
     "text": [
      "1 2 3 4 5 6 7 8 9 10 11 12 13 14 15 16 17 18 19 20 21 22 23 24 25 26 27 28 29 30 31 32 33 34 35 36 37 38 39 40 41 42 43 44 45 46 47 48 49 50 51 52 53 54 55 56 57 58 59 60 61 62 63 64 65 66 67 68 69 70 71 72 73 74 75 76 77 78 79 80 81 82 83 84 85 86 87 88 89 90 91 92 93 94 95 96 97 98 99 100 "
     ]
    }
   ],
   "source": [
    "# Example: while, pass statement\n",
    "num = 1\n",
    "while num <= 100:\n",
    "    if num == 6:\n",
    "        pass # do nothing\n",
    "    print(num, end=\" \")   \n",
    "    num += 1"
   ]
  },
  {
   "cell_type": "markdown",
   "metadata": {},
   "source": [
    "### break"
   ]
  },
  {
   "cell_type": "code",
   "execution_count": 85,
   "metadata": {},
   "outputs": [
    {
     "name": "stdout",
     "output_type": "stream",
     "text": [
      "Odd numbers: [1, 3, 5, 7, 9, 11, 13, 15, 17, 19, 21, 23, 25, 27, 29, 31, 33, 35, 37, 39, 41, 43, 45, 47, 49, 51, 53, 55, 57, 59, 61, 63, 65, 67, 69, 71, 73, 75, 77, 79, 81, 83, 85, 87, 89, 91, 93, 95, 97, 99, 101]\n"
     ]
    }
   ],
   "source": [
    "# Create a list of odd numbers\n",
    "num = 1\n",
    "odd_nums = []\n",
    "while num:\n",
    "    if num %2 != 0:\n",
    "        odd_nums.append(num)\n",
    "    if num >=101:\n",
    "        break\n",
    "    num += 1\n",
    "print(\"Odd numbers:\", odd_nums)"
   ]
  },
  {
   "cell_type": "code",
   "execution_count": 86,
   "metadata": {},
   "outputs": [
    {
     "name": "stdout",
     "output_type": "stream",
     "text": [
      "Even Numbers: [2, 4, 6, 8, 10, 12, 14, 16, 18, 20, 22, 24, 26, 28, 30, 32, 34, 36, 38, 40, 42, 44, 46, 48, 50, 52, 54, 56, 58, 60, 62, 64, 66, 68, 70, 72, 74, 76, 78, 80, 82, 84, 86, 88, 90, 92, 94, 96, 98, 100]\n"
     ]
    }
   ],
   "source": [
    "# Create a list of even numbers\n",
    "num = 1\n",
    "even_nums = []\n",
    "while num:\n",
    "    if num %2 == 0:\n",
    "        even_nums.append(num)\n",
    "    if num >=101:\n",
    "        break\n",
    "    num += 1\n",
    "print(\"Even Numbers:\", even_nums)"
   ]
  },
  {
   "cell_type": "markdown",
   "metadata": {},
   "source": [
    "## Itertools"
   ]
  },
  {
   "cell_type": "code",
   "execution_count": 87,
   "metadata": {},
   "outputs": [
    {
     "name": "stdout",
     "output_type": "stream",
     "text": [
      "['__add__', '__class__', '__class_getitem__', '__contains__', '__delattr__', '__delitem__', '__dir__', '__doc__', '__eq__', '__format__', '__ge__', '__getattribute__', '__getitem__', '__gt__', '__hash__', '__iadd__', '__imul__', '__init__', '__init_subclass__', '__iter__', '__le__', '__len__', '__lt__', '__mul__', '__ne__', '__new__', '__reduce__', '__reduce_ex__', '__repr__', '__reversed__', '__rmul__', '__setattr__', '__setitem__', '__sizeof__', '__str__', '__subclasshook__', 'append', 'clear', 'copy', 'count', 'extend', 'index', 'insert', 'pop', 'remove', 'reverse', 'sort']\n"
     ]
    }
   ],
   "source": [
    "# Creating an iterable\n",
    "can_of_pringles = [1,2,3,4,5,6,7,8,9,10]\n",
    "print(dir(can_of_pringles))"
   ]
  },
  {
   "cell_type": "markdown",
   "metadata": {},
   "source": [
    "<table width=\"40%\" height=\"40%\" align=\"left\">\n",
    "    <tr>\n",
    "        <td width=\"25%\">\n",
    "        <img src=\"https://miro.medium.com/max/875/1*KvtRfgCUatDbJdgFEgWV4g.png\" width=\"100%\" height=\"40%\">\n",
    "        </td>\n",
    "    </tr>\n",
    "</table>"
   ]
  },
  {
   "cell_type": "code",
   "execution_count": 88,
   "metadata": {},
   "outputs": [
    {
     "name": "stdout",
     "output_type": "stream",
     "text": [
      "<class 'list_iterator'>\n",
      "['__class__', '__delattr__', '__dir__', '__doc__', '__eq__', '__format__', '__ge__', '__getattribute__', '__gt__', '__hash__', '__init__', '__init_subclass__', '__iter__', '__le__', '__length_hint__', '__lt__', '__ne__', '__new__', '__next__', '__reduce__', '__reduce_ex__', '__repr__', '__setattr__', '__setstate__', '__sizeof__', '__str__', '__subclasshook__']\n"
     ]
    }
   ],
   "source": [
    "# Creating an iterator\n",
    "iterator_COP = iter([1,2,3,4,5,6,7,8,9,10])\n",
    "print(type(iterator_COP))\n",
    "\n",
    "# Checking for functions iter() and next()\n",
    "print(dir(iterator_COP))"
   ]
  },
  {
   "cell_type": "markdown",
   "metadata": {},
   "source": [
    "<table width=\"40%\" height=\"40%\" align=\"left\">\n",
    "    <tr>\n",
    "        <td width=\"25%\">\n",
    "        <img src=\"https://miro.medium.com/max/875/1*oj69WlBBpbQhPHRYtQxUFA.png\" width=\"100%\" height=\"40%\">\n",
    "        </td>\n",
    "    </tr>\n",
    "</table>"
   ]
  },
  {
   "cell_type": "code",
   "execution_count": 89,
   "metadata": {},
   "outputs": [
    {
     "name": "stdout",
     "output_type": "stream",
     "text": [
      "Iterable:\n",
      "1 2 3 4 5 6 7 8 9 10 \n",
      "\n",
      "1 2 3 4 5 6 7 8 9 10 \n",
      "\n",
      "1 2 3 4 5 6 7 8 9 10 \n",
      "\n",
      "Iterator:\n",
      "1 2 3 4 5 6 7 8 9 10 "
     ]
    }
   ],
   "source": [
    "# Creating an iterable\n",
    "can_of_pringles = [1,2,3,4,5,6,7,8,9,10]\n",
    "\n",
    "# Creating an iterator\n",
    "iterator_COP = iter([1,2,3,4,5,6,7,8,9,10])\n",
    "\n",
    "# Can be executed as many times as we want\n",
    "print(\"Iterable:\")\n",
    "for i in range(3):\n",
    "    for chips in can_of_pringles: \n",
    "        print(chips,end=\" \")\n",
    "    print(\"\\n\")    \n",
    "\n",
    "# Can be executed only once\n",
    "print(\"Iterator:\")\n",
    "for j in range(3):\n",
    "    for chips in iterator_COP:        \n",
    "        print(chips,end=\" \")"
   ]
  },
  {
   "cell_type": "code",
   "execution_count": 90,
   "metadata": {},
   "outputs": [
    {
     "data": {
      "text/plain": [
       "[(1, 'a'), (2, 'b'), (3, 'c')]"
      ]
     },
     "execution_count": 90,
     "metadata": {},
     "output_type": "execute_result"
    }
   ],
   "source": [
    "# Using the Python zip() function for parallel iteration\n",
    "numbers = [1, 2, 3]\n",
    "letters = ['a', 'b', 'c']\n",
    "zipped = zip(numbers, letters)\n",
    "zipped  # Holds an iterator object\n",
    "\n",
    "type(zipped)\n",
    "list(zipped)"
   ]
  },
  {
   "cell_type": "markdown",
   "metadata": {},
   "source": [
    "### Performance comparision for loop vs map()"
   ]
  },
  {
   "cell_type": "code",
   "execution_count": 91,
   "metadata": {},
   "outputs": [
    {
     "name": "stdout",
     "output_type": "stream",
     "text": [
      "CPU times: user 179 ms, sys: 13.9 ms, total: 193 ms\n",
      "Wall time: 194 ms\n"
     ]
    }
   ],
   "source": [
    "%%time\n",
    "\n",
    "# Function\n",
    "def square(x):\n",
    "    return x*x\n",
    "\n",
    "# Create lists with 1 Mio. elements\n",
    "numbers = list(range(1000000))\n",
    "squared = []\n",
    "\n",
    "# Normal for loop\n",
    "for num in numbers:\n",
    "    squared.append(num**2)\n",
    "\n",
    "# Using the map() function\n",
    "squared = map(square, numbers)"
   ]
  },
  {
   "cell_type": "code",
   "execution_count": 92,
   "metadata": {},
   "outputs": [
    {
     "name": "stdout",
     "output_type": "stream",
     "text": [
      "CPU times: user 8.92 ms, sys: 3.44 ms, total: 12.4 ms\n",
      "Wall time: 12.4 ms\n"
     ]
    }
   ],
   "source": [
    "%%time\n",
    "\n",
    "# Function\n",
    "def square(x):\n",
    "    return x*x\n",
    "\n",
    "# Create lists with 1 Mio. elements\n",
    "numbers = list(range(1000000))\n",
    "squared = []\n",
    "\n",
    "# Using the map() function\n",
    "squared = map(square, numbers)"
   ]
  },
  {
   "cell_type": "code",
   "execution_count": 93,
   "metadata": {},
   "outputs": [
    {
     "data": {
      "text/plain": [
       "['4', '8', '6', '5', '3', '2', '8', '9', '2', '5']"
      ]
     },
     "execution_count": 93,
     "metadata": {},
     "output_type": "execute_result"
    }
   ],
   "source": [
    "# Python's map() function for processing iterables without a Loop\n",
    "str_nums = [\"4\", \"8\", \"6\", \"5\", \"3\", \"2\", \"8\", \"9\", \"2\", \"5\"]\n",
    "\n",
    "int_nums = map(int, str_nums)\n",
    "int_nums\n",
    "\n",
    "list(int_nums)\n",
    "str_nums"
   ]
  },
  {
   "cell_type": "markdown",
   "metadata": {},
   "source": [
    "## Practical examples using the cars data set"
   ]
  },
  {
   "cell_type": "code",
   "execution_count": 94,
   "metadata": {},
   "outputs": [
    {
     "name": "stdout",
     "output_type": "stream",
     "text": [
      "<class 'pandas.core.frame.DataFrame'>\n"
     ]
    },
    {
     "data": {
      "text/html": [
       "<div>\n",
       "<style scoped>\n",
       "    .dataframe tbody tr th:only-of-type {\n",
       "        vertical-align: middle;\n",
       "    }\n",
       "\n",
       "    .dataframe tbody tr th {\n",
       "        vertical-align: top;\n",
       "    }\n",
       "\n",
       "    .dataframe thead th {\n",
       "        text-align: right;\n",
       "    }\n",
       "</style>\n",
       "<table border=\"1\" class=\"dataframe\">\n",
       "  <thead>\n",
       "    <tr style=\"text-align: right;\">\n",
       "      <th></th>\n",
       "      <th>Offer_Id</th>\n",
       "      <th>Make</th>\n",
       "      <th>Mileage</th>\n",
       "      <th>Price_Num</th>\n",
       "      <th>PS_Num</th>\n",
       "      <th>Fuel_Type</th>\n",
       "    </tr>\n",
       "  </thead>\n",
       "  <tbody>\n",
       "    <tr>\n",
       "      <th>0</th>\n",
       "      <td>7324420</td>\n",
       "      <td>AUDI</td>\n",
       "      <td>75'000 km</td>\n",
       "      <td>22500</td>\n",
       "      <td>245</td>\n",
       "      <td>Diesel</td>\n",
       "    </tr>\n",
       "    <tr>\n",
       "      <th>1</th>\n",
       "      <td>7512768</td>\n",
       "      <td>MERCEDES-BENZ</td>\n",
       "      <td>46'655 km</td>\n",
       "      <td>23749</td>\n",
       "      <td>184</td>\n",
       "      <td>Benzin</td>\n",
       "    </tr>\n",
       "    <tr>\n",
       "      <th>2</th>\n",
       "      <td>7512034</td>\n",
       "      <td>MERCEDES-BENZ</td>\n",
       "      <td>138'955 km</td>\n",
       "      <td>18500</td>\n",
       "      <td>306</td>\n",
       "      <td>Benzin</td>\n",
       "    </tr>\n",
       "    <tr>\n",
       "      <th>3</th>\n",
       "      <td>7512728</td>\n",
       "      <td>MERCEDES-BENZ</td>\n",
       "      <td>43'000 km</td>\n",
       "      <td>36000</td>\n",
       "      <td>360</td>\n",
       "      <td>Benzin</td>\n",
       "    </tr>\n",
       "    <tr>\n",
       "      <th>4</th>\n",
       "      <td>7490242</td>\n",
       "      <td>AUDI</td>\n",
       "      <td>43'300 km</td>\n",
       "      <td>48500</td>\n",
       "      <td>252</td>\n",
       "      <td>Benzin</td>\n",
       "    </tr>\n",
       "  </tbody>\n",
       "</table>\n",
       "</div>"
      ],
      "text/plain": [
       "   Offer_Id           Make     Mileage  Price_Num  PS_Num Fuel_Type\n",
       "0   7324420           AUDI   75'000 km      22500     245    Diesel\n",
       "1   7512768  MERCEDES-BENZ   46'655 km      23749     184    Benzin\n",
       "2   7512034  MERCEDES-BENZ  138'955 km      18500     306    Benzin\n",
       "3   7512728  MERCEDES-BENZ   43'000 km      36000     360    Benzin\n",
       "4   7490242           AUDI   43'300 km      48500     252    Benzin"
      ]
     },
     "execution_count": 94,
     "metadata": {},
     "output_type": "execute_result"
    }
   ],
   "source": [
    "# Import the cars data\n",
    "cars = pd.read_csv('autoscout24_data.csv', \n",
    "                   sep=\";\", \n",
    "                   encoding='utf-8')\n",
    "\n",
    "# Print type of cars\n",
    "print(type(cars))\n",
    "\n",
    "# Print head of the data frame\n",
    "cars[[\"Offer_Id\",\"Make\",\"Mileage\", \n",
    "      \"Price_Num\", \"PS_Num\", \n",
    "      \"Fuel_Type\"]].head(5)"
   ]
  },
  {
   "cell_type": "markdown",
   "metadata": {},
   "source": [
    "### Create a new variable in the data frame using conditional statements"
   ]
  },
  {
   "cell_type": "code",
   "execution_count": 95,
   "metadata": {},
   "outputs": [
    {
     "name": "stdout",
     "output_type": "stream",
     "text": [
      "         Power_cars  PS_Num  Price_Num     Mileage\n",
      "0            normal     245      22500   75'000 km\n",
      "1            normal     184      23749   46'655 km\n",
      "2          powerful     306      18500  138'955 km\n",
      "3     very powerful     360      36000   43'000 km\n",
      "4          powerful     252      48500   43'300 km\n",
      "...             ...     ...        ...         ...\n",
      "3975  very powerful     400      58400   78'000 km\n",
      "3976         normal     232      15900  315'000 km\n",
      "3977  very powerful     525      42000   85'000 km\n",
      "3978         normal     193       9980  188'920 km\n",
      "3979         normal     193      13500  134'000 km\n",
      "\n",
      "[3980 rows x 4 columns] \n",
      "\n"
     ]
    }
   ],
   "source": [
    "# Create a function to define car-categories\n",
    "def power_car_identifier(ps):\n",
    "    if ps >= 350:\n",
    "        out = 'very powerful'\n",
    "    elif ps >= 250 and ps < 350:\n",
    "        out = 'powerful'\n",
    "    elif ps >= 100 and ps < 250:\n",
    "        out = 'normal'\n",
    "    else:\n",
    "        out = 'weak'\n",
    "    return(out)\n",
    "\n",
    "# Use the function above (via .apply) to create a new column \n",
    "cars['Power_cars'] = cars['PS_Num'].apply(power_car_identifier)\n",
    "print(cars[['Power_cars', 'PS_Num', 'Price_Num', 'Mileage']], '\\n')"
   ]
  },
  {
   "cell_type": "markdown",
   "metadata": {},
   "source": [
    "### Using a for-loop and conditional statement to extract infos from the data frame"
   ]
  },
  {
   "cell_type": "code",
   "execution_count": 96,
   "metadata": {},
   "outputs": [
    {
     "name": "stdout",
     "output_type": "stream",
     "text": [
      "['PORSCHE', 169500, \"12'134 km\"]\n",
      "['MERCEDES-BENZ', 155000, \"3'900 km\"]\n"
     ]
    },
    {
     "name": "stdout",
     "output_type": "stream",
     "text": [
      "['ASTON', 189900, \"2'900 km\"]\n",
      "['JAGUAR', 154000, \"30'000 km\"]\n",
      "['LAMBORGHINI', 199900, \"10'050 km\"]\n",
      "['FORD', 155000, \"155'000 km\"]\n",
      "['ROLLS-ROYCE', 195000, \"28'780 km\"]\n",
      "['BENTLEY', 220000, \"34'613 km\"]\n",
      "['CHEVROLET', 165000, \"21'000 km\"]\n",
      "['MERCEDES-BENZ', 163000, \"5'400 km\"]\n",
      "['ASTON', 191000, \"24'900 km\"]\n",
      "['ASTON', 209000, \"3'000 km\"]\n",
      "['AUDI', 178000, '250 km']\n",
      "['FERRARI', 155000, \"22'000 km\"]\n",
      "['PORSCHE', 163000, \"65'500 km\"]\n",
      "['FERRARI', 152000, \"38'000 km\"]\n",
      "---------------------------------------------------\n",
      "             Make  Price_Num     Mileage\n",
      "0         PORSCHE     169500   12'134 km\n",
      "1   MERCEDES-BENZ     155000    3'900 km\n",
      "2           ASTON     189900    2'900 km\n",
      "3          JAGUAR     154000   30'000 km\n",
      "4     LAMBORGHINI     199900   10'050 km\n",
      "5            FORD     155000  155'000 km\n",
      "6     ROLLS-ROYCE     195000   28'780 km\n",
      "7         BENTLEY     220000   34'613 km\n",
      "8       CHEVROLET     165000   21'000 km\n",
      "9   MERCEDES-BENZ     163000    5'400 km\n",
      "10          ASTON     191000   24'900 km\n",
      "11          ASTON     209000    3'000 km\n",
      "12           AUDI     178000      250 km\n",
      "13        FERRARI     155000   22'000 km\n",
      "14        PORSCHE     163000   65'500 km\n",
      "15        FERRARI     152000   38'000 km\n"
     ]
    }
   ],
   "source": [
    "# Note that this example is for illustration purposes and\n",
    "# that there are more efficient ways to do this tasks.\n",
    "\n",
    "# Create empty list to store values\n",
    "expensive_cars = []\n",
    "\n",
    "# Make sure indexes pair with number of rows\n",
    "df = cars.reset_index()  \n",
    "\n",
    "# Iterate over data frame rows as (index, Series) pairs\n",
    "for index, row in df.iterrows():\n",
    "    \"\"\"If the price is above a defined value print some infos \n",
    "       of the cars and write the infos to a list\n",
    "    \"\"\"\n",
    "    \n",
    "    if (row.Price_Num >= 150000 and row.Price_Num <= 250000):\n",
    "        \n",
    "        # Temporary list\n",
    "        tmp_list = [row['Make'], row['Price_Num'], row['Mileage']]\n",
    "        print(tmp_list)\n",
    "        \n",
    "        # Append cars to the expensive_cars list\n",
    "        expensive_cars.append(tmp_list)\n",
    "        \n",
    "        # Slow down to make the iterations visible\n",
    "        time.sleep(0.2)\n",
    "\n",
    "# Convert list to data frame\n",
    "df_new = pd.DataFrame (expensive_cars, columns = ['Make', \n",
    "                                                  'Price_Num', \n",
    "                                                  'Mileage'])\n",
    "print('---------------------------------------------------')\n",
    "print(df_new)"
   ]
  },
  {
   "attachments": {},
   "cell_type": "markdown",
   "metadata": {},
   "source": [
    "### Extracting numbers from mileage-strings using a for-loop"
   ]
  },
  {
   "cell_type": "code",
   "execution_count": 97,
   "metadata": {},
   "outputs": [
    {
     "name": "stdout",
     "output_type": "stream",
     "text": [
      "Original values: [\"75'000 km\", \"46'655 km\", \"138'955 km\", \"43'000 km\", \"43'300 km\"]\n",
      "Extracted values: [75000, 46655, 138955, 43000, 43300]\n"
     ]
    },
    {
     "data": {
      "image/png": "[encoded data removed]",
      "text/plain": [
       "<Figure size 600x400 with 1 Axes>"
      ]
     },
     "metadata": {},
     "output_type": "display_data"
    }
   ],
   "source": [
    "# Note that this example is for illustration purposes and\n",
    "# that there are more efficient ways to do this tasks.\n",
    "\n",
    "# Create empty list\n",
    "mileage = []\n",
    "\n",
    "# Make sure indexes pair with number of rows\n",
    "df = cars.reset_index()  \n",
    "\n",
    "# Iterate over DataFrame rows as (index, Series) pairs\n",
    "for index, row in df.iterrows():\n",
    "    if (row['Price_Num'] >= 10000):\n",
    "        \n",
    "        # Extract numbers from mileage-strings and change to integers\n",
    "        # (alternatively, a regular expression could be used)\n",
    "        my_list = int(re.sub('km', '', row['Mileage']).replace(\"'\", \"\"))\n",
    "        \n",
    "        # Append to the mileage-list \n",
    "        mileage.append(my_list)\n",
    "\n",
    "print('Original values:', list(cars['Mileage'])[:5]) \n",
    "print('Extracted values:', mileage[:5])\n",
    "\n",
    "# Plot histogram with the mileage\n",
    "plt.figure(figsize=(6,4))\n",
    "plt.hist(x=mileage, \n",
    "         bins='auto', \n",
    "         color='green',\n",
    "         alpha=0.7, \n",
    "         rwidth=0.85)\n",
    "plt.grid(linestyle='-', linewidth=0.1)\n",
    "plt.xlabel('Mileage (Km)')\n",
    "plt.ylabel('Number of cars')\n",
    "plt.title('Mileage of cars')\n",
    "plt.show()"
   ]
  },
  {
   "attachments": {},
   "cell_type": "markdown",
   "metadata": {},
   "source": [
    "### Extracting numbers from mileage-strings using a for-loop and break"
   ]
  },
  {
   "cell_type": "code",
   "execution_count": 98,
   "metadata": {},
   "outputs": [
    {
     "name": "stdout",
     "output_type": "stream",
     "text": [
      "0        75'000 km\n",
      "1        46'655 km\n",
      "2       138'955 km\n",
      "3        43'000 km\n",
      "4        43'300 km\n",
      "           ...    \n",
      "3975     78'000 km\n",
      "3976    315'000 km\n",
      "3977     85'000 km\n",
      "3978    188'920 km\n",
      "3979    134'000 km\n",
      "Name: Mileage, Length: 3980, dtype: object \n",
      "\n",
      "object \n",
      "\n",
      "Extracted values: [75000, 46655, 138955, 43000, 43300]\n"
     ]
    }
   ],
   "source": [
    "# Note that this example is for illustration purposes and\n",
    "# that there are more efficient ways to do this tasks.\n",
    "\n",
    "# Get data type of variable 'mileage'\n",
    "print(cars['Mileage'], '\\n')\n",
    "print(cars['Mileage'].dtypes, '\\n')\n",
    "\n",
    "# Create empty list\n",
    "mileage = []\n",
    "\n",
    "# Make sure indexes pair with number of rows\n",
    "df = cars.reset_index()  \n",
    "\n",
    "# Iterate over DataFrame rows as (index, Series) pairs\n",
    "for index, row in df.iterrows():\n",
    "    if (row['Price_Num'] >= 10000):\n",
    "        \n",
    "        my_list = int(re.sub('km', '', row['Mileage']).replace(\"'\", \"\"))\n",
    "        mileage.append(my_list)\n",
    "        \n",
    "        if (my_list >= 300000):\n",
    "            break\n",
    "\n",
    "print('Extracted values:', mileage[:5])"
   ]
  },
  {
   "cell_type": "code",
   "execution_count": 99,
   "metadata": {},
   "outputs": [
    {
     "name": "stdout",
     "output_type": "stream",
     "text": [
      "      Price_cat  PS_Num  Price_Num     Mileage\n",
      "0         cheap     245      22500   75'000 km\n",
      "1         cheap     184      23749   46'655 km\n",
      "2         cheap     306      18500  138'955 km\n",
      "3        normal     360      36000   43'000 km\n",
      "4     expensive     252      48500   43'300 km\n",
      "...         ...     ...        ...         ...\n",
      "3975  expensive     400      58400   78'000 km\n",
      "3976      cheap     232      15900  315'000 km\n",
      "3977     normal     525      42000   85'000 km\n",
      "3978      cheap     193       9980  188'920 km\n",
      "3979      cheap     193      13500  134'000 km\n",
      "\n",
      "[3980 rows x 4 columns] \n",
      "\n"
     ]
    }
   ],
   "source": [
    "# Create a function to define car-categories\n",
    "def price_cat_identifier(price):\n",
    "    if price < 25000:\n",
    "        cat = 'cheap'\n",
    "    elif price >= 25000 and price < 45000:\n",
    "        cat = 'normal'\n",
    "    else:\n",
    "        cat = 'expensive'\n",
    "    return(cat)\n",
    "\n",
    "# Use the function above (via .apply) to create a new column \n",
    "cars['Price_cat'] = cars['Price_Num'].apply(price_cat_identifier)\n",
    "print(cars[['Price_cat', 'PS_Num', 'Price_Num', 'Mileage']], '\\n')"
   ]
  },
  {
   "attachments": {},
   "cell_type": "markdown",
   "metadata": {},
   "source": [
    "## Practical examples using OpenStreetMap data"
   ]
  },
  {
   "attachments": {},
   "cell_type": "markdown",
   "metadata": {},
   "source": [
    "### Showing the nested structure of the OpenStreetMap data"
   ]
  },
  {
   "cell_type": "code",
   "execution_count": 100,
   "metadata": {},
   "outputs": [
    {
     "name": "stdout",
     "output_type": "stream",
     "text": [
      "Keys inside \"data\"\n",
      "dict_keys(['version', 'generator', 'osm3s', 'elements'])\n",
      "\n",
      "\"elements\" is a dictonary inside \"data\"\n",
      "{'type': 'node', 'id': 270803077, 'lat': 47.3707416, 'lon': 8.5418077, 'tags': {'name': 'Café Wühre', 'operator': 'Oro de Cacao AG', 'shop': 'chocolate', 'wheelchair': 'limited'}}\n",
      "\n",
      "\"tags\" is a distionary inside \"elements\"\n",
      "dict_keys(['type', 'id', 'lat', 'lon', 'tags'])\n"
     ]
    }
   ],
   "source": [
    "# Read json-file\n",
    "with open('shops.geojson', encoding='utf-8') as fh:\n",
    "    data = json.load(fh)\n",
    "\n",
    "# Accessing elements of the dictionary\n",
    "print('Keys inside \"data\"')\n",
    "print(data.keys())\n",
    "print('\\n\"elements\" is a dictonary inside \"data\"')\n",
    "print(data['elements'][0])\n",
    "print('\\n\"tags\" is a distionary inside \"elements\"')\n",
    "print(data['elements'][0].keys())"
   ]
  },
  {
   "cell_type": "code",
   "execution_count": null,
   "metadata": {},
   "outputs": [],
   "source": []
  },
  {
   "attachments": {},
   "cell_type": "markdown",
   "metadata": {},
   "source": [
    "### Accessing geo-coordinates"
   ]
  },
  {
   "cell_type": "code",
   "execution_count": 101,
   "metadata": {},
   "outputs": [
    {
     "data": {
      "text/html": [
       "<div>\n",
       "<style scoped>\n",
       "    .dataframe tbody tr th:only-of-type {\n",
       "        vertical-align: middle;\n",
       "    }\n",
       "\n",
       "    .dataframe tbody tr th {\n",
       "        vertical-align: top;\n",
       "    }\n",
       "\n",
       "    .dataframe thead th {\n",
       "        text-align: right;\n",
       "    }\n",
       "</style>\n",
       "<table border=\"1\" class=\"dataframe\">\n",
       "  <thead>\n",
       "    <tr style=\"text-align: right;\">\n",
       "      <th></th>\n",
       "      <th>lat</th>\n",
       "      <th>lon</th>\n",
       "    </tr>\n",
       "  </thead>\n",
       "  <tbody>\n",
       "    <tr>\n",
       "      <th>0</th>\n",
       "      <td>47.368958</td>\n",
       "      <td>8.541301</td>\n",
       "    </tr>\n",
       "    <tr>\n",
       "      <th>1</th>\n",
       "      <td>47.369699</td>\n",
       "      <td>8.538914</td>\n",
       "    </tr>\n",
       "    <tr>\n",
       "      <th>2</th>\n",
       "      <td>47.369684</td>\n",
       "      <td>8.538840</td>\n",
       "    </tr>\n",
       "    <tr>\n",
       "      <th>3</th>\n",
       "      <td>47.370933</td>\n",
       "      <td>8.543189</td>\n",
       "    </tr>\n",
       "    <tr>\n",
       "      <th>4</th>\n",
       "      <td>47.369482</td>\n",
       "      <td>8.539140</td>\n",
       "    </tr>\n",
       "    <tr>\n",
       "      <th>...</th>\n",
       "      <td>...</td>\n",
       "      <td>...</td>\n",
       "    </tr>\n",
       "    <tr>\n",
       "      <th>148</th>\n",
       "      <td>47.368448</td>\n",
       "      <td>8.541637</td>\n",
       "    </tr>\n",
       "    <tr>\n",
       "      <th>149</th>\n",
       "      <td>47.369987</td>\n",
       "      <td>8.541591</td>\n",
       "    </tr>\n",
       "    <tr>\n",
       "      <th>150</th>\n",
       "      <td>47.369979</td>\n",
       "      <td>8.541783</td>\n",
       "    </tr>\n",
       "    <tr>\n",
       "      <th>151</th>\n",
       "      <td>47.370319</td>\n",
       "      <td>8.540937</td>\n",
       "    </tr>\n",
       "    <tr>\n",
       "      <th>152</th>\n",
       "      <td>47.369984</td>\n",
       "      <td>8.541793</td>\n",
       "    </tr>\n",
       "  </tbody>\n",
       "</table>\n",
       "<p>153 rows × 2 columns</p>\n",
       "</div>"
      ],
      "text/plain": [
       "           lat       lon\n",
       "0    47.368958  8.541301\n",
       "1    47.369699  8.538914\n",
       "2    47.369684  8.538840\n",
       "3    47.370933  8.543189\n",
       "4    47.369482  8.539140\n",
       "..         ...       ...\n",
       "148  47.368448  8.541637\n",
       "149  47.369987  8.541591\n",
       "150  47.369979  8.541783\n",
       "151  47.370319  8.540937\n",
       "152  47.369984  8.541793\n",
       "\n",
       "[153 rows x 2 columns]"
      ]
     },
     "execution_count": 101,
     "metadata": {},
     "output_type": "execute_result"
    }
   ],
   "source": [
    "# Create empty list\n",
    "coords = []\n",
    "\n",
    "# Iterate through the list of elements\n",
    "for element in data[\"elements\"]:\n",
    "    # Check if the element has a \"lat\" key\n",
    "    if \"lat\" in element:\n",
    "          # Check if the element has a \"lon\" key\n",
    "          if \"lon\" in element:\n",
    "              coords.append([element['lat'], element['lon']])\n",
    "\n",
    "# Convert coords to data frame\n",
    "df_coords = pd.DataFrame(coords[1:], columns=['lat', 'lon'])\n",
    "df_coords"
   ]
  },
  {
   "attachments": {},
   "cell_type": "markdown",
   "metadata": {},
   "source": [
    "### Accessing values in the nested dictionary 'tags'"
   ]
  },
  {
   "cell_type": "code",
   "execution_count": 102,
   "metadata": {},
   "outputs": [
    {
     "data": {
      "text/html": [
       "<div>\n",
       "<style scoped>\n",
       "    .dataframe tbody tr th:only-of-type {\n",
       "        vertical-align: middle;\n",
       "    }\n",
       "\n",
       "    .dataframe tbody tr th {\n",
       "        vertical-align: top;\n",
       "    }\n",
       "\n",
       "    .dataframe thead th {\n",
       "        text-align: right;\n",
       "    }\n",
       "</style>\n",
       "<table border=\"1\" class=\"dataframe\">\n",
       "  <thead>\n",
       "    <tr style=\"text-align: right;\">\n",
       "      <th></th>\n",
       "      <th>id</th>\n",
       "      <th>lat</th>\n",
       "      <th>lon</th>\n",
       "      <th>shop</th>\n",
       "      <th>name</th>\n",
       "    </tr>\n",
       "  </thead>\n",
       "  <tbody>\n",
       "    <tr>\n",
       "      <th>0</th>\n",
       "      <td>274824641</td>\n",
       "      <td>47.368958</td>\n",
       "      <td>8.541301</td>\n",
       "      <td>supermarket</td>\n",
       "      <td>Lidl</td>\n",
       "    </tr>\n",
       "    <tr>\n",
       "      <th>1</th>\n",
       "      <td>306480499</td>\n",
       "      <td>47.369699</td>\n",
       "      <td>8.538914</td>\n",
       "      <td>kiosk</td>\n",
       "      <td>k kiosk Padadeplatz</td>\n",
       "    </tr>\n",
       "    <tr>\n",
       "      <th>2</th>\n",
       "      <td>605267838</td>\n",
       "      <td>47.369684</td>\n",
       "      <td>8.538840</td>\n",
       "      <td>ticket</td>\n",
       "      <td>VBZ Ticketeria Paradeplatz</td>\n",
       "    </tr>\n",
       "    <tr>\n",
       "      <th>3</th>\n",
       "      <td>633678264</td>\n",
       "      <td>47.370933</td>\n",
       "      <td>8.543189</td>\n",
       "      <td>jewelry</td>\n",
       "      <td>Claire's</td>\n",
       "    </tr>\n",
       "    <tr>\n",
       "      <th>4</th>\n",
       "      <td>648907100</td>\n",
       "      <td>47.369482</td>\n",
       "      <td>8.539140</td>\n",
       "      <td>pastry</td>\n",
       "      <td>Sprüngli</td>\n",
       "    </tr>\n",
       "    <tr>\n",
       "      <th>...</th>\n",
       "      <td>...</td>\n",
       "      <td>...</td>\n",
       "      <td>...</td>\n",
       "      <td>...</td>\n",
       "      <td>...</td>\n",
       "    </tr>\n",
       "    <tr>\n",
       "      <th>148</th>\n",
       "      <td>9082270597</td>\n",
       "      <td>47.368448</td>\n",
       "      <td>8.541637</td>\n",
       "      <td>watches</td>\n",
       "      <td>Ineichen Zürich</td>\n",
       "    </tr>\n",
       "    <tr>\n",
       "      <th>149</th>\n",
       "      <td>9082270601</td>\n",
       "      <td>47.369987</td>\n",
       "      <td>8.541591</td>\n",
       "      <td>jewelry</td>\n",
       "      <td>Oscar R. Steffen</td>\n",
       "    </tr>\n",
       "    <tr>\n",
       "      <th>150</th>\n",
       "      <td>9082270602</td>\n",
       "      <td>47.369979</td>\n",
       "      <td>8.541783</td>\n",
       "      <td>optician</td>\n",
       "      <td>Stoffels Optik</td>\n",
       "    </tr>\n",
       "    <tr>\n",
       "      <th>151</th>\n",
       "      <td>9082340500</td>\n",
       "      <td>47.370319</td>\n",
       "      <td>8.540937</td>\n",
       "      <td>boutique</td>\n",
       "      <td>Anna &amp; Line Paris</td>\n",
       "    </tr>\n",
       "    <tr>\n",
       "      <th>152</th>\n",
       "      <td>9082340501</td>\n",
       "      <td>47.369984</td>\n",
       "      <td>8.541793</td>\n",
       "      <td>optician</td>\n",
       "      <td>Stoffels Optik</td>\n",
       "    </tr>\n",
       "  </tbody>\n",
       "</table>\n",
       "<p>153 rows × 5 columns</p>\n",
       "</div>"
      ],
      "text/plain": [
       "             id        lat       lon         shop                        name\n",
       "0     274824641  47.368958  8.541301  supermarket                        Lidl\n",
       "1     306480499  47.369699  8.538914        kiosk         k kiosk Padadeplatz\n",
       "2     605267838  47.369684  8.538840       ticket  VBZ Ticketeria Paradeplatz\n",
       "3     633678264  47.370933  8.543189      jewelry                    Claire's\n",
       "4     648907100  47.369482  8.539140       pastry                    Sprüngli\n",
       "..          ...        ...       ...          ...                         ...\n",
       "148  9082270597  47.368448  8.541637      watches             Ineichen Zürich\n",
       "149  9082270601  47.369987  8.541591      jewelry            Oscar R. Steffen\n",
       "150  9082270602  47.369979  8.541783     optician              Stoffels Optik\n",
       "151  9082340500  47.370319  8.540937     boutique           Anna & Line Paris\n",
       "152  9082340501  47.369984  8.541793     optician              Stoffels Optik\n",
       "\n",
       "[153 rows x 5 columns]"
      ]
     },
     "execution_count": 102,
     "metadata": {},
     "output_type": "execute_result"
    }
   ],
   "source": [
    "# Create empty list\n",
    "tags = []\n",
    "\n",
    "# Iterate through the list of elements\n",
    "for element in data[\"elements\"]:\n",
    "    # Check if the element has a \"tags\" dictionary\n",
    "    if \"tags\" in element:\n",
    "        # Check if the \"tags\" dictionary has an \"name\" key\n",
    "        if \"name\" in element[\"tags\"]:\n",
    "            # Append data to list\n",
    "            tags.append([element['id'],\n",
    "                         element['lat'],\n",
    "                         element['lon'],\n",
    "                         element['tags']['shop'],\n",
    "                         element['tags']['name']])\n",
    "\n",
    "# Convert operators to data frame\n",
    "df_operators = pd.DataFrame(tags[1:], columns=['id', \n",
    "                                               'lat', \n",
    "                                               'lon', \n",
    "                                               'shop', \n",
    "                                               'name'])\n",
    "df_operators"
   ]
  },
  {
   "cell_type": "code",
   "execution_count": 103,
   "metadata": {},
   "outputs": [
    {
     "data": {
      "text/html": [
       "<div>\n",
       "<style scoped>\n",
       "    .dataframe tbody tr th:only-of-type {\n",
       "        vertical-align: middle;\n",
       "    }\n",
       "\n",
       "    .dataframe tbody tr th {\n",
       "        vertical-align: top;\n",
       "    }\n",
       "\n",
       "    .dataframe thead th {\n",
       "        text-align: right;\n",
       "    }\n",
       "</style>\n",
       "<table border=\"1\" class=\"dataframe\">\n",
       "  <thead>\n",
       "    <tr style=\"text-align: right;\">\n",
       "      <th></th>\n",
       "      <th>addr:city</th>\n",
       "      <th>addr:housenumber</th>\n",
       "      <th>addr:postcode</th>\n",
       "      <th>addr:street</th>\n",
       "      <th>addr:country</th>\n",
       "    </tr>\n",
       "  </thead>\n",
       "  <tbody>\n",
       "    <tr>\n",
       "      <th>0</th>\n",
       "      <td>Zürich</td>\n",
       "      <td>1</td>\n",
       "      <td>8001</td>\n",
       "      <td>Rüdenplatz</td>\n",
       "      <td>CH</td>\n",
       "    </tr>\n",
       "    <tr>\n",
       "      <th>1</th>\n",
       "      <td>Zürich</td>\n",
       "      <td>21</td>\n",
       "      <td>8001</td>\n",
       "      <td>Bahnhofstrasse</td>\n",
       "      <td>CH</td>\n",
       "    </tr>\n",
       "    <tr>\n",
       "      <th>2</th>\n",
       "      <td>Zürich</td>\n",
       "      <td>36</td>\n",
       "      <td>8001</td>\n",
       "      <td>Bahnhofstrasse</td>\n",
       "      <td>None</td>\n",
       "    </tr>\n",
       "    <tr>\n",
       "      <th>3</th>\n",
       "      <td>Zürich</td>\n",
       "      <td>31</td>\n",
       "      <td>8001</td>\n",
       "      <td>Bahnhofstrasse</td>\n",
       "      <td>CH</td>\n",
       "    </tr>\n",
       "    <tr>\n",
       "      <th>4</th>\n",
       "      <td>Zürich</td>\n",
       "      <td>4</td>\n",
       "      <td>8001</td>\n",
       "      <td>Paradeplatz</td>\n",
       "      <td>None</td>\n",
       "    </tr>\n",
       "    <tr>\n",
       "      <th>5</th>\n",
       "      <td>Zürich</td>\n",
       "      <td>3</td>\n",
       "      <td>8001</td>\n",
       "      <td>Paradeplatz</td>\n",
       "      <td>CH</td>\n",
       "    </tr>\n",
       "    <tr>\n",
       "      <th>6</th>\n",
       "      <td>Zürich</td>\n",
       "      <td>25</td>\n",
       "      <td>8001</td>\n",
       "      <td>Bahnhofstrasse</td>\n",
       "      <td>None</td>\n",
       "    </tr>\n",
       "    <tr>\n",
       "      <th>7</th>\n",
       "      <td>Zürich</td>\n",
       "      <td>3</td>\n",
       "      <td>8001</td>\n",
       "      <td>Paradeplatz</td>\n",
       "      <td>None</td>\n",
       "    </tr>\n",
       "    <tr>\n",
       "      <th>8</th>\n",
       "      <td>Zürich</td>\n",
       "      <td>31</td>\n",
       "      <td>8001</td>\n",
       "      <td>Bahnhofstrasse</td>\n",
       "      <td>CH</td>\n",
       "    </tr>\n",
       "    <tr>\n",
       "      <th>9</th>\n",
       "      <td>Zürich</td>\n",
       "      <td>16</td>\n",
       "      <td>8001</td>\n",
       "      <td>Bärengasse</td>\n",
       "      <td>CH</td>\n",
       "    </tr>\n",
       "    <tr>\n",
       "      <th>10</th>\n",
       "      <td>Zürich</td>\n",
       "      <td>10</td>\n",
       "      <td>8002</td>\n",
       "      <td>Bleicherweg</td>\n",
       "      <td>None</td>\n",
       "    </tr>\n",
       "    <tr>\n",
       "      <th>11</th>\n",
       "      <td>Zürich</td>\n",
       "      <td>9</td>\n",
       "      <td>8001</td>\n",
       "      <td>Storchengasse</td>\n",
       "      <td>None</td>\n",
       "    </tr>\n",
       "    <tr>\n",
       "      <th>12</th>\n",
       "      <td>Zürich</td>\n",
       "      <td>28a</td>\n",
       "      <td>8001</td>\n",
       "      <td>Bahnhofstrasse</td>\n",
       "      <td>CH</td>\n",
       "    </tr>\n",
       "    <tr>\n",
       "      <th>13</th>\n",
       "      <td>Zürich</td>\n",
       "      <td>28</td>\n",
       "      <td>8001</td>\n",
       "      <td>Bahnhofstrasse</td>\n",
       "      <td>CH</td>\n",
       "    </tr>\n",
       "    <tr>\n",
       "      <th>14</th>\n",
       "      <td>Zürich</td>\n",
       "      <td>28</td>\n",
       "      <td>8001</td>\n",
       "      <td>Bahnhofstrasse</td>\n",
       "      <td>CH</td>\n",
       "    </tr>\n",
       "    <tr>\n",
       "      <th>15</th>\n",
       "      <td>Zürich</td>\n",
       "      <td>10</td>\n",
       "      <td>8001</td>\n",
       "      <td>Poststrasse</td>\n",
       "      <td>None</td>\n",
       "    </tr>\n",
       "    <tr>\n",
       "      <th>16</th>\n",
       "      <td>Zürich</td>\n",
       "      <td>4</td>\n",
       "      <td>8001</td>\n",
       "      <td>Poststrasse</td>\n",
       "      <td>CH</td>\n",
       "    </tr>\n",
       "    <tr>\n",
       "      <th>17</th>\n",
       "      <td>Zürich</td>\n",
       "      <td>18</td>\n",
       "      <td>8001</td>\n",
       "      <td>Bahnhofstrasse</td>\n",
       "      <td>None</td>\n",
       "    </tr>\n",
       "    <tr>\n",
       "      <th>18</th>\n",
       "      <td>Zürich</td>\n",
       "      <td>17</td>\n",
       "      <td>8001</td>\n",
       "      <td>Bahnhofstrasse</td>\n",
       "      <td>None</td>\n",
       "    </tr>\n",
       "    <tr>\n",
       "      <th>19</th>\n",
       "      <td>Zürich</td>\n",
       "      <td>12</td>\n",
       "      <td>8001</td>\n",
       "      <td>Bahnhofstrasse</td>\n",
       "      <td>None</td>\n",
       "    </tr>\n",
       "    <tr>\n",
       "      <th>20</th>\n",
       "      <td>Zürich</td>\n",
       "      <td>11</td>\n",
       "      <td>8001</td>\n",
       "      <td>Bahnhofstrasse</td>\n",
       "      <td>CH</td>\n",
       "    </tr>\n",
       "    <tr>\n",
       "      <th>21</th>\n",
       "      <td>Zürich</td>\n",
       "      <td>14</td>\n",
       "      <td>8001</td>\n",
       "      <td>Kappelergasse</td>\n",
       "      <td>None</td>\n",
       "    </tr>\n",
       "    <tr>\n",
       "      <th>22</th>\n",
       "      <td>Zürich</td>\n",
       "      <td>5</td>\n",
       "      <td>8001</td>\n",
       "      <td>Bleicherweg</td>\n",
       "      <td>None</td>\n",
       "    </tr>\n",
       "    <tr>\n",
       "      <th>23</th>\n",
       "      <td>Zürich</td>\n",
       "      <td>3</td>\n",
       "      <td>8001</td>\n",
       "      <td>Bleicherweg</td>\n",
       "      <td>None</td>\n",
       "    </tr>\n",
       "    <tr>\n",
       "      <th>24</th>\n",
       "      <td>Zürich</td>\n",
       "      <td>48</td>\n",
       "      <td>8001</td>\n",
       "      <td>Limmatquai</td>\n",
       "      <td>CH</td>\n",
       "    </tr>\n",
       "    <tr>\n",
       "      <th>25</th>\n",
       "      <td>Zürich</td>\n",
       "      <td>18</td>\n",
       "      <td>8002</td>\n",
       "      <td>Bleicherweg</td>\n",
       "      <td>CH</td>\n",
       "    </tr>\n",
       "    <tr>\n",
       "      <th>26</th>\n",
       "      <td>Zürich</td>\n",
       "      <td>16</td>\n",
       "      <td>8001</td>\n",
       "      <td>Bärengasse</td>\n",
       "      <td>CH</td>\n",
       "    </tr>\n",
       "    <tr>\n",
       "      <th>27</th>\n",
       "      <td>Zürich</td>\n",
       "      <td>33</td>\n",
       "      <td>8001</td>\n",
       "      <td>Bahnhofstrasse</td>\n",
       "      <td>CH</td>\n",
       "    </tr>\n",
       "    <tr>\n",
       "      <th>28</th>\n",
       "      <td>Zürich</td>\n",
       "      <td>4</td>\n",
       "      <td>8001</td>\n",
       "      <td>Bärengasse</td>\n",
       "      <td>None</td>\n",
       "    </tr>\n",
       "    <tr>\n",
       "      <th>29</th>\n",
       "      <td>Zürich</td>\n",
       "      <td>58</td>\n",
       "      <td>8001</td>\n",
       "      <td>Talstrasse</td>\n",
       "      <td>CH</td>\n",
       "    </tr>\n",
       "    <tr>\n",
       "      <th>30</th>\n",
       "      <td>Zürich</td>\n",
       "      <td>12</td>\n",
       "      <td>8001</td>\n",
       "      <td>Storchengasse</td>\n",
       "      <td>CH</td>\n",
       "    </tr>\n",
       "    <tr>\n",
       "      <th>31</th>\n",
       "      <td>Zürich</td>\n",
       "      <td>11</td>\n",
       "      <td>8001</td>\n",
       "      <td>St. Peterstrasse</td>\n",
       "      <td>CH</td>\n",
       "    </tr>\n",
       "    <tr>\n",
       "      <th>32</th>\n",
       "      <td>Zürich</td>\n",
       "      <td>28</td>\n",
       "      <td>8001</td>\n",
       "      <td>Bahnhofstrasse</td>\n",
       "      <td>None</td>\n",
       "    </tr>\n",
       "    <tr>\n",
       "      <th>33</th>\n",
       "      <td>Zürich</td>\n",
       "      <td>20</td>\n",
       "      <td>8001</td>\n",
       "      <td>Talstrasse</td>\n",
       "      <td>None</td>\n",
       "    </tr>\n",
       "  </tbody>\n",
       "</table>\n",
       "</div>"
      ],
      "text/plain": [
       "   addr:city addr:housenumber addr:postcode       addr:street addr:country\n",
       "0     Zürich                1          8001        Rüdenplatz           CH\n",
       "1     Zürich               21          8001    Bahnhofstrasse           CH\n",
       "2     Zürich               36          8001    Bahnhofstrasse         None\n",
       "3     Zürich               31          8001    Bahnhofstrasse           CH\n",
       "4     Zürich                4          8001       Paradeplatz         None\n",
       "5     Zürich                3          8001       Paradeplatz           CH\n",
       "6     Zürich               25          8001    Bahnhofstrasse         None\n",
       "7     Zürich                3          8001       Paradeplatz         None\n",
       "8     Zürich               31          8001    Bahnhofstrasse           CH\n",
       "9     Zürich               16          8001        Bärengasse           CH\n",
       "10    Zürich               10          8002       Bleicherweg         None\n",
       "11    Zürich                9          8001     Storchengasse         None\n",
       "12    Zürich              28a          8001    Bahnhofstrasse           CH\n",
       "13    Zürich               28          8001    Bahnhofstrasse           CH\n",
       "14    Zürich               28          8001    Bahnhofstrasse           CH\n",
       "15    Zürich               10          8001       Poststrasse         None\n",
       "16    Zürich                4          8001       Poststrasse           CH\n",
       "17    Zürich               18          8001    Bahnhofstrasse         None\n",
       "18    Zürich               17          8001    Bahnhofstrasse         None\n",
       "19    Zürich               12          8001    Bahnhofstrasse         None\n",
       "20    Zürich               11          8001    Bahnhofstrasse           CH\n",
       "21    Zürich               14          8001     Kappelergasse         None\n",
       "22    Zürich                5          8001       Bleicherweg         None\n",
       "23    Zürich                3          8001       Bleicherweg         None\n",
       "24    Zürich               48          8001        Limmatquai           CH\n",
       "25    Zürich               18          8002       Bleicherweg           CH\n",
       "26    Zürich               16          8001        Bärengasse           CH\n",
       "27    Zürich               33          8001    Bahnhofstrasse           CH\n",
       "28    Zürich                4          8001        Bärengasse         None\n",
       "29    Zürich               58          8001        Talstrasse           CH\n",
       "30    Zürich               12          8001     Storchengasse           CH\n",
       "31    Zürich               11          8001  St. Peterstrasse           CH\n",
       "32    Zürich               28          8001    Bahnhofstrasse         None\n",
       "33    Zürich               20          8001        Talstrasse         None"
      ]
     },
     "execution_count": 103,
     "metadata": {},
     "output_type": "execute_result"
    }
   ],
   "source": [
    "# Create empty list\n",
    "tags = []\n",
    "\n",
    "# Iterate through the list of elements\n",
    "for element in data[\"elements\"]:\n",
    "    # Check if the element has a \"tags\" dictionary\n",
    "    if \"tags\" in element:\n",
    "        # Check if the \"tags\" dictionary has an \"name\" key\n",
    "        if \"addr:city\" in element[\"tags\"]:\n",
    "            # Append data to list\n",
    "            \n",
    "            data = [element['tags']['addr:city'],\n",
    "                         element['tags']['addr:housenumber'],\n",
    "                         element['tags']['addr:postcode'],\n",
    "                         element['tags']['addr:street']]\n",
    "            if \"addr:country\" in element[\"tags\"]:\n",
    "                data.append(element['tags']['addr:country'])\n",
    "            tags.append(data)\n",
    "\n",
    "# Convert operators to data frame\n",
    "df_addr = pd.DataFrame(tags[1:], columns=['addr:city',\n",
    "                                               'addr:housenumber',\n",
    "                                               'addr:postcode',\n",
    "                                               'addr:street',\n",
    "                                               'addr:country'])\n",
    "df_addr"
   ]
  },
  {
   "attachments": {},
   "cell_type": "markdown",
   "metadata": {},
   "source": [
    "### Jupyter notebook --footer info-- (please always provide this at the end of each notebook)"
   ]
  },
  {
   "cell_type": "code",
   "execution_count": 104,
   "metadata": {},
   "outputs": [
    {
     "name": "stdout",
     "output_type": "stream",
     "text": [
      "-----------------------------------\n",
      "POSIX\n",
      "Darwin | 23.4.0\n",
      "Datetime: 2024-03-29 10:35:10\n",
      "Python Version: 3.10.13\n",
      "-----------------------------------\n"
     ]
    }
   ],
   "source": [
    "import os\n",
    "import platform\n",
    "import socket\n",
    "from platform import python_version\n",
    "from datetime import datetime\n",
    "\n",
    "print('-----------------------------------')\n",
    "print(os.name.upper())\n",
    "print(platform.system(), '|', platform.release())\n",
    "print('Datetime:', datetime.now().strftime(\"%Y-%m-%d %H:%M:%S\"))\n",
    "print('Python Version:', python_version())\n",
    "print('-----------------------------------')"
   ]
  }
 ],
 "metadata": {
  "kernelspec": {
   "display_name": "spenv01",
   "language": "python",
   "name": "python3"
  },
  "language_info": {
   "codemirror_mode": {
    "name": "ipython",
    "version": 3
   },
   "file_extension": ".py",
   "mimetype": "text/x-python",
   "name": "python",
   "nbconvert_exporter": "python",
   "pygments_lexer": "ipython3",
   "version": "3.10.13"
  },
  "toc": {
   "base_numbering": 1,
   "nav_menu": {},
   "number_sections": true,
   "sideBar": true,
   "skip_h1_title": false,
   "title_cell": "Table of Contents",
   "title_sidebar": "Contents",
   "toc_cell": false,
   "toc_position": {},
   "toc_section_display": true,
   "toc_window_display": true
  },
  "vscode": {
   "interpreter": {
    "hash": "753606542562d4b4f861ef551497ea5847b855bb001d4992fcd57a87491f6a65"
   }
  }
 },
 "nbformat": 4,
 "nbformat_minor": 4
}
