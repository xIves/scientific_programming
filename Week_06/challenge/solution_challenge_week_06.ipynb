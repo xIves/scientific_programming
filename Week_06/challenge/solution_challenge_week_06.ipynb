{
 "cells": [
  {
   "attachments": {},
   "cell_type": "markdown",
   "id": "5514fd90",
   "metadata": {},
   "source": [
    "# Charging stations for electric vehicles"
   ]
  },
  {
   "attachments": {},
   "cell_type": "markdown",
   "id": "41b63c0f",
   "metadata": {},
   "source": [
    "## Libraries and settings"
   ]
  },
  {
   "cell_type": "code",
   "execution_count": null,
   "id": "e3ea9805",
   "metadata": {},
   "outputs": [],
   "source": [
    "# Libraries\n",
    "import os\n",
    "import re\n",
    "import json\n",
    "import folium\n",
    "import pandas as pd\n",
    "import matplotlib.pyplot as plt\n",
    "from urllib.request import urlopen\n",
    "\n",
    "# Background color of graphics\n",
    "# plt.style.use('dark_background')\n",
    "\n",
    "# Ignore warnings\n",
    "import warnings\n",
    "warnings.filterwarnings('ignore')\n",
    "\n",
    "# Show current working directory\n",
    "print(os.getcwd())"
   ]
  },
  {
   "attachments": {},
   "cell_type": "markdown",
   "id": "516b144e",
   "metadata": {},
   "source": [
    "### Request charging station data"
   ]
  },
  {
   "cell_type": "code",
   "execution_count": null,
   "id": "48c0b594",
   "metadata": {},
   "outputs": [],
   "source": [
    "# Url for server request\n",
    "url = \"https://data.geo.admin.ch/ch.bfe.ladestellen-elektromobilitaet/data/oicp/ch.bfe.ladestellen-elektromobilitaet.json\"\n",
    "  \n",
    "# Request data from server\n",
    "response = urlopen(url)\n",
    "  \n",
    "# Load data\n",
    "data_orig = json.loads(response.read())\n",
    "\n",
    "# Save the data as pandas data frame\n",
    "data = pd.DataFrame(data_orig[\"EVSEData\"])\n",
    "data"
   ]
  },
  {
   "cell_type": "markdown",
   "id": "56aa072a",
   "metadata": {},
   "source": [
    "### Deriving data from the operator 'evpass'"
   ]
  },
  {
   "cell_type": "code",
   "execution_count": null,
   "id": "914be5ac",
   "metadata": {},
   "outputs": [],
   "source": [
    "# Getting the index of evpass\n",
    "idx = data[data[\"OperatorName\"].isin(['evpass'])].index[0]\n",
    "print(idx)\n",
    "\n",
    "# Create data frame from column 'EVSEDataRecord' in the subset\n",
    "df = pd.DataFrame(data.loc[idx, 'EVSEDataRecord'])\n",
    "df.head()"
   ]
  },
  {
   "cell_type": "markdown",
   "id": "c37ae916",
   "metadata": {},
   "source": [
    "### Take a closer look at the coordinates"
   ]
  },
  {
   "cell_type": "code",
   "execution_count": null,
   "id": "0d945f2b",
   "metadata": {},
   "outputs": [],
   "source": [
    "# Look at the geo-coordinates (latitude and longitude)\n",
    "coordinates = df.GeoCoordinates\n",
    "print(type(coordinates))\n",
    "print(coordinates)\n",
    "\n",
    "# Look at the type of a single item in the data frame\n",
    "print(type(coordinates[0]))"
   ]
  },
  {
   "cell_type": "markdown",
   "id": "322c43c9",
   "metadata": {},
   "source": [
    "### Extracting the latitude and longitude"
   ]
  },
  {
   "cell_type": "code",
   "execution_count": null,
   "id": "d5038175",
   "metadata": {},
   "outputs": [],
   "source": [
    "# Getting single values from as string\n",
    "coord_str = \"\".join(coordinates[0].values())\n",
    "coord_str \n",
    "\n",
    "# Splitting string by white space\n",
    "re.findall(r'\\S+', coord_str)"
   ]
  },
  {
   "cell_type": "markdown",
   "id": "1a644f23",
   "metadata": {},
   "source": [
    "### Using a for loop to write the latitude and longitude to a separate data frame"
   ]
  },
  {
   "cell_type": "code",
   "execution_count": null,
   "id": "f9c10e30",
   "metadata": {},
   "outputs": [],
   "source": [
    "# Now loop though the coordinates object\n",
    "out_list = []\n",
    "\n",
    "for i in coordinates:\n",
    "    # Getting single values from as string\n",
    "    coord_str = \"\".join(i.values())\n",
    "    # Splitting string by white space\n",
    "    coords = re.findall(r'\\S+', coord_str)\n",
    "    out_list.append(coords)\n",
    "\n",
    "# Create data frame from the list\n",
    "df = pd.DataFrame(out_list, columns =['lat', 'lon'])\n",
    "print(df.dtypes)\n",
    "\n",
    "# Here we still have strings which need to be converted to integers\n",
    "\n",
    "# First: exclude white space using pythons lambda function\n",
    "df['lat'] = df['lat'].apply(lambda x: x.strip())\n",
    "df['lon'] = df['lon'].apply(lambda x: x.strip())\n",
    "\n",
    "# Second: cange to integer values\n",
    "df['lat'] = df['lat'].astype(float)\n",
    "df['lon'] =  df['lon'].astype(float)\n",
    "df"
   ]
  },
  {
   "attachments": {},
   "cell_type": "markdown",
   "id": "3ddaab45",
   "metadata": {},
   "source": [
    "### Plot the charging stations of the operator 'evepass'"
   ]
  },
  {
   "cell_type": "code",
   "execution_count": null,
   "id": "f9138376",
   "metadata": {},
   "outputs": [],
   "source": [
    "# Subset of gas stations by brand\n",
    "locations = df[[\"lat\", \"lon\"]]\n",
    "print(locations.head(5))\n",
    "\n",
    "# Create map\n",
    "map = folium.Map(location=[locations.lat.mean(), \n",
    "                           locations.lon.mean()], \n",
    "                 zoom_start=8, \n",
    "                 control_scale=True)\n",
    "\n",
    "# Add maker symbols\n",
    "for index, location_info in locations.iterrows():\n",
    "    folium.Marker([location_info[\"lat\"], \n",
    "                   location_info[\"lon\"]]).add_to(map)\n",
    "\n",
    "# Plot map\n",
    "map"
   ]
  },
  {
   "attachments": {},
   "cell_type": "markdown",
   "id": "ecd2a48e",
   "metadata": {},
   "source": [
    "### Jupyter notebook --footer info-- (please always provide this at the end of each notebook)"
   ]
  },
  {
   "cell_type": "code",
   "execution_count": null,
   "id": "e403229b",
   "metadata": {},
   "outputs": [],
   "source": [
    "import os\n",
    "import platform\n",
    "import socket\n",
    "from platform import python_version\n",
    "from datetime import datetime\n",
    "\n",
    "print('-----------------------------------')\n",
    "print(os.name.upper())\n",
    "print(platform.system(), '|', platform.release())\n",
    "print('Datetime:', datetime.now().strftime(\"%Y-%m-%d %H:%M:%S\"))\n",
    "print('Python Version:', python_version())\n",
    "print('-----------------------------------')"
   ]
  }
 ],
 "metadata": {
  "kernelspec": {
   "display_name": "Python 3 (ipykernel)",
   "language": "python",
   "name": "python3"
  },
  "language_info": {
   "codemirror_mode": {
    "name": "ipython",
    "version": 3
   },
   "file_extension": ".py",
   "mimetype": "text/x-python",
   "name": "python",
   "nbconvert_exporter": "python",
   "pygments_lexer": "ipython3",
   "version": "3.10.13"
  }
 },
 "nbformat": 4,
 "nbformat_minor": 5
}
