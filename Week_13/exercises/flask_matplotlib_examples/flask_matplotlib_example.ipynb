{
 "cells": [
  {
   "attachments": {},
   "cell_type": "markdown",
   "metadata": {},
   "source": [
    "# Creating a simple Web Application with Python and Flask"
   ]
  },
  {
   "attachments": {},
   "cell_type": "markdown",
   "metadata": {},
   "source": [
    "## Libraries and settings"
   ]
  },
  {
   "cell_type": "code",
   "execution_count": null,
   "metadata": {},
   "outputs": [],
   "source": [
    "# Libraries\n",
    "import os\n",
    "import io\n",
    "import base64\n",
    "import webbrowser\n",
    "import numpy as np\n",
    "import matplotlib.pyplot as plt\n",
    "from flask import Flask, Response, request, render_template\n",
    "\n",
    "# Background color of graphic\n",
    "plt.style.use('dark_background')\n",
    "\n",
    "# Ignore warnings\n",
    "import warnings\n",
    "warnings.filterwarnings('ignore')\n",
    "\n",
    "# Show current working directory\n",
    "print(os.getcwd())"
   ]
  },
  {
   "attachments": {},
   "cell_type": "markdown",
   "metadata": {},
   "source": [
    "## Flask app"
   ]
  },
  {
   "cell_type": "code",
   "execution_count": null,
   "metadata": {},
   "outputs": [],
   "source": [
    "app = Flask(__name__)\n",
    "\n",
    "# Function to open a web browser\n",
    "def open_browser():\n",
    "    # Open the default web browser with the URL and some initial values\n",
    "    url = 'http://127.0.0.1:5000/?mean=2800&stddev=280&obs=10000'\n",
    "    webbrowser.open_new(url)\n",
    "\n",
    "# App\n",
    "@app.route('/')\n",
    "def index():\n",
    "    try:\n",
    "        # Parse parameters from the URL query string\n",
    "        obs = int(request.args.get('obs', 0))\n",
    "        mean = float(request.args.get('mean', 0))\n",
    "        stddev = float(request.args.get('stddev', 1))\n",
    "\n",
    "        # Generate random data for the histogram\n",
    "        data = np.random.normal(mean, stddev, obs)\n",
    "\n",
    "        # Create the histogram plot\n",
    "        fig, ax = plt.subplots(figsize=(7,5))\n",
    "        ax.hist(data, bins=50, color=\"greenyellow\", alpha=0.8)\n",
    "        ax.set_xlabel('Value')\n",
    "        ax.set_ylabel('Frequency')\n",
    "        ax.set_title('Histogram')\n",
    "        ax.grid()\n",
    "\n",
    "        # Save the plot to a .png image in memory\n",
    "        img = io.BytesIO()\n",
    "        fig.savefig(img, format='png')\n",
    "        img.seek(0)\n",
    "\n",
    "        # Return the image as a Flask response\n",
    "        return Response(img.getvalue(), mimetype='image/png')\n",
    "\n",
    "    except Exception as e:\n",
    "        # If an exception occurs, return a plain text error message\n",
    "        return str(e), 500\n",
    "\n",
    "# Run application\n",
    "if __name__ == '__main__':\n",
    "    open_browser()\n",
    "    app.run()\n"
   ]
  },
  {
   "attachments": {},
   "cell_type": "markdown",
   "metadata": {},
   "source": [
    "### Jupyter notebook --footer info-- (please always provide this at the end of each notebook)"
   ]
  },
  {
   "cell_type": "code",
   "execution_count": null,
   "metadata": {},
   "outputs": [],
   "source": [
    "import os\n",
    "import platform\n",
    "import socket\n",
    "from platform import python_version\n",
    "from datetime import datetime\n",
    "\n",
    "print('-----------------------------------')\n",
    "print(os.name.upper())\n",
    "print(platform.system(), '|', platform.release())\n",
    "print('Datetime:', datetime.now().strftime(\"%Y-%m-%d %H:%M:%S\"))\n",
    "print('Python Version:', python_version())\n",
    "print('-----------------------------------')"
   ]
  }
 ],
 "metadata": {
  "kernelspec": {
   "display_name": "spenv",
   "language": "python",
   "name": "python3"
  },
  "language_info": {
   "codemirror_mode": {
    "name": "ipython",
    "version": 3
   },
   "file_extension": ".py",
   "mimetype": "text/x-python",
   "name": "python",
   "nbconvert_exporter": "python",
   "pygments_lexer": "ipython3",
   "version": "3.10.13"
  },
  "orig_nbformat": 4
 },
 "nbformat": 4,
 "nbformat_minor": 2
}
